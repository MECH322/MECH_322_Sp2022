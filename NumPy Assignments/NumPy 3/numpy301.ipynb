{
 "cells": [
  {
   "cell_type": "markdown",
   "metadata": {
    "collapsed": false,
    "deletable": false,
    "editable": true,
    "run_control": {
     "frozen": true
    }
   },
   "source": [
    "# NumPy 3.01 - `tensile_test` Script"
   ]
  },
  {
   "cell_type": "code",
   "execution_count": 0,
   "metadata": {
    "collapsed": false
   },
   "outputs": [
   ],
   "source": [
    "name = \"Your name here\"\n",
    "\"Name:\" + name.upper()"
   ]
  },
  {
   "cell_type": "markdown",
   "metadata": {
    "collapsed": false,
    "deletable": false,
    "editable": true,
    "run_control": {
     "frozen": true
    }
   },
   "source": [
    "## General Script Instructions\n",
    "\n",
    "- Include a docstring style comment in your script with the following...\n",
    "  - Your name\n",
    "  - The script name (i.e. `tensile_test.py`)\n",
    "  - The script purpose\n",
    "- Include a printed title line(s) with a formal script title, i.e. **Tensile Test Results**\n",
    "- Provide the requested results in addition to any required plot(s)\n",
    "- You must use variables (not numbers) in your calculations where variables are provided in the problem statement\n",
    "- Your script must be self-contained, meaning you need to import all external modules and define all functions needed within the script\n",
    "- **You must use *NumPy* for all calculations; no list comprehensions or looping or math module unless specifically noted in the instructions**"
   ]
  },
  {
   "cell_type": "markdown",
   "metadata": {
    "collapsed": false,
    "deletable": false,
    "editable": true,
    "run_control": {
     "frozen": true
    }
   },
   "source": [
    "## Instructions for `tensile_test.py`\n",
    "\n",
    "In a typical tension test a dog bone shaped specimen is pulled in a machine. During the test, the force $F$ needed to pull the specimen and the length $L$ of the gage section are measured. This data is used for plotting a stress-strain diagram for the material. Two definitions, engineering and true, exist for stress and strain. The engineering stress $\\sigma_e$ and strain $\\varepsilon_e$ are defined by\n",
    "\n",
    "$\\qquad\\displaystyle \\sigma_e = \\frac{F}{A_0}\\qquad$ and $\\qquad\\displaystyle \\varepsilon_e = \\frac{L-L_0}{L_0}$\n",
    "\n",
    "where $L_0$ and $A_0$ are the initial gage length and the initial cross-sectional area of the specimen, respectively.\n",
    "\n",
    "The true stress $\\sigma_t$ and strain $\\varepsilon_t$ are defined by \n",
    "\n",
    "$\\qquad\\displaystyle \\sigma_t = \\frac{F}{A_0}\\frac{L}{L_0}\\qquad$ and $\\qquad\\displaystyle \\varepsilon_t = \\ln{\\frac{L}{L_0}}$.\n",
    "\n",
    "\n",
    "\n",
    "Write a script named **`tensile_test.py`** that reads raw tensile data from a file and plots the engineering and true stress-strain curves in the same window.  For the data, use the provided file named `tensile_values.csv`. The specimen has a round cross section. The first line of the data file has two values; the specimen's initial diameter and initial gage length (both in millimeters). The remaining lines each have two values that were collected during the tensile test; the force in Newtons and the gage length in millimeters.\n",
    "\n",
    "Import the `csv` module near the top of your script. This module can be used to extract values from .CSV files. Add the following code to your script to read the values from the .CSV file and assign the correct values to *NumPy* arrays named `specimen`, `F`, and `L`.\n",
    "\n",
    "```python\n",
    "with open('tensile_values.csv', newline='') as csvfile:\n",
    "    csv_list = list(csv.reader(csvfile, delimiter=',', quoting=csv.QUOTE_NONNUMERIC))\n",
    "    specimen = np.array(csv_list[0])\n",
    "    F = np.array(csv_list[1:])[:,0]\n",
    "    L = np.array(csv_list[1:])[:,1]\n",
    "```\n",
    "\n",
    "**Printed results**\n",
    "\n",
    "Print each of the following on their own line using formatted strings (print results before creating the plot)\n",
    "- Maximum engineering stress (in MPa) and engineering strain (in $\\mu$-strain)\n",
    "  - Micro strain ($\\mu$-strain) is $10^{-6}$ strain\n",
    "- Maximum true stress (in MPa) and true strain (in $\\mu$)\n",
    "- Use 2-decimal places for stress and zero decimal places for $\\mu$-strain\n",
    "\n",
    "**Plot details**\n",
    "\n",
    "- Single axes with two plots\n",
    "- Include a plot title\n",
    "- Include axes labels with appropriate units\n",
    "  - Use MPa for stress\n",
    "  - *Do not* convert strain to $\\mu$ for plotting\n",
    "- Include a legend specifying true and engineering stress/strain\n",
    "- Use different colors for true and engineering stress/strain curves\n",
    "- Use different line types for true and engineering stress/strain curves\n",
    "- Plot the curve for true stress/strain before engineering stress/strain\n",
    "\n",
    "**Force and Length Data**\n",
    "\n",
    "$\\displaystyle\\qquad \\begin{array}{ccc}\n",
    "\\text{Index} & \\text{Force (N)} &  \\text{Length (mm)}\\\\\n",
    "0 & 0 & 25.4 \\\\\n",
    "1 & 13,031 & 25.474 \\\\\n",
    "2 & 21,485 & 25.515 \\\\\n",
    "3 & 31,963 & 25.575 \\\\\n",
    "4 & 34,727 & 25.615 \\\\\n",
    "5 & 37,119 & 25.693 \\\\\n",
    "6 & 37,960 & 25.752 \\\\\n",
    "7 & 39,550 & 25.978 \\\\\n",
    "8 & 40,758 & 26.419 \\\\\n",
    "9 & 40,968 & 26.502 \\\\\n",
    "10 & 41,076 & 26.600 \\\\\n",
    "11 & 41,255 & 26.728 \\\\\n",
    "12 & 41,481 & 27.130\\\\\n",
    "13 & 41,564 & 27.441 \\end{array}$\n",
    "\n",
    "Finish the assignment by...\n",
    "  - Saving your Jupyter Notebook and downloading it as a notebook (.ipynb) file (do not change the file name)\n",
    "  - Saving and downloading your script file\n",
    "  - Submitting the script and notebook files to the NumPy 3.01 assignment via Canvas\n",
    "  - Verifying that the auto grader marked each problem correct\n",
    "  - Fixing errors and resubmitting as necessary until the due date\n",
    "\n",
    "Your score will be determined by the auto grader results after the due date. Keep in mind that the auto grader may run additional tests on your final submission than were ran when the assignment was submitted."
   ]
  },
  {
   "cell_type": "markdown",
   "metadata": {
    "collapsed": false
   },
   "source": [
    "### Very Important\n",
    "\n",
    "For auto grading to work with your script, add the following line immediately after the docstring comment.\n",
    "\n",
    "```\n",
    "global fig\n",
    "```"
   ]
  },
  {
   "cell_type": "code",
   "execution_count": 0,
   "metadata": {
    "collapsed": false
   },
   "outputs": [
   ],
   "source": [
    "run tensile_test.py"
   ]
  },
  {
   "cell_type": "markdown",
   "metadata": {
    "collapsed": false,
    "deletable": false,
    "editable": true,
    "run_control": {
     "frozen": true
    }
   },
   "source": [
    "**Wrap it up**\n",
    "\n",
    "Complete the finishing tasks stated in the instructions.\n"
   ]
  }
 ],
 "metadata": {
  "kernelspec": {
   "display_name": "Python 3 (system-wide)",
   "language": "python",
   "metadata": {
    "cocalc": {
     "description": "Python 3 programming language",
     "priority": 100,
     "url": "https://www.python.org/"
    }
   },
   "name": "python3",
   "resource_dir": "/ext/jupyter/kernels/python3"
  },
  "language_info": {
   "codemirror_mode": {
    "name": "ipython",
    "version": 3
   },
   "file_extension": ".py",
   "mimetype": "text/x-python",
   "name": "python",
   "nbconvert_exporter": "python",
   "pygments_lexer": "ipython3",
   "version": "3.8.10"
  },
  "varInspector": {
   "cols": {
    "lenName": 16,
    "lenType": 16,
    "lenVar": 40
   },
   "kernels_config": {
    "python": {
     "delete_cmd_postfix": "",
     "delete_cmd_prefix": "del ",
     "library": "var_list.py",
     "varRefreshCmd": "print(var_dic_list())"
    },
    "r": {
     "delete_cmd_postfix": ") ",
     "delete_cmd_prefix": "rm(",
     "library": "var_list.r",
     "varRefreshCmd": "cat(var_dic_list()) "
    }
   },
   "types_to_exclude": [
    "module",
    "function",
    "builtin_function_or_method",
    "instance",
    "_Feature"
   ],
   "window_display": false
  }
 },
 "nbformat": 4,
 "nbformat_minor": 4
}