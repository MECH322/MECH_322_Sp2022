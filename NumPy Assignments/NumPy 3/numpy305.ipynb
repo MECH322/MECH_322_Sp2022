{
 "cells": [
  {
   "cell_type": "markdown",
   "metadata": {
    "deletable": false,
    "run_control": {
     "frozen": true
    }
   },
   "source": [
    "# NumPy 3.05 - `projectile_plot` Function"
   ]
  },
  {
   "cell_type": "code",
   "execution_count": null,
   "metadata": {},
   "outputs": [],
   "source": [
    "name = \"Your name here\"\n",
    "\"Name:\" + name.upper()"
   ]
  },
  {
   "cell_type": "markdown",
   "metadata": {},
   "source": [
    "## General Script Instructions\n",
    "\n",
    "- Include a docstring with your name and the function's purpose. Also include the required units for each of the arguments.\n",
    "- You must use variables (not numbers) in your calculations where variables are provided in the problem statement\n",
    "- Your function must be self-contained, meaning you need to import all external modules and define all functions needed within your function definition\n",
    "- **You must use *NumPy* for all calculations; no list comprehensions or looping and not math module**"
   ]
  },
  {
   "cell_type": "markdown",
   "metadata": {
    "deletable": false,
    "run_control": {
     "frozen": true
    }
   },
   "source": [
    "## Instructions for `projectile_plot(velocity, angle, values=200)`\n",
    "\n",
    "Define a function named `projectile_plot(velocity, angle, values=200)` that calculates the trajectory of a projectile. The required arguments to the function are the initial velocity and the angle in degrees at which the projectile is fired. The function also accepts an optional third argument with a default value of 200 that sets the number of plot points. The function should return a tuple with the maximum height and the horizontal distance traveled. In addition to the return values, the function should generate an $x,y$ plot of the trajectory.\n",
    "\n",
    "Your function definition must include all imports necessary for the function to work. Include a docstring in your function definition that describes the arguments and returned values. Include your name in the docstring. Do not print anything from the function; just return the specified values and create the plot.\n",
    "\n",
    "The initial velocity in the $x$ and $y$ directions, $v_{0x}$ and $v_{0y}$ can be calculated from the initial velocity $v_0$ using:\n",
    "\n",
    "$v_{0x}=v_0\\cos(\\theta) \\qquad \\text{and} \\qquad v_{0y}=v_0\\sin(\\theta) $\n",
    "\n",
    "where $\\theta$ is the angle at which the projectile is fired and $v_0$ is the initial velocity. The vertical and horizontal positions $x$ and $y$ of the projectile are given by:\n",
    "\n",
    "$\\displaystyle x= v_{0x}t \\qquad \\text{and} \\qquad y = v_{0y}t-\\frac{1}{2}g\\,t^2 $\n",
    "\n",
    "where $t$ is time starting at zero when the projectile is fired.\n",
    "\n",
    "The time it takes the projectile to reach the highest point is given by: \n",
    "\n",
    "$\\displaystyle t_{\\rm h\\,max}=\\frac{v_{0y}}{g}$\n",
    "\n",
    "Use $g=9.81\\text{ m/s}^2$ for the acceleration due to gravity. The total time of flight is twice the time it takes to reach the highest point, $t_{\\rm total}=2t_{\\rm h\\,max}$.\n",
    "\n",
    "Use `np.linspace()` to create an array of time values from $0$ to $t_{\\rm total}$ where the total number of values is equal to the `values` argument. Use the array of times to calculate $x$ and $y$ values for plotting. Use the appropriate *NumPy* function to determine the maximum height of the projectile from the array of $y$ values.\n",
    "\n",
    "**Plot details**\n",
    "\n",
    "- Single plot with one curve\n",
    "- Include the title \"Projectile Trajectory\"\n",
    "- Axes labels for \"Distance\" and \"Height\" with proper units\n",
    "- Line width of 3\n",
    "- Line color of red\n",
    "- Add a grid to the plot\n",
    "- Set $x$ and $y$ minimum limits to zero\n",
    "- Set `ax.axis('scaled')` before setting limits\n",
    "\n",
    "Test the function using an initial velocity of $230\\text{ m/s}$ at an angle of $39^{\\circ}$.\n",
    "\n",
    "Define your function in a script file named `numpy305.py` and import it in the first cell below (code provided). Test it in the remaining code cells by calling the function.\n",
    "\n",
    "Finish the assignment by...\n",
    "  - Saving your Jupyter Notebook and downloading it as a notebook (.ipynb) file (do not change the file name)\n",
    "  - Saving and downloading your script file\n",
    "  - Submitting the script and notebook files to the NumPy 3.05 assignment via Canvas\n",
    "  - Verifying that the auto grader marked each problem correct\n",
    "  - Fixing errors and resubmitting as necessary until the due date\n",
    "\n",
    "Your score will be determined by the auto grader results after the due date. Keep in mind that the auto grader may run additional tests on your final submission than were ran when the assignment was submitted."
   ]
  },
  {
   "cell_type": "markdown",
   "metadata": {},
   "source": [
    "### Very Important\n",
    "\n",
    "For auto grading to work with your script/function, add the following line immediately after the docstring in your function.\n",
    "\n",
    "```\n",
    "global fig\n",
    "```"
   ]
  },
  {
   "cell_type": "code",
   "execution_count": null,
   "metadata": {},
   "outputs": [],
   "source": [
    "from numpy305 import projectile_plot"
   ]
  },
  {
   "cell_type": "code",
   "execution_count": null,
   "metadata": {},
   "outputs": [],
   "source": [
    "projectile_plot(230, 39)  # test your function here"
   ]
  },
  {
   "cell_type": "markdown",
   "metadata": {
    "deletable": false,
    "run_control": {
     "frozen": true
    }
   },
   "source": [
    "**Wrap it up**\n",
    "\n",
    "Complete the finishing tasks stated in the instructions.\n"
   ]
  }
 ],
 "metadata": {
  "kernelspec": {
   "display_name": "Python 3 (ipykernel)",
   "language": "python",
   "name": "python3"
  },
  "language_info": {
   "codemirror_mode": {
    "name": "ipython",
    "version": 3
   },
   "file_extension": ".py",
   "mimetype": "text/x-python",
   "name": "python",
   "nbconvert_exporter": "python",
   "pygments_lexer": "ipython3",
   "version": "3.9.7"
  },
  "varInspector": {
   "cols": {
    "lenName": 16,
    "lenType": 16,
    "lenVar": 40
   },
   "kernels_config": {
    "python": {
     "delete_cmd_postfix": "",
     "delete_cmd_prefix": "del ",
     "library": "var_list.py",
     "varRefreshCmd": "print(var_dic_list())"
    },
    "r": {
     "delete_cmd_postfix": ") ",
     "delete_cmd_prefix": "rm(",
     "library": "var_list.r",
     "varRefreshCmd": "cat(var_dic_list()) "
    }
   },
   "types_to_exclude": [
    "module",
    "function",
    "builtin_function_or_method",
    "instance",
    "_Feature"
   ],
   "window_display": false
  }
 },
 "nbformat": 4,
 "nbformat_minor": 4
}
