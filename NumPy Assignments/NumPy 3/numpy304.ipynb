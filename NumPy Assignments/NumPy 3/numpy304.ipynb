{
 "cells": [
  {
   "cell_type": "markdown",
   "metadata": {},
   "source": [
    "# NumPy 3.04 - `crank_slider_plot` Function"
   ]
  },
  {
   "cell_type": "code",
   "execution_count": null,
   "metadata": {},
   "outputs": [],
   "source": [
    "name = \"Your name here\"\n",
    "\"Name:\" + name.upper()"
   ]
  },
  {
   "cell_type": "markdown",
   "metadata": {},
   "source": [
    "## General Script Instructions\n",
    "\n",
    "- Include a docstring with your name and the function's purpose. Also include the required units for each of the arguments.\n",
    "- You must use variables (not numbers) in your calculations where variables are provided in the problem statement\n",
    "- Your function must be self-contained, meaning you need to import all external modules and define all functions needed within your function definition\n",
    "- **You must use *NumPy* for all calculations; no list comprehensions or looping and not math module**"
   ]
  },
  {
   "cell_type": "markdown",
   "metadata": {},
   "source": [
    "## Instructions for `crank_slider_plot(crank, coupler, rpm)`\n",
    "\n",
    "Crank-slider mechanisms are used in many engineering applications. Create a function named **`crank_slider_plot(crank, coupler, rpm)`** that calculates and plots the position $x$, velocity $v$, and acceleration $a$ of the slider (piston) versus time for one revolution of a crank that turns as a constant angular velocity $\\omega$. Make three vertically stacked subplots in the same figure. Set the crank angle to $\\theta = 0^{\\circ}$ when the time is $t=0$ seconds.\n",
    "\n",
    "Since the crank is turning at a constant angular velocity $\\omega$, we know the angular acceleration $\\alpha$ is zero. Use the following expressions to determine the position $x$ of the piston based upon the crank angle $\\theta$:\n",
    "\n",
    "$\\qquad\\displaystyle d_1 = r\\cos\\theta \\qquad h = r\\sin\\theta \\qquad d_2 = \\sqrt{c^2 - h^2} \\qquad x = d_1 + d_2$\n",
    "\n",
    "where $r$ is the crank radius and $c$ is the length of the coupler.\n",
    "\n",
    "The velocity $v$ of the piston ($\\text{mm}/\\text{sec}$) is \n",
    "\n",
    "$\\qquad\\displaystyle v = -r\\omega\\sin\\theta -  \\frac{r^2\\omega \\sin(2\\theta)}{2d_2}$\n",
    "\n",
    "and the acceleration $a$ of the piston ($\\text{mm}/\\text{sec}^2$) is\n",
    "\n",
    "$\\qquad\\displaystyle a = -r\\omega^2\\cos\\theta - \\frac{4r^2\\omega^2\\cos(2\\theta)d_2^2+(r^2\\omega\\sin(2\\theta))^2}{4d_2^3} $\n",
    "\n",
    "where $\\omega$ is the angular velocity of the crank in radians/second.\n",
    "\n",
    "The function arguments are the crank radius (in millimeters), the coupler length (in millimeters), and the crank speed in RPM (revolutions/minute). After creating your angle $\\theta$ array use it to calculate an array of times $t$ (in seconds) to use for plotting, where $t = \\theta/\\omega$. Also, use the angle array to calculate the position, velocity, and acceleration arrays.\n",
    "\n",
    "**Plot details**\n",
    "\n",
    "- Stacked subplots\n",
    "  1. Top: Displacement\n",
    "  2. Middle: Velocity\n",
    "  3. Bottom: Acceleration\n",
    "- Title on the top plot only; \"Crank Slider\"\n",
    "- 100 data points from $0$ to $2\\pi$ radians to create the crank angle $\\theta$\n",
    "- Each of the three stacked subplots should have $y$-axes labels with units\n",
    "  - Position in mm\n",
    "  - Velocity in m/s\n",
    "  - Acceleration in m/s\n",
    "- Include an $x$-axis label with units on the bottom plot only\n",
    "- Use a different color for each of the three plots\n",
    "- Use a line width of 3 for each of the three plots\n",
    "- Turn on the grid for each plot\n",
    "- Include the keyword argument `sharex=True` in the `.subplots()` method when creating the initial plot figure\n",
    "- Use `plt.tight_layout()` as the last command before `plt.show()` to clean up the spacing between plots\n",
    "\n",
    "Test the function with a crank speed of $500\\text{ RPM}$, a crank radius of $120\\text{ mm}$, and a coupler length of $250\\text{ mm}$.\n",
    "\n",
    "Define your function in a script file named `numpy304.py` and import it in the first cell below (code provided). Test it in the remaining code cells by calling the function.\n",
    "\n",
    "Finish the assignment by...\n",
    "  - Saving your Jupyter Notebook and downloading it as a notebook (.ipynb) file (do not change the file name)\n",
    "  - Saving and downloading your script file\n",
    "  - Submitting the script and notebook files to the NumPy 3.04 assignment via Canvas\n",
    "  - Verifying that the auto grader marked each problem correct\n",
    "  - Fixing errors and resubmitting as necessary until the due date\n",
    "\n",
    "Your score will be determined by the auto grader results after the due date. Keep in mind that the auto grader may run additional tests on your final submission than were ran when the assignment was submitted."
   ]
  },
  {
   "cell_type": "markdown",
   "metadata": {},
   "source": [
    "### Very Important\n",
    "\n",
    "For auto grading to work with your script/function, add the following line immediately after the docstring in your function.\n",
    "\n",
    "```\n",
    "global fig\n",
    "```"
   ]
  },
  {
   "cell_type": "code",
   "execution_count": null,
   "metadata": {},
   "outputs": [],
   "source": [
    "from numpy304 import crank_slider_plot"
   ]
  },
  {
   "cell_type": "code",
   "execution_count": null,
   "metadata": {},
   "outputs": [],
   "source": [
    "crank_slider_plot(120, 250, 500)   # test your function here"
   ]
  },
  {
   "cell_type": "markdown",
   "metadata": {},
   "source": [
    "**Wrap it up**\n",
    "\n",
    "Complete the finishing tasks stated in the instructions.\n"
   ]
  }
 ],
 "metadata": {
  "kernelspec": {
   "display_name": "Python 3",
   "language": "python",
   "name": "python3"
  },
  "language_info": {
   "codemirror_mode": {
    "name": "ipython",
    "version": 3
   },
   "file_extension": ".py",
   "mimetype": "text/x-python",
   "name": "python",
   "nbconvert_exporter": "python",
   "pygments_lexer": "ipython3",
   "version": "3.8.8"
  },
  "varInspector": {
   "cols": {
    "lenName": 16,
    "lenType": 16,
    "lenVar": 40
   },
   "kernels_config": {
    "python": {
     "delete_cmd_postfix": "",
     "delete_cmd_prefix": "del ",
     "library": "var_list.py",
     "varRefreshCmd": "print(var_dic_list())"
    },
    "r": {
     "delete_cmd_postfix": ") ",
     "delete_cmd_prefix": "rm(",
     "library": "var_list.r",
     "varRefreshCmd": "cat(var_dic_list()) "
    }
   },
   "types_to_exclude": [
    "module",
    "function",
    "builtin_function_or_method",
    "instance",
    "_Feature"
   ],
   "window_display": false
  }
 },
 "nbformat": 4,
 "nbformat_minor": 4
}
