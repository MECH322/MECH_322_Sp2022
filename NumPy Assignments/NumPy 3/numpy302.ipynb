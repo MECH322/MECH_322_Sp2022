{
 "cells": [
  {
   "cell_type": "markdown",
   "metadata": {},
   "source": [
    "# NumPy 3.02 - `taylor_cos` Script"
   ]
  },
  {
   "cell_type": "code",
   "execution_count": null,
   "metadata": {},
   "outputs": [],
   "source": [
    "name = \"Your name here\"\n",
    "\"Name:\" + name.upper()"
   ]
  },
  {
   "cell_type": "markdown",
   "metadata": {},
   "source": [
    "## General Script Instructions\n",
    "\n",
    "- Include a docstring style comment in your script with the following...\n",
    "  - Your name\n",
    "  - The script name (i.e. `taylor_cos.py`)\n",
    "  - The script purpose\n",
    "- Create the requested plot(s)\n",
    "- You must use variables (not numbers) in your calculations where variables are provided in the problem statement\n",
    "- Your script must be self-contained, meaning you need to import all external modules and define all functions needed within the script\n",
    "- **You must use *NumPy* for all calculations; no list comprehensions or looping or math module unless specifically noted in the instructions**"
   ]
  },
  {
   "cell_type": "markdown",
   "metadata": {},
   "source": [
    "## Instructions for `taylor_cos.py`\n",
    "\n",
    "The Taylor series for $\\cos(x)$ is:\n",
    "\n",
    "$\\displaystyle\\qquad 1 - \\frac{x^2}{2!} + \\frac{x^4}{4!} - \\frac{x^6}{6!} + \\frac{x^8}{8!} - \\frac{x^{10}}{10!} + \\ldots $\n",
    "\n",
    "Create a script named `taylor_cos.py` to plot the graph of $\\cos(x)$ and the Taylor series with two, four, and six terms over the range $-2\\pi \\leq x \\leq 2\\pi$. You should end up with four curves on the same plot.\n",
    "\n",
    "Since NumPy does not have a factorial function, you will need to use `math.factorial()` in this script.\n",
    "\n",
    "**Plot details**\n",
    "\n",
    "- Single axes with multiple plotted curves\n",
    "- Use 200 values in your $x$ array\n",
    "- Use a different line color and style for each curve (4 curves)\n",
    "- Use line widths of 2 for all curves\n",
    "- Set $y$ limits to -2 to 2\n",
    "- Include a title\n",
    "- Include axes labels (\"x\" and \"y\" are sufficient)\n",
    "- Include a legend\n",
    "- Plot in the following order...\n",
    "  1. Cosine function\n",
    "  2. Two terms\n",
    "  3. Four terms\n",
    "  4. Six terms\n",
    "\n",
    "**Printed Results**\n",
    "\n",
    "- None\n",
    "\n",
    "Finish the assignment by...\n",
    "  - Saving your Jupyter Notebook and downloading it as a notebook (.ipynb) file (do not change the file name)\n",
    "  - Saving and downloading your script file\n",
    "  - Submitting the script and notebook files to the NumPy 3.02 assignment via Canvas\n",
    "  - Verifying that the auto grader marked each problem correct\n",
    "  - Fixing errors and resubmitting as necessary until the due date\n",
    "\n",
    "Your score will be determined by the auto grader results after the due date. Keep in mind that the auto grader may run additional tests on your final submission than were ran when the assignment was submitted."
   ]
  },
  {
   "cell_type": "markdown",
   "metadata": {},
   "source": [
    "### Very Important\n",
    "\n",
    "For auto grading to work with your script, add the following line immediately after the docstring comment and import lines.\n",
    "\n",
    "```\n",
    "global fig\n",
    "```"
   ]
  },
  {
   "cell_type": "code",
   "execution_count": null,
   "metadata": {},
   "outputs": [],
   "source": [
    "run taylor_cos.py  # execute/test your script here"
   ]
  },
  {
   "cell_type": "markdown",
   "metadata": {},
   "source": [
    "**Wrap it up**\n",
    "\n",
    "Complete the finishing tasks stated in the instructions.\n"
   ]
  }
 ],
 "metadata": {
  "kernelspec": {
   "display_name": "Python 3",
   "language": "python",
   "name": "python3"
  },
  "language_info": {
   "codemirror_mode": {
    "name": "ipython",
    "version": 3
   },
   "file_extension": ".py",
   "mimetype": "text/x-python",
   "name": "python",
   "nbconvert_exporter": "python",
   "pygments_lexer": "ipython3",
   "version": "3.8.8"
  },
  "varInspector": {
   "cols": {
    "lenName": 16,
    "lenType": 16,
    "lenVar": 40
   },
   "kernels_config": {
    "python": {
     "delete_cmd_postfix": "",
     "delete_cmd_prefix": "del ",
     "library": "var_list.py",
     "varRefreshCmd": "print(var_dic_list())"
    },
    "r": {
     "delete_cmd_postfix": ") ",
     "delete_cmd_prefix": "rm(",
     "library": "var_list.r",
     "varRefreshCmd": "cat(var_dic_list()) "
    }
   },
   "types_to_exclude": [
    "module",
    "function",
    "builtin_function_or_method",
    "instance",
    "_Feature"
   ],
   "window_display": false
  }
 },
 "nbformat": 4,
 "nbformat_minor": 4
}
