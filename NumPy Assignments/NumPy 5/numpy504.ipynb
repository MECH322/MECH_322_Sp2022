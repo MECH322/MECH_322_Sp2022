{
 "cells": [
  {
   "cell_type": "markdown",
   "metadata": {},
   "source": [
    "# NumPy 5.04 - More Matrix Practice"
   ]
  },
  {
   "cell_type": "code",
   "execution_count": null,
   "metadata": {},
   "outputs": [],
   "source": [
    "name = \"Your name here\"\n",
    "\"Name:\" + name.upper()"
   ]
  },
  {
   "cell_type": "markdown",
   "metadata": {},
   "source": [
    "## Purpose:\n",
    "\n",
    "Practice using *Python's NumPy* array/matrix operations and functions on familiar problems from MECH 340 Statics and Strength of Materials."
   ]
  },
  {
   "cell_type": "markdown",
   "metadata": {},
   "source": [
    "## Instructions\n",
    "\n",
    "Follow the directions given below.\n",
    "\n",
    "Finish the assignment by...\n",
    "  - Saving your Jupyter Notebook and downloading it as a notebook (.ipynb) file (do not change the file name)\n",
    "  - Submitting the notebook file to the NumPy 5.04 assignment via Canvas\n",
    "  - Verifying that the auto grader marked each problem correct\n",
    "  - Fixing errors and resubmitting as necessary until the due date\n",
    "\n",
    "Your score will be determined by the auto grader results after the due date. Keep in mind that the auto grader may run additional tests on your final submission than were ran when the assignment was submitted."
   ]
  },
  {
   "cell_type": "markdown",
   "metadata": {},
   "source": [
    "**Execute the following code cell to import necessary modules.**"
   ]
  },
  {
   "cell_type": "code",
   "execution_count": null,
   "metadata": {},
   "outputs": [],
   "source": [
    "import numpy as np\n",
    "from numpy import linalg as la\n",
    "from tabulate import tabulate\n",
    "np.set_printoptions(precision=5, suppress=True)"
   ]
  },
  {
   "cell_type": "markdown",
   "metadata": {},
   "source": [
    "**Solving for Forces in a 2D Frame Using Matrix Multipliction**\n",
    "\n",
    "The equilibrium equations shown below result from breaking the chair (frame) into parts. Use all of the equations together to create a single left-hand side array and a single right-hand side array. Use these two arrays to solve for the reactions and forces at each joint via the `la.solve` function. Have *Python* perform **all** math calculations.\n",
    "\n",
    "Make a list with strings that match the variables for which you are solving in the following order; $A$, $B$, $C_x$, $C_y$, $D_x$, $D_y$, $F_x$, and $F_y$.\n",
    "\n",
    "Use the following format for each item in this list; `\"A\"` and `\"C_x\"`. Use the same capitalization as shown with underscores between the primary letter and the subscript portion.\n",
    "\n",
    "Use `tabulate()` and `print()` together to create a table of results with the list of names in the first column and the forces in the second. Include headers (with units for the second column). Round the results array to 2-decimal places **before** creating the results table.\n",
    "\n",
    "**Required Variable Naming**\n",
    "\n",
    "You must use the following variable naming for the autorgrader to pass your code.\n",
    "\n",
    "- `t` for the angle (in radians)\n",
    "- `F` for the array of rounded results\n",
    "- `names` for the list of strings with force names\n",
    "- `LHS` and `RHS` for the respective arrays"
   ]
  },
  {
   "cell_type": "markdown",
   "metadata": {},
   "source": [
    "<div class=exercise>\n",
    "\n",
    "Whole Frame:\n",
    "\n",
    "$\\hspace{15mm} A + B = 84\\text{N} + 28\\text{N}\\sin{\\theta} $\n",
    "\n",
    "$\\displaystyle\\hspace{15mm} A(0.4\\text{m}) = 84\\text{N}(0.2\\text{m}) + 28\\text{N}\\left( \\sqrt{(0.3\\text{m})^2+ (0.5\\text{m})^2} + 0.3\\text{m}\\right) - 24\\text{N}(0.5\\text{m}) $\n",
    "\n",
    "Member $FD$:\n",
    "\n",
    "$\\hspace{15mm} D_x + F_x = -24\\text{N} $\n",
    "$\\hspace{15mm} D_y + F_y = 84\\text{N}$\n",
    "$\\hspace{15mm} D_y(0.5\\text{m}) = 84\\text{N}(0.1\\text{m})$\n",
    "\n",
    "Member $HB$:\n",
    "\n",
    "$\\hspace{15mm} C_x - F_x = 28\\text{N}\\cos{\\theta}$\n",
    "$\\hspace{15mm} B + C_y - F_y = 28\\text{N}\\sin{\\theta}$\n",
    "\n",
    "$\\hspace{15mm} B(0.3\\text{m}) + C_x(0.3\\text{m})\\cos{\\theta} + C_y(0.3\\text{m})\\sin{\\theta} = -28\\text{N}(0.3\\text{m})$\n",
    "</div>"
   ]
  },
  {
   "cell_type": "markdown",
   "metadata": {},
   "source": [
    "<img src=\"./chair.png\" width=\"500\"  />"
   ]
  },
  {
   "cell_type": "code",
   "execution_count": null,
   "metadata": {},
   "outputs": [],
   "source": [
    "# Use this cell to calculate the angle\n"
   ]
  },
  {
   "cell_type": "code",
   "execution_count": null,
   "metadata": {},
   "outputs": [],
   "source": [
    "# Use this cell to create the LHS array\n",
    "# It is suggested to create a large zeros array first, then use indexing to fill\n",
    "#    the positions that need values other than zero\n"
   ]
  },
  {
   "cell_type": "code",
   "execution_count": null,
   "metadata": {},
   "outputs": [],
   "source": [
    "# Use this cell create the RHS array\n"
   ]
  },
  {
   "cell_type": "code",
   "execution_count": null,
   "metadata": {
    "slideshow": {
     "slide_type": "subslide"
    }
   },
   "outputs": [],
   "source": [
    "# Use this cell to solve the equations and round the results array\n"
   ]
  },
  {
   "cell_type": "code",
   "execution_count": null,
   "metadata": {},
   "outputs": [],
   "source": [
    "# Use this cell to create the list of strings\n"
   ]
  },
  {
   "cell_type": "code",
   "execution_count": null,
   "metadata": {},
   "outputs": [],
   "source": [
    "# Use this cell to print the results table\n"
   ]
  },
  {
   "cell_type": "code",
   "execution_count": null,
   "metadata": {
    "deletable": false,
    "editable": false,
    "jupyter": {
     "source_hidden": false
    },
    "nbgrader": {
     "grade": true,
     "grade_id": "test",
     "locked": true,
     "points": 5,
     "schema_version": 3,
     "solution": false,
     "task": false
    }
   },
   "outputs": [],
   "source": [
    "# Your solution will be autotested/scored here"
   ]
  },
  {
   "cell_type": "markdown",
   "metadata": {},
   "source": [
    "**Wrap it up**\n",
    "\n",
    "Complete the finishing tasks stated in the instructions.\n"
   ]
  }
 ],
 "metadata": {
  "kernelspec": {
   "display_name": "Python 3",
   "language": "python",
   "name": "python3"
  },
  "language_info": {
   "codemirror_mode": {
    "name": "ipython",
    "version": 3
   },
   "file_extension": ".py",
   "mimetype": "text/x-python",
   "name": "python",
   "nbconvert_exporter": "python",
   "pygments_lexer": "ipython3",
   "version": "3.8.8"
  },
  "varInspector": {
   "cols": {
    "lenName": 16,
    "lenType": 16,
    "lenVar": 40
   },
   "kernels_config": {
    "python": {
     "delete_cmd_postfix": "",
     "delete_cmd_prefix": "del ",
     "library": "var_list.py",
     "varRefreshCmd": "print(var_dic_list())"
    },
    "r": {
     "delete_cmd_postfix": ") ",
     "delete_cmd_prefix": "rm(",
     "library": "var_list.r",
     "varRefreshCmd": "cat(var_dic_list()) "
    }
   },
   "types_to_exclude": [
    "module",
    "function",
    "builtin_function_or_method",
    "instance",
    "_Feature"
   ],
   "window_display": false
  }
 },
 "nbformat": 4,
 "nbformat_minor": 4
}
