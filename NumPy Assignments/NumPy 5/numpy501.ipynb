{
 "cells": [
  {
   "cell_type": "markdown",
   "metadata": {},
   "source": [
    "# NumPy 5.01 - More Matrix Practice"
   ]
  },
  {
   "cell_type": "code",
   "execution_count": null,
   "metadata": {},
   "outputs": [],
   "source": [
    "name = \"Your name here\"\n",
    "\"Name:\" + name.upper()"
   ]
  },
  {
   "cell_type": "markdown",
   "metadata": {},
   "source": [
    "## Purpose:\n",
    "\n",
    "Practice using *Python's NumPy* array/matrix operations and functions on familiar problems from MECH 340 Statics and Strength of Materials."
   ]
  },
  {
   "cell_type": "markdown",
   "metadata": {},
   "source": [
    "## Instructions\n",
    "\n",
    "Follow the directions for each of the exercises.\n",
    "\n",
    "Finish the assignment by...\n",
    "  - Saving your Jupyter Notebook and downloading it as a notebook (.ipynb) file (do not change the file name)\n",
    "  - Submitting the script and notebook files to the NumPy 5.01 assignment via Canvas\n",
    "  - Verifying that the auto grader marked each problem correct\n",
    "  - Fixing errors and resubmitting as necessary until the due date\n",
    "\n",
    "Your score will be determined by the auto grader results after the due date. Keep in mind that the auto grader may run additional tests on your final submission than were ran when the assignment was submitted."
   ]
  },
  {
   "cell_type": "markdown",
   "metadata": {},
   "source": [
    "**Execute the following code cell to import necessary modules.**"
   ]
  },
  {
   "cell_type": "code",
   "execution_count": null,
   "metadata": {},
   "outputs": [],
   "source": [
    "import numpy as np\n",
    "from numpy import linalg as la\n",
    "np.set_printoptions(precision=6, suppress=True)"
   ]
  },
  {
   "cell_type": "markdown",
   "metadata": {},
   "source": [
    "**3D Angles**\n",
    "\n",
    "Determine the angles (in degrees) between each of the three cables in the following sketch using the dot product function and the expression $\\vec{A}\\cdot\\vec{B}=\\vert \\vec{A}\\vert \\vert \\vec{B}\\vert \\cos{\\theta}$, where $\\vert \\vec{A} \\vert$ equals the length of vector $\\vec{A}$, $\\vert \\vec{B}\\vert$ equals the length of vector $\\vec{B}$, and $\\theta$ is the angle between the vectors. Assume the vectors for each cable start at $D=(0,0,0)$. Use the provided equation to find the length of each vector. The dot in the length expression is the dot product, not standard multiplication.\n",
    "\n",
    "Your results should include values for $\\angle ADB$, $\\angle BDC$, and $\\angle ADC$. Assign the results the variable names `ADB`, `BDC`, and `ADC` then print each with separate statements like `Angle ADB = XX.XX degrees` using 2-decimal place formatting."
   ]
  },
  {
   "cell_type": "markdown",
   "metadata": {},
   "source": [
    "<img src=\"./hanging weight.png\" width=\"400\"  />\n",
    "---\n",
    "\n",
    "$ \\Large\\qquad\\angle ADB = \\cos^{-1}\\left( \\frac{\\vec{A}\\cdot\\vec{B}}{ \\vert \\vec{A} \\vert \\vert \\vec{B} \\vert} \\right) \\hspace{20mm} \\vert \\vec{A} \\vert = \\sqrt{\\vec{A}\\cdot \\vec{A}} $"
   ]
  },
  {
   "cell_type": "code",
   "execution_count": null,
   "metadata": {
    "slideshow": {
     "slide_type": "subslide"
    }
   },
   "outputs": [],
   "source": [
    "# Write your code for finding the 3D angles in this cell only\n"
   ]
  },
  {
   "cell_type": "code",
   "execution_count": null,
   "metadata": {
    "deletable": false,
    "editable": false,
    "jupyter": {
     "source_hidden": false
    },
    "nbgrader": {
     "grade": true,
     "grade_id": "3D_angles_test",
     "locked": true,
     "points": 3,
     "schema_version": 3,
     "solution": false,
     "task": false
    }
   },
   "outputs": [],
   "source": [
    "# Your 3D angles solution will be autotested/scored here"
   ]
  },
  {
   "cell_type": "markdown",
   "metadata": {},
   "source": [
    "**Calculating a Moment Using Cross Product**\n",
    "\n",
    "Use the cross product function to find the moment of the force applied to the pipe assembly about point $A$ (the wall). Use $ \\textbf{M}_A=\\textbf{r}\\times \\textbf{F}$ where $\\textbf{r}$ is the distance vector from $\\textbf{A}$ to the point of application of the force and $\\textbf{F}$ is the force vector. Calculate your answer such that it has units of N$\\cdot$m. \n",
    "\n",
    "Assign the result to the variable name `M` and print a statement like `M = [x y z] N*m` where `[x y z]` is the resulting array `M`.\n",
    "    \n",
    "<img src=\"./pipe and wrench.png\" width=\"400\"  />"
   ]
  },
  {
   "cell_type": "code",
   "execution_count": null,
   "metadata": {
    "slideshow": {
     "slide_type": "subslide"
    }
   },
   "outputs": [],
   "source": [
    "# Write your code for finding the moment in this cell only\n"
   ]
  },
  {
   "cell_type": "code",
   "execution_count": null,
   "metadata": {
    "deletable": false,
    "editable": false,
    "jupyter": {
     "source_hidden": false
    },
    "nbgrader": {
     "grade": true,
     "grade_id": "cross_product_test",
     "locked": true,
     "points": 2,
     "schema_version": 3,
     "solution": false,
     "task": false
    }
   },
   "outputs": [],
   "source": [
    "# Your 3D angles solution will be autotested/scored here"
   ]
  },
  {
   "cell_type": "markdown",
   "metadata": {},
   "source": [
    "**Wrap it up**\n",
    "\n",
    "Complete the finishing tasks stated in the instructions.\n"
   ]
  }
 ],
 "metadata": {
  "kernelspec": {
   "display_name": "Python 3",
   "language": "python",
   "name": "python3"
  },
  "language_info": {
   "codemirror_mode": {
    "name": "ipython",
    "version": 3
   },
   "file_extension": ".py",
   "mimetype": "text/x-python",
   "name": "python",
   "nbconvert_exporter": "python",
   "pygments_lexer": "ipython3",
   "version": "3.8.8"
  },
  "varInspector": {
   "cols": {
    "lenName": 16,
    "lenType": 16,
    "lenVar": 40
   },
   "kernels_config": {
    "python": {
     "delete_cmd_postfix": "",
     "delete_cmd_prefix": "del ",
     "library": "var_list.py",
     "varRefreshCmd": "print(var_dic_list())"
    },
    "r": {
     "delete_cmd_postfix": ") ",
     "delete_cmd_prefix": "rm(",
     "library": "var_list.r",
     "varRefreshCmd": "cat(var_dic_list()) "
    }
   },
   "types_to_exclude": [
    "module",
    "function",
    "builtin_function_or_method",
    "instance",
    "_Feature"
   ],
   "window_display": false
  }
 },
 "nbformat": 4,
 "nbformat_minor": 4
}
