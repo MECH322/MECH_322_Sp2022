{
 "cells": [
  {
   "cell_type": "markdown",
   "metadata": {},
   "source": [
    "# NumPy 5.03 - More Matrix Practice"
   ]
  },
  {
   "cell_type": "code",
   "execution_count": null,
   "metadata": {},
   "outputs": [],
   "source": [
    "name = \"Your name here\"\n",
    "\"Name:\" + name.upper()"
   ]
  },
  {
   "cell_type": "markdown",
   "metadata": {},
   "source": [
    "## Purpose:\n",
    "\n",
    "Practice using *Python's NumPy* array/matrix operations and functions on familiar problems from MECH 340 Statics and Strength of Materials."
   ]
  },
  {
   "cell_type": "markdown",
   "metadata": {},
   "source": [
    "## Instructions\n",
    "\n",
    "Follow the directions given with the following exercise.\n",
    "\n",
    "Finish the assignment by...\n",
    "  - Saving your Jupyter Notebook and downloading it as a notebook (.ipynb) file (do not change the file name)\n",
    "  - Submitting the notebook file to the NumPy 5.03 assignment via Canvas\n",
    "  - Verifying that the auto grader marked each problem correct\n",
    "  - Fixing errors and resubmitting as necessary until the due date\n",
    "\n",
    "Your score will be determined by the auto grader results after the due date. Keep in mind that the auto grader may run additional tests on your final submission than were ran when the assignment was submitted."
   ]
  },
  {
   "cell_type": "markdown",
   "metadata": {},
   "source": [
    "**Execute the following code cell to import necessary modules.**"
   ]
  },
  {
   "cell_type": "code",
   "execution_count": null,
   "metadata": {},
   "outputs": [],
   "source": [
    "import numpy as np\n",
    "from numpy import linalg as la\n",
    "from tabulate import tabulate\n",
    "np.set_printoptions(precision=5, suppress=True)"
   ]
  },
  {
   "cell_type": "markdown",
   "metadata": {},
   "source": [
    "**Solving for Forces in a Truss Using Matrix Multiplication**\n",
    "\n",
    "Use the full set of equilibrium equations given for the following truss to write one coefficient (LHS) and one right-hand side array. Use *NumPy's* `la.solve()` function to solve for the reactions and the forces in each member.\n",
    "\n",
    "Since many of the elements in the coefficient array will be zeros, it may be good idea to create an array with all zeros first. Then you can use array addressing to fill in the elements that get values. Let *Python* perform **all** calculations, including the angles $\\theta_1$, $\\theta_2$, and $\\theta_3$ (see table below).\n",
    "\n",
    "| Angle |  Horizontal | Vertical |\n",
    "|:-----:|:-----------:|:--------:|\n",
    "| $\\theta_1$ | 20 | 5 |\n",
    "| $\\theta_2$ | 8 | 4 |\n",
    "| $\\theta_3$ | 6 | 1.5 |\n",
    "\n",
    "Make a list with strings that match the variables for which you are solving in the following order; \n",
    "\n",
    "$\\qquad A_x$, $A_y$, $G_x$, $F_{AB}$, $F_{AG}$, $F_{BC}$, $F_{BF}$, $F_{BG}$, $F_{CD}$, $F_{CE}$, $F_{CF}$, $F_{DE}$, $F_{EF}$, and $F_{FG}$.\n",
    "\n",
    "Use the following format for each item in this list; `\"A_x\"` and `\"F_AB\"`. Use the same capitalization as shown with underscores between the primary letter and the subscript portion.\n",
    "\n",
    "Use `tabulate()` with `print()` to create a table of results with the list of names in the first column and the force in the second. Include headers (with units for the second column). Round the results array to 1-decimal place **before** creating the results table.\n",
    "\n",
    "*Suggestion:* Use a piece of grid paper with numbered rows and columns to fill in the coefficient expressions before starting to create the array with *Python*.\n",
    "\n",
    "**Required Variable Naming**\n",
    "\n",
    "You must use the following variable naming for the autorgrader to pass your code.\n",
    "\n",
    "- `t1`, `t2`, and `t3` for the angles (in radians)\n",
    "- `F` for the array of rounded results\n",
    "- `names` for the list of strings with force names\n",
    "- `LHS` and `RHS` for the respective arrays"
   ]
  },
  {
   "cell_type": "markdown",
   "metadata": {},
   "source": [
    "$\\qquad \\begin{array}{llll}\n",
    "A: & -A_x+\\frac{4}{5}AB=0 && A_y-\\frac{3}{5}AB-AG=0\\\\[0.25em]\n",
    "B: & -\\frac{4}{5}AB + \\frac{4}{5}BC - BG\\cos{\\theta_2} = \\frac{3}{5}800\\text{lb} && \\frac{3}{5}AB - \\frac{3}{5}BC - BF - BG\\sin{\\theta_2} = \\frac{4}{5}800\\text{lb}\\\\[0.25em]\n",
    "C: & -\\frac{4}{5}BC + \\frac{4}{5}CD - CF\\cos{\\theta_3} = \\frac{3}{5}600\\text{lb} && \\frac{3}{5}BC - \\frac{3}{5}CD - CE - CF\\sin{\\theta_3} = \\frac{4}{5}600\\text{lb}\\\\[0.25em]\n",
    "D: & -\\frac{4}{5}CD - DE\\cos{\\theta_1} = 0 && \\frac{3}{5}CD + DE\\sin{\\theta_1} = 500\\text{lb}\\\\[0.25em]\n",
    "E: & DE\\cos{\\theta_1} - EF\\cos{\\theta_1} = 0 && CE - DE\\sin{\\theta_1} + EF\\sin{\\theta_1} = 0\\\\[0.25em]\n",
    "F: & CF\\cos{\\theta_3} + EF\\cos{\\theta_1} - FG\\cos{\\theta_1} = 0 && BF + CF\\sin{\\theta_3} - EF\\sin{\\theta_1} + FG\\sin{\\theta_1} = 0\\\\[0.25em]\n",
    "G: & G_x + BG\\cos{\\theta_2} + FG\\cos{\\theta_1} = 0 && AG + BG\\sin{\\theta_2} - FG\\sin{\\theta_1} = 0 \\end{array}$"
   ]
  },
  {
   "cell_type": "markdown",
   "metadata": {},
   "source": [
    "<img src=\"./truss.png\" width=\"500\"  />"
   ]
  },
  {
   "cell_type": "code",
   "execution_count": null,
   "metadata": {
    "slideshow": {
     "slide_type": "subslide"
    }
   },
   "outputs": [],
   "source": [
    "# Use this cell to calculate the three angles\n"
   ]
  },
  {
   "cell_type": "code",
   "execution_count": null,
   "metadata": {},
   "outputs": [],
   "source": [
    "# Use this cell to create the LHS array\n",
    "# It is suggested to create a large zeros array first, then use indexing to fill\n",
    "#    the positions that need values other than zero\n"
   ]
  },
  {
   "cell_type": "code",
   "execution_count": null,
   "metadata": {},
   "outputs": [],
   "source": [
    "# Use this cell create the RHS array\n"
   ]
  },
  {
   "cell_type": "code",
   "execution_count": null,
   "metadata": {},
   "outputs": [],
   "source": [
    "# Use this cell to solve the equations and round the results array\n"
   ]
  },
  {
   "cell_type": "code",
   "execution_count": null,
   "metadata": {},
   "outputs": [],
   "source": [
    "# Use this cell to create the list of strings\n"
   ]
  },
  {
   "cell_type": "code",
   "execution_count": null,
   "metadata": {},
   "outputs": [],
   "source": [
    "# Use this cell to print the results table\n"
   ]
  },
  {
   "cell_type": "code",
   "execution_count": null,
   "metadata": {
    "deletable": false,
    "editable": false,
    "jupyter": {
     "source_hidden": false
    },
    "nbgrader": {
     "grade": true,
     "grade_id": "test",
     "locked": true,
     "points": 5,
     "schema_version": 3,
     "solution": false,
     "task": false
    }
   },
   "outputs": [],
   "source": [
    "# Your solution will be autotested/scored here"
   ]
  },
  {
   "cell_type": "markdown",
   "metadata": {},
   "source": [
    "**Wrap it up**\n",
    "\n",
    "Complete the finishing tasks stated in the instructions.\n"
   ]
  }
 ],
 "metadata": {
  "kernelspec": {
   "display_name": "Python 3",
   "language": "python",
   "name": "python3"
  },
  "language_info": {
   "codemirror_mode": {
    "name": "ipython",
    "version": 3
   },
   "file_extension": ".py",
   "mimetype": "text/x-python",
   "name": "python",
   "nbconvert_exporter": "python",
   "pygments_lexer": "ipython3",
   "version": "3.8.8"
  },
  "varInspector": {
   "cols": {
    "lenName": 16,
    "lenType": 16,
    "lenVar": 40
   },
   "kernels_config": {
    "python": {
     "delete_cmd_postfix": "",
     "delete_cmd_prefix": "del ",
     "library": "var_list.py",
     "varRefreshCmd": "print(var_dic_list())"
    },
    "r": {
     "delete_cmd_postfix": ") ",
     "delete_cmd_prefix": "rm(",
     "library": "var_list.r",
     "varRefreshCmd": "cat(var_dic_list()) "
    }
   },
   "types_to_exclude": [
    "module",
    "function",
    "builtin_function_or_method",
    "instance",
    "_Feature"
   ],
   "window_display": false
  }
 },
 "nbformat": 4,
 "nbformat_minor": 4
}
