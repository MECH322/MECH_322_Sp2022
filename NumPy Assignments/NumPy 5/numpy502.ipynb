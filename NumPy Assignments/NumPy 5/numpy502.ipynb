{
 "cells": [
  {
   "cell_type": "markdown",
   "metadata": {},
   "source": [
    "# NumPy 5.02 - More Matrix Practice"
   ]
  },
  {
   "cell_type": "code",
   "execution_count": 0,
   "metadata": {},
   "outputs": [],
   "source": [
    "name = \"Your name here\"\n",
    "\"Name:\" + name.upper()"
   ]
  },
  {
   "cell_type": "markdown",
   "metadata": {},
   "source": [
    "## Purpose:\n",
    "\n",
    "Practice using *Python's NumPy* array/matrix operations and functions on familiar problems from MECH 340 Statics and Strength of Materials."
   ]
  },
  {
   "cell_type": "markdown",
   "metadata": {},
   "source": [
    "## Instructions\n",
    "\n",
    "Follow the directions given below.\n",
    "\n",
    "Finish the assignment by...\n",
    "  - Saving your Jupyter Notebook and downloading it as a notebook (.ipynb) file (do not change the file name)\n",
    "  - Submitting the script and notebook files to the NumPy 5.02 assignment via Canvas\n",
    "  - Verifying that the auto grader marked each problem correct\n",
    "  - Fixing errors and resubmitting as necessary until the due date\n",
    "\n",
    "Your score will be determined by the auto grader results after the due date. Keep in mind that the auto grader may run additional tests on your final submission than were ran when the assignment was submitted."
   ]
  },
  {
   "cell_type": "markdown",
   "metadata": {},
   "source": [
    "**Execute the following code cell to import necessary modules.**"
   ]
  },
  {
   "cell_type": "code",
   "execution_count": 0,
   "metadata": {},
   "outputs": [],
   "source": [
    "import numpy as np\n",
    "from numpy import linalg as la\n",
    "from tabulate import tabulate\n",
    "np.set_printoptions(precision=4, suppress=True)"
   ]
  },
  {
   "cell_type": "markdown",
   "metadata": {},
   "source": [
    "**Equilibrium of a 2D Cable and Weight System**\n",
    "\n",
    "Use *NumPy* to solve the equilibrium equations for the tension (in Newtons) in cables $AC$ and $BC$ using the `la.solve()` function for a number of hanging mass $M$ values.\n",
    "\n",
    "You will need to create a LHS array that uses *NumPy* trig functions to calculate the coefficient values. Create a RHS array that has two rows (one for each equation) and six columns; one for each weight, not mass, condition. Have *Python* perform all calculations throughout this problem.\n",
    "\n",
    "Use mass $M$ values of $10$, $20$, $50$, $75$, $100$, and $200\\text{ kg}$ and $g=9.81\\text{ m/s}^2$. Your results should be placed in a table with headers (include units) using `tabulate()` from the `tabulate` module. Put the mass $M \\text{ (kg)}$ in column 1, weight $W \\text{ (N)}$ in column 2, tension $T_{AC}\\text{ (N)}$ in column 3, and tension $T_{BC}\\text{ (N)}$ in column 4. Assign the result of `la.solve()` to the variable `T` such that the $T_{AC}$ values are in the top row and $T_{BC}$ values are in the bottom row before creating the table. Access the rows from `T` when creating the table.\n",
    "\n",
    "Print a pair of equilibrium equations in the first code cell using the variables `TAC`, `TBC`, and `W` and trig functions (don't make these print statements use actual code, just \"wording\" like you would use if writing them on paper). Your score will be zero if you don't include the equilibrium equations."
   ]
  },
  {
   "cell_type": "markdown",
   "metadata": {},
   "source": [
    "<img src=\"./cable equilibrium.png\" width=\"300\"  />"
   ]
  },
  {
   "cell_type": "code",
   "execution_count": 0,
   "metadata": {},
   "outputs": [],
   "source": [
    "# Write your print statements of the equilibrium equations in this cell only\n"
   ]
  },
  {
   "cell_type": "code",
   "execution_count": 0,
   "metadata": {},
   "outputs": [],
   "source": [
    "# Write your code to create the LHS and RHS arrays in this cell only\n"
   ]
  },
  {
   "cell_type": "code",
   "execution_count": 0,
   "metadata": {
    "slideshow": {
     "slide_type": "subslide"
    }
   },
   "outputs": [],
   "source": [
    "# Write your code to solve for the tensions TAC and TBC in this cell only\n"
   ]
  },
  {
   "cell_type": "code",
   "execution_count": 0,
   "metadata": {},
   "outputs": [],
   "source": [
    "# Write your code to print the table in this cell only\n"
   ]
  },
  {
   "cell_type": "code",
   "execution_count": 0,
   "metadata": {
    "deletable": false,
    "editable": false,
    "jupyter": {
     "source_hidden": false
    },
    "nbgrader": {
     "grade": true,
     "grade_id": "all_tests",
     "locked": true,
     "points": 5,
     "schema_version": 3,
     "solution": false,
     "task": false
    }
   },
   "outputs": [],
   "source": [
    "# Your solution will be autotested/scored here"
   ]
  },
  {
   "cell_type": "markdown",
   "metadata": {},
   "source": [
    "**Wrap it up**\n",
    "\n",
    "Complete the finishing tasks stated in the instructions.\n"
   ]
  }
 ],
 "metadata": {
  "kernelspec": {
   "display_name": "Python 3",
   "language": "python",
   "name": "python3"
  },
  "language_info": {
   "codemirror_mode": {
    "name": "ipython",
    "version": 3
   },
   "file_extension": ".py",
   "mimetype": "text/x-python",
   "name": "python",
   "nbconvert_exporter": "python",
   "pygments_lexer": "ipython3",
   "version": "3.8.8"
  },
  "varInspector": {
   "cols": {
    "lenName": 16,
    "lenType": 16,
    "lenVar": 40
   },
   "kernels_config": {
    "python": {
     "delete_cmd_postfix": "",
     "delete_cmd_prefix": "del ",
     "library": "var_list.py",
     "varRefreshCmd": "print(var_dic_list())"
    },
    "r": {
     "delete_cmd_postfix": ") ",
     "delete_cmd_prefix": "rm(",
     "library": "var_list.r",
     "varRefreshCmd": "cat(var_dic_list()) "
    }
   },
   "types_to_exclude": [
    "module",
    "function",
    "builtin_function_or_method",
    "instance",
    "_Feature"
   ],
   "window_display": false
  }
 },
 "nbformat": 4,
 "nbformat_minor": 4
}
