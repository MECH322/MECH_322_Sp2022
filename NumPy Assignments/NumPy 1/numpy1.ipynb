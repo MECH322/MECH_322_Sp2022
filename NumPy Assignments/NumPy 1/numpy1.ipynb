{
 "cells": [
  {
   "cell_type": "markdown",
   "metadata": {},
   "source": [
    "# NumPy 1 - Array Practice"
   ]
  },
  {
   "cell_type": "code",
   "execution_count": null,
   "metadata": {},
   "outputs": [],
   "source": [
    "name = \"Your name here\"\n",
    "\"Name:\" + name.upper()"
   ]
  },
  {
   "cell_type": "markdown",
   "metadata": {},
   "source": [
    "## Instructions\n",
    "\n",
    "**Use *NumPy* versions of math operations where available.** For example, use `np.tan(np.radians(85))` instead of `math.tan(math.radians(85))`. Note that *NumPy* does not have a factorial function so you will need to import it from the math module.\n",
    "\n",
    "**Do not assign results to variables unless specified in an exercise's instructions.**\n",
    "\n",
    "Finish the assignment by...\n",
    "  - Saving your Jupyter Notebook and downloading it as a notebook (.ipynb) file (do not change the file name)\n",
    "  - Submitting the notebook file to the NumPy 1 assignment via Canvas\n",
    "  - Verifying that the auto grader marked each problem correct\n",
    "  - Fixing errors and resubmitting as necessary until the due date\n",
    "\n",
    "Your score will be determined by the auto grader results after the due date. Keep in mind that the auto grader may run additional tests on your final submission than were ran when the assignment was submitted."
   ]
  },
  {
   "cell_type": "markdown",
   "metadata": {},
   "source": [
    "**Execute the following cell to import *NumPy* and change display/print settings for *NumPy* arrays**"
   ]
  },
  {
   "cell_type": "code",
   "execution_count": null,
   "metadata": {},
   "outputs": [],
   "source": [
    "import numpy as np\n",
    "import math\n",
    "np.set_printoptions(precision=5, suppress=True)"
   ]
  },
  {
   "cell_type": "markdown",
   "metadata": {},
   "source": [
    "**Exercise 1**\n",
    "\n",
    "Create an array with the following elements: $ 8, 10/4, 12\\times1.4, 51, \\tan85^{\\circ}, \\sqrt{26}, 0.15$\n",
    "    \n",
    "```python\n",
    "array([ 8.     ,  2.5    , 16.8    , 51.     , 11.43005,  5.09902, 0.15   ])\n",
    "```"
   ]
  },
  {
   "cell_type": "code",
   "execution_count": null,
   "metadata": {
    "nbgrader": {
     "cell_type": "code",
     "checksum": "9f690f02854f34cbd3ae2bc56c11ab68",
     "grade": false,
     "grade_id": "exercise_1",
     "locked": false,
     "schema_version": 3,
     "solution": true,
     "task": false
    }
   },
   "outputs": [],
   "source": [
    "# Write your exercise 1 code in this cell only\n"
   ]
  },
  {
   "cell_type": "code",
   "execution_count": null,
   "metadata": {
    "deletable": false,
    "editable": false,
    "jupyter": {
     "source_hidden": true
    },
    "nbgrader": {
     "grade": true,
     "grade_id": "exercise_1_autograde",
     "locked": true,
     "points": 0.5,
     "schema_version": 3,
     "solution": false,
     "task": false
    }
   },
   "outputs": [],
   "source": [
    "# Your exercise 1 solution will be autotested/scored here"
   ]
  },
  {
   "cell_type": "markdown",
   "metadata": {},
   "source": [
    "**Exercise 2**\n",
    "\n",
    "Create an array with the following elements: $\\displaystyle \\sqrt{15}\\times10^3, \\frac{25}{14-6^2}, \\ln{(35)}/0.4^3, \\frac{\\sin{65^{\\circ}}}{\\cos{80^{\\circ}}}, 129, \\cos^2{(\\pi/20)}$\n",
    "\n",
    "```python\n",
    "array([3872.98335,   -1.13636,   55.55231,    5.21922,  129.     , 0.97553])\n",
    "```"
   ]
  },
  {
   "cell_type": "code",
   "execution_count": null,
   "metadata": {
    "nbgrader": {
     "cell_type": "code",
     "checksum": "0168d7d5ad03d0aa64f1c96a3c1669f0",
     "grade": false,
     "grade_id": "exercise_2",
     "locked": false,
     "schema_version": 3,
     "solution": true,
     "task": false
    }
   },
   "outputs": [],
   "source": [
    "# Write your exercise 2 code in this cell only\n"
   ]
  },
  {
   "cell_type": "code",
   "execution_count": null,
   "metadata": {
    "deletable": false,
    "editable": false,
    "jupyter": {
     "source_hidden": true
    },
    "nbgrader": {
     "grade": true,
     "grade_id": "exercise_2_autograde",
     "locked": true,
     "points": 0.5,
     "schema_version": 3,
     "solution": false,
     "task": false
    }
   },
   "outputs": [],
   "source": [
    "# Your exercise 2 solution will be autotested/scored here"
   ]
  },
  {
   "cell_type": "markdown",
   "metadata": {},
   "source": [
    "**Exercise 3**\n",
    "\n",
    "Create an array that has the following elements: $\\displaystyle 25.5, \\frac{14\\tan{58^{\\circ}}}{(2.1^2 + 11)}, 6!, 2.7^4, 0.0375, \\pi/5$\n",
    "\n",
    "```python\n",
    "array([ 25.5    ,   1.45391, 720.     ,  53.1441 ,   0.0375 ,   0.62832])\n",
    "```"
   ]
  },
  {
   "cell_type": "code",
   "execution_count": null,
   "metadata": {
    "nbgrader": {
     "cell_type": "code",
     "checksum": "598677b483a6d5ba52a067b30398330c",
     "grade": false,
     "grade_id": "exercise_3",
     "locked": false,
     "schema_version": 3,
     "solution": true,
     "task": false
    }
   },
   "outputs": [],
   "source": [
    "# Write your exercise 3 code in this cell only\n"
   ]
  },
  {
   "cell_type": "code",
   "execution_count": null,
   "metadata": {
    "deletable": false,
    "editable": false,
    "jupyter": {
     "source_hidden": true
    },
    "nbgrader": {
     "grade": true,
     "grade_id": "exercise_3_autograde",
     "locked": true,
     "points": 0.5,
     "schema_version": 3,
     "solution": false,
     "task": false
    }
   },
   "outputs": [],
   "source": [
    "# Your exercise 3 solution will be autotested/scored here"
   ]
  },
  {
   "cell_type": "markdown",
   "metadata": {},
   "source": [
    "**Exercise 4**\n",
    "\n",
    "Create an array that has the following elements: $\\displaystyle \\frac{32}{3.2^2}, \\sin^2{35^{\\circ}}, 6.1, \\ln(29^2), 0.00552, \\ln^2{29}, 133 $\n",
    "\n",
    "```python\n",
    "array([  3.125  ,   0.32899,   6.1    ,   6.73459,   0.00552,  11.33868, 133.     ])\n",
    "```"
   ]
  },
  {
   "cell_type": "code",
   "execution_count": null,
   "metadata": {
    "nbgrader": {
     "cell_type": "code",
     "checksum": "26bd57463a5fbfba4dac5c62c2593e77",
     "grade": false,
     "grade_id": "exercise_4",
     "locked": false,
     "schema_version": 3,
     "solution": true,
     "task": false
    }
   },
   "outputs": [],
   "source": [
    "# Write your exercise 4 code in this cell only\n"
   ]
  },
  {
   "cell_type": "code",
   "execution_count": null,
   "metadata": {
    "deletable": false,
    "editable": false,
    "jupyter": {
     "source_hidden": true
    },
    "nbgrader": {
     "grade": true,
     "grade_id": "exercise_4_autograde",
     "locked": true,
     "points": 0.5,
     "schema_version": 3,
     "solution": false,
     "task": false
    }
   },
   "outputs": [],
   "source": [
    "# Your exercise 4 solution will be autotested/scored here"
   ]
  },
  {
   "cell_type": "markdown",
   "metadata": {},
   "source": [
    "**Exercise 5**\n",
    "\n",
    "Define the variables $x=0.85$, $y=12.5$, and then use them to create an array with the following elements: $y, y^x, \\ln(y/x), x\\times y, x+y$\n",
    "\n",
    "```python\n",
    "array([12.5    , 10.625  ,  2.68825, 10.625  , 13.35   ])\n",
    "```"
   ]
  },
  {
   "cell_type": "code",
   "execution_count": null,
   "metadata": {
    "nbgrader": {
     "cell_type": "code",
     "checksum": "3886080dfa571d69e638fbd856b561fe",
     "grade": false,
     "grade_id": "exercise_5",
     "locked": false,
     "schema_version": 3,
     "solution": true,
     "task": false
    }
   },
   "outputs": [],
   "source": [
    "# Write your exercise 5 code in this cell only\n"
   ]
  },
  {
   "cell_type": "code",
   "execution_count": null,
   "metadata": {
    "deletable": false,
    "editable": false,
    "jupyter": {
     "source_hidden": true
    },
    "nbgrader": {
     "grade": true,
     "grade_id": "exercise_5_autograde",
     "locked": true,
     "points": 0.5,
     "schema_version": 3,
     "solution": false,
     "task": false
    }
   },
   "outputs": [],
   "source": [
    "# Your exercise 5 solution will be autotested/scored here"
   ]
  },
  {
   "cell_type": "markdown",
   "metadata": {},
   "source": [
    "**Exercise 6**\n",
    "\n",
    "Define the variables $a=3.5$, $b=-6.4$, and then use them to create an array with the following elements: $a, a^2, a/b, a\\cdot b, \\sqrt{a}$\n",
    "\n",
    "```python\n",
    "array([  3.5    ,  12.25   ,  -0.54688, -22.4    ,   1.87083])\n",
    "```"
   ]
  },
  {
   "cell_type": "code",
   "execution_count": null,
   "metadata": {
    "nbgrader": {
     "cell_type": "code",
     "checksum": "2a5f9e4bd1338ebcdbed9e1c4cb7c469",
     "grade": false,
     "grade_id": "exercise_6",
     "locked": false,
     "schema_version": 3,
     "solution": true,
     "task": false
    }
   },
   "outputs": [],
   "source": [
    "# Write your exercise 6 code in this cell only\n"
   ]
  },
  {
   "cell_type": "code",
   "execution_count": null,
   "metadata": {
    "deletable": false,
    "editable": false,
    "jupyter": {
     "source_hidden": true
    },
    "nbgrader": {
     "grade": true,
     "grade_id": "exercise_6_autograde",
     "locked": true,
     "points": 0.5,
     "schema_version": 3,
     "solution": false,
     "task": false
    }
   },
   "outputs": [],
   "source": [
    "# Your exercise 6 solution will be autotested/scored here"
   ]
  },
  {
   "cell_type": "markdown",
   "metadata": {},
   "source": [
    "**Note:** Use `np.arange()` or `np.linspace()` for exercises 7 through 10"
   ]
  },
  {
   "cell_type": "markdown",
   "metadata": {},
   "source": [
    "**Exercise 7**\n",
    "    \n",
    "Create an array in which the first element is $1$ and the last element is $43$ with an increment of $6$, i.e. $(1, 7, 13, \\ldots , 43)$ without manually typing each value."
   ]
  },
  {
   "cell_type": "code",
   "execution_count": null,
   "metadata": {
    "nbgrader": {
     "cell_type": "code",
     "checksum": "01675e96fbaad66a57efd074128a9eb1",
     "grade": false,
     "grade_id": "exercise_7",
     "locked": false,
     "schema_version": 3,
     "solution": true,
     "task": false
    }
   },
   "outputs": [],
   "source": [
    "# Write your exercise 7 code in this cell only\n"
   ]
  },
  {
   "cell_type": "code",
   "execution_count": null,
   "metadata": {
    "deletable": false,
    "editable": false,
    "jupyter": {
     "source_hidden": true
    },
    "nbgrader": {
     "grade": true,
     "grade_id": "exercise_7_autograde",
     "locked": true,
     "points": 0.5,
     "schema_version": 3,
     "solution": false,
     "task": false
    }
   },
   "outputs": [],
   "source": [
    "# Your exercise 7 solution will be autotested/scored here"
   ]
  },
  {
   "cell_type": "markdown",
   "metadata": {},
   "source": [
    "**Exercise 8**\n",
    "\n",
    "Create an array with $11$ equally spaced elements in which the first element is $96$ and the last element is $2$ without manually typing each value.\n",
    "\n",
    "```python\n",
    "array([96. , 86.6, 77.2, 67.8, 58.4, 49. , 39.6, 30.2, 20.8, 11.4,  2. ])\n",
    "```"
   ]
  },
  {
   "cell_type": "code",
   "execution_count": null,
   "metadata": {
    "nbgrader": {
     "cell_type": "code",
     "checksum": "ac6742d820526b108e4e066613892dcf",
     "grade": false,
     "grade_id": "exercise_8",
     "locked": false,
     "schema_version": 3,
     "solution": true,
     "task": false
    }
   },
   "outputs": [],
   "source": [
    "# Write your exercise 8 code in this cell only\n"
   ]
  },
  {
   "cell_type": "code",
   "execution_count": null,
   "metadata": {
    "deletable": false,
    "editable": false,
    "jupyter": {
     "source_hidden": true
    },
    "nbgrader": {
     "grade": true,
     "grade_id": "exercise_8_autograde",
     "locked": true,
     "points": 0.5,
     "schema_version": 3,
     "solution": false,
     "task": false
    }
   },
   "outputs": [],
   "source": [
    "# Your exercise 8 solution will be autotested/scored here"
   ]
  },
  {
   "cell_type": "markdown",
   "metadata": {},
   "source": [
    "**Exercise 9**\n",
    "\n",
    "Create an array in which the first element is $26$, the elements decrease with an increment of $-3.6$, and the last element is $-10$ without typing each value.\n",
    "\n",
    "```python\n",
    "array([ 26. ,  22.4,  18.8,  15.2,  11.6,   8. ,   4.4,   0.8,  -2.8,\n",
    "        -6.4, -10. ])\n",
    "```"
   ]
  },
  {
   "cell_type": "code",
   "execution_count": null,
   "metadata": {
    "nbgrader": {
     "cell_type": "code",
     "checksum": "ce5551ddef9c1289a61b9b2ffbe6b359",
     "grade": false,
     "grade_id": "exercise_9",
     "locked": false,
     "schema_version": 3,
     "solution": true,
     "task": false
    }
   },
   "outputs": [],
   "source": [
    "# Write your exercise 9 code in this cell only\n"
   ]
  },
  {
   "cell_type": "code",
   "execution_count": null,
   "metadata": {
    "deletable": false,
    "editable": false,
    "jupyter": {
     "source_hidden": true
    },
    "nbgrader": {
     "grade": true,
     "grade_id": "exercise_9_autograde",
     "locked": true,
     "points": 0.5,
     "schema_version": 3,
     "solution": false,
     "task": false
    }
   },
   "outputs": [],
   "source": [
    "# Your exercise 9 solution will be autotested/scored here"
   ]
  },
  {
   "cell_type": "markdown",
   "metadata": {},
   "source": [
    "**Exercise 10**\n",
    "\n",
    "Create an array with $9$ equally spaced elements in which the first element is $-34$ and the last element is $-7$ without manually typing each value.\n",
    "\n",
    "```python\n",
    "array([-34.   , -30.625, -27.25 , -23.875, -20.5  , -17.125, -13.75 ,\n",
    "       -10.375,  -7.   ])\n",
    "```"
   ]
  },
  {
   "cell_type": "code",
   "execution_count": null,
   "metadata": {
    "nbgrader": {
     "cell_type": "code",
     "checksum": "4f8c4886278c3209e4e6bd4691abe829",
     "grade": false,
     "grade_id": "exercise_10",
     "locked": false,
     "schema_version": 3,
     "solution": true,
     "task": false
    }
   },
   "outputs": [],
   "source": [
    "# Write your exercise 10 code in this cell only\n"
   ]
  },
  {
   "cell_type": "code",
   "execution_count": null,
   "metadata": {
    "deletable": false,
    "editable": false,
    "jupyter": {
     "outputs_hidden": false,
     "source_hidden": true
    },
    "nbgrader": {
     "grade": true,
     "grade_id": "exercise_10_autograde",
     "locked": true,
     "points": 0.5,
     "schema_version": 3,
     "solution": false,
     "task": false
    }
   },
   "outputs": [],
   "source": [
    "# Your exercise 10 solution will be autotested/scored here"
   ]
  },
  {
   "cell_type": "markdown",
   "metadata": {},
   "source": [
    "**Exercise 11**\n",
    "\n",
    "Use the `np.arange()` and `np.append()` functions together in one expression to create an array named `b` such that `b = [0, 2, 4, 6, 8, 10, 12, 9, 6, 3, 0]`. Print `b` after creation."
   ]
  },
  {
   "cell_type": "code",
   "execution_count": null,
   "metadata": {
    "nbgrader": {
     "cell_type": "code",
     "checksum": "3238ff8cf590390329975e0562473629",
     "grade": false,
     "grade_id": "exercise_11",
     "locked": false,
     "schema_version": 3,
     "solution": true,
     "task": false
    }
   },
   "outputs": [],
   "source": [
    "# Write your exercise 11 code in this cell only\n"
   ]
  },
  {
   "cell_type": "code",
   "execution_count": null,
   "metadata": {
    "deletable": false,
    "editable": false,
    "jupyter": {
     "source_hidden": true
    },
    "nbgrader": {
     "grade": true,
     "grade_id": "exercise_11_autograde",
     "locked": true,
     "points": 0.5,
     "schema_version": 3,
     "solution": false,
     "task": false
    }
   },
   "outputs": [],
   "source": [
    "# Your exercise 11 solution will be autotested/scored here"
   ]
  },
  {
   "cell_type": "markdown",
   "metadata": {},
   "source": [
    "**Exercise 12**\n",
    "\n",
    "Create the following 2D array `A` by using the `np.linspace()` and `np.arange()` functions to fill the values. Print `A` after creation.\n",
    "\n",
    "$\\qquad\\displaystyle A = \\left[\\begin{array}{ccccccc} 130 & 110 & 90 & 70 & 50 & 30 & 10 \\\\\n",
    "1.0 & 2.833\\ldots & 4.666\\ldots & 6.5 & 8.333\\ldots & 10.166\\ldots & 12.0 \\\\\n",
    "12 & 22 & 32 & 42 & 52 & 62 & 72\\end{array} \\right]$"
   ]
  },
  {
   "cell_type": "code",
   "execution_count": null,
   "metadata": {
    "nbgrader": {
     "cell_type": "code",
     "checksum": "a2e7f41271a9c7babf24abda2d11b77a",
     "grade": false,
     "grade_id": "exercise_12",
     "locked": false,
     "schema_version": 3,
     "solution": true,
     "task": false
    }
   },
   "outputs": [],
   "source": [
    "# Write your exercise 12 code in this cell only\n"
   ]
  },
  {
   "cell_type": "code",
   "execution_count": null,
   "metadata": {
    "deletable": false,
    "editable": false,
    "jupyter": {
     "source_hidden": true
    },
    "nbgrader": {
     "grade": true,
     "grade_id": "exercise_12_autograde",
     "locked": true,
     "points": 0.5,
     "schema_version": 3,
     "solution": false,
     "task": false
    }
   },
   "outputs": [],
   "source": [
    "# Your exercise 12 solution will be autotested/scored here"
   ]
  },
  {
   "cell_type": "markdown",
   "metadata": {},
   "source": [
    "**Exercise 13**\n",
    "\n",
    "Create three arrays: $a = [3, -1, 5, 11, -4, 2]$, $b = [7, -9, 2, 13, 1, -2]$, and $c = [-2, 4, -7, 8, 0, 9]$\n",
    "\n",
    "By slicing the three arrays, create a $3\\times4$ two-dimensional array such that the first, second, and third rows consist of the last four elements of the arrays $a$, $b$, and $c$ respectively.\n",
    "\n",
    "```python\n",
    "array([[ 5, 11, -4,  2],\n",
    "       [ 2, 13,  1, -2],\n",
    "       [-7,  8,  0,  9]])\n",
    "```"
   ]
  },
  {
   "cell_type": "code",
   "execution_count": null,
   "metadata": {
    "nbgrader": {
     "cell_type": "code",
     "checksum": "26d35c66b15ecf8882f002c37ca563b0",
     "grade": false,
     "grade_id": "exercise_13_arrays",
     "locked": false,
     "schema_version": 3,
     "solution": true,
     "task": false
    }
   },
   "outputs": [],
   "source": [
    "# Create the initial arrays `a`, `b`, and `c` for exercises 13 and 14 in this cell\n"
   ]
  },
  {
   "cell_type": "code",
   "execution_count": null,
   "metadata": {
    "nbgrader": {
     "cell_type": "code",
     "checksum": "cbcb07c7b5cc495d15c4d0e0e95b07df",
     "grade": false,
     "grade_id": "exercise_13_slice",
     "locked": false,
     "schema_version": 3,
     "solution": true,
     "task": false
    }
   },
   "outputs": [],
   "source": [
    "# Write your exercise 13 slicing code in this cell only\n"
   ]
  },
  {
   "cell_type": "code",
   "execution_count": null,
   "metadata": {
    "deletable": false,
    "editable": false,
    "jupyter": {
     "source_hidden": true
    },
    "nbgrader": {
     "grade": true,
     "grade_id": "exercise_13_autograde",
     "locked": true,
     "points": 0.5,
     "schema_version": 3,
     "solution": false,
     "task": false
    }
   },
   "outputs": [],
   "source": [
    "# Your exercise 11 solution will be autotested/scored here"
   ]
  },
  {
   "cell_type": "markdown",
   "metadata": {},
   "source": [
    "**Exercise 14**\n",
    "\n",
    "Using the arrays from **13**, create a $6\\times3$ two-dimensional array such that the first, second, and third columns are the arrays $b$, $c$, and $a$ respectively.\n",
    "    \n",
    "*Hint: the `.T` method helps.*\n",
    "\n",
    "```python\n",
    "array([[ 7, -2,  3],\n",
    "       [-9,  4, -1],\n",
    "       [ 2, -7,  5],\n",
    "       [13,  8, 11],\n",
    "       [ 1,  0, -4],\n",
    "       [-2,  9,  2]])\n",
    "```"
   ]
  },
  {
   "cell_type": "code",
   "execution_count": null,
   "metadata": {
    "nbgrader": {
     "cell_type": "code",
     "checksum": "3cf373c104d14d162d8e377ec578a9b7",
     "grade": false,
     "grade_id": "exercise_14",
     "locked": false,
     "schema_version": 3,
     "solution": true,
     "task": false
    }
   },
   "outputs": [],
   "source": [
    "# Write your exercise 14 code in this cell only\n"
   ]
  },
  {
   "cell_type": "code",
   "execution_count": null,
   "metadata": {
    "deletable": false,
    "editable": false,
    "jupyter": {
     "source_hidden": true
    },
    "nbgrader": {
     "grade": true,
     "grade_id": "exercise_14_autograde",
     "locked": true,
     "points": 0.5,
     "schema_version": 3,
     "solution": false,
     "task": false
    }
   },
   "outputs": [],
   "source": [
    "# Your exercise 14 solution will be autotested/scored here"
   ]
  },
  {
   "cell_type": "markdown",
   "metadata": {},
   "source": [
    "**Exercise 15**\n",
    "\n",
    "Create the following 2D array by first using `np.arange()` and/or `np.linspace()` to create a 1D array with all of the values present then change its shape with the `.reshape()` method. Print `A` after creating the array.\n",
    "\n",
    "$\\qquad\\displaystyle A = \\left[ \\begin{array}{cccccc} \n",
    "36 & 34 & 32 & 30 & 28 & 26 \\\\\n",
    "24 & 22 & 20 & 18 & 16 & 14 \\\\\n",
    "12 & 10 & 8 & 6 & 4 & 2 \\end{array}\\right] $\n",
    "\n",
    "Then use slicing do each of the following in their own code cells:\n",
    "- Create a six-element array that contains the elements of the second row of $A$\n",
    "    ```python\n",
    "    array([24, 22, 20, 18, 16, 14])\n",
    "    ```\n",
    "- Create a three-element array that contains the elements of the sixth column of $A$\n",
    "    ```python\n",
    "    array([26, 14,  2])\n",
    "    ```\n",
    "- Create a five-element array that contains the first two elements of the third row and the last three elements of the first row of $A$\n",
    "    ```python\n",
    "    array([12, 10, 30, 28, 26])\n",
    "    ```"
   ]
  },
  {
   "cell_type": "code",
   "execution_count": null,
   "metadata": {
    "nbgrader": {
     "cell_type": "code",
     "checksum": "fbda56be0a0fb53f40dbf7ca2f1b0e50",
     "grade": false,
     "grade_id": "exercise_15_initial_array",
     "locked": false,
     "schema_version": 3,
     "solution": true,
     "task": false
    }
   },
   "outputs": [],
   "source": [
    "# Create the exercise 15 initial multi-row array in this cell only\n"
   ]
  },
  {
   "cell_type": "code",
   "execution_count": null,
   "metadata": {
    "deletable": false,
    "editable": false,
    "jupyter": {
     "source_hidden": true
    },
    "nbgrader": {
     "grade": true,
     "grade_id": "exercise_15_initial_autograde",
     "locked": true,
     "points": 0.5,
     "schema_version": 3,
     "solution": false,
     "task": false
    }
   },
   "outputs": [],
   "source": [
    "# Your exercise 15 initial array solution will be autotested/scored here"
   ]
  },
  {
   "cell_type": "code",
   "execution_count": null,
   "metadata": {
    "nbgrader": {
     "cell_type": "code",
     "checksum": "072ebe4da1e3b67a8f65aa46db08cfee",
     "grade": false,
     "grade_id": "exercise_15_part1",
     "locked": false,
     "schema_version": 3,
     "solution": true,
     "task": false
    }
   },
   "outputs": [],
   "source": [
    "# Write your code for the first part of exercise 15 in this cell only\n"
   ]
  },
  {
   "cell_type": "code",
   "execution_count": null,
   "metadata": {
    "deletable": false,
    "editable": false,
    "jupyter": {
     "source_hidden": true
    },
    "nbgrader": {
     "grade": true,
     "grade_id": "exercise_15_part1_autograde",
     "locked": true,
     "points": 0.25,
     "schema_version": 3,
     "solution": false,
     "task": false
    }
   },
   "outputs": [],
   "source": [
    "# Your exercise 15 part 1 solution will be autotested/scored here"
   ]
  },
  {
   "cell_type": "code",
   "execution_count": null,
   "metadata": {
    "nbgrader": {
     "cell_type": "code",
     "checksum": "b7777d4d5d4f919e791b99c3bdf3fef9",
     "grade": false,
     "grade_id": "exercise_15_part2",
     "locked": false,
     "schema_version": 3,
     "solution": true,
     "task": false
    }
   },
   "outputs": [],
   "source": [
    "# Write your code for the second part of exercise 15 in this cell only\n"
   ]
  },
  {
   "cell_type": "code",
   "execution_count": null,
   "metadata": {
    "deletable": false,
    "editable": false,
    "jupyter": {
     "source_hidden": true
    },
    "nbgrader": {
     "grade": true,
     "grade_id": "exercise_15_part2_autograde",
     "locked": true,
     "points": 0.25,
     "schema_version": 3,
     "solution": false,
     "task": false
    }
   },
   "outputs": [],
   "source": [
    "# Your exercise 15 part 2 solution will be autotested/scored here"
   ]
  },
  {
   "cell_type": "code",
   "execution_count": null,
   "metadata": {
    "nbgrader": {
     "cell_type": "code",
     "checksum": "8c44399e35aa5fea5b5877da1224f81c",
     "grade": false,
     "grade_id": "exercise_15_part3",
     "locked": false,
     "schema_version": 3,
     "solution": true,
     "task": false
    }
   },
   "outputs": [],
   "source": [
    "# Write your code for the third part of exercise 15 in this cell only\n"
   ]
  },
  {
   "cell_type": "code",
   "execution_count": null,
   "metadata": {
    "deletable": false,
    "editable": false,
    "jupyter": {
     "source_hidden": true
    },
    "nbgrader": {
     "grade": true,
     "grade_id": "exercise_15_part3_autograde",
     "locked": true,
     "points": 0.25,
     "schema_version": 3,
     "solution": false,
     "task": false
    }
   },
   "outputs": [],
   "source": [
    "# Your exercise 15 part 3 solution will be autotested/scored here"
   ]
  },
  {
   "cell_type": "markdown",
   "metadata": {},
   "source": [
    "**Exercise 16**\n",
    "\n",
    "Create the following 2D array by using `np.append()`, `np.zeros()`, `np.arange()`, the `.reshape()` method, and `.T` only, in one single expression. Each function or method should only be used once.\n",
    "\n",
    "$\\qquad\\displaystyle \\left[\\begin{array}{ccccc}\n",
    "0 & 0 & 0 & 0 & 8 \\\\\n",
    "0 & 0 & 0 & 0 & 7 \\\\\n",
    "0 & 0 & 0 & 0 & 6 \\end{array} \\right]$"
   ]
  },
  {
   "cell_type": "code",
   "execution_count": null,
   "metadata": {
    "nbgrader": {
     "cell_type": "code",
     "checksum": "2ec08f67a1b5ece1be9f644e3a880da2",
     "grade": false,
     "grade_id": "exercise_16",
     "locked": false,
     "schema_version": 3,
     "solution": true,
     "task": false
    }
   },
   "outputs": [],
   "source": [
    "# Write your exercise 16 code in this cell only\n"
   ]
  },
  {
   "cell_type": "code",
   "execution_count": null,
   "metadata": {
    "deletable": false,
    "editable": false,
    "jupyter": {
     "source_hidden": true
    },
    "nbgrader": {
     "grade": true,
     "grade_id": "exercise_16_autograde",
     "locked": true,
     "points": 0.75,
     "schema_version": 3,
     "solution": false,
     "task": false
    }
   },
   "outputs": [],
   "source": [
    "# Your exercise 16 solution will be autotested/scored here"
   ]
  },
  {
   "cell_type": "markdown",
   "metadata": {},
   "source": [
    "**Exercise 17**\n",
    "\n",
    "Use a single expression to create a six element 1D array such that the first value is $1.1$ and the last value is $6.6$ and all of the others are zero. Do not directly type the zeros; use NumPy functions or methods.\n",
    "\n",
    "*Hint: this may be a good place to try out* `np.insert()` *or* `np.hstack()`.\n",
    "\n",
    "```python\n",
    "array([1.1, 0. , 0. , 0. , 0. , 6.6])\n",
    "```"
   ]
  },
  {
   "cell_type": "code",
   "execution_count": null,
   "metadata": {
    "nbgrader": {
     "cell_type": "code",
     "checksum": "c8549909a7017050e40db266b76b3c28",
     "grade": false,
     "grade_id": "exercise_17",
     "locked": false,
     "schema_version": 3,
     "solution": true,
     "task": false
    }
   },
   "outputs": [],
   "source": [
    "# Write your exercise 17 code in this cell only\n"
   ]
  },
  {
   "cell_type": "code",
   "execution_count": null,
   "metadata": {
    "deletable": false,
    "editable": false,
    "jupyter": {
     "source_hidden": true
    },
    "nbgrader": {
     "grade": true,
     "grade_id": "exercise_17_autograde",
     "locked": true,
     "points": 0.5,
     "schema_version": 3,
     "solution": false,
     "task": false
    }
   },
   "outputs": [],
   "source": [
    "# Your exercise 16 solution will be autotested/scored here"
   ]
  },
  {
   "cell_type": "markdown",
   "metadata": {},
   "source": [
    "**Wrap it up**\n",
    "\n",
    "Complete the finishing tasks stated in the instructions.\n"
   ]
  }
 ],
 "metadata": {
  "kernelspec": {
   "display_name": "Python 3 (ipykernel)",
   "language": "python",
   "name": "python3"
  },
  "language_info": {
   "codemirror_mode": {
    "name": "ipython",
    "version": 3
   },
   "file_extension": ".py",
   "mimetype": "text/x-python",
   "name": "python",
   "nbconvert_exporter": "python",
   "pygments_lexer": "ipython3",
   "version": "3.9.7"
  },
  "varInspector": {
   "cols": {
    "lenName": 16,
    "lenType": 16,
    "lenVar": 40
   },
   "kernels_config": {
    "python": {
     "delete_cmd_postfix": "",
     "delete_cmd_prefix": "del ",
     "library": "var_list.py",
     "varRefreshCmd": "print(var_dic_list())"
    },
    "r": {
     "delete_cmd_postfix": ") ",
     "delete_cmd_prefix": "rm(",
     "library": "var_list.r",
     "varRefreshCmd": "cat(var_dic_list()) "
    }
   },
   "types_to_exclude": [
    "module",
    "function",
    "builtin_function_or_method",
    "instance",
    "_Feature"
   ],
   "window_display": false
  }
 },
 "nbformat": 4,
 "nbformat_minor": 4
}
