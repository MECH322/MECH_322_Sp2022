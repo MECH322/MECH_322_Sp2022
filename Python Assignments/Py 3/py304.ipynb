{
 "cells": [
  {
   "cell_type": "markdown",
   "metadata": {},
   "source": [
    "# Py 3.04 - `water_volume` Function"
   ]
  },
  {
   "cell_type": "code",
   "execution_count": null,
   "metadata": {},
   "outputs": [],
   "source": [
    "name = \"Your name here\"\n",
    "\"Name:\" + name.upper()"
   ]
  },
  {
   "cell_type": "markdown",
   "metadata": {},
   "source": [
    "## Instructions\n",
    "\n",
    "A large water tank located near a golf course has a peculiar geometry. It looks like a truncated cone sitting atop a cylinder; somewhat like a golf tee. Inside the tank there is a float switch that indicates the level (height) of the water.\n",
    "\n",
    "Define a function called **`water_volume(h)`**\n",
    "- That calculates and **returns** a numeric value for the water volume based on the height of the water and the following rules\n",
    "- If $0\\leq h \\leq 19\\text{m}$\n",
    "  - The volume of water is given by the volume of a cylinder with height $h$\n",
    "\n",
    "$\\qquad\\qquad\\displaystyle V=\\pi12.5^2h$\n",
    "\n",
    "- If $19 \\lt h \\leq 33\\text{m}$\n",
    "  - The volume of water is given by adding the volume of a cylinder of $h=19\\text{m}$ and the volume of water in the truncated cone\n",
    "\n",
    "$\\qquad\\qquad\\displaystyle r_h = 12.5 + \\frac{10.5}{14}(h-19)$\n",
    "    \n",
    "$\\qquad\\qquad\\displaystyle V = \\pi12.5^2\\cdot 19 + \\frac{1}{3}\\pi(h-19)(12.5^2 + 12.5\\cdot r_h + r_h^2)$\n",
    "\n",
    "- If $h \\lt 0$ or $h\\gt 33$\n",
    "  - **Return** a value of $-1$\n",
    "  - Otherwise **return** the calculated value based on the above cases\n",
    "- Include comments at the top of the script with...\n",
    "  - Your name\n",
    "  - Script name\n",
    "  - Brief description of what the script does\n",
    "- Test your function with float heights of...\n",
    "  - $8\\text{ m}$\n",
    "  - $25.7\\text{ m}$\n",
    "  - $35\\text{ m}$\n",
    "\n",
    "Finish the assignment by...\n",
    "  - Saving your Jupyter Notebook and downloading it as a notebook (.ipynb) file (do not change the file name)\n",
    "  - Saving and downloading your script file\n",
    "  - Submitting the script and notebook files to the Py 3.04 assignment via Canvas\n",
    "  - Verifying that the auto grader marked each problem correct\n",
    "  - Fixing errors and resubmitting as necessary until the due date\n",
    "\n",
    "Your score will be determined by the auto grader results after the due date. Keep in mind that the auto grader may run additional tests on your final submission than were ran when the assignment was submitted."
   ]
  },
  {
   "cell_type": "code",
   "execution_count": null,
   "metadata": {},
   "outputs": [],
   "source": [
    "# HINTS\n",
    "# this one should just need one 'if', one 'elif', and one 'else'\n",
    "# it's okay to have a separate return for each condition"
   ]
  },
  {
   "cell_type": "markdown",
   "metadata": {},
   "source": [
    "Define your function in a script file named `py304.py` and import it in the first cell below (code provided). Test it in the remaining code cells by calling the function."
   ]
  },
  {
   "cell_type": "code",
   "execution_count": null,
   "metadata": {},
   "outputs": [],
   "source": [
    "from py304 import water_volume"
   ]
  },
  {
   "cell_type": "code",
   "execution_count": null,
   "metadata": {},
   "outputs": [],
   "source": []
  },
  {
   "cell_type": "code",
   "execution_count": null,
   "metadata": {},
   "outputs": [],
   "source": []
  },
  {
   "cell_type": "code",
   "execution_count": null,
   "metadata": {},
   "outputs": [],
   "source": []
  },
  {
   "cell_type": "markdown",
   "metadata": {
    "nbgrader": {
     "grade": false,
     "grade_id": "wrap_it_up",
     "locked": true,
     "schema_version": 3,
     "solution": false,
     "task": false
    }
   },
   "source": [
    "**Wrap it up**\n",
    "\n",
    "Complete the finishing tasks stated in the instructions.\n"
   ]
  }
 ],
 "metadata": {
  "kernelspec": {
   "display_name": "Python 3 (ipykernel)",
   "language": "python",
   "name": "python3"
  },
  "language_info": {
   "codemirror_mode": {
    "name": "ipython",
    "version": 3
   },
   "file_extension": ".py",
   "mimetype": "text/x-python",
   "name": "python",
   "nbconvert_exporter": "python",
   "pygments_lexer": "ipython3",
   "version": "3.9.7"
  },
  "varInspector": {
   "cols": {
    "lenName": 16,
    "lenType": 16,
    "lenVar": 40
   },
   "kernels_config": {
    "python": {
     "delete_cmd_postfix": "",
     "delete_cmd_prefix": "del ",
     "library": "var_list.py",
     "varRefreshCmd": "print(var_dic_list())"
    },
    "r": {
     "delete_cmd_postfix": ") ",
     "delete_cmd_prefix": "rm(",
     "library": "var_list.r",
     "varRefreshCmd": "cat(var_dic_list()) "
    }
   },
   "types_to_exclude": [
    "module",
    "function",
    "builtin_function_or_method",
    "instance",
    "_Feature"
   ],
   "window_display": false
  }
 },
 "nbformat": 4,
 "nbformat_minor": 4
}
