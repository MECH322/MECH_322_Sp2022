{
 "cells": [
  {
   "cell_type": "markdown",
   "metadata": {
    "deletable": false,
    "run_control": {
     "frozen": true
    }
   },
   "source": [
    "# Py 3.03 - `rental_cost` Script"
   ]
  },
  {
   "cell_type": "code",
   "execution_count": 0,
   "metadata": {},
   "outputs": [],
   "source": [
    "name = \"Your name here\"\n",
    "\"Name:\" + name.upper()"
   ]
  },
  {
   "cell_type": "markdown",
   "metadata": {
    "deletable": false,
    "run_control": {
     "frozen": true
    }
   },
   "source": [
    "## Instructions\n",
    "\n",
    "Following is a pricing table for renting two classifications of vehicles.\n",
    "\n",
    "|**Sedans**|Days rented|Daily rate|Free miles </br>(per day)|Cost per</br>added mile|\n",
    "|-|:------:|:---:|:---:|:---:|\n",
    "|| 1-6 | \\$79 | 80 |\\$0.69|\n",
    "|| 7-29| \\$69 | 100 |\\$0.59|\n",
    "|| 30 or more| \\$59 | 120 |\\$0.49|\n",
    "\n",
    "\n",
    "|**SUVs**|Days rented|Daily rate|Free miles </br>(per day)|Cost per</br>added mile|\n",
    "|-|:------:|:---:|:---:|:---:|\n",
    "|| 1-6 | \\$84 | 80 |\\$0.74|\n",
    "|| 7-29| \\$74 | 100 |\\$0.64|\n",
    "|| 30 or more| \\$64 | 120 |\\$0.54|\n",
    "\n",
    "\n",
    "Write a script called **`rental_cost.py`** \n",
    "- Ask the user for the following in the order listed...\n",
    "  - Vehicle type (use numbers for choices)\n",
    "    1. Sedan\n",
    "    2. SUV\n",
    "  - The number of days rented\n",
    "  - The total number of miles driven\n",
    "- Print a statement like **Your cost for renting the Sedan is \\$XXX.XX**\n",
    "  - Use the actual type of vehicle rented\n",
    "  - Include a \\$ sign and round the cost to the nearest cent\n",
    "  - Include a comma for costs greater than \\$999.99\n",
    "  - Hint: the above can be done with an *f-string*\n",
    "- Print **Vehicle type unavailable** if a vehicle type other than the two provided is selected\n",
    "- Include comments at the top of the script with...\n",
    "  - Your name\n",
    "  - Script name\n",
    "  - Brief description of what the script does\n",
    "- Test your script for the following cases:\n",
    "  - Sedan, 10 days, 769 miles\n",
    "  - SUV, 32 days, 4056 miles\n",
    "  - Sedan, 3 days, 511 miles\n",
    "\n",
    "Finish the assignment by...\n",
    "  - Saving your Jupyter Notebook and downloading it as a notebook (.ipynb) file (do not change the file name)\n",
    "  - Saving and downloading your script file\n",
    "  - Submitting the script and notebook files to the Py 3.03 assignment via Canvas\n",
    "  - Verifying that the auto grader marked each problem correct\n",
    "  - Fixing errors and resubmitting as necessary until the due date\n",
    "\n",
    "Your score will be determined by the auto grader results after the due date. Keep in mind that the auto grader may run additional tests on your final submission than were ran when the assignment was submitted."
   ]
  },
  {
   "cell_type": "code",
   "execution_count": 0,
   "metadata": {},
   "outputs": [],
   "source": [
    "# Hints: Start off with the vehicle type\n",
    "#        Then start with the lowest rental duration\n",
    "#        You will need to nest if-elif-else statements\n",
    "#        You will need multiple if-elif-else statements\n",
    "#        Try to come up with an mathematical algorithm (formula) for determining the cost\n",
    "#        Try do the cost calculation and printing just one time\n",
    "#        Don't forget that 'else' statements do not have conditionals"
   ]
  },
  {
   "cell_type": "code",
   "execution_count": 0,
   "metadata": {},
   "outputs": [],
   "source": []
  },
  {
   "cell_type": "code",
   "execution_count": 0,
   "metadata": {},
   "outputs": [],
   "source": []
  },
  {
   "cell_type": "code",
   "execution_count": 0,
   "metadata": {},
   "outputs": [],
   "source": []
  },
  {
   "cell_type": "markdown",
   "metadata": {
    "deletable": false,
    "run_control": {
     "frozen": true
    }
   },
   "source": [
    "**Wrap it up**\n",
    "\n",
    "Complete the finishing tasks stated in the instructions.\n"
   ]
  }
 ],
 "metadata": {
  "kernelspec": {
   "display_name": "Python 3 (ipykernel)",
   "language": "python",
   "name": "python3"
  },
  "language_info": {
   "codemirror_mode": {
    "name": "ipython",
    "version": 3
   },
   "file_extension": ".py",
   "mimetype": "text/x-python",
   "name": "python",
   "nbconvert_exporter": "python",
   "pygments_lexer": "ipython3",
   "version": "3.9.7"
  },
  "varInspector": {
   "cols": {
    "lenName": 16,
    "lenType": 16,
    "lenVar": 40
   },
   "kernels_config": {
    "python": {
     "delete_cmd_postfix": "",
     "delete_cmd_prefix": "del ",
     "library": "var_list.py",
     "varRefreshCmd": "print(var_dic_list())"
    },
    "r": {
     "delete_cmd_postfix": ") ",
     "delete_cmd_prefix": "rm(",
     "library": "var_list.r",
     "varRefreshCmd": "cat(var_dic_list()) "
    }
   },
   "types_to_exclude": [
    "module",
    "function",
    "builtin_function_or_method",
    "instance",
    "_Feature"
   ],
   "window_display": false
  }
 },
 "nbformat": 4,
 "nbformat_minor": 4
}
