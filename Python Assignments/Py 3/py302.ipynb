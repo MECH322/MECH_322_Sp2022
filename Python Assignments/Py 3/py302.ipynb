{
 "cells": [
  {
   "cell_type": "markdown",
   "metadata": {},
   "source": [
    "# Py 3.02 - `quadroots` Script"
   ]
  },
  {
   "cell_type": "code",
   "execution_count": 0,
   "metadata": {},
   "outputs": [],
   "source": [
    "name = \"Your name here\"\n",
    "\"Name:\" + name.upper()"
   ]
  },
  {
   "cell_type": "markdown",
   "metadata": {},
   "source": [
    "## Instructions\n",
    "\n",
    "Write a script named **`quadroots.py`** as described below...\n",
    "\n",
    "- That determines the real roots of a quadratic equation $ax^2+bx+c=0$\n",
    "- Ask the user to enter the values of the constants $a$, $b$, and $c$\n",
    "  - In the order listed\n",
    "  - Use separate commands for each\n",
    "- Keep in mind that the input values do not necessarily have to be integers\n",
    "- To determine the number of roots, use the discriminant $D$:\n",
    "\n",
    "$\\qquad\\qquad\\displaystyle D = b^2 -4ac$\n",
    "\n",
    "  - If $D>0$\n",
    "    - Display the exact message \"The equation has two real roots\"\n",
    "    - Print both of the two roots on the next line\n",
    "  - If $D=0$\n",
    "    - Display the exact message \"The equation has one real root\"\n",
    "    - Print the single root on the next line\n",
    "  - If $D<0$\n",
    "    - Display the exact message \"The equation has no real roots\"\n",
    "    \n",
    "  - Use the quadratic formula (below) to calculate roots:\n",
    "\n",
    "$\\qquad\\qquad\\displaystyle x = \\frac{-b \\pm \\sqrt{D}}{2a}$\n",
    "\n",
    "- Include a docstring style comment at the top of the script with...\n",
    "  - Your name\n",
    "  - Script name\n",
    "  - Brief description of what the script does\n",
    "- Test the script in the following code cells for:\n",
    "  - $3x^2 + 6x + 3 = 0$\n",
    "  - $-3x^2 + 4x -6 = 0$\n",
    "  - $-3x^2 + 7x + 5 = 0$\n",
    "\n",
    "Finish the assignment by...\n",
    "  - Saving your Jupyter Notebook and downloading it as a notebook (.ipynb) file (do not change the file name)\n",
    "  - Saving and downloading your script file\n",
    "  - Submitting the script and notebook files to the Py 3.02 assignment via Canvas\n",
    "  - Verifying that the auto grader marked each problem correct\n",
    "  - Fixing errors and resubmitting as necessary until the due date\n",
    "\n",
    "Your score will be determined by the auto grader results after the due date. Keep in mind that the auto grader may run additional tests on your final submission than were ran when the assignment was submitted."
   ]
  },
  {
   "cell_type": "code",
   "execution_count": 0,
   "metadata": {},
   "outputs": [],
   "source": [
    "# The following framework may be used to create your script\n",
    "\n",
    "# import all necessary math commands or the math module inside each script and function\n",
    "\n",
    "# ask user to enter a, b, and c. use separate commands for each.\n",
    "\n",
    "# calculate the discriminant D\n",
    "\n",
    "# if D > 0, print that there are two real roots and calculate/print the two roots (quadratic equation anybody?)\n",
    "\n",
    "# elif D < 0, print that there are no real roots\n",
    "\n",
    "# else, print that there is one real root and calculate/print the root\n"
   ]
  },
  {
   "cell_type": "code",
   "execution_count": 0,
   "metadata": {},
   "outputs": [],
   "source": []
  },
  {
   "cell_type": "code",
   "execution_count": 0,
   "metadata": {},
   "outputs": [],
   "source": []
  },
  {
   "cell_type": "code",
   "execution_count": 0,
   "metadata": {},
   "outputs": [],
   "source": []
  },
  {
   "cell_type": "markdown",
   "metadata": {},
   "source": [
    "**Wrap it up**\n",
    "\n",
    "Complete the finishing tasks stated in the instructions.\n"
   ]
  }
 ],
 "metadata": {
  "kernelspec": {
   "display_name": "Python 3 (ipykernel)",
   "language": "python",
   "name": "python3"
  },
  "language_info": {
   "codemirror_mode": {
    "name": "ipython",
    "version": 3
   },
   "file_extension": ".py",
   "mimetype": "text/x-python",
   "name": "python",
   "nbconvert_exporter": "python",
   "pygments_lexer": "ipython3",
   "version": "3.9.7"
  },
  "varInspector": {
   "cols": {
    "lenName": 16,
    "lenType": 16,
    "lenVar": 40
   },
   "kernels_config": {
    "python": {
     "delete_cmd_postfix": "",
     "delete_cmd_prefix": "del ",
     "library": "var_list.py",
     "varRefreshCmd": "print(var_dic_list())"
    },
    "r": {
     "delete_cmd_postfix": ") ",
     "delete_cmd_prefix": "rm(",
     "library": "var_list.r",
     "varRefreshCmd": "cat(var_dic_list()) "
    }
   },
   "types_to_exclude": [
    "module",
    "function",
    "builtin_function_or_method",
    "instance",
    "_Feature"
   ],
   "window_display": false
  }
 },
 "nbformat": 4,
 "nbformat_minor": 4
}
