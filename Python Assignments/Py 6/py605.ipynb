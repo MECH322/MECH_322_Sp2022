{
 "cells": [
  {
   "cell_type": "markdown",
   "metadata": {
    "deletable": false,
    "run_control": {
     "frozen": true
    }
   },
   "source": [
    "# Py 6.05 - `shear_and_moment` Function"
   ]
  },
  {
   "cell_type": "code",
   "execution_count": null,
   "metadata": {},
   "outputs": [],
   "source": [
    "name = \"Your name here\"\n",
    "\"Name:\" + name.upper()"
   ]
  },
  {
   "cell_type": "markdown",
   "metadata": {
    "deletable": false,
    "run_control": {
     "frozen": true
    }
   },
   "source": [
    "## General Function Instructions\n",
    "\n",
    "- Include a docstring in your function with...\n",
    "  - The function's purpose (not just its name)\n",
    "  - What each argument is and units required (if any) of each\n",
    "  - What the function outputs\n",
    "  - Your name\n",
    "- Include nicely formatted title lines in your function...\n",
    "  - That includes the function name\n",
    "  - That includes your name\n",
    "  - Print the title line(s) before showing any results\n",
    "  - *Note*: Do this even if the function has no printed results\n",
    "- Provide the requested printed results in addition to any required plot(s)\n",
    "- You must use variables (not numbers) in your calculations where variables are provided in the problem statement\n",
    "- Your function must be self-contained, meaning...\n",
    "  - Import all required external modules within the function\n",
    "  - Define any other required functions within the function"
   ]
  },
  {
   "cell_type": "markdown",
   "metadata": {
    "deletable": false,
    "run_control": {
     "frozen": true
    }
   },
   "source": [
    "## Instructions for `shear_and_moment(L, a, b, w1, w2)`\n",
    "\n",
    "A simply supported beam is subjected to two distributed loads; $w_1$ starting at the left end and $w_2$ starting at right end. The left end of the beam is labeled $A$ and the right is labeled $B$. The bending moment as a function of the location $x$ from the left end ($x = 0$ at $A$) is given by the following equations:\n",
    "\n",
    "$\\qquad\\displaystyle M(x) = R_Ax - \\frac{w_1x^2}{2} \\quad \\text{for }\\,0 \\leq x \\leq a$\n",
    "\n",
    "$\\qquad\\displaystyle M(x) = R_Ax - \\frac{w_1a}{2}(2x-a) \\quad \\text{for }\\, a \\leq x \\leq (a+b)$\n",
    "\n",
    "$\\qquad\\displaystyle M(x) = R_B(L-x) - \\frac{w_2(L-x)^2}{2} \\quad \\text{for }\\, (a+b) \\leq x \\leq L $\n",
    "\n",
    "where $a$ is the length (in feet) of the left distributed load $w_1$, $b$ is the distance between the two distributed loads (in feet), and $L$ is the overall length of the beam (in feet).\n",
    "\n",
    "The shear force $V$ in the beam relative to the $x$ location (starting from the left) is given by the following equations:\n",
    "\n",
    "$\\qquad\\displaystyle V(x) = R_A - w_1x \\quad \\text{for }\\,0 \\leq x \\leq a$\n",
    "\n",
    "$\\qquad\\displaystyle V(x) = R_A - w_1a \\quad \\text{for }\\, a \\leq x \\leq (a+b)$\n",
    "\n",
    "$\\qquad\\displaystyle V(x) = -R_B + w_2(L-x) \\quad \\text{for }\\, (a+b) \\leq x \\leq L $\n",
    "\n",
    "The two reactions $R_A$ and $R_B$ at the supports are defined by:\n",
    "\n",
    "$\\qquad\\displaystyle R_A = \\frac{w_1a(2L-a) + w_2c^2}{2L} \\quad \\text{and} \\quad R_B = \\frac{w_2c(2L-c) + w_1a^2}{2L} $\n",
    "\n",
    "where $c=L-a-b$\n",
    "\n",
    "\n",
    "Create the function **`shear_and_moment(L, a, b, w1, w2)`**\n",
    "- That takes five arguments in the order listed below...\n",
    "  - Beam length $L$ in feet\n",
    "  - Length of left distributed load $a$ in feet\n",
    "  - Distance between distributed loads $b$ in feet\n",
    "  - Magnitude of left distributed load $w_1$ in pounds/foot\n",
    "  - Magnitude of right distributed load $w_2$ in pounds/foot\n",
    "- Make a set of shear and moment diagram plots...\n",
    "  - Use stacked subplots with shear on the top\n",
    "  - Plot the shear force $V$ as a function of $x$ for the full length of the beam\n",
    "  - Plot the bending moment $M$ as a function of $x$ for the full length of the beam\n",
    "- **Printed output**\n",
    "  - Use formatted printing to report...\n",
    "    - The two reaction forces ($R_A$ and $R_B$)\n",
    "    - The magnitude and location of the maximum bending moment\n",
    "  - Include appropriate units with all results statements\n",
    "  - Report force and moment magnitudes with 1-decimal place\n",
    "  - Report the location with 2-decimal places\n",
    "- **Plot details**\n",
    "  - Use 200 $x$-values\n",
    "  - Plot a single \"curve\" in each subplot\n",
    "    - Use a `for` loop with the $x$-values\n",
    "    - Include `if-elif-else` blocks in the loop to calculate $V$ and $M$\n",
    "    - Don't forget to put the $V$ and $M$ values into lists for plotting\n",
    "  - Include the exact title **\"Shear and Bending Moment Diagrams\"** above the top subplot only\n",
    "  - Add `sharex=True` argument to the `.subplots()` method\n",
    "  - Add $y$-axes labels with units for both subplots\n",
    "  - Add an $x$-axis label with units on the bottom subplot only\n",
    "  - Plot the following to each subplot in the order listed\n",
    "    - `.fill_between()` with the $(x,V)$ and $(x,M)$ values\n",
    "        - For example, `ax1.fill_between(x, V, color='m')`\n",
    "        - Use a fill color of magenta `'m'` for the shear plot\n",
    "        - Use a fill color of green `'g'` for the moment plot\n",
    "    - `.plot()` with the $(x,V)$ and $(x,M)$ values\n",
    "      - Black solid lines\n",
    "      - Line widths of 3\n",
    "    - `.plot()` a $y=0$ black line of width 2\n",
    "  - Turn on the grid for both subplots\n",
    "  - Set the $x$-limits for both subplots so they are from 0 to the length of the beam\n",
    "- Test your function with...\n",
    "  - $L=16\\text{ ft}$\n",
    "  - $a=6\\text{ ft}$\n",
    "  - $b=6\\text{ ft}$\n",
    "  - $w_1=400\\text{ lb/ft}$\n",
    "  - $w_2=200\\text{ lb/ft}$\n",
    "\n",
    "Define your function in a script file named `py605.py` and import it in the first cell below (code provided). Test it in the remaining code cells by calling the function.\n",
    "\n",
    "Finish the assignment by...\n",
    "  - Saving your Jupyter Notebook and downloading it as a notebook (.ipynb) file (do not change the file name)\n",
    "  - Saving and downloading your script file\n",
    "  - Submitting the script and notebook files to the Py 6.05 assignment via Canvas\n",
    "  - Verifying that the auto grader marked each problem correct\n",
    "  - Fixing errors and resubmitting as necessary until the due date\n",
    "\n",
    "Your score will be determined by the auto grader results after the due date. Keep in mind that the auto grader may run additional tests on your final submission than were ran when the assignment was submitted."
   ]
  },
  {
   "cell_type": "markdown",
   "metadata": {},
   "source": [
    "### Very Important\n",
    "\n",
    "For auto grading to work with your script/function, add the following line immediately after the docstring in your function.\n",
    "\n",
    "```\n",
    "global fig\n",
    "```"
   ]
  },
  {
   "cell_type": "code",
   "execution_count": null,
   "metadata": {},
   "outputs": [],
   "source": [
    "from py605 import shear_and_moment"
   ]
  },
  {
   "cell_type": "code",
   "execution_count": null,
   "metadata": {},
   "outputs": [],
   "source": [
    "#execute/test your function here"
   ]
  },
  {
   "cell_type": "markdown",
   "metadata": {
    "deletable": false,
    "run_control": {
     "frozen": true
    }
   },
   "source": [
    "**Wrap it up**\n",
    "\n",
    "Complete the finishing tasks stated in the instructions.\n"
   ]
  },
  {
   "cell_type": "markdown",
   "metadata": {
    "deletable": false,
    "run_control": {
     "frozen": true
    }
   },
   "source": [
    "## Functions for Lists of Floats with Step Size or Number of Values\n",
    "\n",
    "The **`range()`** function only works with integer values for the starting, ending, and step size values. When plotting or creating a list of calculated values, we often desire a list with a particular non-integer step size. The following function definition was created with that task in mind. Lists created by **`step_range(start, stop, step)`** will end at the closest full **`step`** at or before the **`stop`** value. This means that the **`stop`** value will be included in the list if **`step`** divides evenly into **`stop - step`**. The function rounds the results to 8-decimal places.\n",
    "\n",
    "Feel free to add the function definition near the top of your script if this funcionality is required."
   ]
  },
  {
   "cell_type": "code",
   "execution_count": null,
   "metadata": {},
   "outputs": [],
   "source": [
    "def step_range(start, stop, step):\n",
    "    \"\"\"\n",
    "    Create a list of floats beginning with the 'start' value and having an\n",
    "    increment equal to the 'step' value and ending at the last full increment\n",
    "    before (or including) the 'stop' value.\n",
    "    \"\"\"\n",
    "    n = int((stop - start) / step + 1)\n",
    "    stop = (n - 1) * step + start\n",
    "    return [round((stop - start) * i / (n - 1) + start, 8) for i in range(n)]"
   ]
  },
  {
   "cell_type": "markdown",
   "metadata": {
    "deletable": false,
    "run_control": {
     "frozen": true
    }
   },
   "source": [
    "Don't forget the **`frange()`** function we created together previously. Use it if you need to use a specific number of values instead of a particular step size. Copy the function definition into your script if this functionality is required."
   ]
  },
  {
   "cell_type": "code",
   "execution_count": null,
   "metadata": {},
   "outputs": [],
   "source": [
    "def frange(lower, upper, n=100):\n",
    "    \"\"\"\n",
    "    Create a list of 'n' floats between 'lower' and 'upper' (inclusive)\n",
    "    \"\"\"\n",
    "    return [(upper - lower) * i / (n - 1) + lower for i in range(n)]"
   ]
  },
  {
   "cell_type": "markdown",
   "metadata": {
    "deletable": false,
    "run_control": {
     "frozen": true
    }
   },
   "source": [
    "## Special Function to Input a List of Floats\n",
    "\n",
    "Copy the following custom function definition into your script if you need users to enter a list of floats. Place the function near the top of the script. This function will allow a user to enter more than one numeric value separated by spaces (or any other separator) and convert the input to a list of floating point values. Remember that the **`input()`** function on its own returns a string.\n",
    "\n",
    "This function is defined with default prompt and separator strings. Either or both of these can be overwritten by including arguments for either or both in the function call. The following call utilizes the default prompt and expects spaces between input values.\n",
    "\n",
    "**`my_list = input_list()`**\n",
    "\n",
    "The following call uses a custom prompt that is included in the function call and expects the values to be separated by commas.\n",
    "\n",
    "**`my_list = input_list(\"Enter a list of temperatures (degrees F): \", sep=\",\")`**\n"
   ]
  },
  {
   "cell_type": "code",
   "execution_count": null,
   "metadata": {},
   "outputs": [],
   "source": [
    "def input_list(prompt=\"Input a list of numeric values separated by spaces: \",\n",
    "               sep=\" \"):\n",
    "    \"\"\"\n",
    "    Returns a list of floats. 'prompt' is a string. `sep` is the separator.\n",
    "    User input must be numeric values separated by spaces by default.\n",
    "    If the 'sep' keyword argument is used, a different separator my be specified.\n",
    "    i.e. sep=\",\" will use a comma as the separator instead of a space.\n",
    "    \"\"\"\n",
    "    return [float(x) for x in input(prompt).split(sep)]"
   ]
  }
 ],
 "metadata": {
  "kernelspec": {
   "display_name": "Python 3 (ipykernel)",
   "language": "python",
   "name": "python3"
  },
  "language_info": {
   "codemirror_mode": {
    "name": "ipython",
    "version": 3
   },
   "file_extension": ".py",
   "mimetype": "text/x-python",
   "name": "python",
   "nbconvert_exporter": "python",
   "pygments_lexer": "ipython3",
   "version": "3.9.7"
  },
  "latex_envs": {
   "bibliofile": "biblio.bib",
   "cite_by": "apalike",
   "current_citInitial": 1,
   "eqLabelWithNumbers": true,
   "eqNumInitial": 0
  },
  "toc": {
   "nav_menu": {
    "height": "334px",
    "width": "252px"
   },
   "navigate_menu": true,
   "number_sections": true,
   "sideBar": true,
   "threshold": 4,
   "toc_cell": false,
   "toc_section_display": "block",
   "toc_window_display": false
  },
  "varInspector": {
   "cols": {
    "lenName": 16,
    "lenType": 16,
    "lenVar": 40
   },
   "kernels_config": {
    "python": {
     "delete_cmd_postfix": "",
     "delete_cmd_prefix": "del ",
     "library": "var_list.py",
     "varRefreshCmd": "print(var_dic_list())"
    },
    "r": {
     "delete_cmd_postfix": ") ",
     "delete_cmd_prefix": "rm(",
     "library": "var_list.r",
     "varRefreshCmd": "cat(var_dic_list()) "
    }
   },
   "types_to_exclude": [
    "module",
    "function",
    "builtin_function_or_method",
    "instance",
    "_Feature"
   ],
   "window_display": false
  }
 },
 "nbformat": 4,
 "nbformat_minor": 4
}
