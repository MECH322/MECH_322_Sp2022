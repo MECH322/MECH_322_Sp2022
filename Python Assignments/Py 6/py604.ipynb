{
 "cells": [
  {
   "cell_type": "markdown",
   "metadata": {},
   "source": [
    "# Py 6.04 - `lowpass_filter` Function"
   ]
  },
  {
   "cell_type": "code",
   "execution_count": null,
   "metadata": {},
   "outputs": [],
   "source": [
    "name = \"Your name here\"\n",
    "\"Name:\" + name.upper()"
   ]
  },
  {
   "cell_type": "markdown",
   "metadata": {},
   "source": [
    "## General Function Instructions\n",
    "\n",
    "- Include a docstring in your function with...\n",
    "  - The function's purpose (not just its name)\n",
    "  - What each argument is and units required (if any) of each\n",
    "  - What the function outputs\n",
    "  - Your name\n",
    "- Include nicely formatted title lines in your function...\n",
    "  - That includes the function name\n",
    "  - That includes your name\n",
    "  - Print the title line(s) before showing any results\n",
    "  - *Note*: Do this even if the function has no printed results\n",
    "- Provide the requested printed results in addition to any required plot(s)\n",
    "- You must use variables (not numbers) in your calculations where variables are provided in the problem statement\n",
    "- Your function must be self-contained, meaning...\n",
    "  - Import all required external modules within the function\n",
    "  - Define any other required functions within the function"
   ]
  },
  {
   "cell_type": "markdown",
   "metadata": {},
   "source": [
    "## Instructions for `lowpass_filter(k_list)`\n",
    "\n",
    "Low-pass filters are used in some sensing systems to filter out unwanted frequencies above a specific frequency known as the cut-off frequency $f_c$ (in Hz). The relative effectiveness of the filter is determined by the magnitude ratio $M$. The calculation for $M$ as a function of $f$ for a Butterworth low-pass filter is as follows:\n",
    "\n",
    "$\\qquad\\displaystyle M(f) = \\frac{1}{(1 + (f/f_c)^{2k})^{1/2}}$\n",
    "\n",
    "where $f$ is a signal frequency in Hz and $k$ is the filter order of the low-pass filter being used.\n",
    "\n",
    "Often the magnitude ratio is plotted versus the ratio $f/f_c$ (also known as the relative frequency).\n",
    "\n",
    "Write the function named **`lowpass_filter(k_list)`**\n",
    "- That accepts a list of $k$ values as an argument\n",
    "- Uses a `for` loop to iterate over the list of $k$ values and do the following:\n",
    "  - Create a list of $M$ values for relative frequencies ($f/f_c$) from 0 to 2\n",
    "  - Create a subplot for each $k$ value of $M$ (y-axis) versus $f/f_c$ (x-axis)\n",
    "  - Calculate and report $M$ for the following frequency ratios at each $k$ value...\n",
    "    - 0.75\n",
    "    - 1.0\n",
    "    - 1.5\n",
    "- **Plot details**\n",
    "  - Stacked subplots\n",
    "  - Use `fig, ax = plt.subplots()`\n",
    "    - Where `fig` is the figure name\n",
    "    - Where `ax` is the axes list name\n",
    "    - Set the appropriate argument based on the number of $k$ values requested to yield the correct number of subplots\n",
    "    - Use `ax[i]` (or similar) in the loop to plot/change the correct subplot\n",
    "    - Include the keyword argument `sharex=True` in the `.subplots()` method\n",
    "  - Use 101 data points for each subplot\n",
    "  - Plot the following (in the order listed) in each subplot...\n",
    "    1. The primary data using `.fill_between()` with the default color\n",
    "    2. The primary data using `.plot()`\n",
    "        - 3.0 wide\n",
    "        - Black\n",
    "        - Solid line\n",
    "    3. A secondary vertical line at $f/f_c=1$\n",
    "        - 2.0 wide\n",
    "        - Black dashed, `'k--'`\n",
    "  - Set the plot limits for each subplot to...\n",
    "    - 0 to 2 for the $x$-axis\n",
    "    - 0 to 1 for the $y$-axis\n",
    "  - Include the title above each plot **\"Magnitude Ratio for a Low Pass Filter with k = X\"**\n",
    "    - **\"X\"** in the title must be the $k$ value for that plot\n",
    "  - A single $x$-axis label **\"Relative Frequency (f/fc)\"** on the bottom plot only\n",
    "    - Do this outside the loop using appropriate indexing to access the last plot axes\n",
    "  - $y$-axis labels of **\"M\"** for each subplot \n",
    "  - Outside of the loop, use `plt.tight_layout()` before `plt.show()` to clean up the subplot spacing\n",
    "- **Printed output**\n",
    "  - Use *f-strings* to print $M$ for the specific relative frequencies (see above)\n",
    "  - Use exactly 4-decimals for $M$ and include the relative frequency in the statement\n",
    "  - Print a \"header statement\" before the $M$ results statements that states the $k$ value\n",
    "  - You should end up with the header statement plus three other results statements for every $k$ value\n",
    "  - Example:\n",
    "    ```\n",
    "    When the filter order is 1...\n",
    "        M = 0.8000 at a relative frequency of 0.75\n",
    "        M = 0.7071 at a relative frequency of 1.0\n",
    "        M = 0.5547 at a relative frequency of 1.5\n",
    "    ```\n",
    "\n",
    "Test your function for the list of $k$ values [1, 3, 6]\n",
    "\n",
    "Define your function in a script file named `py604.py` and import it in the first cell below (code provided). Test it in the remaining code cells by calling the function.\n",
    "\n",
    "Finish the assignment by...\n",
    "  - Saving your Jupyter Notebook and downloading it as a notebook (.ipynb) file (do not change the file name)\n",
    "  - Saving and downloading your script file\n",
    "  - Submitting the script and notebook files to the Py 6.04 assignment via Canvas\n",
    "  - Verifying that the auto grader marked each problem correct\n",
    "  - Fixing errors and resubmitting as necessary until the due date\n",
    "\n",
    "Your score will be determined by the auto grader results after the due date. Keep in mind that the auto grader may run additional tests on your final submission than were ran when the assignment was submitted."
   ]
  },
  {
   "cell_type": "markdown",
   "metadata": {},
   "source": [
    "### Very Important\n",
    "\n",
    "For auto grading to work with your script/function, add the following line immediately after the docstring in your function.\n",
    "\n",
    "```\n",
    "global fig\n",
    "```"
   ]
  },
  {
   "cell_type": "code",
   "execution_count": null,
   "metadata": {},
   "outputs": [],
   "source": [
    "from py604 import lowpass_filter"
   ]
  },
  {
   "cell_type": "code",
   "execution_count": null,
   "metadata": {},
   "outputs": [],
   "source": [
    "# execute/test your function here"
   ]
  },
  {
   "cell_type": "markdown",
   "metadata": {},
   "source": [
    "**Wrap it up**\n",
    "\n",
    "Complete the finishing tasks stated in the instructions.\n"
   ]
  },
  {
   "cell_type": "markdown",
   "metadata": {},
   "source": [
    "## Functions for Lists of Floats with Step Size or Number of Values\n",
    "\n",
    "The **`range()`** function only works with integer values for the starting, ending, and step size values. When plotting or creating a list of calculated values, we often desire a list with a particular non-integer step size. The following function definition was created with that task in mind. Lists created by **`step_range(start, stop, step)`** will end at the closest full **`step`** at or before the **`stop`** value. This means that the **`stop`** value will be included in the list if **`step`** divides evenly into **`stop - step`**. The function rounds the results to 8-decimal places.\n",
    "\n",
    "Feel free to add the function definition near the top of your script if this funcionality is required."
   ]
  },
  {
   "cell_type": "code",
   "execution_count": null,
   "metadata": {},
   "outputs": [],
   "source": [
    "def step_range(start, stop, step):\n",
    "    \"\"\"\n",
    "    Create a list of floats beginning with the 'start' value and having an\n",
    "    increment equal to the 'step' value and ending at the last full increment\n",
    "    before (or including) the 'stop' value.\n",
    "    \"\"\"\n",
    "    n = int((stop - start) / step + 1)\n",
    "    stop = (n - 1) * step + start\n",
    "    return [round((stop - start) * i / (n - 1) + start, 8) for i in range(n)]"
   ]
  },
  {
   "cell_type": "markdown",
   "metadata": {},
   "source": [
    "Don't forget the **`frange()`** function we created together previously. Use it if you need to use a specific number of values instead of a particular step size. Copy the function definition into your script if this functionality is required."
   ]
  },
  {
   "cell_type": "code",
   "execution_count": null,
   "metadata": {},
   "outputs": [],
   "source": [
    "def frange(lower, upper, n=100):\n",
    "    \"\"\"\n",
    "    Create a list of 'n' floats between 'lower' and 'upper' (inclusive)\n",
    "    \"\"\"\n",
    "    return [(upper - lower) * i / (n - 1) + lower for i in range(n)]"
   ]
  },
  {
   "cell_type": "markdown",
   "metadata": {},
   "source": [
    "## Special Function to Input a List of Floats\n",
    "\n",
    "Copy the following custom function definition into your script if you need users to enter a list of floats. Place the function near the top of the script. This function will allow a user to enter more than one numeric value separated by spaces (or any other separator) and convert the input to a list of floating point values. Remember that the **`input()`** function on its own returns a string.\n",
    "\n",
    "This function is defined with default prompt and separator strings. Either or both of these can be overwritten by including arguments for either or both in the function call. The following call utilizes the default prompt and expects spaces between input values.\n",
    "\n",
    "**`my_list = input_list()`**\n",
    "\n",
    "The following call uses a custom prompt that is included in the function call and expects the values to be separated by commas.\n",
    "\n",
    "**`my_list = input_list(\"Enter a list of temperatures (degrees F): \", sep=\",\")`**\n"
   ]
  },
  {
   "cell_type": "code",
   "execution_count": null,
   "metadata": {},
   "outputs": [],
   "source": [
    "def input_list(prompt=\"Input a list of numeric values separated by spaces: \",\n",
    "               sep=\" \"):\n",
    "    \"\"\"\n",
    "    Returns a list of floats. 'prompt' is a string. `sep` is the separator.\n",
    "    User input must be numeric values separated by spaces by default.\n",
    "    If the 'sep' keyword argument is used, a different separator my be specified.\n",
    "    i.e. sep=\",\" will use a comma as the separator instead of a space.\n",
    "    \"\"\"\n",
    "    return [float(x) for x in input(prompt).split(sep)]"
   ]
  }
 ],
 "metadata": {
  "kernelspec": {
   "display_name": "Python 3 (ipykernel)",
   "language": "python",
   "name": "python3"
  },
  "language_info": {
   "codemirror_mode": {
    "name": "ipython",
    "version": 3
   },
   "file_extension": ".py",
   "mimetype": "text/x-python",
   "name": "python",
   "nbconvert_exporter": "python",
   "pygments_lexer": "ipython3",
   "version": "3.9.7"
  },
  "latex_envs": {
   "bibliofile": "biblio.bib",
   "cite_by": "apalike",
   "current_citInitial": 1,
   "eqLabelWithNumbers": true,
   "eqNumInitial": 0
  },
  "toc": {
   "nav_menu": {
    "height": "334px",
    "width": "252px"
   },
   "navigate_menu": true,
   "number_sections": true,
   "sideBar": true,
   "threshold": 4,
   "toc_cell": false,
   "toc_section_display": "block",
   "toc_window_display": false
  },
  "varInspector": {
   "cols": {
    "lenName": 16,
    "lenType": 16,
    "lenVar": 40
   },
   "kernels_config": {
    "python": {
     "delete_cmd_postfix": "",
     "delete_cmd_prefix": "del ",
     "library": "var_list.py",
     "varRefreshCmd": "print(var_dic_list())"
    },
    "r": {
     "delete_cmd_postfix": ") ",
     "delete_cmd_prefix": "rm(",
     "library": "var_list.r",
     "varRefreshCmd": "cat(var_dic_list()) "
    }
   },
   "types_to_exclude": [
    "module",
    "function",
    "builtin_function_or_method",
    "instance",
    "_Feature"
   ],
   "window_display": false
  }
 },
 "nbformat": 4,
 "nbformat_minor": 4
}
