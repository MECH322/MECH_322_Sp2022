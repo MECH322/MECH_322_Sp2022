{
 "cells": [
  {
   "cell_type": "markdown",
   "metadata": {
    "deletable": false,
    "run_control": {
     "frozen": true
    }
   },
   "source": [
    "# Py 6.02 - `NACA_plot` Function"
   ]
  },
  {
   "cell_type": "code",
   "execution_count": null,
   "metadata": {},
   "outputs": [],
   "source": [
    "name = \"Your name here\"\n",
    "\"Name:\" + name.upper()"
   ]
  },
  {
   "cell_type": "markdown",
   "metadata": {
    "deletable": false,
    "run_control": {
     "frozen": true
    }
   },
   "source": [
    "## General Function Instructions\n",
    "\n",
    "- Include a docstring in your function with...\n",
    "  - The function's purpose (not just its name)\n",
    "  - What each argument is and units required (if any) of each\n",
    "  - What the function outputs\n",
    "  - Your name\n",
    "- Include nicely formatted title lines in your function...\n",
    "  - That includes the function name\n",
    "  - That includes your name\n",
    "  - Print the title line(s) before showing any results\n",
    "  - *Note*: Do this even if the function has no printed results\n",
    "- Provide the requested printed results in addition to any required plot(s)\n",
    "- You must use variables (not numbers) in your calculations where variables are provided in the problem statement\n",
    "- Your function must be self-contained, meaning...\n",
    "  - Import all required external modules within the function\n",
    "  - Define any other required functions within the function"
   ]
  },
  {
   "cell_type": "markdown",
   "metadata": {
    "deletable": false,
    "run_control": {
     "frozen": true
    }
   },
   "source": [
    "## Instructions for `NACA_plot(NACA, c, n)`\n",
    "\n",
    "The shape of an asymmetric four-digit NACA airfoil is described by the following equations\n",
    "\n",
    "$\\qquad x_U = x - y_t\\sin{\\theta}\\qquad y_U = y_c + y_t\\cos{\\theta}\\\\\n",
    "\\qquad x_L = x + y_t\\sin{\\theta}\\qquad y_L = y_c - y_t\\cos{\\theta}$\n",
    "\n",
    "where the $U$ and $L$ subscripts correspond to the upper and lower arifoil surface. $y_t$ is half the thickness of the foil given by:\n",
    "\n",
    "\n",
    "$\\qquad\\displaystyle y_t = 5tc\\left[0.2969\\sqrt{\\frac{x}{c}} - 0.1260\\frac{x}{c} - 0.3516\\left(\\frac{x}{c} \\right)^2 + 0.2843\\left(\\frac{x}{c} \\right)^3 - 0.1015\\left(\\frac{x}{c} \\right)^4 \\right]$\n",
    "\n",
    "where $c$ is the cord length, $t$ is the maximum thickness (as a fraction of the cord length), and $x$ is the position along the cord. $y_c$ is the coordinate of the camber line given by:\n",
    "\n",
    "$\\qquad\\displaystyle y_c = \\frac{mx}{p^2}\\left(2p - \\frac{x}{c}\\right)$ for $0\\leq x \\leq pc$\n",
    "\n",
    "$\\qquad\\displaystyle y_c = \\frac{m(c - x)}{(1-p)^2}\\left(1 + \\frac{x}{c} - 2p\\right)$ for $pc\\leq x \\leq c$\n",
    "\n",
    "where $m$ and $p$ are constants. The angle $\\theta$ is given by:\n",
    "\n",
    "$\\qquad\\displaystyle \\theta = \\arctan\\left(\\frac{2m}{p^2}\\left(p-\\frac{x}{c}\\right)\\right)$ for $0\\leq x \\leq pc$\n",
    "\n",
    "$\\qquad\\displaystyle \\theta = \\arctan\\left(\\frac{2m}{(1-p)^2}\\left(p-\\frac{x}{c}\\right)\\right)$ for $pc\\leq x \\leq c$\n",
    "\n",
    "Symmetrical four-digit NACA airfoils are designated like $\\text{NACA }4412$, where $p$ is the first digit is divided by 10, $m$ is the second digit divided by 100, and $t$ is the last two digits divided by 100. The airfoil $\\text{NACA }4412$ has $t=0.12$, $p=0.4$, and $m=0.04$ with a cord length specified separately.\n",
    "\n",
    "Write a function named `NACA_plot(NACA, c, n=500)`\n",
    "- That accepts three arguments in the order given...\n",
    "  - NACA number\n",
    "  - Cord length $c$ in meters\n",
    "  - Number of plot points (use to create a list of $x$ values)\n",
    "    - Optional keyword argument\n",
    "    - Default to `n=500`\n",
    "- Use math to extract $t$, $p$, and $m$ from the user input of the NACA number\n",
    "  - *Hint*: convert the number to a string, slice it, then convert back to a number to perform math\n",
    "- Create functions for each of the following...\n",
    "  - $y_t(x)$\n",
    "  - $y_c(x)$\n",
    "  - $\\theta(x)$\n",
    "  - $x_U(x, y_t, \\theta)$\n",
    "  - $x_L(x, y_t, \\theta)$\n",
    "  - $y_U(y_c, y_t, \\theta)$\n",
    "  - $y_L(y_c, y_t, \\theta)$\n",
    "- Use `frange()` to create a list of $x$ values\n",
    "- Use the functions for $y_t$ and $y_c$ with the $x$ values to create lists of $y_t$ and $y_c$ values\n",
    "- Use the lists of $x$, $y_t$, and $y_c$ values with the $x_U$, $x_L$, $y_U$, and $y_L$ functions to create lists for plotting\n",
    "- Use $\\text{NACA }5413$ and a chord length of $1.5\\text{ m}$ with 500 plot points to test your script\n",
    "- **Plot details**\n",
    "  - Use the specified number of plot points when creating both the upper and lower plot lines\n",
    "  - Create the upper line first, then the lower line (*hint* use `ax1` as the upper and `ax2` as the lower)\n",
    "  - Solid green line for both plot lines\n",
    "  - Line width of 3 for both lines\n",
    "  - Title that includes the NACA number (from the user input, use a formatted string)\n",
    "  - Axes labels with units (i.e. `x (m)` and `y(m)`)\n",
    "  - Use the `.axis('scaled')` method on your axes object so the $x$ and $y$ scales match\n",
    "- **Printed output**\n",
    "  - Print a single nicely formed statement that informs the user of...\n",
    "    - Value of t\n",
    "    - Value of p\n",
    "    - Value of m\n",
    "    - Cord length with units\n",
    "\n",
    "Define your function in a script file named `py602.py` and import it in the first cell below before calling it. Test it in the remaining code cells by calling the function.\n",
    "\n",
    "Finish the assignment by...\n",
    "  - Saving your Jupyter Notebook and downloading it as a notebook (.ipynb) file (do not change the file name)\n",
    "  - Saving and downloading your script file\n",
    "  - Submitting the script and notebook files to the Py 6.02 assignment via Canvas\n",
    "  - Verifying that the auto grader marked each problem correct\n",
    "  - Fixing errors and resubmitting as necessary until the due date\n",
    "\n",
    "Your score will be determined by the auto grader results after the due date. Keep in mind that the auto grader may run additional tests on your final submission than were ran when the assignment was submitted."
   ]
  },
  {
   "cell_type": "markdown",
   "metadata": {},
   "source": [
    "### Very Important\n",
    "\n",
    "For auto grading to work with your script/function, add the following line immediately after the docstring in your function.\n",
    "\n",
    "```\n",
    "global fig\n",
    "```"
   ]
  },
  {
   "cell_type": "code",
   "execution_count": null,
   "metadata": {},
   "outputs": [],
   "source": [
    "from py602 import NACA_plot"
   ]
  },
  {
   "cell_type": "code",
   "execution_count": null,
   "metadata": {},
   "outputs": [],
   "source": [
    "# test your function here"
   ]
  },
  {
   "cell_type": "markdown",
   "metadata": {
    "deletable": false,
    "run_control": {
     "frozen": true
    }
   },
   "source": [
    "**Wrap it up**\n",
    "\n",
    "Complete the finishing tasks stated in the instructions.\n"
   ]
  },
  {
   "cell_type": "markdown",
   "metadata": {
    "deletable": false,
    "run_control": {
     "frozen": true
    }
   },
   "source": [
    "## Functions for Lists of Floats with Step Size or Number of Values\n",
    "\n",
    "The `range()` function only works with integer values for the starting, ending, and step size values. When plotting or creating a list of calculated values, we often desire a list with a particular non-integer step size. The following function definition was created with that task in mind. Lists created by `step_range(start, stop, step)` will end at the closest full `step` at or before the `stop` value. This means that the `stop` value will be included in the list if `step` divides evenly into `stop - step`. The function rounds the results to 8-decimal places.\n",
    "\n",
    "Feel free to add the function definition near the top of your script if this funcionality is required."
   ]
  },
  {
   "cell_type": "code",
   "execution_count": null,
   "metadata": {},
   "outputs": [],
   "source": [
    "def step_range(start, stop, step):\n",
    "    \"\"\"Create a list of floats beginning with the 'start' value and having an\n",
    "    increment equal to the 'step' value and ending at the last full increment\n",
    "    before (or including) the 'stop' value.\n",
    "    \"\"\"\n",
    "    n = int((stop - start) / step + 1)\n",
    "    stop = (n - 1) * step + start\n",
    "    return [round((stop - start) * i / (n - 1) + start, 8) for i in range(n)]"
   ]
  },
  {
   "cell_type": "markdown",
   "metadata": {
    "deletable": false,
    "run_control": {
     "frozen": true
    }
   },
   "source": [
    "Don't forget the `frange()` function we created together previously. Use it if you need to use a specific number of values instead of a particular step size. Copy the function definition into your script if this functionality is required."
   ]
  },
  {
   "cell_type": "code",
   "execution_count": null,
   "metadata": {},
   "outputs": [],
   "source": [
    "def frange(lower, upper, n=100):\n",
    "    \"\"\"\n",
    "    Create a list of 'n' floats between 'lower' and 'upper' (inclusive)\n",
    "    \"\"\"\n",
    "    return [(upper - lower)*i/(n-1) + lower for i in range(n)]"
   ]
  },
  {
   "cell_type": "markdown",
   "metadata": {
    "deletable": false,
    "run_control": {
     "frozen": true
    }
   },
   "source": [
    "## Special Function to Input a List of Floats\n",
    "\n",
    "Copy the following custom function definition into your script if you need users to enter a list of floats. Place the function near the top of the script. This function will allow a user to enter more than one numeric value separated by spaces (or any other separator) and convert the input to a list of floating point values. Remember that the `input()` function on its own returns a string.\n",
    "\n",
    "This function is defined with default prompt and separator strings. Either or both of these can be overwritten by including arguments for either or both in the function call. The following call utilizes the default prompt and expects spaces between input values.\n",
    "\n",
    "**`my_list = input_list()`**\n",
    "\n",
    "The following call uses a custom prompt that is included in the function call and expects the values to be separated by commas.\n",
    "\n",
    "**`my_list = input_list(\"Enter a list of temperatures (degrees F): \", sep=\",\")`**\n"
   ]
  },
  {
   "cell_type": "code",
   "execution_count": null,
   "metadata": {},
   "outputs": [],
   "source": [
    "def input_list(prompt=\"Input a list of numeric values separated by spaces: \",\n",
    "               sep=\" \"):\n",
    "    \"\"\"Returns a list of floats. 'prompt' is a string. `sep` is the separator.\n",
    "    User input must be numeric values separated by spaces by default.\n",
    "    If the 'sep' keyword argument is used, a different separator my be specified.\n",
    "    i.e. sep=\",\" will use a comma as the separator instead of a space.\n",
    "    \"\"\"\n",
    "    return [float(x) for x in input(prompt).split(sep)]"
   ]
  }
 ],
 "metadata": {
  "kernelspec": {
   "display_name": "Python 3 (ipykernel)",
   "language": "python",
   "name": "python3"
  },
  "language_info": {
   "codemirror_mode": {
    "name": "ipython",
    "version": 3
   },
   "file_extension": ".py",
   "mimetype": "text/x-python",
   "name": "python",
   "nbconvert_exporter": "python",
   "pygments_lexer": "ipython3",
   "version": "3.9.7"
  },
  "latex_envs": {
   "bibliofile": "biblio.bib",
   "cite_by": "apalike",
   "current_citInitial": 1,
   "eqLabelWithNumbers": true,
   "eqNumInitial": 0
  },
  "toc": {
   "nav_menu": {
    "height": "334px",
    "width": "252px"
   },
   "navigate_menu": true,
   "number_sections": true,
   "sideBar": true,
   "threshold": 4,
   "toc_cell": false,
   "toc_section_display": "block",
   "toc_window_display": false
  },
  "varInspector": {
   "cols": {
    "lenName": 16,
    "lenType": 16,
    "lenVar": 40
   },
   "kernels_config": {
    "python": {
     "delete_cmd_postfix": "",
     "delete_cmd_prefix": "del ",
     "library": "var_list.py",
     "varRefreshCmd": "print(var_dic_list())"
    },
    "r": {
     "delete_cmd_postfix": ") ",
     "delete_cmd_prefix": "rm(",
     "library": "var_list.r",
     "varRefreshCmd": "cat(var_dic_list()) "
    }
   },
   "types_to_exclude": [
    "module",
    "function",
    "builtin_function_or_method",
    "instance",
    "_Feature"
   ],
   "window_display": false
  }
 },
 "nbformat": 4,
 "nbformat_minor": 4
}
