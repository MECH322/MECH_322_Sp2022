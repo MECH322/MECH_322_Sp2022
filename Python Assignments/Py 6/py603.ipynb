{
 "cells": [
  {
   "cell_type": "markdown",
   "metadata": {
    "run_control": {
     "frozen": true
    }
   },
   "source": [
    "# Py 6.03 - `isotherms` Function"
   ]
  },
  {
   "cell_type": "code",
   "execution_count": null,
   "metadata": {},
   "outputs": [],
   "source": [
    "name = \"Your name here\"\n",
    "\"Name:\" + name.upper()"
   ]
  },
  {
   "cell_type": "markdown",
   "metadata": {
    "run_control": {
     "frozen": true
    }
   },
   "source": [
    "## General Function Instructions\n",
    "\n",
    "- Include a docstring in your function with...\n",
    "  - The function's purpose (not just its name)\n",
    "  - What each argument is and units required (if any) of each\n",
    "  - What the function outputs\n",
    "  - Your name\n",
    "- Include nicely formatted title lines in your function...\n",
    "  - That includes the function name\n",
    "  - That includes your name\n",
    "  - Print the title line(s) before showing any results\n",
    "  - *Note*: Do this even if the function has no printed results\n",
    "- Provide the requested printed results in addition to any required plot(s)\n",
    "- You must use variables (not numbers) in your calculations where variables are provided in the problem statement\n",
    "- Your function must be self-contained, meaning...\n",
    "  - Import all required external modules within the function\n",
    "  - Define any other required functions within the function"
   ]
  },
  {
   "cell_type": "markdown",
   "metadata": {
    "deletable": false,
    "run_control": {
     "frozen": true
    }
   },
   "source": [
    "## Instructions for `isotherms(T_list)`\n",
    "\n",
    "The ideal gas law relates the pressure $p$, volume $V$, and temperature $T$ on an ideal gas:\n",
    "\n",
    "$\\qquad\\displaystyle pV = nRT $\n",
    "\n",
    "where $n$ is the number of moles and $R=8.3145\\text{ J/(K mol)}$. Plots of pressure ($y$-axis) versus volume ($x$-axis) at a constant temperature are called **isotherms**. Plot the isotherms for one mole of an ideal gas for a volume range of $1$ to $10\\text{ m}^3$ at a number of user specified temperatures (in Kelvin). The following expression can be used to calculate the pressure based on the number of moles ($n=1$), volume, temperature, and the gas constant $R$.\n",
    "\n",
    "$\\qquad\\displaystyle p = \\frac{nRT}{V}$\n",
    "\n",
    "Write a function named **`isotherms(T_list)`**\n",
    "- Accepts a list of temperatures for plotting as its argument\n",
    "  - They must in a list, even if there is only one temperature\n",
    "  - They must be entered in Kelvin\n",
    "- Sort the temperatures from low to high using the `.sort()` function before performing any calculations\n",
    "- **Printed results**\n",
    "  - Print a table of volumes and pressures for each temperature\n",
    "    - Include headers with units for each column\n",
    "    - Put volume in the first table column\n",
    "    - Put pressure in the second table column\n",
    "    - Use the `tabulate` module to create the tables\n",
    "    - Print the temperature with units directly above each table corresponding to that temperature\n",
    "    - Use only integer values of volume (i.e. 1, 2, 3,...10) in the table\n",
    "    - Either round pressures to the nearest integer before making the table or use the `floatfmt=\".0f\"` argument in `tabulate`\n",
    "- **Plot details**\n",
    "  - Plot the isotherms for all of the temperatures in a single plot\n",
    "  - Use different colors for plotted curve (*hint*: matplotlib might do this for you)\n",
    "  - Use **101** volume values from $1$ to $10\\text{ m}^3$ to plot each isotherm curve\n",
    "  - Include a descriptive title\n",
    "  - Include axes labels with appropriate units\n",
    "  - Include a legend that uses *f-strings* in the labels to include the actual user requested temperatures\n",
    "    - Add something like `label=f\"T = {T}K\"` with each `.plot()` command\n",
    "    - Add `ax.legend()` after completing other plot commands to turn on the legend\n",
    "- Test your function with the list $T= [400,\\, 200,\\, 100,\\, 300] \\text{ K}$\n",
    "\n",
    "You will need to either use nested `for` loops or a nested list comprehension to create the lists and make the tables. This is a fun and challenging one. Feel free to use the provided outline to plan your script.\n",
    "\n",
    "Define your function in a script file named `py603.py` and import it in the first cell below (code provided). Test it in the remaining code cells by calling the function.\n",
    "\n",
    "Finish the assignment by...\n",
    "  - Saving your Jupyter Notebook and downloading it as a notebook (.ipynb) file (do not change the file name)\n",
    "  - Saving and downloading your script file\n",
    "  - Submitting the script and notebook files to the Py 6.03 assignment via Canvas\n",
    "  - Verifying that the auto grader marked each problem correct\n",
    "  - Fixing errors and resubmitting as necessary until the due date\n",
    "\n",
    "Your score will be determined by the auto grader results after the due date. Keep in mind that the auto grader may run additional tests on your final submission than were ran when the assignment was submitted."
   ]
  },
  {
   "cell_type": "markdown",
   "metadata": {},
   "source": [
    "### Very Important\n",
    "\n",
    "For auto grading to work with your script/function, add the following line immediately after the docstring in your function.\n",
    "\n",
    "```\n",
    "global fig\n",
    "```"
   ]
  },
  {
   "cell_type": "code",
   "execution_count": null,
   "metadata": {},
   "outputs": [],
   "source": [
    "# you may use the following outline to create your function\n",
    "# docstring\n",
    "# import modules\n",
    "# define functions, i.e. frange()\n",
    "# function title and by-line\n",
    "# sort the temperature list\n",
    "# assign other variables, including V from 1 to 10 in steps of 1\n",
    "# loop through the sorted temp list to calculate p at each V and create table at each temp\n",
    "# assign 101 values of V from 1 to 10\n",
    "# loop through the sorted temp list to calculate p and create plots\n",
    "# add plot options and show()"
   ]
  },
  {
   "cell_type": "code",
   "execution_count": null,
   "metadata": {},
   "outputs": [],
   "source": [
    "from py603 import isotherms"
   ]
  },
  {
   "cell_type": "code",
   "execution_count": null,
   "metadata": {},
   "outputs": [],
   "source": [
    "# execute/test your function here"
   ]
  },
  {
   "cell_type": "markdown",
   "metadata": {
    "deletable": false,
    "run_control": {
     "frozen": true
    }
   },
   "source": [
    "**Wrap it up**\n",
    "\n",
    "Complete the finishing tasks stated in the instructions.\n"
   ]
  },
  {
   "cell_type": "markdown",
   "metadata": {
    "deletable": false,
    "run_control": {
     "frozen": true
    }
   },
   "source": [
    "## Functions for Lists of Floats with Step Size or Number of Values\n",
    "\n",
    "The `range()` function only works with integer values for the starting, ending, and step size values. When plotting or creating a list of calculated values, we often desire a list with a particular non-integer step size. The following function definition was created with that task in mind. Lists created by `step_range(start, stop, step)` will end at the closest full `step` at or before the `stop` value. This means that the `stop` value will be included in the list if `step` divides evenly into `stop - step`. The function rounds the results to 8-decimal places.\n",
    "\n",
    "Feel free to add the function definition near the top of your script if this funcionality is required."
   ]
  },
  {
   "cell_type": "code",
   "execution_count": null,
   "metadata": {},
   "outputs": [],
   "source": [
    "def step_range(start, stop, step):\n",
    "    \"\"\"\n",
    "    Create a list of floats beginning with the 'start' value and having an\n",
    "    increment equal to the 'step' value and ending at the last full increment\n",
    "    before (or including) the 'stop' value.\n",
    "    \"\"\"\n",
    "    n = int((stop - start) / step + 1)\n",
    "    stop = (n - 1) * step + start\n",
    "    return [round((stop - start) * i / (n - 1) + start, 8) for i in range(n)]"
   ]
  },
  {
   "cell_type": "markdown",
   "metadata": {
    "deletable": false,
    "run_control": {
     "frozen": true
    }
   },
   "source": [
    "Don't forget the `frange()` function we created together previously. Use it if you need to use a specific number of values instead of a particular step size. Copy the function definition into your script if this functionality is required."
   ]
  },
  {
   "cell_type": "code",
   "execution_count": null,
   "metadata": {},
   "outputs": [],
   "source": [
    "def frange(lower, upper, n=100):\n",
    "    \"\"\"\n",
    "    Create a list of 'n' floats between 'lower' and 'upper' (inclusive)\n",
    "    \"\"\"\n",
    "    return [(upper - lower) * i / (n - 1) + lower for i in range(n)]"
   ]
  },
  {
   "cell_type": "markdown",
   "metadata": {
    "deletable": false,
    "run_control": {
     "frozen": true
    }
   },
   "source": [
    "## Special Function to Input a List of Floats\n",
    "\n",
    "Copy the following custom function definition into your script if you need users to enter a list of floats. Place the function near the top of the script. This function will allow a user to enter more than one numeric value separated by spaces (or any other separator) and convert the input to a list of floating point values. Remember that the `input()` function on its own returns a string.\n",
    "\n",
    "This function is defined with default prompt and separator strings. Either or both of these can be overwritten by including arguments for either or both in the function call. The following call utilizes the default prompt and expects spaces between input values.\n",
    "\n",
    "**`my_list = input_list()`**\n",
    "\n",
    "The following call uses a custom prompt that is included in the function call and expects the values to be separated by commas.\n",
    "\n",
    "**`my_list = input_list(\"Enter a list of temperatures (degrees F): \", sep=\",\")`**\n"
   ]
  },
  {
   "cell_type": "code",
   "execution_count": null,
   "metadata": {},
   "outputs": [],
   "source": [
    "def input_list(prompt=\"Input a list of numeric values separated by spaces: \",\n",
    "               sep=\" \"):\n",
    "    \"\"\"\n",
    "    Returns a list of floats. 'prompt' is a string. `sep` is the separator.\n",
    "    User input must be numeric values separated by spaces by default.\n",
    "    If the 'sep' keyword argument is used, a different separator my be specified.\n",
    "    i.e. sep=\",\" will use a comma as the separator instead of a space.\n",
    "    \"\"\"\n",
    "    return [float(x) for x in input(prompt).split(sep)]"
   ]
  }
 ],
 "metadata": {
  "kernelspec": {
   "display_name": "Python 3 (ipykernel)",
   "language": "python",
   "name": "python3"
  },
  "language_info": {
   "codemirror_mode": {
    "name": "ipython",
    "version": 3
   },
   "file_extension": ".py",
   "mimetype": "text/x-python",
   "name": "python",
   "nbconvert_exporter": "python",
   "pygments_lexer": "ipython3",
   "version": "3.9.7"
  },
  "latex_envs": {
   "bibliofile": "biblio.bib",
   "cite_by": "apalike",
   "current_citInitial": 1,
   "eqLabelWithNumbers": true,
   "eqNumInitial": 0
  },
  "toc": {
   "nav_menu": {
    "height": "334px",
    "width": "252px"
   },
   "navigate_menu": true,
   "number_sections": true,
   "sideBar": true,
   "threshold": 4,
   "toc_cell": false,
   "toc_section_display": "block",
   "toc_window_display": false
  },
  "varInspector": {
   "cols": {
    "lenName": 16,
    "lenType": 16,
    "lenVar": 40
   },
   "kernels_config": {
    "python": {
     "delete_cmd_postfix": "",
     "delete_cmd_prefix": "del ",
     "library": "var_list.py",
     "varRefreshCmd": "print(var_dic_list())"
    },
    "r": {
     "delete_cmd_postfix": ") ",
     "delete_cmd_prefix": "rm(",
     "library": "var_list.r",
     "varRefreshCmd": "cat(var_dic_list()) "
    }
   },
   "types_to_exclude": [
    "module",
    "function",
    "builtin_function_or_method",
    "instance",
    "_Feature"
   ],
   "window_display": false
  }
 },
 "nbformat": 4,
 "nbformat_minor": 4
}
