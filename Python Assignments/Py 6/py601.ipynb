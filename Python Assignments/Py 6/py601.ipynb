{
 "cells": [
  {
   "cell_type": "markdown",
   "metadata": {
    "run_control": {
     "frozen": true
    }
   },
   "source": [
    "# Py 6.01 - `particle_motion` Script"
   ]
  },
  {
   "cell_type": "code",
   "execution_count": 0,
   "metadata": {},
   "outputs": [],
   "source": [
    "name = \"Your name here\"\n",
    "\"Name:\" + name.upper()"
   ]
  },
  {
   "cell_type": "markdown",
   "metadata": {
    "run_control": {
     "frozen": true
    }
   },
   "source": [
    "## General Script Instructions\n",
    "\n",
    "- Include a docstring style comment at the top of your script with the following:\n",
    "  - Your name\n",
    "  - Script name\n",
    "  - The script purpose\n",
    "- Include nicely formatted title line(s) in your script that display the script name and your name before asking for any input or showing any results\n",
    "  - *Note*: Do this even if the script does not include input and/or printed results\n",
    "  - Example: *Particle Motion (Brian Brady)*\n",
    "- Provide the requested results in addition to any required plot(s)\n",
    "- You must use variables (not numbers) in your calculations where variables are provided in the problem statement\n",
    "- Your script must be self-contained; meaning you need to import all external modules and define all functions needed within the script"
   ]
  },
  {
   "cell_type": "markdown",
   "metadata": {},
   "source": [
    "## Instructions for `particle_motion.py`\n",
    "\n",
    "The curvilinear motion (in meters) of a particle is defined by the following parametric equations:\n",
    "\n",
    "$\\qquad x = 52t - 9t^2$ and $ y = 125 - 5t^2 $\n",
    "\n",
    "The velocity of the particle (in meters/second) is given by:\n",
    "\n",
    "$\\qquad\\displaystyle v = \\sqrt{v_x^2 + v_y^2}\\,$, where $\\displaystyle v_x = \\frac{dx}{dt}$ and $\\displaystyle v_y = \\frac{dy}{dt}$.\n",
    "\n",
    "For $0 \\leq t \\leq 5\\,\\text{s}$ make a pair of vertically stacked subplots...\n",
    "- Top plot showing the position of the particle ($x,y$)\n",
    "- Bottom plot showing the velocity of the particle as a function of time\n",
    "- Use `.subplots()` when creating the figure in this script\n",
    "- Use the built-in `min()` function to determine the lowest velocity\n",
    "- Also use the `.index()` list method together with the `min()` function to find the time when the minimum velocity occurs\n",
    "- Use this information to also find the $x$ and $y$ positions that correspond to the minimum velocity\n",
    "- **Plot details**\n",
    "  - 0.1 second time step\n",
    "  - Stacked subplots: position plot on top and velocity plot on the bottom\n",
    "  - Appropriate axes labels with units on both plots\n",
    "  - Descriptive title above the top plot only\n",
    "  - Plot line widths of 2\n",
    "  - Position plot line blue and velocity plot line red\n",
    "  - Red circles (use `'ro'`) at the location of the minimum velocity...\n",
    "    - On the position subplot\n",
    "    - On the velocity subplot\n",
    "    - Plot these after plotting the primary curves\n",
    "- **Printed results**\n",
    "  - Use nicely formatted `print()` statements to display...\n",
    "    - The minimum velocity\n",
    "    - Time that the minimum velocity occurs\n",
    "    - The x,y location at which the minimum velocity occurs\n",
    "  - Display each of the results...\n",
    "    - With exactly 2-decimal places\n",
    "    - Include the appropriate units\n",
    "\n",
    "Finish the assignment by...\n",
    "  - Saving your Jupyter Notebook and downloading it as a notebook (.ipynb) file (do not change the file name)\n",
    "  - Saving and downloading your script file\n",
    "  - Submitting the script and notebook files to the Py 6.01 assignment via Canvas\n",
    "  - Verifying that the auto grader marked each problem correct\n",
    "  - Fixing errors and resubmitting as necessary until the due date\n",
    "\n",
    "Your score will be determined by the auto grader results after the due date. Keep in mind that the auto grader may run additional tests on your final submission than were ran when the assignment was submitted."
   ]
  },
  {
   "cell_type": "markdown",
   "metadata": {},
   "source": [
    "### Very Important\n",
    "\n",
    "For auto grading to work with your script, add the following line immediately after the docstring comment at the top of your script.\n",
    "\n",
    "```\n",
    "global fig\n",
    "```"
   ]
  },
  {
   "cell_type": "code",
   "execution_count": 0,
   "metadata": {},
   "outputs": [],
   "source": [
    "run particle_motion.py # execute/test your script here"
   ]
  },
  {
   "cell_type": "markdown",
   "metadata": {
    "run_control": {
     "frozen": true
    }
   },
   "source": [
    "**Wrap it up**\n",
    "\n",
    "Complete the finishing tasks stated in the instructions.\n"
   ]
  },
  {
   "cell_type": "markdown",
   "metadata": {
    "run_control": {
     "frozen": true
    }
   },
   "source": [
    "## Functions for Lists of Floats with Step Size or Number of Values\n",
    "\n",
    "The **`range()`** function only works with integer values for the starting, ending, and step size values. When plotting or creating a list of calculated values, we often desire a list with a particular non-integer step size. The following function definition was created with that task in mind. Lists created by **`step_range(start, stop, step)`** will end at the closest full **`step`** at or before the **`stop`** value. This means that the **`stop`** value will be included in the list if **`step`** divides evenly into **`stop - step`**. The function rounds the results to 8-decimal places.\n",
    "\n",
    "Feel free to add the function definition near the top of your script if this funcionality is required."
   ]
  },
  {
   "cell_type": "code",
   "execution_count": 0,
   "metadata": {},
   "outputs": [],
   "source": [
    "def step_range(start, stop, step):\n",
    "    \"\"\"\n",
    "    Create a list of floats beginning with the 'start' value and having an\n",
    "    increment equal to the 'step' value and ending at the last full increment\n",
    "    before (or including) the 'stop' value.\n",
    "    \"\"\"\n",
    "    n = int((stop - start) / step + 1)\n",
    "    stop = (n - 1) * step + start\n",
    "    return [round((stop - start) * i / (n - 1) + start, 8) for i in range(n)]"
   ]
  },
  {
   "cell_type": "markdown",
   "metadata": {
    "run_control": {
     "frozen": true
    }
   },
   "source": [
    "Don't forget the **`frange()`** function we created together previously. Use it if you need to use a specific number of values instead of a particular step size. Copy the function definition into your script if this functionality is required."
   ]
  },
  {
   "cell_type": "code",
   "execution_count": 0,
   "metadata": {},
   "outputs": [],
   "source": [
    "def frange(lower, upper, n=100):\n",
    "    \"\"\"\n",
    "    Create a list of 'n' floats between 'lower' and 'upper' (inclusive)\n",
    "    \"\"\"\n",
    "    return [(upper - lower) * i / (n - 1) + lower for i in range(n)]"
   ]
  },
  {
   "cell_type": "markdown",
   "metadata": {
    "run_control": {
     "frozen": true
    }
   },
   "source": [
    "## Special Function to Input a List of Floats\n",
    "\n",
    "Copy the following custom function definition into your script if you need users to enter a list of floats. Place the function near the top of the script. This function will allow a user to enter more than one numeric value separated by spaces (or any other separator) and convert the input to a list of floating point values. Remember that the **`input()`** function on its own returns a string.\n",
    "\n",
    "This function is defined with default prompt and separator strings. Either or both of these can be overwritten by including arguments for either or both in the function call. The following call utilizes the default prompt and expects spaces between input values.\n",
    "\n",
    "**`my_list = input_list()`**\n",
    "\n",
    "The following call uses a custom prompt that is included in the function call and expects the values to be separated by commas.\n",
    "\n",
    "**`my_list = input_list(\"Enter a list of temperatures (degrees F): \", sep=\",\")`**\n"
   ]
  },
  {
   "cell_type": "code",
   "execution_count": 0,
   "metadata": {},
   "outputs": [],
   "source": [
    "def input_list(prompt=\"Input a list of numeric values separated by spaces: \",\n",
    "               sep=\" \"):\n",
    "    \"\"\"\n",
    "    Returns a list of floats. 'prompt' is a string. `sep` is the separator.\n",
    "    User input must be numeric values separated by spaces by default.\n",
    "    If the 'sep' keyword argument is used, a different separator my be specified.\n",
    "    i.e. sep=\",\" will use a comma as the separator instead of a space.\n",
    "    \"\"\"\n",
    "    return [float(x) for x in input(prompt).split(sep)]"
   ]
  }
 ],
 "metadata": {
  "kernelspec": {
   "display_name": "Python 3 (ipykernel)",
   "language": "python",
   "name": "python3"
  },
  "language_info": {
   "codemirror_mode": {
    "name": "ipython",
    "version": 3
   },
   "file_extension": ".py",
   "mimetype": "text/x-python",
   "name": "python",
   "nbconvert_exporter": "python",
   "pygments_lexer": "ipython3",
   "version": "3.9.7"
  },
  "latex_envs": {
   "bibliofile": "biblio.bib",
   "cite_by": "apalike",
   "current_citInitial": 1,
   "eqLabelWithNumbers": true,
   "eqNumInitial": 0
  },
  "toc": {
   "nav_menu": {
    "height": "334px",
    "width": "252px"
   },
   "navigate_menu": true,
   "number_sections": true,
   "sideBar": true,
   "threshold": 4,
   "toc_cell": false,
   "toc_section_display": "block",
   "toc_window_display": false
  },
  "varInspector": {
   "cols": {
    "lenName": 16,
    "lenType": 16,
    "lenVar": 40
   },
   "kernels_config": {
    "python": {
     "delete_cmd_postfix": "",
     "delete_cmd_prefix": "del ",
     "library": "var_list.py",
     "varRefreshCmd": "print(var_dic_list())"
    },
    "r": {
     "delete_cmd_postfix": ") ",
     "delete_cmd_prefix": "rm(",
     "library": "var_list.r",
     "varRefreshCmd": "cat(var_dic_list()) "
    }
   },
   "types_to_exclude": [
    "module",
    "function",
    "builtin_function_or_method",
    "instance",
    "_Feature"
   ],
   "window_display": false
  }
 },
 "nbformat": 4,
 "nbformat_minor": 4
}
