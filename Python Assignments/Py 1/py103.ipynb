{
 "cells": [
  {
   "cell_type": "markdown",
   "metadata": {
    "deletable": false,
    "editable": false,
    "run_control": {
     "frozen": true
    }
   },
   "source": [
    "# Py 1.03 - Math Story Problems"
   ]
  },
  {
   "cell_type": "code",
   "execution_count": 0,
   "metadata": {
    "execution": {
     "iopub.execute_input": "2021-11-30T14:43:02.237371Z",
     "iopub.status.busy": "2021-11-30T14:43:02.234733Z",
     "iopub.status.idle": "2021-11-30T14:43:02.240321Z",
     "shell.execute_reply": "2021-11-30T14:43:02.240768Z"
    }
   },
   "outputs": [],
   "source": [
    "name = \"Your name here\"\n",
    "\"Name: \" + name.upper()"
   ]
  },
  {
   "cell_type": "markdown",
   "metadata": {
    "deletable": false,
    "editable": false,
    "run_control": {
     "frozen": true
    }
   },
   "source": [
    "## Instructions\n",
    "\n",
    "1. Replace **\"Your name here\"** in the above cell with your first and last names and then execute the cell using `[shift]+[Enter]`\n",
    "2. Complete each calculation with *Python* in the provided code cells. Use `[shift]+[Enter]` to execute each cell.\n",
    "    - Assign values and results of all calculations (answers) to the requested variable names **exactly as stated** (including the case)\n",
    "    - Don’t worry if you make a mistake. Fix the mistake, execute the cell again, and keep going\n",
    "    - Enter and execute the necessary command(s) for each problem in the provided code cell(s) below the problem statement\n",
    "    - The expected results (with fewer decimal places than you should get) are given next to each problem number\n",
    "    - **Important:** Do not type answers from one calculation into another\n",
    "1. Finish the assignment by...\n",
    "    - Saving your Jupyter Notebook and downloading it as a notebook (.ipynb) file (do not change the file name)\n",
    "    - Submitting the notebook file to the Py 1.03 assignment via Canvas\n",
    "    - Verifying that the auto grader marked each problem correct\n",
    "    - Fixing errors and resubmitting as necessary until the due date\n",
    "\n",
    "Your score will be determined by the auto grader results after the due date. Keep in mind that the auto grader may run additional tests on your final submission than were ran when the assignment was submitted."
   ]
  },
  {
   "cell_type": "markdown",
   "metadata": {
    "deletable": false,
    "editable": false,
    "run_control": {
     "frozen": true
    }
   },
   "source": [
    "**Do this first!**\n",
    "\n",
    "Execute the following cell first in order to be able to use `math` module functions. If you close and then re-open this document, you will need to re-execute the cell again in order for the `math` module functions to be available."
   ]
  },
  {
   "cell_type": "code",
   "execution_count": 0,
   "metadata": {
    "execution": {
     "iopub.execute_input": "2021-11-30T14:43:02.244994Z",
     "iopub.status.busy": "2021-11-30T14:43:02.244570Z",
     "iopub.status.idle": "2021-11-30T14:43:02.247309Z",
     "shell.execute_reply": "2021-11-30T14:43:02.246768Z"
    }
   },
   "outputs": [],
   "source": [
    "import math     # Execute this cell first in order to use math module functions"
   ]
  },
  {
   "cell_type": "markdown",
   "metadata": {},
   "source": [
    "**Exercise 1**\n",
    "\n",
    "A non-right triangle has sides named $a$, $b$, and $c$. The vertices opposite the three sides are named $A$, $B$, and $C$ respectively. The angles at each of the vertices are named $\\alpha$, $\\beta$, and $\\gamma$ respectively.\n",
    "\n",
    "![non_right_triangle.png](non_right_triangle.png)\n",
    "\n",
    "For a triangle with $a=5 $, $b=4.5 $, and $\\gamma=110^{\\circ}$, calculate the length of side $c$ using the Law of Cosines. Assign known values to the variable names `a`, `b`, and `gamma`.\n",
    "\n",
    "$\\qquad\\displaystyle c^2 = a^2 + b^2 -2ab\\cos{\\gamma}$\n",
    "\n",
    "Assign the final result to the variable `c` and then `print(\"c =\", c)`"
   ]
  },
  {
   "cell_type": "code",
   "execution_count": 0,
   "metadata": {
    "execution": {
     "iopub.execute_input": "2021-11-30T14:43:02.250813Z",
     "iopub.status.busy": "2021-11-30T14:43:02.250339Z",
     "iopub.status.idle": "2021-11-30T14:43:02.252284Z",
     "shell.execute_reply": "2021-11-30T14:43:02.252655Z"
    }
   },
   "outputs": [],
   "source": [
    "# Exercise 1 Solution\n"
   ]
  },
  {
   "cell_type": "code",
   "execution_count": 0,
   "metadata": {
    "deletable": false,
    "editable": false,
    "nbgrader": {
     "grade": true,
     "grade_id": "ex1",
     "locked": true,
     "points": 0.5,
     "schema_version": 3,
     "solution": false,
     "task": false
    }
   },
   "outputs": [],
   "source": [
    "# Exercise 1 will be automatically graded in this cell"
   ]
  },
  {
   "cell_type": "markdown",
   "metadata": {},
   "source": [
    "**Exercise 2**\n",
    "\n",
    "Using the values from *Exercise 1* (no need to re-define the variables), calculate the angles $\\alpha$ and $\\beta$ in degrees using the Law of Sines. Recall that the three angles of a triangle must add up to 180˚. Remember that all of the angles need to sum to 180˚ for a triangle.\n",
    "\n",
    "$\\qquad\\displaystyle \\frac{\\sin{\\alpha}}{a}= \\frac{\\sin{\\beta}}{b}=\\frac{\\sin{\\gamma}}{c}$\n",
    "\n",
    "Assign the final results to the variables `alpha` and `beta` and then `print()` both of them similar to Exercise 1"
   ]
  },
  {
   "cell_type": "code",
   "execution_count": 0,
   "metadata": {
    "execution": {
     "iopub.execute_input": "2021-11-30T14:43:02.255942Z",
     "iopub.status.busy": "2021-11-30T14:43:02.255544Z",
     "iopub.status.idle": "2021-11-30T14:43:02.257741Z",
     "shell.execute_reply": "2021-11-30T14:43:02.258056Z"
    }
   },
   "outputs": [],
   "source": [
    "# Exercise 2 Solution\n"
   ]
  },
  {
   "cell_type": "code",
   "execution_count": 0,
   "metadata": {
    "deletable": false,
    "editable": false,
    "nbgrader": {
     "grade": true,
     "grade_id": "ex2",
     "locked": true,
     "points": 0.5,
     "schema_version": 3,
     "solution": false,
     "task": false
    }
   },
   "outputs": [],
   "source": [
    "# Exercise 2 will be automatically graded in this cell"
   ]
  },
  {
   "cell_type": "markdown",
   "metadata": {
    "deletable": false,
    "editable": false,
    "run_control": {
     "frozen": true
    }
   },
   "source": [
    "**Exercise 3**\n",
    "\n",
    "Using the values from *Exercise 1* and results from *Exercise 2*, verify the Law of Tangents by calculating the left and right sides of the equation separately:\n",
    "\n",
    "$\\qquad\\displaystyle \\frac{a-b}{a+b} = \\frac{\\tan\\left({\\frac{1}{2}}{(\\alpha-\\beta\\,)} \\right)}{\\tan\\left({\\frac{1}{2}}{(\\alpha+\\beta\\,)} \\right)}$\n",
    "\n",
    "Assign the result of the left side to the variable `ex3_left` and the right side to the variable `ex3_right`. Use `print(ex3_left, \" ==\", ex3_right)` to in the second cell to display the result of each side."
   ]
  },
  {
   "cell_type": "code",
   "execution_count": 0,
   "metadata": {
    "execution": {
     "iopub.execute_input": "2021-11-30T14:43:02.261409Z",
     "iopub.status.busy": "2021-11-30T14:43:02.261008Z",
     "iopub.status.idle": "2021-11-30T14:43:02.262906Z",
     "shell.execute_reply": "2021-11-30T14:43:02.263204Z"
    }
   },
   "outputs": [],
   "source": [
    "# Exercise 3 Solution - left side\n"
   ]
  },
  {
   "cell_type": "code",
   "execution_count": 0,
   "metadata": {
    "execution": {
     "iopub.execute_input": "2021-11-30T14:43:02.267160Z",
     "iopub.status.busy": "2021-11-30T14:43:02.266604Z",
     "iopub.status.idle": "2021-11-30T14:43:02.269427Z",
     "shell.execute_reply": "2021-11-30T14:43:02.268829Z"
    }
   },
   "outputs": [],
   "source": [
    "# Exercise 3 Solution - right side\n"
   ]
  },
  {
   "cell_type": "code",
   "execution_count": 0,
   "metadata": {
    "deletable": false,
    "editable": false,
    "nbgrader": {
     "grade": true,
     "grade_id": "ex3",
     "locked": true,
     "points": 0.5,
     "schema_version": 3,
     "solution": false,
     "task": false
    }
   },
   "outputs": [],
   "source": [
    "# Exercise 3 will be automatically graded in this cell"
   ]
  },
  {
   "cell_type": "markdown",
   "metadata": {},
   "source": [
    "**Exercise 4**\n",
    "\n",
    "A non-right triangle similar to that from *Exercise 1* with $a=54$, $b=42$, and $\\gamma=102^{\\circ}$ is inscribed in a circle of radius $r$. Using variable assignments for $a$, $b$, and $\\gamma$ (`a`, `b`, and `gamma`, calculate $c$ using the Law of Cosines.\n",
    "\n",
    "Assign the final result to the variable `c` and then `print(\"c =\", c)`\n",
    "\n",
    "![inscribed_triangle.png](inscribed_triangle.png)"
   ]
  },
  {
   "cell_type": "code",
   "execution_count": 0,
   "metadata": {
    "execution": {
     "iopub.execute_input": "2021-11-30T14:43:02.273459Z",
     "iopub.status.busy": "2021-11-30T14:43:02.272944Z",
     "iopub.status.idle": "2021-11-30T14:43:02.275527Z",
     "shell.execute_reply": "2021-11-30T14:43:02.275032Z"
    }
   },
   "outputs": [],
   "source": [
    "# Exercise 4 Solution\n"
   ]
  },
  {
   "cell_type": "code",
   "execution_count": 0,
   "metadata": {
    "deletable": false,
    "editable": false,
    "nbgrader": {
     "grade": true,
     "grade_id": "ex4",
     "locked": true,
     "points": 0.5,
     "schema_version": 3,
     "solution": false,
     "task": false
    }
   },
   "outputs": [],
   "source": [
    "# Exercise 4 will be automatically graded in this cell"
   ]
  },
  {
   "cell_type": "markdown",
   "metadata": {},
   "source": [
    "**Exercise 5**\n",
    "\n",
    "Using the values and results from *Exercise 4*, calculate the radius $r$ of the circle circumscribing the triangle using the following formula:\n",
    "\n",
    "$\\qquad\\displaystyle r= \\frac{abc}{4\\sqrt{s(s-a)(s-b)(s-c)}} $\n",
    "\n",
    "where\n",
    "\n",
    "$\\qquad\\displaystyle s=(a+b+c)/2 $\n",
    "\n",
    "Assign the final result to the variable `r` and then `print(\"r =\", r)`"
   ]
  },
  {
   "cell_type": "code",
   "execution_count": 0,
   "metadata": {
    "execution": {
     "iopub.execute_input": "2021-11-30T14:43:02.278977Z",
     "iopub.status.busy": "2021-11-30T14:43:02.278569Z",
     "iopub.status.idle": "2021-11-30T14:43:02.280613Z",
     "shell.execute_reply": "2021-11-30T14:43:02.280941Z"
    }
   },
   "outputs": [],
   "source": [
    "# Exercise 5 Solution\n"
   ]
  },
  {
   "cell_type": "code",
   "execution_count": 0,
   "metadata": {
    "deletable": false,
    "editable": false,
    "nbgrader": {
     "grade": true,
     "grade_id": "ex5",
     "locked": true,
     "points": 0.5,
     "schema_version": 3,
     "solution": false,
     "task": false
    }
   },
   "outputs": [],
   "source": [
    "# Exercise 5 will be automatically graded in this cell"
   ]
  },
  {
   "cell_type": "markdown",
   "metadata": {},
   "source": [
    "**Exercise 6**,\n",
    "\n",
    "The circumference of an ellipse can be approximated by:\n",
    " \n",
    "$\\qquad\\displaystyle C=\\pi\\left( 3(a+b) - \\sqrt{(3a+b)(a+3b)} \\,\\right) $\n",
    " \n",
    "Calculate the circumference of an ellipse where $a=25$ and $b=13.5$\n",
    "\n",
    "Use the variables `a` and `b` for $a$ and $b$\n",
    "\n",
    "Assign the final result to the variable `C` and then `print(\"C =\", C)`\n"
   ]
  },
  {
   "cell_type": "code",
   "execution_count": 0,
   "metadata": {
    "execution": {
     "iopub.execute_input": "2021-11-30T14:43:02.284681Z",
     "iopub.status.busy": "2021-11-30T14:43:02.284082Z",
     "iopub.status.idle": "2021-11-30T14:43:02.287041Z",
     "shell.execute_reply": "2021-11-30T14:43:02.286410Z"
    }
   },
   "outputs": [],
   "source": [
    "# Exercise 6 Solution\n"
   ]
  },
  {
   "cell_type": "code",
   "execution_count": 0,
   "metadata": {
    "deletable": false,
    "editable": false,
    "nbgrader": {
     "grade": true,
     "grade_id": "ex6",
     "locked": true,
     "points": 0.5,
     "schema_version": 3,
     "solution": false,
     "task": false
    }
   },
   "outputs": [],
   "source": [
    "# Exercise 6 will be automatically graded in this cell"
   ]
  },
  {
   "cell_type": "markdown",
   "metadata": {
    "deletable": false,
    "editable": false,
    "run_control": {
     "frozen": true
    }
   },
   "source": [
    "**Exercise 7**\n",
    "\n",
    "427 people have to be transported using buses that each have a capacity of 35 seats. Use a single line expression that includes the `ceil()` command from the `math` module (in a meaningful way) to determine how many seats will remain empty if enough buses are ordered to transport all of the people without overfilling any of the buses.\n",
    "\n",
    "Assign the result to the variable `seats_remaining` and then `print(\"Seats remaining =\", seats_remaining)`\n"
   ]
  },
  {
   "cell_type": "code",
   "execution_count": 0,
   "metadata": {
    "execution": {
     "iopub.execute_input": "2021-11-30T14:43:02.290623Z",
     "iopub.status.busy": "2021-11-30T14:43:02.290216Z",
     "iopub.status.idle": "2021-11-30T14:43:02.292249Z",
     "shell.execute_reply": "2021-11-30T14:43:02.292580Z"
    }
   },
   "outputs": [],
   "source": [
    "# Exercise 7 Solution\n"
   ]
  },
  {
   "cell_type": "code",
   "execution_count": 0,
   "metadata": {
    "deletable": false,
    "editable": false,
    "nbgrader": {
     "grade": true,
     "grade_id": "ex7",
     "locked": true,
     "points": 0.5,
     "schema_version": 3,
     "solution": false,
     "task": false
    }
   },
   "outputs": [],
   "source": [
    "# Exercise 7 will be automatically graded in this cell"
   ]
  },
  {
   "cell_type": "markdown",
   "metadata": {
    "deletable": false,
    "editable": false,
    "run_control": {
     "frozen": true
    }
   },
   "source": [
    "**Exercise 8**\n",
    "\n",
    "1162 apples are to be packed and shipped such that 48 are placed in each box.\n",
    "\n",
    "a. By typing a single line expression that uses integer division `//` in a meaningful way but does not use the remainder operator, calculate how many apples will remain unpacked if only full boxes can be shipped.\n",
    "\n",
    "Assign the result to the variable `apples_left_a` and then `print(\"Apples left =\", apples_left_a)`\n"
   ]
  },
  {
   "cell_type": "code",
   "execution_count": 0,
   "metadata": {
    "execution": {
     "iopub.execute_input": "2021-11-30T14:43:02.296364Z",
     "iopub.status.busy": "2021-11-30T14:43:02.295838Z",
     "iopub.status.idle": "2021-11-30T14:43:02.298965Z",
     "shell.execute_reply": "2021-11-30T14:43:02.299350Z"
    }
   },
   "outputs": [],
   "source": [
    "# Exercise 8a Solution\n"
   ]
  },
  {
   "cell_type": "code",
   "execution_count": 0,
   "metadata": {
    "deletable": false,
    "editable": false,
    "nbgrader": {
     "grade": true,
     "grade_id": "ex8a",
     "locked": true,
     "points": 0.25,
     "schema_version": 3,
     "solution": false,
     "task": false
    }
   },
   "outputs": [],
   "source": [
    "# Exercise 8a will be automatically graded in this cell"
   ]
  },
  {
   "cell_type": "markdown",
   "metadata": {
    "deletable": false,
    "editable": false
   },
   "source": [
    "b. Calculate the result a second time using remainder division `%` in a meaningful way but with no integer division.\n",
    "\n",
    "Assign the result to the variable `apples_left_b` and then `print(\"Apples left =\", apples_left_b)`\n"
   ]
  },
  {
   "cell_type": "code",
   "execution_count": 0,
   "metadata": {
    "execution": {
     "iopub.execute_input": "2021-11-30T14:43:02.304663Z",
     "iopub.status.busy": "2021-11-30T14:43:02.303965Z",
     "iopub.status.idle": "2021-11-30T14:43:02.306123Z",
     "shell.execute_reply": "2021-11-30T14:43:02.305693Z"
    }
   },
   "outputs": [],
   "source": [
    "# Exercise 8b Solution\n"
   ]
  },
  {
   "cell_type": "code",
   "execution_count": 0,
   "metadata": {
    "deletable": false,
    "editable": false,
    "nbgrader": {
     "grade": true,
     "grade_id": "ex8b",
     "locked": true,
     "points": 0.25,
     "schema_version": 3,
     "solution": false,
     "task": false
    }
   },
   "outputs": [],
   "source": [
    "# Exercise 8b will be automatically graded in this cell"
   ]
  },
  {
   "cell_type": "markdown",
   "metadata": {
    "deletable": false,
    "editable": false,
    "run_control": {
     "frozen": true
    }
   },
   "source": [
    "**Exercise 9**\n",
    "\n",
    "Ask for help on the `round()` function by typing `help(round)` in the first cell before doing anything else.\n",
    "\n",
    "Assign the number $316,501.673$ to the variable `number` in the second cell. Then perform each of the following rounding operations in separate cells using the variable.\n",
    "\n",
    "  a. Round to the nearest hundredth and assign the result to `ex9a` and then `print(\"ex9a =\", ex9a)`\n",
    "\n",
    "  b. Round to the nearest thousand and assign the result to `ex9b` and then `print(\"ex9b =\", ex9b)`"
   ]
  },
  {
   "cell_type": "code",
   "execution_count": 0,
   "metadata": {
    "execution": {
     "iopub.execute_input": "2021-11-30T14:43:02.310723Z",
     "iopub.status.busy": "2021-11-30T14:43:02.310218Z",
     "iopub.status.idle": "2021-11-30T14:43:02.312633Z",
     "shell.execute_reply": "2021-11-30T14:43:02.312966Z"
    }
   },
   "outputs": [],
   "source": [
    "# Exercise 9 Solution - get help\n"
   ]
  },
  {
   "cell_type": "code",
   "execution_count": 0,
   "metadata": {
    "execution": {
     "iopub.execute_input": "2021-11-30T14:43:02.317162Z",
     "iopub.status.busy": "2021-11-30T14:43:02.316551Z",
     "iopub.status.idle": "2021-11-30T14:43:02.319301Z",
     "shell.execute_reply": "2021-11-30T14:43:02.319725Z"
    }
   },
   "outputs": [],
   "source": [
    "# Exercise 9a Solution - nearest hundredth\n"
   ]
  },
  {
   "cell_type": "code",
   "execution_count": 0,
   "metadata": {
    "execution": {
     "iopub.execute_input": "2021-11-30T14:43:02.327792Z",
     "iopub.status.busy": "2021-11-30T14:43:02.327061Z",
     "iopub.status.idle": "2021-11-30T14:43:02.329758Z",
     "shell.execute_reply": "2021-11-30T14:43:02.330320Z"
    }
   },
   "outputs": [],
   "source": [
    "# Exercise 9b Solution - nearest thousand\n"
   ]
  },
  {
   "cell_type": "code",
   "execution_count": 0,
   "metadata": {
    "deletable": false,
    "editable": false,
    "nbgrader": {
     "grade": true,
     "grade_id": "ex9",
     "locked": true,
     "points": 0.5,
     "schema_version": 3,
     "solution": false,
     "task": false
    }
   },
   "outputs": [],
   "source": [
    "# Exercise 9 will be automatically graded in this cell"
   ]
  },
  {
   "cell_type": "markdown",
   "metadata": {
    "deletable": false,
    "editable": false,
    "run_control": {
     "frozen": true
    }
   },
   "source": [
    "**Exercise 10**\n",
    "\n",
    "The voltage difference $V_{ab}$ between points $a$ and $b$ on a Wheatstone bridge circuit is:\n",
    "\n",
    "$\\qquad\\displaystyle V_{ab}=V \\left( \\frac{R_1 R_3 - R_2 R_4}{(R_1 + R_2)(R_3 + R_4)} \\right)$\n",
    "\n",
    "Calculate the voltage difference when $V = 14 \\text{ volts}$, $R_1 = 120.6 \\text{ ohms}$, $R_2 = 119.5 \\text{ ohms}$, $R_3 = 121.8 \\text{ ohms}$, and $R_4 = 117.9 \\text{ ohms}$. Assign the given values to descriptive variables like `V` or `R1`, before performing the voltage difference calculation.\n",
    "\n",
    "Assign the final result to the variable `Vab` and then `print(\"Vab =\", Vab)`"
   ]
  },
  {
   "cell_type": "code",
   "execution_count": 0,
   "metadata": {
    "execution": {
     "iopub.execute_input": "2021-11-30T14:43:02.335159Z",
     "iopub.status.busy": "2021-11-30T14:43:02.334428Z",
     "iopub.status.idle": "2021-11-30T14:43:02.336544Z",
     "shell.execute_reply": "2021-11-30T14:43:02.337167Z"
    }
   },
   "outputs": [],
   "source": [
    "# Exercise 10 Solution\n"
   ]
  },
  {
   "cell_type": "code",
   "execution_count": 0,
   "metadata": {
    "deletable": false,
    "editable": false,
    "nbgrader": {
     "grade": true,
     "grade_id": "ex10",
     "locked": true,
     "points": 0.5,
     "schema_version": 3,
     "solution": false,
     "task": false
    }
   },
   "outputs": [],
   "source": [
    "# Exercise 10 will be automatically graded in this cell"
   ]
  },
  {
   "cell_type": "markdown",
   "metadata": {
    "deletable": false,
    "editable": false,
    "run_control": {
     "frozen": true
    }
   },
   "source": [
    "**Exercise 11**\n",
    "\n",
    "The number of combinations $C_{n,r}$ of taking $r$ objects out of $n$ objects is given by:\n",
    "\n",
    "$\\qquad\\displaystyle C_{n,r} = \\frac{n!}{r!(n-r)!} $\n",
    "\n",
    "Using variables for $n$ and $r$ and `math.factorial()`, determine how many combinations are possible in a lottery game for selecting 6 numbers that are drawn out of 49. You might want to use the command `from math import factorial` so that you can use `factorial()` instead of `math.factorial()` in your calculations. Or, even better, use `from math import factorial as f` to be able to use `f(6)` for $6!$.\n",
    "\n",
    "Assign the final result to the variable `C49_6` and then `print(\"C49_6 =\", C49_6)`"
   ]
  },
  {
   "cell_type": "code",
   "execution_count": 0,
   "metadata": {
    "execution": {
     "iopub.execute_input": "2021-11-30T14:43:02.341616Z",
     "iopub.status.busy": "2021-11-30T14:43:02.340928Z",
     "iopub.status.idle": "2021-11-30T14:43:02.342955Z",
     "shell.execute_reply": "2021-11-30T14:43:02.343593Z"
    }
   },
   "outputs": [],
   "source": [
    "# Exercise 11 Solution\n"
   ]
  },
  {
   "cell_type": "code",
   "execution_count": 0,
   "metadata": {
    "deletable": false,
    "editable": false,
    "nbgrader": {
     "grade": true,
     "grade_id": "ex11",
     "locked": true,
     "points": 0.5,
     "schema_version": 3,
     "solution": false,
     "task": false
    }
   },
   "outputs": [],
   "source": [
    "# Exercise 11 will be automatically graded in this cell"
   ]
  },
  {
   "cell_type": "markdown",
   "metadata": {
    "deletable": false,
    "editable": false,
    "run_control": {
     "frozen": true
    }
   },
   "source": [
    "**Exercise 12**\n",
    "\n",
    "Using the expression given in *Exercise 11* and the expression given below, use variables to determine the probability of guessing two out of six drawn numbers.\n",
    "\n",
    "$\\qquad\\displaystyle \\frac{C_{6,2}C_{43,4}}{C_{49,6}} $\n",
    "\n",
    "Assign your final answer to `prob_2of6` and then `print(\"Probability of 2 out of 6 =\", prob_2of6)`"
   ]
  },
  {
   "cell_type": "code",
   "execution_count": 0,
   "metadata": {
    "execution": {
     "iopub.execute_input": "2021-11-30T14:43:02.364716Z",
     "iopub.status.busy": "2021-11-30T14:43:02.347317Z",
     "iopub.status.idle": "2021-11-30T14:43:02.366249Z",
     "shell.execute_reply": "2021-11-30T14:43:02.365615Z"
    }
   },
   "outputs": [],
   "source": [
    "# Exercise 12 Solution\n"
   ]
  },
  {
   "cell_type": "code",
   "execution_count": 0,
   "metadata": {
    "deletable": false,
    "editable": false,
    "nbgrader": {
     "grade": true,
     "grade_id": "ex12",
     "locked": true,
     "points": 0.5,
     "schema_version": 3,
     "solution": false,
     "task": false
    }
   },
   "outputs": [],
   "source": [
    "# Exercise 12 will be automatically graded in this cell"
   ]
  },
  {
   "cell_type": "markdown",
   "metadata": {
    "deletable": false,
    "editable": false,
    "run_control": {
     "frozen": true
    }
   },
   "source": [
    "**Exercise 13**\n",
    "\n",
    "The formula for changing the base of a logarithm is:\n",
    "\n",
    "$\\qquad\\displaystyle \\log_a{N} = \\frac{\\log_b{N}}{\\log_b{a}}$\n",
    "\n",
    "Use `math.log()` in the above expression to calculate $\\log_4(0.085)$ and test the result in the second code cell using `math.log(0.085,4)`. Assign the two results to `ex13a` and `ex13b`. In each cell print the answer like `print(\"ex13a =\", ex13a)`"
   ]
  },
  {
   "cell_type": "code",
   "execution_count": 0,
   "metadata": {
    "execution": {
     "iopub.execute_input": "2021-11-30T14:43:02.370804Z",
     "iopub.status.busy": "2021-11-30T14:43:02.370329Z",
     "iopub.status.idle": "2021-11-30T14:43:02.373926Z",
     "shell.execute_reply": "2021-11-30T14:43:02.373258Z"
    }
   },
   "outputs": [],
   "source": [
    "# Exercise 13a Solution\n"
   ]
  },
  {
   "cell_type": "code",
   "execution_count": 0,
   "metadata": {
    "deletable": false,
    "editable": false,
    "nbgrader": {
     "grade": true,
     "grade_id": "ex13",
     "locked": true,
     "points": 0.25,
     "schema_version": 3,
     "solution": false,
     "task": false
    }
   },
   "outputs": [],
   "source": [
    "# Exercise 13a will be automatically graded in this cell"
   ]
  },
  {
   "cell_type": "code",
   "execution_count": 0,
   "metadata": {
    "execution": {
     "iopub.execute_input": "2021-11-30T14:43:02.379214Z",
     "iopub.status.busy": "2021-11-30T14:43:02.378484Z",
     "iopub.status.idle": "2021-11-30T14:43:02.382470Z",
     "shell.execute_reply": "2021-11-30T14:43:02.383038Z"
    }
   },
   "outputs": [],
   "source": [
    "# Exercise 13b Solution\n"
   ]
  },
  {
   "cell_type": "code",
   "execution_count": 0,
   "metadata": {
    "deletable": false,
    "editable": false,
    "nbgrader": {
     "grade": true,
     "grade_id": "ex13b",
     "locked": true,
     "points": 0.25,
     "schema_version": 3,
     "solution": false,
     "task": false
    }
   },
   "outputs": [],
   "source": [
    "# Exercise 13b will be automatically graded in this cell"
   ]
  },
  {
   "cell_type": "markdown",
   "metadata": {
    "deletable": false,
    "editable": false,
    "run_control": {
     "frozen": true
    }
   },
   "source": [
    "**Exercise 14**\n",
    "\n",
    "Use the same methods as used for *Exercise 13* except use the **`math.log10()`** function to calculate $\\log_6(1500)$. Test the result in the second code cell using the same method as for *Exercise 13*. Assign the two results to `ex14a` and `ex14b`. In each cell print the answer like `print(\"ex14a =\", ex14a)`"
   ]
  },
  {
   "cell_type": "code",
   "execution_count": 0,
   "metadata": {
    "execution": {
     "iopub.execute_input": "2021-11-30T14:43:02.387290Z",
     "iopub.status.busy": "2021-11-30T14:43:02.386707Z",
     "iopub.status.idle": "2021-11-30T14:43:02.389050Z",
     "shell.execute_reply": "2021-11-30T14:43:02.389367Z"
    }
   },
   "outputs": [],
   "source": [
    "# Exercise 14a Solution\n"
   ]
  },
  {
   "cell_type": "code",
   "execution_count": 0,
   "metadata": {
    "deletable": false,
    "editable": false,
    "nbgrader": {
     "grade": true,
     "grade_id": "ex14a",
     "locked": true,
     "points": 0.25,
     "schema_version": 3,
     "solution": false,
     "task": false
    }
   },
   "outputs": [],
   "source": [
    "# Exercise 14a will be automatically graded in this cell"
   ]
  },
  {
   "cell_type": "code",
   "execution_count": 0,
   "metadata": {
    "execution": {
     "iopub.execute_input": "2021-11-30T14:43:02.394405Z",
     "iopub.status.busy": "2021-11-30T14:43:02.393692Z",
     "iopub.status.idle": "2021-11-30T14:43:02.395758Z",
     "shell.execute_reply": "2021-11-30T14:43:02.396091Z"
    }
   },
   "outputs": [],
   "source": [
    "# Exercise 14b Solution\n"
   ]
  },
  {
   "cell_type": "code",
   "execution_count": 0,
   "metadata": {
    "deletable": false,
    "editable": false,
    "nbgrader": {
     "grade": true,
     "grade_id": "ex14b",
     "locked": true,
     "points": 0.25,
     "schema_version": 3,
     "solution": false,
     "task": false
    }
   },
   "outputs": [],
   "source": [
    "# Exercise 14b will be automatically graded in this cell"
   ]
  },
  {
   "cell_type": "markdown",
   "metadata": {
    "deletable": false,
    "editable": false,
    "run_control": {
     "frozen": true
    }
   },
   "source": [
    "**Exercise 15**\n",
    "\n",
    "The equivalent resistance $R_{eq}$ of four resistors ($R_1$, $R_2$, $R_3$, and $R_4$) connected in parallel is given by:\n",
    "\n",
    "$\\qquad\\displaystyle R_{eq} =\\frac{1}{\\large \\frac{1}{R_1}+\\frac{1}{R_2}+\\frac{1}{R_3}+\\frac{1}{R_4}} $\n",
    "\n",
    "Assign and use variables for each resistance (such as `R1`) to calculate $R_{eq}$ if $R_1 = 130\\Omega$, $R_2 = 225\\Omega$, $R_3 = 47\\Omega$, and $R_4 = 330\\Omega$.\n",
    "\n",
    "Assign the final result to the variable `Req` and then `print(\"Req =\", Req)`"
   ]
  },
  {
   "cell_type": "code",
   "execution_count": 0,
   "metadata": {
    "execution": {
     "iopub.execute_input": "2021-11-30T14:43:02.401188Z",
     "iopub.status.busy": "2021-11-30T14:43:02.400505Z",
     "iopub.status.idle": "2021-11-30T14:43:02.403818Z",
     "shell.execute_reply": "2021-11-30T14:43:02.404413Z"
    }
   },
   "outputs": [],
   "source": [
    "# Exercise 15 Solution\n"
   ]
  },
  {
   "cell_type": "code",
   "execution_count": 0,
   "metadata": {
    "deletable": false,
    "editable": false,
    "nbgrader": {
     "grade": true,
     "grade_id": "ex15",
     "locked": true,
     "points": 0.5,
     "schema_version": 3,
     "solution": false,
     "task": false
    }
   },
   "outputs": [],
   "source": [
    "# Exercise 15 will be automatically graded in this cell"
   ]
  },
  {
   "cell_type": "markdown",
   "metadata": {
    "deletable": false,
    "editable": false,
    "run_control": {
     "frozen": true
    }
   },
   "source": [
    "**Exercise 16**\n",
    "\n",
    "The value $B$ of a principal $P$ that is deposited in a saving account with a fixed annual interest rate $r$ after $n$ years can be calculated by the formula:\n",
    "\n",
    "$\\qquad\\displaystyle B = P\\left(1 + \\frac{r}{m} \\right)^{mn} $\n",
    "\n",
    "where $m$ is the number of times that the interest is compounded annually. Consider an $\\$80,000$ deposit for $5$ years with an annual interest rate of $1.25\\%$. Using variables, determine how much more money will be earned if the interest is compounded daily instead of yearly. Keep in mind that $1.25\\%$ must be entered as `0.0125` in *Python*.\n",
    "\n",
    "Use the `print()` function with f-strings to display results with a leading $\\$ $, a comma separator, and two decimal-places. We will learn more about this later. For now, use expressions such as `print(f\"B1 = ${B1:,.2f}\")` and `print(f\"${dollars_more:,.2f} more\")` to display your final results.\n",
    "\n",
    "Assign known values to `P`, `r`, `n`, `m1`, and `m365` before calculating results. Assign the results to the variables `B1`, `B365`, and `dollars_more` before printing the requested statements."
   ]
  },
  {
   "cell_type": "code",
   "execution_count": 0,
   "metadata": {
    "execution": {
     "iopub.execute_input": "2021-11-30T14:43:02.408770Z",
     "iopub.status.busy": "2021-11-30T14:43:02.407353Z",
     "iopub.status.idle": "2021-11-30T14:43:02.411577Z",
     "shell.execute_reply": "2021-11-30T14:43:02.411115Z"
    }
   },
   "outputs": [],
   "source": [
    "# Exercise 16 Solution\n"
   ]
  },
  {
   "cell_type": "code",
   "execution_count": 0,
   "metadata": {
    "deletable": false,
    "editable": false,
    "nbgrader": {
     "grade": true,
     "grade_id": "ex16",
     "locked": true,
     "points": 1,
     "schema_version": 3,
     "solution": false,
     "task": false
    }
   },
   "outputs": [],
   "source": [
    "# Exercise 16 will be automatically graded in this cell"
   ]
  },
  {
   "cell_type": "markdown",
   "metadata": {
    "deletable": false,
    "editable": false
   },
   "source": [
    "**Exercise 17**\n",
    "\n",
    "*Python* has a `fractions` module that includes a `Fraction()` function. Run the `from fractions import Fraction as F` cell before answering this problem. Once executed, you can enter `F(7,8)` to create the fraction $7/8$. You can also determine the fractional equivalent of a decimal value such as $\\pi$ using the same function; `F(math.pi)`. If you add the `.limit_denominator()` method to the function, you can change the value of the calculated fraction. For example `F(math.pi).limit_denominator(5000)` will convert $\\pi$ to a fraction and limit the denominator to a value less than 5000. You can perform math on fractional objects as long as all objects are either fractions or integers."
   ]
  },
  {
   "cell_type": "code",
   "execution_count": 0,
   "metadata": {
    "execution": {
     "iopub.execute_input": "2021-11-30T14:43:02.417398Z",
     "iopub.status.busy": "2021-11-30T14:43:02.415322Z",
     "iopub.status.idle": "2021-11-30T14:43:02.421059Z",
     "shell.execute_reply": "2021-11-30T14:43:02.420458Z"
    }
   },
   "outputs": [],
   "source": [
    "from fractions import Fraction as F"
   ]
  },
  {
   "cell_type": "markdown",
   "metadata": {
    "deletable": false,
    "editable": false
   },
   "source": [
    "For example, the following cell calculates the results of $2/3 - 1/5 + 2.78$ as a fraction"
   ]
  },
  {
   "cell_type": "code",
   "execution_count": 0,
   "metadata": {
    "execution": {
     "iopub.execute_input": "2021-11-30T14:43:02.426118Z",
     "iopub.status.busy": "2021-11-30T14:43:02.425417Z",
     "iopub.status.idle": "2021-11-30T14:43:02.428483Z",
     "shell.execute_reply": "2021-11-30T14:43:02.427786Z"
    }
   },
   "outputs": [],
   "source": [
    "# Example using F\n",
    "example = F(2,3) - F(1,5) + F(2.78).limit_denominator(5000)\n",
    "print(example)"
   ]
  },
  {
   "cell_type": "markdown",
   "metadata": {
    "deletable": false,
    "editable": false,
    "run_control": {
     "frozen": true
    }
   },
   "source": [
    "Use **`F()`** to calculate $5/8 + 16/6$ by converting each division to fractions then adding them. Assign the result to the variable `ex17`. Display the result as a fraction using `print(\"ex17 =\", ex17)`.\n"
   ]
  },
  {
   "cell_type": "code",
   "execution_count": 0,
   "metadata": {
    "execution": {
     "iopub.execute_input": "2021-11-30T14:43:02.432672Z",
     "iopub.status.busy": "2021-11-30T14:43:02.432012Z",
     "iopub.status.idle": "2021-11-30T14:43:02.434229Z",
     "shell.execute_reply": "2021-11-30T14:43:02.433796Z"
    }
   },
   "outputs": [],
   "source": [
    "# Exercise 17 Solution\n"
   ]
  },
  {
   "cell_type": "code",
   "execution_count": 0,
   "metadata": {
    "deletable": false,
    "editable": false,
    "nbgrader": {
     "grade": true,
     "grade_id": "ex17",
     "locked": true,
     "points": 0.5,
     "schema_version": 3,
     "solution": false,
     "task": false
    }
   },
   "outputs": [],
   "source": [
    "# Exercise 17 will be automatically graded in this cell"
   ]
  },
  {
   "cell_type": "markdown",
   "metadata": {
    "deletable": false,
    "editable": false,
    "run_control": {
     "frozen": true
    }
   },
   "source": [
    "**Exercise 18**\n",
    "\n",
    "Use **`F()`** to calculate $1/3 - 11/13 + 2.7^2$ by converting each of the three terms to fractions before performing addition and subtraction. Assign the result to the variable `ex18`. Display the result as a fraction using `print(\"ex18 =\", ex18)`. You will need to limit the denominator to 5000 due to the $2.7^2$ term."
   ]
  },
  {
   "cell_type": "code",
   "execution_count": 0,
   "metadata": {
    "execution": {
     "iopub.execute_input": "2021-11-30T14:43:02.438470Z",
     "iopub.status.busy": "2021-11-30T14:43:02.438043Z",
     "iopub.status.idle": "2021-11-30T14:43:02.440311Z",
     "shell.execute_reply": "2021-11-30T14:43:02.440694Z"
    }
   },
   "outputs": [],
   "source": [
    "# Exercise 18 Solution\n"
   ]
  },
  {
   "cell_type": "code",
   "execution_count": 0,
   "metadata": {
    "deletable": false,
    "editable": false,
    "nbgrader": {
     "grade": true,
     "grade_id": "ex18",
     "locked": true,
     "points": 0.5,
     "schema_version": 3,
     "solution": false,
     "task": false
    }
   },
   "outputs": [],
   "source": [
    "# Exercise 18 will be automatically graded in this cell"
   ]
  },
  {
   "cell_type": "markdown",
   "metadata": {
    "deletable": false,
    "editable": false,
    "run_control": {
     "frozen": true
    }
   },
   "source": [
    "**Exercise 19**\n",
    "\n",
    "Stirling's approximation for large factorials is given by:\n",
    "\n",
    "$\\qquad\\displaystyle n! = \\sqrt{2\\,\\pi\\, n}\\left( \\frac{n}{e} \\right)^n $\n",
    "\n",
    "Use the above formula for calculating $20!$, i.e. $n=20$. Calculate the error between using Stirling's approximation and the true value (which can be found with `math.factorial()`) with the following formula. Assign the value of 20 to `n` and use `n` when performing calculations.\n",
    "\n",
    "$\\qquad\\displaystyle \\text{Error} = \\frac{\\text{True Value} - \\text{Approximate Value}}{\\text{True Value}}$\n",
    "\n",
    "Assign the result of the error calculation to the variable `Error` and then `print(\"Error =\", Error)`."
   ]
  },
  {
   "cell_type": "code",
   "execution_count": 0,
   "metadata": {
    "execution": {
     "iopub.execute_input": "2021-11-30T14:43:02.466342Z",
     "iopub.status.busy": "2021-11-30T14:43:02.464738Z",
     "iopub.status.idle": "2021-11-30T14:43:02.469282Z",
     "shell.execute_reply": "2021-11-30T14:43:02.469792Z"
    }
   },
   "outputs": [],
   "source": [
    "# Exercise 19 Solution\n"
   ]
  },
  {
   "cell_type": "code",
   "execution_count": 0,
   "metadata": {
    "deletable": false,
    "editable": false,
    "nbgrader": {
     "grade": true,
     "grade_id": "ex19",
     "locked": true,
     "points": 0.5,
     "schema_version": 3,
     "solution": false,
     "task": false
    }
   },
   "outputs": [],
   "source": [
    "# Exercise 19 will be automatically graded in this cell"
   ]
  },
  {
   "cell_type": "markdown",
   "metadata": {
    "deletable": false,
    "editable": false,
    "run_control": {
     "frozen": true
    }
   },
   "source": [
    "**Wrap it up**\n",
    "\n",
    "Complete the finishing tasks stated in the instructions.\n"
   ]
  }
 ],
 "metadata": {
  "celltoolbar": "Edit Metadata",
  "kernel_info": {
   "name": "python3"
  },
  "kernelspec": {
   "display_name": "Python 3 (ipykernel)",
   "language": "python",
   "name": "python3"
  },
  "language_info": {
   "codemirror_mode": {
    "name": "ipython",
    "version": 3
   },
   "file_extension": ".py",
   "mimetype": "text/x-python",
   "name": "python",
   "nbconvert_exporter": "python",
   "pygments_lexer": "ipython3",
   "version": "3.9.7"
  },
  "nteract": {
   "version": "0.15.0"
  },
  "varInspector": {
   "cols": {
    "lenName": 16,
    "lenType": 16,
    "lenVar": 40
   },
   "kernels_config": {
    "python": {
     "delete_cmd_postfix": "",
     "delete_cmd_prefix": "del ",
     "library": "var_list.py",
     "varRefreshCmd": "print(var_dic_list())"
    },
    "r": {
     "delete_cmd_postfix": ") ",
     "delete_cmd_prefix": "rm(",
     "library": "var_list.r",
     "varRefreshCmd": "cat(var_dic_list()) "
    }
   },
   "types_to_exclude": [
    "module",
    "function",
    "builtin_function_or_method",
    "instance",
    "_Feature"
   ],
   "window_display": false
  }
 },
 "nbformat": 4,
 "nbformat_minor": 4
}
