{
 "cells": [
  {
   "cell_type": "markdown",
   "metadata": {},
   "source": [
    "# Py 2.04 - `beam` Script"
   ]
  },
  {
   "cell_type": "code",
   "execution_count": null,
   "metadata": {},
   "outputs": [],
   "source": [
    "name = \"Your name here\"\n",
    "\"Name:\" + name.upper()"
   ]
  },
  {
   "cell_type": "markdown",
   "metadata": {
    "deletable": false,
    "editable": false,
    "run_control": {
     "frozen": true
    }
   },
   "source": [
    "A horizontal beam with a length $L$ is attached to a wall at a pivot point. A cable is connected to the beam at distance $x$ from the wall and to the wall at a distance $h$ above the pivot point. A load $W$ hangs from the free end of the beam. The tension $T$ in the cable is given by:\n",
    "\n",
    "\n",
    "$\\qquad\\displaystyle T = \\frac{WL\\sqrt{h^2 + x^2}}{hx}$\n",
    "\n",
    "\n",
    "Write a script named `beam.py`\n",
    "- Ask the user to enter the the following in the order listed. Be sure to tell the user what units are used:\n",
    "  - Beam length $L$ in inches\n",
    "  - Horizontal distance $x$ in inches\n",
    "  - Vertical distance $h$ in inches\n",
    "  - Load $W$ in pounds\n",
    "- Calculate and print the cable tension $T$ in pounds\n",
    "  - Use a well formed statement\n",
    "  - Give the tension with exactly 2-decimal places\n",
    "  - Include units as either \"lb\", lbf\", or \"pounds\" in the statement\n",
    "- Save the script with the exact name as requested above\n",
    "- Include a docstring-like comment (surrounded by triple quotes) at the top of the script with...\n",
    "  - Your name\n",
    "  - Script name\n",
    "  - Brief description of what the script does\n",
    "- Test your script with...\n",
    "  - A load of $500\\text{ lbf}$\n",
    "  - And distances\n",
    "    - $L = 120\\text{ in}$\n",
    "    - $x=70\\text{ in}$\n",
    "    - $h=50\\text{ in}$\n",
    "  - Your resulting cable tension should be about $1475\\text{ lbf}$\n",
    "  \n",
    "Finish the assignment by...\n",
    "- Saving your Jupyter Notebook and downloading it as a notebook (.ipynb) file (do not change the file name)\n",
    "- Saving and downloading your script file\n",
    "- Submitting the script and notebook files to the Py 2.04 assignment via Canvas\n",
    "- Verifying that the auto grader marked each problem correct\n",
    "- Fixing errors and resubmitting as necessary until the due date\n",
    "\n",
    "Your score will be determined by the auto grader results after the due date. Keep in mind that the auto grader may run additional tests on your final submission than were ran when the assignment was submitted."
   ]
  },
  {
   "cell_type": "code",
   "execution_count": null,
   "metadata": {},
   "outputs": [],
   "source": []
  },
  {
   "cell_type": "markdown",
   "metadata": {
    "deletable": false,
    "editable": false,
    "run_control": {
     "frozen": true
    }
   },
   "source": [
    "**Wrap it up**\n",
    "\n",
    "Complete the finishing tasks stated in the instructions.\n"
   ]
  }
 ],
 "metadata": {
  "celltoolbar": "Edit Metadata",
  "kernelspec": {
   "display_name": "Python 3.8.11 64-bit ('base': conda)",
   "language": "python",
   "name": "python3811jvsc74a57bd0804a83d9cf36e5ef92d589cf40db8b1f50a2130b40ceb8df399b5b46dbd8cc63"
  },
  "language_info": {
   "codemirror_mode": {
    "name": "ipython",
    "version": 3
   },
   "file_extension": ".py",
   "mimetype": "text/x-python",
   "name": "python",
   "nbconvert_exporter": "python",
   "pygments_lexer": "ipython3",
   "version": "3.8.11"
  },
  "varInspector": {
   "cols": {
    "lenName": 16,
    "lenType": 16,
    "lenVar": 40
   },
   "kernels_config": {
    "python": {
     "delete_cmd_postfix": "",
     "delete_cmd_prefix": "del ",
     "library": "var_list.py",
     "varRefreshCmd": "print(var_dic_list())"
    },
    "r": {
     "delete_cmd_postfix": ") ",
     "delete_cmd_prefix": "rm(",
     "library": "var_list.r",
     "varRefreshCmd": "cat(var_dic_list()) "
    }
   },
   "types_to_exclude": [
    "module",
    "function",
    "builtin_function_or_method",
    "instance",
    "_Feature"
   ],
   "window_display": false
  }
 },
 "nbformat": 4,
 "nbformat_minor": 4
}
