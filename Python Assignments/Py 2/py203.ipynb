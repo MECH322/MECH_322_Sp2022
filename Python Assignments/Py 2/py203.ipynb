{
 "cells": [
  {
   "cell_type": "markdown",
   "metadata": {},
   "source": [
    "# Py 2.03 - `torus` Script"
   ]
  },
  {
   "cell_type": "code",
   "execution_count": 0,
   "metadata": {},
   "outputs": [],
   "source": [
    "name = \"Your name here\"\n",
    "\"Name: \" + name.upper()"
   ]
  },
  {
   "cell_type": "markdown",
   "metadata": {},
   "source": [
    "The volume $V$ and surface area $S$ of a torus-shaped (donut) water tube are given by:\n",
    "\n",
    "$\\qquad\\displaystyle V = \\frac{1}{4}\\pi^2(r_1+r_2)(r_2-r_1)^2 $\n",
    "\n",
    "$\\qquad\\displaystyle S = \\pi^2(r_2^2 - r_1^2) $\n",
    "\n",
    "where $r_1$ is the inner radius and $r_2$ is the outer radius.\n",
    "\n",
    "Write a script called `torus.py`\n",
    "- That calculates and prints the results for $V$ and $S$ \n",
    "- Ask the user to enter the outer radius $r_2$ and a desired unit of measure (i.e. inches, mm, cm, etc)\n",
    "  - Ask for the radius first\n",
    "  - Then ask for the units using a separate `input()` expression\n",
    "- Use the relationship of $r_1 = 0.7r_2$ in your script to calculate $r_1$ from $r_2$\n",
    "- The results should be printed using a pair of well formed statements\n",
    "  - Both $V$ and $S$ should be printed with exactly 2-decimal places\n",
    "  - Both values should be followed by appropriate units based on the user specified units\n",
    "   \n",
    "- Save the script with the exact name as requested above\n",
    "\n",
    "- Include a docstring-like comment (surrounded by triple quotes) at the top of the script with...\n",
    "  - Your name\n",
    "  - Script name\n",
    "  - Brief description of what the script does\n",
    "\n",
    "- Test the script in the following code cells for outer radii of\n",
    "  - For outer radii of $12$, $16$, $20$, $24$, and $28$\n",
    "  - With units of \"inches\" for each\n",
    "\n",
    "- A torus with an outer radius of 28 inches has a volume of $8287.15\\text{ in}^3$ and a surface area of $3946.26\\text{ in}^2$\n",
    "\n",
    "Finish the assignment by...\n",
    "- Saving your Jupyter Notebook and downloading it as a notebook (.ipynb) file (do not change the file name)\n",
    "- Saving and downloading your script file\n",
    "- Submitting the script and notebook files to the Py 2.03 assignment via Canvas\n",
    "- Verifying that the auto grader marked each problem correct\n",
    "- Fixing errors and resubmitting as necessary until the due date\n",
    "\n",
    "Your score will be determined by the auto grader results after the due date. Keep in mind that the auto grader may run additional tests on your final submission than were ran when the assignment was submitted."
   ]
  },
  {
   "cell_type": "code",
   "execution_count": 0,
   "metadata": {},
   "outputs": [],
   "source": []
  },
  {
   "cell_type": "code",
   "execution_count": 0,
   "metadata": {},
   "outputs": [],
   "source": []
  },
  {
   "cell_type": "code",
   "execution_count": 0,
   "metadata": {},
   "outputs": [],
   "source": []
  },
  {
   "cell_type": "code",
   "execution_count": 0,
   "metadata": {},
   "outputs": [],
   "source": []
  },
  {
   "cell_type": "code",
   "execution_count": 0,
   "metadata": {},
   "outputs": [],
   "source": []
  },
  {
   "cell_type": "markdown",
   "metadata": {
    "deletable": false,
    "editable": false,
    "run_control": {
     "frozen": true
    }
   },
   "source": [
    "**Wrap it up**\n",
    "\n",
    "Complete the finishing tasks stated in the instructions.\n"
   ]
  }
 ],
 "metadata": {
  "kernelspec": {
   "display_name": "Python 3",
   "language": "python",
   "name": "python3"
  },
  "language_info": {
   "codemirror_mode": {
    "name": "ipython",
    "version": 3
   },
   "file_extension": ".py",
   "mimetype": "text/x-python",
   "name": "python",
   "nbconvert_exporter": "python",
   "pygments_lexer": "ipython3",
   "version": "3.8.8"
  },
  "varInspector": {
   "cols": {
    "lenName": 16,
    "lenType": 16,
    "lenVar": 40
   },
   "kernels_config": {
    "python": {
     "delete_cmd_postfix": "",
     "delete_cmd_prefix": "del ",
     "library": "var_list.py",
     "varRefreshCmd": "print(var_dic_list())"
    },
    "r": {
     "delete_cmd_postfix": ") ",
     "delete_cmd_prefix": "rm(",
     "library": "var_list.r",
     "varRefreshCmd": "cat(var_dic_list()) "
    }
   },
   "types_to_exclude": [
    "module",
    "function",
    "builtin_function_or_method",
    "instance",
    "_Feature"
   ],
   "window_display": false
  }
 },
 "nbformat": 4,
 "nbformat_minor": 4
}
