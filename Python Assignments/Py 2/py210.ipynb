{
 "cells": [
  {
   "cell_type": "markdown",
   "metadata": {
    "nbgrader": {
     "grade": false,
     "grade_id": "title",
     "locked": true,
     "schema_version": 3,
     "solution": false,
     "task": false
    }
   },
   "source": [
    "# Py 2.10 - `conical_frustum` Function"
   ]
  },
  {
   "cell_type": "code",
   "execution_count": null,
   "metadata": {},
   "outputs": [],
   "source": [
    "name = \"Your name here\"\n",
    "\"Name:\" + name.upper()"
   ]
  },
  {
   "cell_type": "markdown",
   "metadata": {
    "nbgrader": {
     "grade": false,
     "grade_id": "instructions",
     "locked": true,
     "schema_version": 3,
     "solution": false,
     "task": false
    }
   },
   "source": [
    "A conical frustum is a truncated cone. The volume $V$ and surface area $SA$ of a conical frustum are:\n",
    "\n",
    "$\\qquad\\displaystyle V={\\frac {\\pi h}{3}}\\left(r_{1}^{2}+r_{1}r_{2}+r_{2}^{2}\\right)$\n",
    "\n",
    "$\\qquad\\displaystyle SA = \\pi\\left[(r_1 + r_2) \\sqrt{(r_2-r_1)^2 + h^2} + r_1^2 + r_2^2 \\right] $\n",
    "\n",
    "where $h$ is the height, $r_1$ is the radius of one circular end, and $r_2$ is the radius of the other circular end.\n",
    "\n",
    "Write a function named **`conical_frustum(r1, r2, height)`**\n",
    "- That calculates the volume and surface area of a conical fustrum\n",
    "- It should accept three arguments **`(r1, r2, height)`** (in that order)\n",
    "- It should return **`V`** and **`SA`** (in that order)\n",
    "- Include a docstring in your function\n",
    "  - Describing briefly what the function does\n",
    "  - Describing what each argument is and any units required\n",
    "  - Describing what values are returned and what units they are in\n",
    "- Test your function with the following dimensions:\n",
    "  - $r_1 = 10\\,\\text{in}$, $r_2 = 14\\,\\text{in}$, and $h = 8.5\\,\\text{in}$\n",
    "  - $r_1 = 6.2\\,\\text{in}$, $r_2 = 8.4\\,\\text{in}$, and $h = 12\\,\\text{in}$\n",
    "  - The result for the first frustum should be close to $(3880.95, 1638.2)$\n",
    "\n",
    "Finish the assignment by...\n",
    "  - Saving your Jupyter Notebook and downloading it as a notebook (.ipynb) file (do not change the file name)\n",
    "  - Saving and downloading your script file\n",
    "  - Submitting the script and notebook files to the Py 2.10 assignment via Canvas\n",
    "  - Verifying that the auto grader marked each problem correct\n",
    "  - Fixing errors and resubmitting as necessary until the due date\n",
    "\n",
    "Your score will be determined by the auto grader results after the due date. Keep in mind that the auto grader may run additional tests on your final submission than were ran when the assignment was submitted."
   ]
  },
  {
   "cell_type": "markdown",
   "metadata": {
    "nbgrader": {
     "grade": false,
     "grade_id": "reminder",
     "locked": true,
     "schema_version": 3,
     "solution": false,
     "task": false
    }
   },
   "source": [
    "Define your function in a script file named `py210.py` and import it in the first cell below (code provided). Test it in the remaining code cells by calling the function."
   ]
  },
  {
   "cell_type": "code",
   "execution_count": null,
   "metadata": {},
   "outputs": [],
   "source": [
    "from py210 import conical_frustum"
   ]
  },
  {
   "cell_type": "code",
   "execution_count": null,
   "metadata": {},
   "outputs": [],
   "source": []
  },
  {
   "cell_type": "code",
   "execution_count": null,
   "metadata": {},
   "outputs": [],
   "source": []
  },
  {
   "cell_type": "markdown",
   "metadata": {
    "nbgrader": {
     "grade": false,
     "grade_id": "wrap_it_up",
     "locked": true,
     "schema_version": 3,
     "solution": false,
     "task": false
    }
   },
   "source": [
    "**Wrap it up**\n",
    "\n",
    "Complete the finishing tasks stated in the instructions.\n"
   ]
  }
 ],
 "metadata": {
  "celltoolbar": "Edit Metadata",
  "kernelspec": {
   "display_name": "Python 3.8.11 64-bit ('base': conda)",
   "language": "python",
   "name": "python3811jvsc74a57bd0804a83d9cf36e5ef92d589cf40db8b1f50a2130b40ceb8df399b5b46dbd8cc63"
  },
  "language_info": {
   "codemirror_mode": {
    "name": "ipython",
    "version": 3
   },
   "file_extension": ".py",
   "mimetype": "text/x-python",
   "name": "python",
   "nbconvert_exporter": "python",
   "pygments_lexer": "ipython3",
   "version": "3.8.11"
  },
  "varInspector": {
   "cols": {
    "lenName": 16,
    "lenType": 16,
    "lenVar": 40
   },
   "kernels_config": {
    "python": {
     "delete_cmd_postfix": "",
     "delete_cmd_prefix": "del ",
     "library": "var_list.py",
     "varRefreshCmd": "print(var_dic_list())"
    },
    "r": {
     "delete_cmd_postfix": ") ",
     "delete_cmd_prefix": "rm(",
     "library": "var_list.r",
     "varRefreshCmd": "cat(var_dic_list()) "
    }
   },
   "types_to_exclude": [
    "module",
    "function",
    "builtin_function_or_method",
    "instance",
    "_Feature"
   ],
   "window_display": false
  }
 },
 "nbformat": 4,
 "nbformat_minor": 4
}
