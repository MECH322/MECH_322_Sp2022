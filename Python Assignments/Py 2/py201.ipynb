{
 "cells": [
  {
   "cell_type": "markdown",
   "metadata": {},
   "source": [
    "# Py 2.01 - `heat_index` Script"
   ]
  },
  {
   "cell_type": "code",
   "execution_count": null,
   "metadata": {},
   "outputs": [],
   "source": [
    "name = \"Your name here\"\n",
    "\"Name: \" + name.upper()"
   ]
  },
  {
   "cell_type": "markdown",
   "metadata": {
    "deletable": false,
    "editable": false,
    "run_control": {
     "frozen": true
    }
   },
   "source": [
    "The heat index $HI$ is calculated from the air temperature and relative humidity. You hear this term a lot on weather forecasts for hot summer days. The equation used by the National Weather Service to calculate $HI$ is:\n",
    "\n",
    "$\\qquad{\\displaystyle HI = C_0 + C_1\\,T + C_2\\,R + C_3\\,T\\,R + C_4\\,T^2\\\\ + C_5\\,R^2\n",
    "+ C_6\\,T^2\\,R + C_7\\,T\\,R^2 + C_8\\,T^2\\,R^2 }$\n",
    "\n",
    "where $T$ is the air temperature in $^{\\circ}\\text{F}$ and $R$ is the relative humidity value without the percent symbol, (i.e. $89\\%$ is $89$)\n",
    "\n",
    "$\\qquad C_0 = -42.379\\\\\n",
    "\\qquad C_1 = 2.04901523\\\\\n",
    "\\qquad C_2 = 10.14333127\\\\\n",
    "\\qquad C_3 = -0.22475541\\\\\n",
    "\\qquad C_4 = -6.83783\\times10^{-3}\\\\\n",
    "\\qquad C_5 = -5.481717\\times10^{-2}\\\\\n",
    "\\qquad C_6 = 1.22874\\times10^{-3}\\\\\n",
    "\\qquad C_7 = 8.5282\\times10^{-4}\\\\\n",
    "\\qquad C_8 = -1.99\\times10^{-6}$\n",
    "\n",
    "Keep in mind that *Python* uses `6.83783E-3` for $6.83783\\times10^{-3}$.\n",
    "\n",
    "Write a script named `heat_index.py` that calculates $HI$\n",
    "- Ask the user for the following **in the order listed** using separate input statements\n",
    "  - The temperature in degrees F\n",
    "  - The relative humidity expressed without the percent symbol, i.e. 85 for 85%\n",
    "- Print a message that says **The Heat Index is: XX.X**\n",
    "  - Where **XX.X** is the calculated $HI$ displayed with only one decimal place\n",
    "  - Use either an \"*f-string*\" or the `.format()` string method when printing to set the number of decimal places\n",
    "- Save the script with the exact name as requested above\n",
    "- Include a docstring-like comment (surrounded by triple quotes) at the top of the script with...\n",
    "  - Your name\n",
    "  - Script name\n",
    "  - Brief description of what the script does\n",
    "- Test the script below\n",
    "  - Using `run heat_index.py`\n",
    "  - With a temperature of $90^{\\circ}\\text{F}$ and humidity of $90\\%$\n",
    "  - Resulting in a heat index of 121.9\n",
    "\n",
    "Finish the assignment by...\n",
    "- Saving your Jupyter Notebook and downloading it as a notebook (.ipynb) file (do not change the file name)\n",
    "- Saving and downloading your script file\n",
    "- Submitting the script and notebook files to the Py 2.01 assignment via Canvas\n",
    "- Verify that the auto grader marked each problem correct\n",
    "- Fix errors and resubmit as necessary until the due date\n",
    "\n",
    "Your score will be determined by the auto grader results after the due date. Keep in mind that the auto grader may run additional tests on your final submission than were ran when the assignment was submitted."
   ]
  },
  {
   "cell_type": "code",
   "execution_count": null,
   "metadata": {},
   "outputs": [],
   "source": [
    "run heat_index.py"
   ]
  },
  {
   "cell_type": "markdown",
   "metadata": {
    "deletable": false,
    "editable": false,
    "run_control": {
     "frozen": true
    }
   },
   "source": [
    "**Wrap it up**\n",
    "\n",
    "Complete the finishing tasks stated in the instructions.\n"
   ]
  }
 ],
 "metadata": {
  "celltoolbar": "Edit Metadata",
  "kernelspec": {
   "display_name": "Python 3",
   "language": "python",
   "name": "python3"
  },
  "language_info": {
   "codemirror_mode": {
    "name": "ipython",
    "version": 3
   },
   "file_extension": ".py",
   "mimetype": "text/x-python",
   "name": "python",
   "nbconvert_exporter": "python",
   "pygments_lexer": "ipython3",
   "version": "3.8.8"
  },
  "varInspector": {
   "cols": {
    "lenName": 16,
    "lenType": 16,
    "lenVar": 40
   },
   "kernels_config": {
    "python": {
     "delete_cmd_postfix": "",
     "delete_cmd_prefix": "del ",
     "library": "var_list.py",
     "varRefreshCmd": "print(var_dic_list())"
    },
    "r": {
     "delete_cmd_postfix": ") ",
     "delete_cmd_prefix": "rm(",
     "library": "var_list.r",
     "varRefreshCmd": "cat(var_dic_list()) "
    }
   },
   "types_to_exclude": [
    "module",
    "function",
    "builtin_function_or_method",
    "instance",
    "_Feature"
   ],
   "window_display": false
  }
 },
 "nbformat": 4,
 "nbformat_minor": 4
}
