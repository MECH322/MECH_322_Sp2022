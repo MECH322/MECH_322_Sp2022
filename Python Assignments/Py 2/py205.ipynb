{
 "cells": [
  {
   "cell_type": "markdown",
   "metadata": {},
   "source": [
    "# Py 2.05 - `pressure_drop` Script"
   ]
  },
  {
   "cell_type": "code",
   "execution_count": null,
   "metadata": {},
   "outputs": [],
   "source": [
    "name = \"Your name here\"\n",
    "\"Name:\" + name.upper()"
   ]
  },
  {
   "cell_type": "markdown",
   "metadata": {
    "deletable": false,
    "editable": false,
    "run_control": {
     "frozen": true
    }
   },
   "source": [
    "The pressure drop $\\Delta p$ in Pascals (Pa) for a fluid flowing in a pipe with a sudden increase in diameter is given by:\n",
    "\n",
    "$\\qquad\\displaystyle \\Delta p = \\frac{1}{2} \\left[ 1 - \\left(\\frac{d}{D} \\right)^2 \\right]^2 \\rho v^2 $\n",
    "\n",
    "where $\\rho$ is the density of the fluid, $v$ is the velocity of the fluid, $d$ is the pipe diameter before the increase, and $D$ is the pipe diameter after the increase.\n",
    "\n",
    "Write a script named **`pressure_drop.py`**\n",
    "- Calculate the pressure drop in Pascals\n",
    "- Request the user to enter the the following in the order listed:\n",
    "  - Density in $\\text{kg/m}^3$\n",
    "  - Velocity in $\\text{m/s}$\n",
    "  - Non-dimensional diameter ratio $d/D$\n",
    "- Create a nicely formed result statement...\n",
    "  - That states the pressure drop to the nearest whole Pascal\n",
    "  - Include the units in the statement\n",
    "- Save the script with the exact name as requested above\n",
    "- Include comments at the top of the script with...\n",
    "  - Your name\n",
    "  - Script name\n",
    "  - Brief description of what the script does\n",
    "- Test the script with gasoline\n",
    "  - Density $\\rho = 737\\,\\text{kg/m}^3$\n",
    "  - Velocity $v = 5 \\text{ m/s}$\n",
    "  - Diameter ratios of...\n",
    "    - $d/D=0.9$\n",
    "    - $d/D=0.5$\n",
    "    - $d/D=0.2$\n",
    "  - The pressure drop with a diameter ratio of 0.9 is 333 Pascals\n",
    "\n",
    "\n",
    "Finish the assignment by...\n",
    "- Saving your Jupyter Notebook and downloading it as a notebook (.ipynb) file (do not change the file name)\n",
    "- Saving and downloading your script file\n",
    "- Submitting the script and notebook files to the Py 2.05 assignment via Canvas\n",
    "- Verifying that the auto grader marked each problem correct\n",
    "- Fixing errors and resubmitting as necessary until the due date\n",
    "\n",
    "Your score will be determined by the auto grader results after the due date. Keep in mind that the auto grader may run additional tests on your final submission than were ran when the assignment was submitted."
   ]
  },
  {
   "cell_type": "code",
   "execution_count": null,
   "metadata": {},
   "outputs": [],
   "source": []
  },
  {
   "cell_type": "code",
   "execution_count": null,
   "metadata": {},
   "outputs": [],
   "source": []
  },
  {
   "cell_type": "code",
   "execution_count": null,
   "metadata": {},
   "outputs": [],
   "source": []
  },
  {
   "cell_type": "markdown",
   "metadata": {},
   "source": [
    "**Wrap it up**\n",
    "\n",
    "Complete the finishing tasks stated in the instructions."
   ]
  }
 ],
 "metadata": {
  "celltoolbar": "Edit Metadata",
  "kernelspec": {
   "display_name": "Python 3.8.11 64-bit ('base': conda)",
   "language": "python",
   "name": "python3811jvsc74a57bd0804a83d9cf36e5ef92d589cf40db8b1f50a2130b40ceb8df399b5b46dbd8cc63"
  },
  "language_info": {
   "codemirror_mode": {
    "name": "ipython",
    "version": 3
   },
   "file_extension": ".py",
   "mimetype": "text/x-python",
   "name": "python",
   "nbconvert_exporter": "python",
   "pygments_lexer": "ipython3",
   "version": "3.8.11"
  },
  "varInspector": {
   "cols": {
    "lenName": 16,
    "lenType": 16,
    "lenVar": 40
   },
   "kernels_config": {
    "python": {
     "delete_cmd_postfix": "",
     "delete_cmd_prefix": "del ",
     "library": "var_list.py",
     "varRefreshCmd": "print(var_dic_list())"
    },
    "r": {
     "delete_cmd_postfix": ") ",
     "delete_cmd_prefix": "rm(",
     "library": "var_list.r",
     "varRefreshCmd": "cat(var_dic_list()) "
    }
   },
   "types_to_exclude": [
    "module",
    "function",
    "builtin_function_or_method",
    "instance",
    "_Feature"
   ],
   "window_display": false
  }
 },
 "nbformat": 4,
 "nbformat_minor": 4
}
