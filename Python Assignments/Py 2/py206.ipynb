{
 "cells": [
  {
   "cell_type": "markdown",
   "metadata": {},
   "source": [
    "# Py 2.06 - `density_si2uscs` Function"
   ]
  },
  {
   "cell_type": "code",
   "execution_count": null,
   "metadata": {},
   "outputs": [],
   "source": [
    "name = \"Your name here\"\n",
    "\"Name:\" + name.upper()"
   ]
  },
  {
   "cell_type": "markdown",
   "metadata": {
    "deletable": false,
    "editable": false,
    "run_control": {
     "frozen": true
    }
   },
   "source": [
    "Tables of material properties list density in $(\\text{kg/m}^3)$ for SI units and in $(\\text{lb}_\\text{m}/\\text{in}^3)$ for USCS units. \n",
    "\n",
    "Write a function named **`density_si2uscs(density_si)`**\n",
    "- Convert density from SI to USCS units\n",
    "- The function should accept one argument...\n",
    "  - The density in SI units **`density_si`**\n",
    "- The function should **return** (not print) the converted value\n",
    "- Include a docstring with your function that describes...\n",
    "  - What the function does\n",
    "  - The argument and its units\n",
    "  - The value that is returned and its units\n",
    "- Use the following conversion factors (have *Python* do all math)\n",
    "  - $1\\text{ kg} = 2.204623\\text{ lbm}$\n",
    "  - $1\\text{ inch} = 0.0254\\text{ m}$\n",
    "- Test the function by converting the densities of...\n",
    "  - Steel $(7860\\,\\text{kg/m}^3)$\n",
    "  - Titanium $(4730\\,\\text{kg/m}^3)$\n",
    "  - The result for steel should be close to $0.28396$\n",
    "\n",
    "Finish the assignment by...\n",
    "- Saving your Jupyter Notebook and downloading it as a notebook (.ipynb) file (do not change the file name)\n",
    "- Saving your script that includes the function definition\n",
    "- Submitting the script and notebook files to the Py 2.06 assignment via Canvas\n",
    "- Verifying that the auto grader marked each problem correct\n",
    "- Fixing errors and resubmitting as necessary until the due date\n",
    "\n",
    "Your score will be determined by the auto grader results after the due date. Keep in mind that the auto grader may run additional tests on your final submission than were ran when the assignment was submitted."
   ]
  },
  {
   "cell_type": "markdown",
   "metadata": {
    "deletable": false,
    "editable": false,
    "run_control": {
     "frozen": true
    }
   },
   "source": [
    "Define your function in a script file named `py206.py` and import it in the first cell below (code provided). Test it in the remaining code cells by calling the function."
   ]
  },
  {
   "cell_type": "code",
   "execution_count": null,
   "metadata": {},
   "outputs": [],
   "source": [
    "from py206 import density_si2uscs"
   ]
  },
  {
   "cell_type": "code",
   "execution_count": null,
   "metadata": {},
   "outputs": [],
   "source": []
  },
  {
   "cell_type": "code",
   "execution_count": null,
   "metadata": {},
   "outputs": [],
   "source": []
  },
  {
   "cell_type": "markdown",
   "metadata": {},
   "source": [
    "**Wrap it up**\n",
    "\n",
    "Complete the finishing tasks stated in the instructions.\n"
   ]
  }
 ],
 "metadata": {
  "celltoolbar": "Edit Metadata",
  "kernelspec": {
   "display_name": "Python 3.8.11 64-bit ('base': conda)",
   "language": "python",
   "name": "python3811jvsc74a57bd0804a83d9cf36e5ef92d589cf40db8b1f50a2130b40ceb8df399b5b46dbd8cc63"
  },
  "language_info": {
   "codemirror_mode": {
    "name": "ipython",
    "version": 3
   },
   "file_extension": ".py",
   "mimetype": "text/x-python",
   "name": "python",
   "nbconvert_exporter": "python",
   "pygments_lexer": "ipython3",
   "version": "3.8.11"
  },
  "varInspector": {
   "cols": {
    "lenName": 16,
    "lenType": 16,
    "lenVar": 40
   },
   "kernels_config": {
    "python": {
     "delete_cmd_postfix": "",
     "delete_cmd_prefix": "del ",
     "library": "var_list.py",
     "varRefreshCmd": "print(var_dic_list())"
    },
    "r": {
     "delete_cmd_postfix": ") ",
     "delete_cmd_prefix": "rm(",
     "library": "var_list.r",
     "varRefreshCmd": "cat(var_dic_list()) "
    }
   },
   "types_to_exclude": [
    "module",
    "function",
    "builtin_function_or_method",
    "instance",
    "_Feature"
   ],
   "window_display": false
  }
 },
 "nbformat": 4,
 "nbformat_minor": 4
}
