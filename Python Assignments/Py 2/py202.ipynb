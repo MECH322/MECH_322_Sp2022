{
 "cells": [
  {
   "cell_type": "markdown",
   "metadata": {},
   "source": [
    "# Py 2.02 - `savings` Script"
   ]
  },
  {
   "cell_type": "code",
   "execution_count": null,
   "metadata": {},
   "outputs": [],
   "source": [
    "name = \"Your name here\"\n",
    "\"Name: \" + name.upper()"
   ]
  },
  {
   "cell_type": "markdown",
   "metadata": {
    "deletable": false,
    "editable": false,
    "run_control": {
     "frozen": true
    }
   },
   "source": [
    "The monthly savings $P$ that has to be deposited in a saving account that pays an annual interest rate of $r$ in order to save a total amount $F$ in $N$ years can be calculated by the formula:\n",
    "\n",
    "$\\qquad\\displaystyle P = \\frac{F(r/12)}{(1+r/12)^{12N}-1} $\n",
    "\n",
    "Create the script `savings.py`\n",
    "- Ask for $F$, $N$, and $r$ using `input()`\n",
    "  - Use well-formed prompts when asking for values\n",
    "  - You must ask for them in the following order\n",
    "    - $F$ - total amount to save\n",
    "    - $N$ - number of years\n",
    "    - $r$ - annual interest rate\n",
    "  - An interest rate $r$ of $4.35\\%$ would be entered as $4.35$, but converted to $0.0435$ before using\n",
    "- Calculate and print the required monthly saving amount $P$\n",
    "  - Use a print a statement similar to **The monthly savings required to achieve your desired amount is \\$XXX.XX**\n",
    "  - Your expression must include...\n",
    "    - The dollar sign\n",
    "    - The comma separator for values over \\$999.99\n",
    "    - Exactly two decimal places\n",
    "  - You must use an \"*f-string*\" to perform the formatting\n",
    "- Save the script with the exact name as requested above\n",
    "- Include a docstring-like comment (surrounded by triple quotes) at the top of the script with...\n",
    "  - Your name\n",
    "  - Script name\n",
    "  - Brief description of what the script does\n",
    "- Test this script in the following code cells\n",
    "  - With a savings amount of $\\$100,000.00$\n",
    "  - For $5$, $10$, and $20$ years\n",
    "  - Using an annual interest rate of $1.25\\%$\n",
    "  - The result for 5 years is $\\$1,615.99$\n",
    "  \n",
    "Finish the assignment by...\n",
    "  - Saving your Jupyter Notebook and downloading it as a notebook (.ipynb) file (do not change the file name)\n",
    "  - Saving and downloading your script file\n",
    "  - Submitting the script and notebook files to the Py 2.02 assignment via Canvas\n",
    "  - Verifying that the auto grader marked each problem correct\n",
    "  - Fixing errors and resubmitting as necessary until the due date\n",
    "\n",
    "Your score will be determined by the auto grader results after the due date. Keep in mind that the auto grader may run additional tests on your final submission than were ran when the assignment was submitted."
   ]
  },
  {
   "cell_type": "code",
   "execution_count": null,
   "metadata": {},
   "outputs": [],
   "source": []
  },
  {
   "cell_type": "code",
   "execution_count": null,
   "metadata": {},
   "outputs": [],
   "source": []
  },
  {
   "cell_type": "code",
   "execution_count": null,
   "metadata": {},
   "outputs": [],
   "source": []
  },
  {
   "cell_type": "markdown",
   "metadata": {
    "deletable": false,
    "editable": false
   },
   "source": [
    "**Wrap it up**\n",
    "\n",
    "Complete the finishing tasks stated in the instructions.\n"
   ]
  }
 ],
 "metadata": {
  "celltoolbar": "Edit Metadata",
  "kernelspec": {
   "display_name": "Python 3",
   "language": "python",
   "name": "python3"
  },
  "language_info": {
   "codemirror_mode": {
    "name": "ipython",
    "version": 3
   },
   "file_extension": ".py",
   "mimetype": "text/x-python",
   "name": "python",
   "nbconvert_exporter": "python",
   "pygments_lexer": "ipython3",
   "version": "3.8.8"
  },
  "varInspector": {
   "cols": {
    "lenName": 16,
    "lenType": 16,
    "lenVar": 40
   },
   "kernels_config": {
    "python": {
     "delete_cmd_postfix": "",
     "delete_cmd_prefix": "del ",
     "library": "var_list.py",
     "varRefreshCmd": "print(var_dic_list())"
    },
    "r": {
     "delete_cmd_postfix": ") ",
     "delete_cmd_prefix": "rm(",
     "library": "var_list.r",
     "varRefreshCmd": "cat(var_dic_list()) "
    }
   },
   "types_to_exclude": [
    "module",
    "function",
    "builtin_function_or_method",
    "instance",
    "_Feature"
   ],
   "window_display": false
  }
 },
 "nbformat": 4,
 "nbformat_minor": 4
}
