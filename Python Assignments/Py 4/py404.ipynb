{
 "cells": [
  {
   "cell_type": "markdown",
   "metadata": {},
   "source": [
    "# Py 4.04 - `cubic_root_est` Script"
   ]
  },
  {
   "cell_type": "code",
   "execution_count": null,
   "metadata": {},
   "outputs": [],
   "source": [
    "name = \"Your name here\"\n",
    "\"Name:\" + name.upper()"
   ]
  },
  {
   "cell_type": "markdown",
   "metadata": {},
   "source": [
    "**NOTE:** Be sure to **`import`** any modules or commands from modules that are required for a function or script within the function or script, not outside of it."
   ]
  },
  {
   "cell_type": "markdown",
   "metadata": {},
   "source": [
    "## Instructions\n",
    "\n",
    "An iterative numerical method for calculating the cubic root $\\sqrt[3]{P}$ of a number $P$ is Halley's method. Start by choosing a starting estimate $x_0$. Use the initial estimate to calculate the next value $x_1$ using the following:\n",
    "\n",
    "$\\qquad\\displaystyle\\ x_1 = \\frac{x_0\\left(x_0^3 + 2P \\right)}{\\left(2x_0^3 + P \\right)}$\n",
    "\n",
    "The general equation for calculating any value of $x_i$ is as follows:\n",
    "\n",
    "$\\qquad\\displaystyle\\ x_i = \\frac{x_{i-1}\\left(x_{i-1}^3 + 2P \\right)}{\\left(2x_{i-1}^3 + P \\right)}$\n",
    "\n",
    "Use $x_0 = P$ (the first estimate) for this problem.\n",
    "\n",
    "\n",
    "Write a script named **`cubic_root_est.py`**\n",
    "- That estimates $\\sqrt[3]{P}$\n",
    "- Ask the user for the value of $P$\n",
    "- Use the value of $P$ as the initial estimate\n",
    "- Stop when the estimated relative error $E$ is smaller than 0.00001\n",
    "\n",
    "$\\qquad\\qquad\\displaystyle E = \\left|\\frac{x_i - x_{i-1}}{x_{i-1}}\\right|$\n",
    "\n",
    "- Print the resulting estimate in a statement like...\n",
    "  - **`The estimated cubic root is x.xxx and 'P**(1/3) is x.xxx'`**\n",
    "  - With 16-decimal place accuracy for both\n",
    "- Also print a second statement...\n",
    "  - **`The difference between the estimate and 'P**(1/3)' is x.xxx`**\n",
    "  - With 16-decimal place accuracy\n",
    "- Print a third statement...\n",
    "  - **`Not including the initial estimate, x iterations were required`**\n",
    "- You must use a **`while`** loop in the script\n",
    "- In order to account for negative numbers when calculating $P^{(1/3)}$ use...\n",
    "  - $P^{(1/3)}$ when $P\\geq 0$\n",
    "  - $\\text{-}|P|^{(1/3)}$ when $P \\lt 0$\n",
    "- Include a docstring style comment at the top of the script with the following...\n",
    "  - Your name\n",
    "  - Script name\n",
    "  - A statement describing what the script does\n",
    "- Test your script by finding the cubic roots of...\n",
    "  - 800\n",
    "  - 59070\n",
    "  - -31.55\n",
    "  - 27\n",
    "\n",
    "Finish the assignment by...\n",
    "  - Saving your Jupyter Notebook and downloading it as a notebook (.ipynb) file (do not change the file name)\n",
    "  - Saving and downloading your script file\n",
    "  - Submitting the script and notebook files to the Py 4.04 assignment via Canvas\n",
    "  - Verifying that the auto grader marked each problem correct\n",
    "  - Fixing errors and resubmitting as necessary until the due date\n",
    "\n",
    "Your score will be determined by the auto grader results after the due date. Keep in mind that the auto grader may run additional tests on your final submission than were ran when the assignment was submitted."
   ]
  },
  {
   "cell_type": "code",
   "execution_count": null,
   "metadata": {},
   "outputs": [],
   "source": []
  },
  {
   "cell_type": "code",
   "execution_count": null,
   "metadata": {},
   "outputs": [],
   "source": []
  },
  {
   "cell_type": "code",
   "execution_count": null,
   "metadata": {},
   "outputs": [],
   "source": []
  },
  {
   "cell_type": "code",
   "execution_count": null,
   "metadata": {},
   "outputs": [],
   "source": []
  },
  {
   "cell_type": "markdown",
   "metadata": {},
   "source": [
    "**Wrap it up**\n",
    "\n",
    "Complete the finishing tasks stated in the instructions.\n"
   ]
  }
 ],
 "metadata": {
  "kernelspec": {
   "display_name": "Python 3 (ipykernel)",
   "language": "python",
   "name": "python3"
  },
  "language_info": {
   "codemirror_mode": {
    "name": "ipython",
    "version": 3
   },
   "file_extension": ".py",
   "mimetype": "text/x-python",
   "name": "python",
   "nbconvert_exporter": "python",
   "pygments_lexer": "ipython3",
   "version": "3.9.7"
  },
  "varInspector": {
   "cols": {
    "lenName": 16,
    "lenType": 16,
    "lenVar": 40
   },
   "kernels_config": {
    "python": {
     "delete_cmd_postfix": "",
     "delete_cmd_prefix": "del ",
     "library": "var_list.py",
     "varRefreshCmd": "print(var_dic_list())"
    },
    "r": {
     "delete_cmd_postfix": ") ",
     "delete_cmd_prefix": "rm(",
     "library": "var_list.r",
     "varRefreshCmd": "cat(var_dic_list()) "
    }
   },
   "types_to_exclude": [
    "module",
    "function",
    "builtin_function_or_method",
    "instance",
    "_Feature"
   ],
   "window_display": false
  }
 },
 "nbformat": 4,
 "nbformat_minor": 4
}
