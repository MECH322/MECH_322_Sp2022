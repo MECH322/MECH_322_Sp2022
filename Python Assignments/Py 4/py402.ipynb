{
 "cells": [
  {
   "cell_type": "markdown",
   "metadata": {
    "deletable": false,
    "run_control": {
     "frozen": true
    }
   },
   "source": [
    "# Py 4.02 - `fibonacci_up_to` Function"
   ]
  },
  {
   "cell_type": "code",
   "execution_count": 0,
   "metadata": {},
   "outputs": [],
   "source": [
    "name = \"Your name here\"\n",
    "\"Name:\" + name.upper()"
   ]
  },
  {
   "cell_type": "markdown",
   "metadata": {
    "deletable": false
   },
   "source": [
    "**NOTE:** Be sure to **`import`** any modules or commands from modules that are required for a function or script within the function or script, not outside of it."
   ]
  },
  {
   "cell_type": "markdown",
   "metadata": {
    "deletable": false,
    "run_control": {
     "frozen": true
    }
   },
   "source": [
    "## Instructions\n",
    "\n",
    "The Fibonacci numbers are a sequence of numbers in which the first two elements are $0$ and $1$ and the value of each subsequent element in the sequence is the sum of the previous two elements, i.e. $0,1,1,2,3,5,8,13,...$\n",
    "\n",
    "Create a function named **`fibonacci_up_to(x)`**\n",
    "- That **returns** all Fibonacci numbers that are less than or equal to **`x`**\n",
    "- Return the values in a list\n",
    "- Use a **`while`** loop for iteration in this function\n",
    "- Assign $0$ and $1$ as the first two values of your results list before you start the loop\n",
    "- Use list indexing from the right to get the values needed to calculate the next number in the sequence\n",
    "- Include a docstring with your function that describes...\n",
    "  - What the function does\n",
    "  - The argument\n",
    "  - The values that are returned\n",
    "- Test your function by requesting the Fibonacci sequence values up to...\n",
    "  - 50\n",
    "  - 100\n",
    "  - 1000\n",
    "- **Print** the list that the function **returns** when running/testing each of the above\n",
    "\n",
    "Define your function in a script file named `py402.py` and import it in the first cell below (code provided). Test it in the remaining code cells by calling the function.\n",
    "\n",
    "Finish the assignment by...\n",
    "  - Saving your Jupyter Notebook and downloading it as a notebook (.ipynb) file (do not change the file name)\n",
    "  - Saving and downloading your script file\n",
    "  - Submitting the script and notebook files to the Py 4.02 assignment via Canvas\n",
    "  - Verifying that the auto grader marked each problem correct\n",
    "  - Fixing errors and resubmitting as necessary until the due date\n",
    "\n",
    "Your score will be determined by the auto grader results after the due date. Keep in mind that the auto grader may run additional tests on your final submission than were ran when the assignment was submitted."
   ]
  },
  {
   "cell_type": "code",
   "execution_count": 0,
   "metadata": {},
   "outputs": [],
   "source": [
    "from py402 import fibonacci_up_to"
   ]
  },
  {
   "cell_type": "code",
   "execution_count": 0,
   "metadata": {},
   "outputs": [],
   "source": []
  },
  {
   "cell_type": "code",
   "execution_count": 0,
   "metadata": {},
   "outputs": [],
   "source": []
  },
  {
   "cell_type": "code",
   "execution_count": 0,
   "metadata": {},
   "outputs": [],
   "source": []
  },
  {
   "cell_type": "markdown",
   "metadata": {
    "deletable": false,
    "run_control": {
     "frozen": true
    }
   },
   "source": [
    "**Wrap it up**\n",
    "\n",
    "Complete the finishing tasks stated in the instructions.\n"
   ]
  }
 ],
 "metadata": {
  "kernelspec": {
   "display_name": "Python 3 (ipykernel)",
   "language": "python",
   "name": "python3"
  },
  "language_info": {
   "codemirror_mode": {
    "name": "ipython",
    "version": 3
   },
   "file_extension": ".py",
   "mimetype": "text/x-python",
   "name": "python",
   "nbconvert_exporter": "python",
   "pygments_lexer": "ipython3",
   "version": "3.9.7"
  },
  "varInspector": {
   "cols": {
    "lenName": 16,
    "lenType": 16,
    "lenVar": 40
   },
   "kernels_config": {
    "python": {
     "delete_cmd_postfix": "",
     "delete_cmd_prefix": "del ",
     "library": "var_list.py",
     "varRefreshCmd": "print(var_dic_list())"
    },
    "r": {
     "delete_cmd_postfix": ") ",
     "delete_cmd_prefix": "rm(",
     "library": "var_list.r",
     "varRefreshCmd": "cat(var_dic_list()) "
    }
   },
   "types_to_exclude": [
    "module",
    "function",
    "builtin_function_or_method",
    "instance",
    "_Feature"
   ],
   "window_display": false
  }
 },
 "nbformat": 4,
 "nbformat_minor": 4
}
