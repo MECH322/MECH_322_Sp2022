{
 "cells": [
  {
   "cell_type": "markdown",
   "metadata": {},
   "source": [
    "# Py 4.01 - `div_by_list` Function"
   ]
  },
  {
   "cell_type": "code",
   "execution_count": 0,
   "metadata": {},
   "outputs": [],
   "source": [
    "name = \"Your name here\"\n",
    "\"Name:\" + name.upper()"
   ]
  },
  {
   "cell_type": "markdown",
   "metadata": {},
   "source": [
    "**NOTE:** Be sure to **`import`** any modules or commands from modules that are required for a function or script within the function or script, not outside of it."
   ]
  },
  {
   "cell_type": "markdown",
   "metadata": {},
   "source": [
    "## Instructions\n",
    "\n",
    "Recall that $\\displaystyle\\frac{\\text {Dividend}}{\\text {Divisor}} = \\text{Quotient and Remainder}$\n",
    "\n",
    "Define a function named **`div_by_list(divisors)`**\n",
    "- That finds the smallest dividend by which every integer divisor in a list is divisible with no remainder\n",
    "- The argument **`divisors`** should be a list of integer divisors\n",
    "- Use a **`while`** loop as outermost loop in the function\n",
    "- Use **`for`** loops to iterate over the divisors in the argument list as needed\n",
    "- The loop should start with the dividend assigned the value 1\n",
    "- It should stop when the dividend is divisible by all divisors in the list with no remainders\n",
    "- Don't forget to increment the dividend variable each time through the loop\n",
    "- After finding the desired dividend, use it to determine the quotients for each each divisor\n",
    "- Return the following in the order given...\n",
    "  - The dividend that was found\n",
    "  - A list of the quotients resulting from the dividend being divided by the list of divisors\n",
    "- Include a docstring with your function that describes...\n",
    "  - What the function does\n",
    "  - The argument\n",
    "  - The values that are returned\n",
    "- Test your function with the following lists of divisors\n",
    "  - **`[5, 8, 13]`**\n",
    "  - **`[4, 17, 71, 43]`**\n",
    "  - **`[11, 42, 75, 113, 57]`**\n",
    "\n",
    "Finish the assignment by...\n",
    "  - Saving your Jupyter Notebook and downloading it as a notebook (.ipynb) file (do not change the file name)\n",
    "  - Saving and downloading your script file\n",
    "  - Submitting the script and notebook files to the Py 4.01 assignment via Canvas\n",
    "  - Verifying that the auto grader marked each problem correct\n",
    "  - Fixing errors and resubmitting as necessary until the due date\n",
    "\n",
    "Your score will be determined by the auto grader results after the due date. Keep in mind that the auto grader may run additional tests on your final submission than were ran when the assignment was submitted."
   ]
  },
  {
   "cell_type": "code",
   "execution_count": 0,
   "metadata": {},
   "outputs": [],
   "source": [
    "\"\"\"\n",
    "HINTS:\n",
    "\n",
    "- initialize the dividend using 'dividend = 1'\n",
    "- create a copy of 'divisors' that is sorted in reverse order\n",
    "- use a 'while True:' loop\n",
    "- use a 'for' loop to check if 'dividend' is divisible by each of the\n",
    "  values in the sorted list\n",
    "- if any value in the list cannot divide into 'dividend' without a\n",
    "  remainder then 'break' out of the 'for' loop\n",
    "- keep track of how many divisors in the list result in no remainder by\n",
    "  using a variable and incrementing it\n",
    "- if all of the divisors in the list result in no remainder, then\n",
    "  'break' from the 'while' loop\n",
    "- remember that the length of the list is not always the same\n",
    "- use an empty list and a 'for' loop with the original 'divisors' to\n",
    "  create a list that contains the quotients for returning\n",
    "- return 'dividend' and the list of quotients that you created\n",
    "\"\"\""
   ]
  },
  {
   "cell_type": "markdown",
   "metadata": {},
   "source": [
    "Define your function in a script file named `py401.py` and import it in the first cell below (code provided). Test it in the remaining code cells by calling the function."
   ]
  },
  {
   "cell_type": "code",
   "execution_count": 0,
   "metadata": {},
   "outputs": [],
   "source": [
    "from py401 import div_by_list"
   ]
  },
  {
   "cell_type": "code",
   "execution_count": 0,
   "metadata": {},
   "outputs": [],
   "source": []
  },
  {
   "cell_type": "code",
   "execution_count": 0,
   "metadata": {},
   "outputs": [],
   "source": []
  },
  {
   "cell_type": "code",
   "execution_count": 0,
   "metadata": {},
   "outputs": [],
   "source": []
  },
  {
   "cell_type": "markdown",
   "metadata": {
    "nbgrader": {
     "grade": false,
     "grade_id": "wrap_it_up",
     "locked": true,
     "schema_version": 3,
     "solution": false,
     "task": false
    }
   },
   "source": [
    "**Wrap it up**\n",
    "\n",
    "Complete the finishing tasks stated in the instructions.\n"
   ]
  }
 ],
 "metadata": {
  "kernelspec": {
   "display_name": "Python 3 (ipykernel)",
   "language": "python",
   "name": "python3"
  },
  "language_info": {
   "codemirror_mode": {
    "name": "ipython",
    "version": 3
   },
   "file_extension": ".py",
   "mimetype": "text/x-python",
   "name": "python",
   "nbconvert_exporter": "python",
   "pygments_lexer": "ipython3",
   "version": "3.9.7"
  },
  "varInspector": {
   "cols": {
    "lenName": 16,
    "lenType": 16,
    "lenVar": 40
   },
   "kernels_config": {
    "python": {
     "delete_cmd_postfix": "",
     "delete_cmd_prefix": "del ",
     "library": "var_list.py",
     "varRefreshCmd": "print(var_dic_list())"
    },
    "r": {
     "delete_cmd_postfix": ") ",
     "delete_cmd_prefix": "rm(",
     "library": "var_list.r",
     "varRefreshCmd": "cat(var_dic_list()) "
    }
   },
   "types_to_exclude": [
    "module",
    "function",
    "builtin_function_or_method",
    "instance",
    "_Feature"
   ],
   "window_display": false
  }
 },
 "nbformat": 4,
 "nbformat_minor": 4
}
