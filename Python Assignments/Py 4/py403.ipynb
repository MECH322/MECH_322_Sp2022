{
 "cells": [
  {
   "cell_type": "markdown",
   "metadata": {},
   "source": [
    "# Py 4.03 - `estimated_pi` Function"
   ]
  },
  {
   "cell_type": "code",
   "execution_count": 0,
   "metadata": {},
   "outputs": [],
   "source": [
    "name = \"Your name here\"\n",
    "\"Name:\" + name.upper()"
   ]
  },
  {
   "cell_type": "markdown",
   "metadata": {},
   "source": [
    "**NOTE:** Be sure to `import` any modules or commands from modules that are required for a function or script within the function or script, not outside of it."
   ]
  },
  {
   "cell_type": "markdown",
   "metadata": {},
   "source": [
    "## Instructions\n",
    "\n",
    "The value of $\\pi$ can be estimated by using the following series.\n",
    "\n",
    "$\\qquad\\displaystyle \\frac{\\pi^3}{32} \\approx \\sum\\limits_{n=0}^{\\infty}{\\frac{(-1)^n}{(2n+1)^3}} $\n",
    "\n",
    "Define a function called **`estimated_pi(limit)`**\n",
    "- That uses a loop or list comprehension (your choice) to determine the estimate for $\\pi$\n",
    "- Where **`limit`** is the largest value of $n$ in the summation (since you cannot use infinity as the upper limit)\n",
    "- Your function should **print** the resulting estimate\n",
    "  - Use a statement like **`The estimate for pi is x.xxx`**\n",
    "  - With the estimated value for $\\pi$ given with 16-decimal places\n",
    "- Also print a second statement...\n",
    "  - That says **`The difference between the estimate and pi is x.xxx`**\n",
    "  - With 16-decimal place accuracy\n",
    "  - Use **`math.pi`** and the absolute value function to find the difference\n",
    "- Recall that there is a list function named **`sum()`** that could be used for this problem\n",
    "- Include a docstring with your function that describes...\n",
    "  - What the function does\n",
    "  - The argument\n",
    "  - The values that are printed\n",
    "- Test your function with limits of:\n",
    "  - $100$ (one hundred)\n",
    "  - $10,000$ (ten thousand)\n",
    "  - $1,000,000$ (one million)\n",
    "\n",
    "Define your function in a script file named `py403.py` and import it in the first cell below (code provided). Test it in the remaining code cells by calling the function.\n",
    "\n",
    "Finish the assignment by...\n",
    "  - Saving your Jupyter Notebook and downloading it as a notebook (.ipynb) file (do not change the file name)\n",
    "  - Saving and downloading your script file\n",
    "  - Submitting the script and notebook files to the Py 4.03 assignment via Canvas\n",
    "  - Verifying that the auto grader marked each problem correct\n",
    "  - Fixing errors and resubmitting as necessary until the due date\n",
    "\n",
    "Your score will be determined by the auto grader results after the due date. Keep in mind that the auto grader may run additional tests on your final submission than were ran when the assignment was submitted."
   ]
  },
  {
   "cell_type": "code",
   "execution_count": 0,
   "metadata": {},
   "outputs": [],
   "source": [
    "from py403 import estimated_pi"
   ]
  },
  {
   "cell_type": "code",
   "execution_count": 0,
   "metadata": {},
   "outputs": [],
   "source": []
  },
  {
   "cell_type": "code",
   "execution_count": 0,
   "metadata": {},
   "outputs": [],
   "source": []
  },
  {
   "cell_type": "code",
   "execution_count": 0,
   "metadata": {},
   "outputs": [],
   "source": []
  },
  {
   "cell_type": "markdown",
   "metadata": {},
   "source": [
    "**Wrap it up**\n",
    "\n",
    "Complete the finishing tasks stated in the instructions.\n"
   ]
  }
 ],
 "metadata": {
  "kernelspec": {
   "display_name": "Python 3 (ipykernel)",
   "language": "python",
   "name": "python3"
  },
  "language_info": {
   "codemirror_mode": {
    "name": "ipython",
    "version": 3
   },
   "file_extension": ".py",
   "mimetype": "text/x-python",
   "name": "python",
   "nbconvert_exporter": "python",
   "pygments_lexer": "ipython3",
   "version": "3.9.7"
  },
  "varInspector": {
   "cols": {
    "lenName": 16,
    "lenType": 16,
    "lenVar": 40
   },
   "kernels_config": {
    "python": {
     "delete_cmd_postfix": "",
     "delete_cmd_prefix": "del ",
     "library": "var_list.py",
     "varRefreshCmd": "print(var_dic_list())"
    },
    "r": {
     "delete_cmd_postfix": ") ",
     "delete_cmd_prefix": "rm(",
     "library": "var_list.r",
     "varRefreshCmd": "cat(var_dic_list()) "
    }
   },
   "types_to_exclude": [
    "module",
    "function",
    "builtin_function_or_method",
    "instance",
    "_Feature"
   ],
   "window_display": false
  }
 },
 "nbformat": 4,
 "nbformat_minor": 4
}
