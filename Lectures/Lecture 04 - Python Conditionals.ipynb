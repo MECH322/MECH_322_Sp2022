{
 "cells": [
  {
   "cell_type": "markdown",
   "metadata": {
    "collapsed": false,
    "deletable": true,
    "editable": true,
    "run_control": {
     "frozen": true
    }
   },
   "source": [
    "# Lecture 4 - Python Conditionals"
   ]
  },
  {
   "cell_type": "markdown",
   "metadata": {
    "collapsed": false,
    "deletable": true,
    "editable": true,
    "run_control": {
     "frozen": true
    }
   },
   "source": [
    "## Purpose\n",
    "\n",
    "- Create expressions with comparison operators\n",
    "- Create expressions with logical operators\n",
    "- Create more complex scripts that include conditional branching\n",
    "  - Use `if` statement groups\n",
    "  - Use `if-else` statement groups\n",
    "  - Use `if-elif-else` statement groups"
   ]
  },
  {
   "cell_type": "markdown",
   "metadata": {
    "collapsed": false,
    "deletable": true,
    "editable": true,
    "run_control": {
     "frozen": true
    }
   },
   "source": [
    "## Some Creative Commons Reference Sources for This Material\n",
    "\n",
    "- *Think Python 2nd Edition*, Allen Downey, chapter 5\n",
    "- *The Coder's Apprentice*, Pieter Spronck, chapter 6\n",
    "- *A Practical Introduction to Python Programming*, Brian Heinold, chapter 4\n",
    "- *Algorithmic Problem Solving with Python*, John Schneider, Shira Broschat, and Jess Dahmen, chapter 11"
   ]
  },
  {
   "cell_type": "markdown",
   "metadata": {
    "collapsed": false,
    "deletable": true,
    "editable": true,
    "run_control": {
     "frozen": true
    }
   },
   "source": [
    "## Background\n",
    "\n",
    "- Simple script files are lists of commands that are executed sequentially from top to bottom\n",
    "- Often it is necessary for a script to be smarter..\n",
    "  - Make decisions based on the values assigned to variables\n",
    "  - Execute a group of commands more than once\n",
    "- Changing the flow requires that some sort of decision making be added within the script\n",
    "- Decision making processes is one of the primary differences between simple and complex scripts\n",
    "- Comparison and logical operators are a necessary part of the decision making process\n",
    "- They are used as part of every conditional statement that alters the flow of a script\n",
    "- The statement groups introduced in this notebook are...\n",
    "  - `if`\n",
    "  - `if-else`\n",
    "  - `if-elif-else`"
   ]
  },
  {
   "cell_type": "markdown",
   "metadata": {
    "collapsed": false,
    "deletable": true,
    "editable": true,
    "run_control": {
     "frozen": true
    }
   },
   "source": [
    "## Comparison Operators\n",
    "\n",
    "- To make decisions, we need to compare values and/or variables\n",
    "- Doing so requires an understanding of comparison and logical operators\n",
    "- Comparison operators compare two values\n",
    "  - Usually numbers in our case\n",
    "  - Can include strings and other objects\n",
    "- Result is either `True` or `False` (`bool` type, not strings)\n",
    "\n",
    "|Operator | Description | Example | Result |\n",
    "|:-----:|:----------|:---|:---|\n",
    "|`<`  | is the left side value less than the right | `3 < 5` | `True`|\n",
    "|`>`  | is the left side value greater than the right | `3 > 5` | `False`|\n",
    "|`<=` | is the left value less than or equal to the right | `2 <= 4/2` | `True`|\n",
    "|`>=` | is the left value greater than or equal to the right | `4**2 >= 15` | `True`|\n",
    "|`==` | are the two values equal to each other | `2 + 2 == 2*2` | `True`|\n",
    "|`!=` | are the two values not equal to each other | `16**(1/2) != 4` | `False`|\n",
    "|`is` | is one object the same as another (different than `==`) | `2.0 is 2` | `False`|\n",
    "|`is not` | is one object not the same as the other | `2.0 is  not 2` | `True`|\n",
    "|`in` | is one object in (a sub-set of) the other | `'e' in 'yes'` | `True`|\n",
    "|`not in` | is one object not in the other | `'i' not in 'team'` | `True`|\n",
    "\n",
    "\n",
    "- Mathematical operators take precedence over comparison operators\n",
    "- Comparison operators all have the same precedence and are evaluated left to right\n",
    "- It is important to use parentheses to group portions of expressions\n",
    "- When using the `in` and `not in` operators, the second object must be an iterable\n",
    "- Strings are iterables\n",
    "- Lists, tuples, and ranges are iterables (each of which will be introduced later)"
   ]
  },
  {
   "cell_type": "markdown",
   "metadata": {
    "collapsed": false,
    "deletable": true,
    "editable": true,
    "run_control": {
     "frozen": true
    }
   },
   "source": [
    "## Logical Operators\n",
    "\n",
    "- Logical operators include `and`, `or`, and `not`\n",
    "- Any non-zero value is considered to be logically `True`\n",
    "- Zero is logically `False`\n",
    "\n",
    "|Name | Usage |  Result|\n",
    ":------:|:----------|:---------|\n",
    "`and` | `A and B` |  `True` if both `A` and `B` are `True`; `False` otherwise\n",
    "`or`  |  `A or B` |  `True` if either `A` or `B` are `True`; `False` otherwise\n",
    "`not` | `not A`   |  `True` if `A` is `False`; `False` if `A` is `True`\n",
    "\n",
    "- Can be used with any object\n",
    "- Can be used alongside arithmetic operators\n",
    "- The precedence of the `and`, `or`, and `not` operators falls after all arithmetic operators and comparison operators in the order shown. \n",
    "- Using logical operators with numeric values can generate curious results\n",
    "- Using `or` with two numeric values results in...\n",
    "  - The first non-zero value of the pair if at least one of the values is not zero \n",
    "  - Zero if both values are zero\n",
    "- Using `and` with two numeric values results in... \n",
    "  - The second non-zero value of the pair if neither value is zero\n",
    "  - Zero if either of the values is zero"
   ]
  },
  {
   "cell_type": "markdown",
   "metadata": {
    "collapsed": false,
    "deletable": true,
    "editable": true,
    "run_control": {
     "frozen": true
    }
   },
   "source": [
    "## The `if` Statement Group\n",
    "\n",
    "- `if` is part of a block of commands\n",
    "- First line contains the `if` statement plus a comparison followed by a colon\n",
    "- The colon indicates that the line is the first of a group of lines/commands\n",
    "- The lines that follow...\n",
    "  - Must be indented 4 spaces \n",
    "  - Contain all of the code that need to be executed only if the comparison is `True`\n",
    "- If the initial comparison is `False`\n",
    "  - Execution will skip all of the indented lines before continuing\n",
    "\n",
    "  ```python\n",
    "  x = 9\n",
    "  if x < 10:  # can be any comparison. you must have the colon : at the end\n",
    "      # the indented code only executes if the comparison is true\n",
    "      print('x is less than 10')\n",
    "  print('x =' ,x) # this line always executes\n",
    "  ```"
   ]
  },
  {
   "cell_type": "markdown",
   "metadata": {
    "collapsed": false,
    "deletable": true,
    "editable": true,
    "run_control": {
     "frozen": true
    }
   },
   "source": [
    "## Using the `if-else` Statement Group\n",
    "\n",
    "- `if-else` statement group starts with an `if` group\n",
    "- An `else` statement is added immediately after the last indented line of the `if` group\n",
    "- The `else` must have the same indentation as the `if` line that it is paired with \n",
    "- The `else` line does not (and can not) contain any comparison\n",
    "- The following lines must be\n",
    "  - Indented 4 spaces\n",
    "  - Contain all of the code that needs to execute if the `if` condition is `False`\n",
    "- The first block of commands execute if the condition is `True` \n",
    "- The second block if the condition is `False`\n",
    "\n",
    "  ```python\n",
    "  x = 9\n",
    "  if x < 10:  # can be any comparison. you must have the colon : at the end\n",
    "      # this indented code only executes if the comparison is true\n",
    "      print('x is less than 10')\n",
    "  else:\n",
    "      # this indented code only executes if the comparison is false\n",
    "      print('x is greater than or equal to 10')\n",
    "  print('x =', x) # this line always executes\n",
    "  ```"
   ]
  },
  {
   "cell_type": "markdown",
   "metadata": {
    "collapsed": false,
    "deletable": true,
    "editable": true,
    "run_control": {
     "frozen": true
    }
   },
   "source": [
    "## The `if-elif-else` Statement Group\n",
    "\n",
    "- The addition of `elif` (short for else if) statements allows for any number of possible conditions\n",
    "- The format of the `elif` statement is just like the `if`\n",
    "- It is located after the initial `if` and before an `else`\n",
    "- Use of this statement group type does not mandate the use of an `else` \n",
    "- Only the first condition that evaluates to `True` will be executed\n",
    "- Once an `if` or `elif` group is executed, all others will be skipped\n",
    "\n",
    "    ```python\n",
    "    x = 9\n",
    "    if x < 10:  # can be any comparison. you must have the colon : at the end\n",
    "        # this indented code only executes if the 'if' is true\n",
    "        print('x is less than 10')\n",
    "    elif x == 10:\n",
    "        # this indented code only executes if the 'elif' is true\n",
    "        print('x is equal to 10')\n",
    "    else:\n",
    "        # this indented code only executes if the 'if' and 'elif' are false\n",
    "        print('x is greater than 10')\n",
    "    print('x =',x) # this line always executes\n",
    "    ```"
   ]
  },
  {
   "cell_type": "markdown",
   "metadata": {
    "collapsed": false,
    "deletable": true,
    "editable": true,
    "run_control": {
     "frozen": true
    }
   },
   "source": [
    "## The Ternary Operator; A *Pythonic* Technique\n",
    "\n",
    "- *Python* allows you to perform an assignment and an `if-else` in the same line of code\n",
    "- This operation is called the **ternary operator**\n",
    "- It does the same thing in one expression as a standard `if-else` does with four\n",
    "\n",
    "    ```python\n",
    "    # using an if-else group\n",
    "    y = 10\n",
    "    if y > 10:\n",
    "        x = 25\n",
    "    else:\n",
    "        x = 20\n",
    "    print('x =', x)\n",
    "    ```\n",
    "\n",
    "    ```python\n",
    "    # using a ternary operator\n",
    "    y = 10\n",
    "    x = 25 if y > 10 else 20\n",
    "    print('x =', x)\n",
    "    ```\n"
   ]
  },
  {
   "cell_type": "markdown",
   "metadata": {
    "collapsed": false,
    "deletable": true,
    "editable": true,
    "run_control": {
     "frozen": true
    }
   },
   "source": [
    "**Wrap it up**\n",
    "\n",
    "Click on the **Save** button and then the **Close and halt** button when you are done before closing the tab."
   ]
  }
 ],
 "metadata": {
  "kernelspec": {
   "display_name": "Python 3 (Anaconda 2020)",
   "env": {
    "ADDR2LINE": "/ext/anaconda2020.02/bin/x86_64-conda_cos6-linux-gnu-addr2line",
    "ANACONDA2019": "$EXT/anaconda-2019.03",
    "ANACONDA2020": "/ext/anaconda2020.02",
    "ANACONDA3": "$EXT/anaconda3",
    "ANACONDA5": "$EXT/anaconda5",
    "AR": "/ext/anaconda2020.02/bin/x86_64-conda_cos6-linux-gnu-ar",
    "AS": "/ext/anaconda2020.02/bin/x86_64-conda_cos6-linux-gnu-as",
    "CC": "/ext/anaconda2020.02/bin/x86_64-conda_cos6-linux-gnu-cc",
    "CFLAGS": "-march=nocona -mtune=haswell -ftree-vectorize -fPIC -fstack-protector-strong -fno-plt -O2 -ffunction-sections -pipe -isystem /ext/anaconda2020.02/include",
    "CMAKE_PREFIX_PATH": "/ext/anaconda2020.02:/ext/anaconda2020.02/x86_64-conda_cos6-linux-gnu/sysroot/usr",
    "CONDA_BACKUP_HOST": "x86_64-conda_cos6-linux-gnu",
    "CONDA_BUILD_SYSROOT": "/ext/anaconda2020.02/x86_64-conda_cos6-linux-gnu/sysroot",
    "CONDA_DEFAULT_ENV": "base",
    "CONDA_EXE": "/ext/anaconda2020.02/bin/conda",
    "CONDA_MKL_INTERFACE_LAYER_BACKUP": "",
    "CONDA_PREFIX": "/ext/anaconda2020.02",
    "CONDA_PROMPT_MODIFIER": "(base) ",
    "CONDA_PYTHON_EXE": "/ext/anaconda2020.02/bin/python",
    "CONDA_SHLVL": "1",
    "CPP": "/ext/anaconda2020.02/bin/x86_64-conda_cos6-linux-gnu-cpp",
    "CPPFLAGS": "-DNDEBUG -D_FORTIFY_SOURCE=2 -O2 -isystem /ext/anaconda2020.02/include",
    "CXX": "/ext/anaconda2020.02/bin/x86_64-conda_cos6-linux-gnu-c++",
    "CXXFILT": "/ext/anaconda2020.02/bin/x86_64-conda_cos6-linux-gnu-c++filt",
    "CXXFLAGS": "-fvisibility-inlines-hidden -std=c++17 -fmessage-length=0 -march=nocona -mtune=haswell -ftree-vectorize -fPIC -fstack-protector-strong -fno-plt -O2 -ffunction-sections -pipe -isystem /ext/anaconda2020.02/include",
    "DEBUG_CFLAGS": "-march=nocona -mtune=haswell -ftree-vectorize -fPIC -fstack-protector-all -fno-plt -Og -g -Wall -Wextra -fvar-tracking-assignments -ffunction-sections -pipe -isystem /ext/anaconda2020.02/include",
    "DEBUG_CPPFLAGS": "-D_DEBUG -D_FORTIFY_SOURCE=2 -Og -isystem /ext/anaconda2020.02/include",
    "DEBUG_CXXFLAGS": "-fvisibility-inlines-hidden -std=c++17 -fmessage-length=0 -march=nocona -mtune=haswell -ftree-vectorize -fPIC -fstack-protector-all -fno-plt -Og -g -Wall -Wextra -fvar-tracking-assignments -ffunction-sections -pipe -isystem /ext/anaconda2020.02/include",
    "DEBUG_FFLAGS": "-fopenmp -march=nocona -mtune=haswell -ftree-vectorize -fPIC -fstack-protector-strong -fno-plt -O2 -ffunction-sections -pipe -isystem /ext/anaconda2020.02/include -fopenmp -march=nocona -mtune=haswell -ftree-vectorize -fPIC -fstack-protector-all -fno-plt -Og -g -Wall -Wextra -fcheck=all -fbacktrace -fimplicit-none -fvar-tracking-assignments -ffunction-sections -pipe",
    "DEBUG_FORTRANFLAGS": "-fopenmp -march=nocona -mtune=haswell -ftree-vectorize -fPIC -fstack-protector-strong -fno-plt -O2 -ffunction-sections -pipe -isystem /ext/anaconda2020.02/include -fopenmp -march=nocona -mtune=haswell -ftree-vectorize -fPIC -fstack-protector-all -fno-plt -Og -g -Wall -Wextra -fcheck=all -fbacktrace -fimplicit-none -fvar-tracking-assignments -ffunction-sections -pipe",
    "ELFEDIT": "/ext/anaconda2020.02/bin/x86_64-conda_cos6-linux-gnu-elfedit",
    "F77": "/ext/anaconda2020.02/bin/x86_64-conda_cos6-linux-gnu-gfortran",
    "F90": "/ext/anaconda2020.02/bin/x86_64-conda_cos6-linux-gnu-gfortran",
    "F95": "/ext/anaconda2020.02/bin/x86_64-conda_cos6-linux-gnu-f95",
    "FC": "/ext/anaconda2020.02/bin/x86_64-conda_cos6-linux-gnu-gfortran",
    "FFLAGS": "-fopenmp -march=nocona -mtune=haswell -ftree-vectorize -fPIC -fstack-protector-strong -fno-plt -O2 -ffunction-sections -pipe -isystem /ext/anaconda2020.02/include",
    "FORTRANFLAGS": "-fopenmp -march=nocona -mtune=haswell -ftree-vectorize -fPIC -fstack-protector-strong -fno-plt -O2 -ffunction-sections -pipe -isystem /ext/anaconda2020.02/include",
    "GCC": "/ext/anaconda2020.02/bin/x86_64-conda_cos6-linux-gnu-gcc",
    "GCC_AR": "/ext/anaconda2020.02/bin/x86_64-conda_cos6-linux-gnu-gcc-ar",
    "GCC_NM": "/ext/anaconda2020.02/bin/x86_64-conda_cos6-linux-gnu-gcc-nm",
    "GCC_RANLIB": "/ext/anaconda2020.02/bin/x86_64-conda_cos6-linux-gnu-gcc-ranlib",
    "GDAL_DATA": "/ext/anaconda2020.02/share/gdal",
    "GFORTRAN": "/ext/anaconda2020.02/bin/x86_64-conda_cos6-linux-gnu-gfortran",
    "GPROF": "/ext/anaconda2020.02/bin/x86_64-conda_cos6-linux-gnu-gprof",
    "GXX": "/ext/anaconda2020.02/bin/x86_64-conda_cos6-linux-gnu-g++",
    "JAVA_HOME": "/ext/anaconda2020.02",
    "JAVA_HOME_CONDA_BACKUP": "",
    "JAVA_LD_LIBRARY_PATH": "/ext/anaconda2020.02/lib/server",
    "LD": "/ext/anaconda2020.02/bin/x86_64-conda_cos6-linux-gnu-ld",
    "LDFLAGS": "-Wl,-O2 -Wl,--sort-common -Wl,--as-needed -Wl,-z,relro -Wl,-z,now -Wl,--disable-new-dtags -Wl,--gc-sections -Wl,-rpath,/ext/anaconda2020.02/lib -Wl,-rpath-link,/ext/anaconda2020.02/lib -L/ext/anaconda2020.02/lib",
    "LD_GOLD": "/ext/anaconda2020.02/bin/x86_64-conda_cos6-linux-gnu-ld.gold",
    "LD_LIBRARY_PATH": "/ext/anaconda2020.02/lib",
    "MKL_INTERFACE_LAYER": "LP64,GNU",
    "MKL_THREADING_LAYER": "GNU",
    "NM": "/ext/anaconda2020.02/bin/x86_64-conda_cos6-linux-gnu-nm",
    "OBJCOPY": "/ext/anaconda2020.02/bin/x86_64-conda_cos6-linux-gnu-objcopy",
    "OBJDUMP": "/ext/anaconda2020.02/bin/x86_64-conda_cos6-linux-gnu-objdump",
    "OLDPWD": "/ext/anaconda2020.02",
    "PATH": "/ext/anaconda2020.02/bin:/ext/anaconda2020.02/bin:/ext/anaconda2020.02/condabin:/cocalc/bin:/cocalc/src/smc-project/bin:/home/salvus/bin:/home/salvus/.local/bin:/usr/lib/xpra:/ext/bin:/opt/ghc/bin:/usr/local/sbin:/usr/local/bin:/usr/sbin:/usr/bin:/sbin:/bin:/snap/bin:/usr/lib/postgresql/10/bin:/ext/data/homer/bin:/ext/data/weblogo",
    "PROJ_LIB": "/ext/anaconda2020.02/share/proj",
    "RANLIB": "/ext/anaconda2020.02/bin/x86_64-conda_cos6-linux-gnu-ranlib",
    "READELF": "/ext/anaconda2020.02/bin/x86_64-conda_cos6-linux-gnu-readelf",
    "RSTUDIO_WHICH_R": "/ext/anaconda2020.02/bin/R",
    "SIZE": "/ext/anaconda2020.02/bin/x86_64-conda_cos6-linux-gnu-size",
    "STRINGS": "/ext/anaconda2020.02/bin/x86_64-conda_cos6-linux-gnu-strings",
    "STRIP": "/ext/anaconda2020.02/bin/x86_64-conda_cos6-linux-gnu-strip",
    "_CE_CONDA": "",
    "_CE_M": "",
    "_CONDA_PYTHON_SYSCONFIGDATA_NAME": "_sysconfigdata_x86_64_conda_cos6_linux_gnu"
   },
   "language": "python",
   "metadata": {
    "cocalc": {
     "description": "Python/R distribution for data science",
     "priority": 5,
     "url": "https://www.anaconda.com/distribution/"
    }
   },
   "name": "anaconda2020",
   "resource_dir": "/ext/jupyter/kernels/anaconda2020"
  },
  "language_info": {
   "codemirror_mode": {
    "name": "ipython",
    "version": 3
   },
   "file_extension": ".py",
   "mimetype": "text/x-python",
   "name": "python",
   "nbconvert_exporter": "python",
   "pygments_lexer": "ipython3",
   "version": "3.8.5"
  },
  "varInspector": {
   "cols": {
    "lenName": 16,
    "lenType": 16,
    "lenVar": 40
   },
   "kernels_config": {
    "python": {
     "delete_cmd_postfix": "",
     "delete_cmd_prefix": "del ",
     "library": "var_list.py",
     "varRefreshCmd": "print(var_dic_list())"
    },
    "r": {
     "delete_cmd_postfix": ") ",
     "delete_cmd_prefix": "rm(",
     "library": "var_list.r",
     "varRefreshCmd": "cat(var_dic_list()) "
    }
   },
   "types_to_exclude": [
    "module",
    "function",
    "builtin_function_or_method",
    "instance",
    "_Feature"
   ],
   "window_display": false
  }
 },
 "nbformat": 4,
 "nbformat_minor": 4
}
