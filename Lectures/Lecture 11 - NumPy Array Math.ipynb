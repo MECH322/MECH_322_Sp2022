{
 "cells": [
  {
   "cell_type": "markdown",
   "metadata": {
    "collapsed": false,
    "deletable": false,
    "editable": false,
    "run_control": {
     "frozen": true
    }
   },
   "source": [
    "# Lecture 11 - *NumPy* Array Math\n",
    "___"
   ]
  },
  {
   "cell_type": "markdown",
   "metadata": {
    "collapsed": false,
    "deletable": false,
    "editable": false,
    "run_control": {
     "frozen": true
    }
   },
   "source": [
    "\n",
    "## Backround\n",
    "\n",
    "- Much of the power inherent in *NumPy* is the ability to perform math operations with arrays, not just create them\n",
    "- Scalar values (single values that are not in an array) can be used to operate on arrays of any size\n",
    "  - Scale all values up or down by a specific factor\n",
    "  - Add or subtract an offset to all values in an array\n",
    "- Two arrays of the same size can operate on each other in an element-by-element manner\n",
    "  - One array with distances\n",
    "  - Another array with times\n",
    "  - Dividing distance array by time array results an array of velocities\n",
    "- *NumPy* is also used to perform linear algebra and matrix operations, including...\n",
    "  - Inverting\n",
    "  - Transposing\n",
    "  - Finding determinants\n",
    "  - Multiplying arrays\n",
    "  - These operations can be used for finding solutions to sets of linear equations (think back to Statics class)\n",
    "- This notebook will concentrate on the following...\n",
    "  - Scalar-array operations\n",
    "  - Element-by-element operations\n",
    "  - Introducing functions for the creation of random numbers (both as scalars and arrays)\n",
    "  - Some built-in functions for analyzing arrays\n",
    "- A future notebook will focus on the linear algebra and matrix operations\n",
    "\n",
    "## Purpose\n",
    "\n",
    "- Perform math with arrays and scalar objects\n",
    "- Perform math using multiple arrays at the same time\n",
    "- Use *NumPy* functions on elements in arrays"
   ]
  },
  {
   "cell_type": "markdown",
   "metadata": {
    "collapsed": false,
    "deletable": false,
    "editable": false,
    "run_control": {
     "frozen": true
    }
   },
   "source": [
    "## *NumPy* Array Review\n",
    "\n",
    "- Previously we learned how to create and modify *NumPy* arrays using...\n",
    "  - `np.array()`\n",
    "  - `np.arange()`\n",
    "  - `np.linspace()` \n",
    "- We also used indexing and slicing to access and modify individual and groups of elements in arrays\n",
    "- Recall that we need to import *NumPy* in order to use it. Do that right away so you don't forget."
   ]
  },
  {
   "cell_type": "code",
   "execution_count": null,
   "metadata": {
    "collapsed": false,
    "deletable": false,
    "editable": true
   },
   "outputs": [],
   "source": [
    "import numpy as np"
   ]
  },
  {
   "cell_type": "markdown",
   "metadata": {
    "collapsed": false,
    "deletable": false,
    "editable": false,
    "run_control": {
     "frozen": true
    }
   },
   "source": [
    "## Scalar-Array Operations\n",
    "\n",
    "- Math operations can be performed with arrays and scalars\n",
    "- These include...\n",
    "  - Addition\n",
    "  - Subtraction\n",
    "  - Multiplication\n",
    "  - Division\n",
    "  - Exponentiation\n",
    "- For example, you can add the same value to every element in an array or multiply all elements by a value\n",
    "- This functionality is referred to as broadcasting"
   ]
  },
  {
   "cell_type": "markdown",
   "metadata": {
    "collapsed": false,
    "deletable": false,
    "editable": false,
    "run_control": {
     "frozen": true
    }
   },
   "source": [
    "## Array-Array Math Operations\n",
    "\n",
    "- Arrays of the same size can be used to perform mathematical operations on/with each other\n",
    "- These are called \"element-by-element\" operations\n",
    "- You can perform operations on arrays of the same size\n",
    "  - Use the `+` and `-` operators for addition and subtraction\n",
    "  - Use the `*` and `/` operators for multiplication and division\n",
    "  - Raise all of the elements in one array to the values of the elements in another array using the `` operator\n"
   ]
  },
  {
   "cell_type": "markdown",
   "metadata": {
    "collapsed": false,
    "deletable": false,
    "editable": false,
    "run_control": {
     "frozen": true
    }
   },
   "source": [
    "## Using Math Functions with Arrays\n",
    "\n",
    "- When using mathematical functions on numeric arrays, **do not** use the `math` module \n",
    "- Functions (and constants) in this module are designed to work on scalar values, not arrays of values\n",
    "- *NumPy* includes its own mathematical functions and constants that are designed to work with arrays\n",
    "  - For example, use `np.pi` not `math.pi` \n",
    "  - `np.sin()` not `math.sin()`\n",
    "- The following table shows some commmon *NumPy* math functions that match up to `math` module funtions\n",
    "- It is assumed that the statement `import numpy as np` was used to import the *NumPy* module\n",
    "\n",
    "  | `math` | `numpy` |\n",
    "  |:------|:------|\n",
    "  | `math.sin(x)` | `np.sin(x)`|\n",
    "  | `math.cos(x)` | `np.cos(x)`|\n",
    "  | `math.tan(x)` | `np.tan(x)`|\n",
    "  | `math.asin(x)` | `np.arcsin(x)`|\n",
    "  | `math.acos(x)` | `np.arccos(x)`|\n",
    "  | `math.atan(x)` | `np.arctan(x)`|\n",
    "  | `math.atan2(y, x)` | `np.arctan2(y, x)`|\n",
    "  | `math.hypot(x, y)` | `np.hypot(x, y)`|\n",
    "  | `math.radians(x)` | `np.radians(x)`|\n",
    "  | `math.degrees(x)` | `np.degrees(x)`|\n",
    "  | `math.pi` | `np.pi`|\n",
    "  | `math.e` | `np.e`|\n",
    "  | `math.exp(x)` | `np.exp(x)`|\n",
    "  | `math.log(x)` | `np.log(x)`|\n",
    "  | `math.log10()` | `np.log10(x)`|\n",
    "  | `math.sin()` | `np.sin(x)`|\n",
    "  | `math.round(x)` | `np.round(x)`|\n",
    "  | `math.sqrt(x)` | `np.sqrt(x)`|"
   ]
  },
  {
   "cell_type": "markdown",
   "metadata": {
    "collapsed": false,
    "deletable": false,
    "editable": false,
    "run_control": {
     "frozen": true
    }
   },
   "source": [
    "## *NumPy* Statistical Functions (and a Few More)\n",
    "\n",
    "- *NumPy* offers a number of functions that can be used perform statistical analysis on values in arrays\n",
    "- The following table describes the most common of these functions plus a few more helpful functions\n",
    "- The descriptions are based on one-dimensional arrays (which are the most common)\n",
    "\n",
    "    | `numpy` Function | Description |\n",
    "    |:---|:---|\n",
    "    |`np.sum()` | Sum the values |\n",
    "    |`np.mean()` | Arithmetic mean |\n",
    "    |`np.median()` | Median value |\n",
    "    |`np.std()` | Standard deviation |\n",
    "    |`np.var()` | Variance |\n",
    "    |`np.max()` | Maximum value |\n",
    "    |`np.argmax()` | Index of the maximum value |\n",
    "    |`np.min()` | Minimum value |\n",
    "    |`np.argmin()` | Index of the minimum value |\n",
    "    |`np.sort()` | Create a sorted copy |\n"
   ]
  },
  {
   "cell_type": "markdown",
   "metadata": {
    "collapsed": false,
    "deletable": false,
    "editable": false,
    "run_control": {
     "frozen": true
    }
   },
   "source": [
    "## Random Number Generation \n",
    "\n",
    "- Within `numpy` there is a random number module called `random`\n",
    "- Use `np.random.rand()` in order to use the `rand()` function\n",
    "- The following table describes a number of the random functions that are available available\n",
    "- When a range is given as $[0,1)$\n",
    "  - It means between $0$ and $1$, including $0$ but not including $1$\n",
    "  - This is referred to as a half-open range\n",
    "- Use `(low - high)*np.random.rand() + low` to generate a random floating point value between `low` and `high`.\n",
    "\n",
    "  | Function | Description |\n",
    "  |:---|:---|\n",
    "  | `np.random.rand()` | Random float from a uniform distribution over $[0, 1)$ |\n",
    "  | `np.random.rand(x)` | Array of `x` random floats from a uniform distribution over $[0, 1)$ |\n",
    "  | `np.random.rand(r, c)` | An $r\\times c$ array of random floats from a uniform distribution over $[0, 1)$ |\n",
    "  | `np.random.randint(x)` | A random integer from $[0, x)$ |\n",
    "  | `np.random.randint(low, high)` | A random integer from $[low, high)$ |\n",
    "  | `np.random.randint(low, high, size)` | Array of length `size` filled with random integers from $[low, high)$ |\n",
    "  | `np.random.randint(low, high, (r, c))` | An $r\\times c$ array of random integers from $[low, high)$ |\n",
    "  | `np.random.randn()` | A random value from a normal distribution of mean $0$ and variance of $1$ |\n",
    "  | `np.random.randn(x)` | Array of `x` random values from a normal distribution |\n",
    "  | `np.random.randn(r, c)` | $r\\times c$ array of random values from a normal distribution |\n",
    "  | `np.random.shuffle(arr)` | Randomly shuffle array `arr` in place |\n",
    "\n",
    "\n"
   ]
  },
  {
   "cell_type": "markdown",
   "metadata": {
    "collapsed": false,
    "deletable": false,
    "editable": false,
    "run_control": {
     "frozen": true
    }
   },
   "source": [
    "**Wrap it up**\n",
    "\n",
    "Click on the **Save** button and then the **Close and halt** button when you are done before closing the tab."
   ]
  }
 ],
 "metadata": {
  "kernelspec": {
   "display_name": "Python 3 (Anaconda 2020)",
   "env": {
    "ADDR2LINE": "/ext/anaconda2020.02/bin/x86_64-conda_cos6-linux-gnu-addr2line",
    "ANACONDA2019": "$EXT/anaconda-2019.03",
    "ANACONDA2020": "/ext/anaconda2020.02",
    "ANACONDA3": "$EXT/anaconda3",
    "ANACONDA5": "$EXT/anaconda5",
    "AR": "/ext/anaconda2020.02/bin/x86_64-conda_cos6-linux-gnu-ar",
    "AS": "/ext/anaconda2020.02/bin/x86_64-conda_cos6-linux-gnu-as",
    "CC": "/ext/anaconda2020.02/bin/x86_64-conda_cos6-linux-gnu-cc",
    "CFLAGS": "-march=nocona -mtune=haswell -ftree-vectorize -fPIC -fstack-protector-strong -fno-plt -O2 -ffunction-sections -pipe -isystem /ext/anaconda2020.02/include",
    "CMAKE_PREFIX_PATH": "/ext/anaconda2020.02:/ext/anaconda2020.02/x86_64-conda_cos6-linux-gnu/sysroot/usr",
    "CONDA_BACKUP_HOST": "x86_64-conda_cos6-linux-gnu",
    "CONDA_BUILD_SYSROOT": "/ext/anaconda2020.02/x86_64-conda_cos6-linux-gnu/sysroot",
    "CONDA_DEFAULT_ENV": "base",
    "CONDA_EXE": "/ext/anaconda2020.02/bin/conda",
    "CONDA_MKL_INTERFACE_LAYER_BACKUP": "",
    "CONDA_PREFIX": "/ext/anaconda2020.02",
    "CONDA_PROMPT_MODIFIER": "(base) ",
    "CONDA_PYTHON_EXE": "/ext/anaconda2020.02/bin/python",
    "CONDA_SHLVL": "1",
    "CPP": "/ext/anaconda2020.02/bin/x86_64-conda_cos6-linux-gnu-cpp",
    "CPPFLAGS": "-DNDEBUG -D_FORTIFY_SOURCE=2 -O2 -isystem /ext/anaconda2020.02/include",
    "CXX": "/ext/anaconda2020.02/bin/x86_64-conda_cos6-linux-gnu-c++",
    "CXXFILT": "/ext/anaconda2020.02/bin/x86_64-conda_cos6-linux-gnu-c++filt",
    "CXXFLAGS": "-fvisibility-inlines-hidden -std=c++17 -fmessage-length=0 -march=nocona -mtune=haswell -ftree-vectorize -fPIC -fstack-protector-strong -fno-plt -O2 -ffunction-sections -pipe -isystem /ext/anaconda2020.02/include",
    "DEBUG_CFLAGS": "-march=nocona -mtune=haswell -ftree-vectorize -fPIC -fstack-protector-all -fno-plt -Og -g -Wall -Wextra -fvar-tracking-assignments -ffunction-sections -pipe -isystem /ext/anaconda2020.02/include",
    "DEBUG_CPPFLAGS": "-D_DEBUG -D_FORTIFY_SOURCE=2 -Og -isystem /ext/anaconda2020.02/include",
    "DEBUG_CXXFLAGS": "-fvisibility-inlines-hidden -std=c++17 -fmessage-length=0 -march=nocona -mtune=haswell -ftree-vectorize -fPIC -fstack-protector-all -fno-plt -Og -g -Wall -Wextra -fvar-tracking-assignments -ffunction-sections -pipe -isystem /ext/anaconda2020.02/include",
    "DEBUG_FFLAGS": "-fopenmp -march=nocona -mtune=haswell -ftree-vectorize -fPIC -fstack-protector-strong -fno-plt -O2 -ffunction-sections -pipe -isystem /ext/anaconda2020.02/include -fopenmp -march=nocona -mtune=haswell -ftree-vectorize -fPIC -fstack-protector-all -fno-plt -Og -g -Wall -Wextra -fcheck=all -fbacktrace -fimplicit-none -fvar-tracking-assignments -ffunction-sections -pipe",
    "DEBUG_FORTRANFLAGS": "-fopenmp -march=nocona -mtune=haswell -ftree-vectorize -fPIC -fstack-protector-strong -fno-plt -O2 -ffunction-sections -pipe -isystem /ext/anaconda2020.02/include -fopenmp -march=nocona -mtune=haswell -ftree-vectorize -fPIC -fstack-protector-all -fno-plt -Og -g -Wall -Wextra -fcheck=all -fbacktrace -fimplicit-none -fvar-tracking-assignments -ffunction-sections -pipe",
    "ELFEDIT": "/ext/anaconda2020.02/bin/x86_64-conda_cos6-linux-gnu-elfedit",
    "F77": "/ext/anaconda2020.02/bin/x86_64-conda_cos6-linux-gnu-gfortran",
    "F90": "/ext/anaconda2020.02/bin/x86_64-conda_cos6-linux-gnu-gfortran",
    "F95": "/ext/anaconda2020.02/bin/x86_64-conda_cos6-linux-gnu-f95",
    "FC": "/ext/anaconda2020.02/bin/x86_64-conda_cos6-linux-gnu-gfortran",
    "FFLAGS": "-fopenmp -march=nocona -mtune=haswell -ftree-vectorize -fPIC -fstack-protector-strong -fno-plt -O2 -ffunction-sections -pipe -isystem /ext/anaconda2020.02/include",
    "FORTRANFLAGS": "-fopenmp -march=nocona -mtune=haswell -ftree-vectorize -fPIC -fstack-protector-strong -fno-plt -O2 -ffunction-sections -pipe -isystem /ext/anaconda2020.02/include",
    "GCC": "/ext/anaconda2020.02/bin/x86_64-conda_cos6-linux-gnu-gcc",
    "GCC_AR": "/ext/anaconda2020.02/bin/x86_64-conda_cos6-linux-gnu-gcc-ar",
    "GCC_NM": "/ext/anaconda2020.02/bin/x86_64-conda_cos6-linux-gnu-gcc-nm",
    "GCC_RANLIB": "/ext/anaconda2020.02/bin/x86_64-conda_cos6-linux-gnu-gcc-ranlib",
    "GDAL_DATA": "/ext/anaconda2020.02/share/gdal",
    "GFORTRAN": "/ext/anaconda2020.02/bin/x86_64-conda_cos6-linux-gnu-gfortran",
    "GPROF": "/ext/anaconda2020.02/bin/x86_64-conda_cos6-linux-gnu-gprof",
    "GXX": "/ext/anaconda2020.02/bin/x86_64-conda_cos6-linux-gnu-g++",
    "JAVA_HOME": "/ext/anaconda2020.02",
    "JAVA_HOME_CONDA_BACKUP": "",
    "JAVA_LD_LIBRARY_PATH": "/ext/anaconda2020.02/lib/server",
    "LD": "/ext/anaconda2020.02/bin/x86_64-conda_cos6-linux-gnu-ld",
    "LDFLAGS": "-Wl,-O2 -Wl,--sort-common -Wl,--as-needed -Wl,-z,relro -Wl,-z,now -Wl,--disable-new-dtags -Wl,--gc-sections -Wl,-rpath,/ext/anaconda2020.02/lib -Wl,-rpath-link,/ext/anaconda2020.02/lib -L/ext/anaconda2020.02/lib",
    "LD_GOLD": "/ext/anaconda2020.02/bin/x86_64-conda_cos6-linux-gnu-ld.gold",
    "LD_LIBRARY_PATH": "/ext/anaconda2020.02/lib",
    "MKL_INTERFACE_LAYER": "LP64,GNU",
    "MKL_THREADING_LAYER": "GNU",
    "NM": "/ext/anaconda2020.02/bin/x86_64-conda_cos6-linux-gnu-nm",
    "OBJCOPY": "/ext/anaconda2020.02/bin/x86_64-conda_cos6-linux-gnu-objcopy",
    "OBJDUMP": "/ext/anaconda2020.02/bin/x86_64-conda_cos6-linux-gnu-objdump",
    "OLDPWD": "/ext/anaconda2020.02",
    "PATH": "/ext/anaconda2020.02/bin:/ext/anaconda2020.02/bin:/ext/anaconda2020.02/condabin:/cocalc/bin:/cocalc/src/smc-project/bin:/home/salvus/bin:/home/salvus/.local/bin:/usr/lib/xpra:/ext/bin:/opt/ghc/bin:/usr/local/sbin:/usr/local/bin:/usr/sbin:/usr/bin:/sbin:/bin:/snap/bin:/usr/lib/postgresql/10/bin:/ext/data/homer/bin:/ext/data/weblogo",
    "PROJ_LIB": "/ext/anaconda2020.02/share/proj",
    "RANLIB": "/ext/anaconda2020.02/bin/x86_64-conda_cos6-linux-gnu-ranlib",
    "READELF": "/ext/anaconda2020.02/bin/x86_64-conda_cos6-linux-gnu-readelf",
    "RSTUDIO_WHICH_R": "/ext/anaconda2020.02/bin/R",
    "SIZE": "/ext/anaconda2020.02/bin/x86_64-conda_cos6-linux-gnu-size",
    "STRINGS": "/ext/anaconda2020.02/bin/x86_64-conda_cos6-linux-gnu-strings",
    "STRIP": "/ext/anaconda2020.02/bin/x86_64-conda_cos6-linux-gnu-strip",
    "_CE_CONDA": "",
    "_CE_M": "",
    "_CONDA_PYTHON_SYSCONFIGDATA_NAME": "_sysconfigdata_x86_64_conda_cos6_linux_gnu"
   },
   "language": "python",
   "metadata": {
    "cocalc": {
     "description": "Python/R distribution for data science",
     "priority": 5,
     "url": "https://www.anaconda.com/distribution/"
    }
   },
   "name": "anaconda2020",
   "resource_dir": "/ext/jupyter/kernels/anaconda2020"
  },
  "language_info": {
   "codemirror_mode": {
    "name": "ipython",
    "version": 3
   },
   "file_extension": ".py",
   "mimetype": "text/x-python",
   "name": "python",
   "nbconvert_exporter": "python",
   "pygments_lexer": "ipython3",
   "version": "3.7.4"
  },
  "varInspector": {
   "cols": {
    "lenName": 16,
    "lenType": 16,
    "lenVar": 40
   },
   "kernels_config": {
    "python": {
     "delete_cmd_postfix": "",
     "delete_cmd_prefix": "del ",
     "library": "var_list.py",
     "varRefreshCmd": "print(var_dic_list())"
    },
    "r": {
     "delete_cmd_postfix": ") ",
     "delete_cmd_prefix": "rm(",
     "library": "var_list.r",
     "varRefreshCmd": "cat(var_dic_list()) "
    }
   },
   "types_to_exclude": [
    "module",
    "function",
    "builtin_function_or_method",
    "instance",
    "_Feature"
   ],
   "window_display": false
  }
 },
 "nbformat": 4,
 "nbformat_minor": 4
}
