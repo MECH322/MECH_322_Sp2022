{
 "cells": [
  {
   "cell_type": "markdown",
   "metadata": {
    "collapsed": false,
    "deletable": false,
    "editable": false,
    "run_control": {
     "frozen": true
    }
   },
   "source": [
    "# Lecture 12 - *NumPy* Matrix Operations\n",
    "___"
   ]
  },
  {
   "cell_type": "markdown",
   "metadata": {
    "collapsed": false,
    "deletable": false,
    "editable": false,
    "run_control": {
     "frozen": true
    }
   },
   "source": [
    "## Purpose:\n",
    "\n",
    "- A previous notebook introduced a number of mathematical operations for arrays (one and two-dimensional)\n",
    "- The focus was on operations performed with arrays and scalars and element-by-element operations\n",
    "- This notebook will concentrate on *NumPy* array and matrix operations\n",
    "  - Used to solve systems of simultaneous equations\n",
    "  - Other special array operations\n"
   ]
  },
  {
   "cell_type": "markdown",
   "metadata": {
    "collapsed": false,
    "deletable": false,
    "editable": false,
    "run_control": {
     "frozen": true
    }
   },
   "source": [
    "## Background:\n",
    "\n",
    "- The standard multiplication operator `*` performs element-by-element multiplication with *NumPy* arrays\n",
    "- Matrix multiplication requires a specific function and array sizing\n",
    "  - The *NumPy* function that we will initially use for this task is `np.dot()`\n",
    "  - Matrix multiplication requires the sizes of the arrays to match in a very specific way\n",
    "    - The number of columns in the first array must be equal to the number of rows in the second\n",
    "- The resulting array will have the same number of rows as the first array and the same number of columns as the second\n",
    "- For example, assume array `A` is $4\\times3$ in size and array `B` is $3\\times2$ array\n",
    "  - These arrays cannot be multiplied by using the element by element multiplication operations `A*B` or `B*A`\n",
    "  - They can me multiplied using matrix multiplication with the expression `np.dot(A, B)` but not with `np.dot(B, A)`\n",
    "  - The number of columns in `A` matches the number of rows in `B`\n",
    "  - But the number of columns in `B` does not match the number of rows in `A`\n",
    "  - The matrix multiplication `np.dot(A, B)` will yield a $4\\times2$ matrix\n",
    "  - This matrix multiplication is carried symbolically out in the example below"
   ]
  },
  {
   "cell_type": "markdown",
   "metadata": {
    "collapsed": false,
    "deletable": false,
    "editable": false
   },
   "source": [
    "$A_{(3\\times3)}=\n",
    "\\left[ \\begin{array}{ccc}\n",
    "A_{11} & A_{12} & A_{13}\\\\\n",
    "A_{21} & A_{22} & A_{23}\\\\\n",
    "A_{31} & A_{32} & A_{33}\\end{array} \\right]$\n",
    "\n",
    "$B_{(3\\times2)}=\n",
    "\\left[ \\begin{array}{ccc}\n",
    "B_{11} & B_{12}\\\\\n",
    "B_{21} & B_{22}\\\\\n",
    "B_{31} & B_{32}\\end{array} \\right]$\n",
    "\n",
    "$A_{(3\\times3)}\\times B_{(3\\times2)}=R_{(3\\times2)}=\n",
    "\\left[ \\begin{array}{cc}\n",
    "\\left( A_{11}B_{11} + A_{12}B_{21} + A_{13}B_{31} \\right) & \\left( A_{11}B_{12} + A_{12}B_{22} + A_{13}B_{32} \\right)\\\\\n",
    "\\left( A_{21}B_{11} + A_{22}B_{21} + A_{23}B_{31} \\right) & \\left( A_{21}B_{12} + A_{22}B_{22} + A_{23}B_{32} \\right)\\\\\n",
    "\\left( A_{31}B_{11} + A_{32}B_{21} + A_{33}B_{31} \\right) & \\left( A_{31}B_{12} + A_{32}B_{22} + A_{33}B_{32} \\right)\\end{array} \\right]$\n",
    "\n"
   ]
  },
  {
   "cell_type": "markdown",
   "metadata": {
    "collapsed": false,
    "deletable": false,
    "editable": false,
    "run_control": {
     "frozen": true
    }
   },
   "source": [
    "## Matrix Multiplication Using `np.dot()`\n",
    "\n",
    "- The `*` operator performs standard element-by-element multiplication\n",
    "- If both arrays are the same size, corresponding elements in the two arrays are simply multiplied together\n",
    "- This cannot be used to solve simultaneous equations...\n",
    "  - That requires use of matrix multiplication\n",
    "  - Which is implemented by the `np.dot()` function\n",
    "- Arrays need to be the same size to use `np.dot()`\n",
    "- Order matters when using `np.dot()`, i.e. `np.dot(a, b)` is different than `np.dot(b, a)`\n",
    "- Starting with *Python 3.5*, *NumPy* allows matrix multiplication using the `@` operator as well as the `np.dot()` function\n",
    "- For example, `A@B` is the same is `np.dot(A, B)`\n",
    "- `np.dot()` (or the `@` operator) can work with a pair of one-dimensional arrays of the same size"
   ]
  },
  {
   "cell_type": "markdown",
   "metadata": {
    "collapsed": false,
    "deletable": false,
    "editable": false,
    "run_control": {
     "frozen": true
    }
   },
   "source": [
    "## A Little Linear Algebra:\n",
    "\n",
    "- Systems of linear equations can be expressed in matrix form and solved using the *NumPy* and *SciPy* modules\n",
    "- Such equations are used in Statics for equilibrium problems\n",
    "- Given the following generic set of equations with unknowns $x_1$, $x_2$, and $x_3$ (could be any three variables, such as $F_{AB}$, $F_{AC}$, and $F_{BC}$)\n",
    "\n",
    "$A_{11}x_1 + A_{12}x_2 + A_{13}x_3 = B_1 \\\\\n",
    " A_{21}x_1 + A_{22}x_2 + A_{23}x_3 = B_2 \\\\\n",
    " A_{31}x_1 + A_{32}x_2 + A_{33}x_3 = B_3 $\n",
    "\n",
    "- These equations can be rewritten in the form $[A][x]=[B]$ as shown below:\n",
    "\n",
    "$\\left[ \\begin{array}{ccc}\n",
    "A_{11} & A_{12} & A_{13}\\\\\n",
    "A_{21} & A_{22} & A_{23}\\\\\n",
    "A_{31} & A_{32} & A_{33}\\end{array} \\right]\n",
    "\\left[ \\begin{array}{c}\n",
    "x_1\\\\\n",
    "x_2\\\\\n",
    "x_3\\end{array} \\right]=\n",
    "\\left[ \\begin{array}{c}\n",
    "B_1\\\\\n",
    "B_2\\\\\n",
    "B_3\\end{array} \\right]$\n",
    "\n",
    "- Solve for $[x]$ (the unknowns) by multiplying both sides of the equation by the inverse of $[A]$.\n",
    "- If this were a standard algebraic equation like $Ax=B$ instead of a matrix equation...\n",
    "  - We could multiply both sides by $A^{-1}$\n",
    "  - Or multiply by $1/A$\n",
    "  - Or divide by $A$\n",
    "  - Ending up with $x=A^{-1}B=B\\,/A$\n",
    "  - Below is the matrix form\n",
    "\n",
    "$[A]^{-1}[A][x]=[A]^{-1}[B]\\\\\n",
    "\\text{where }[A]^{-1}[A][x]=[I][x]=[x]\\\\\n",
    "\\therefore [x]=[A]^{-1}[B]$\n",
    "\n",
    "- Matrix $[A]$ is generally referred to as the coefficient or left-hand side matrix\n",
    "- $[B]$ is the right-hand side matrix\n",
    "- Solving requires multiplying the inverse of the coefficient matrix $[A]^{-1}$ by the right-hand side matrix $[B]$\n",
    "  - Must use matrix multiplication\n",
    "  - The order of this muliplication is important\n",
    "  - A solution can only be obtained if the coefficient matrix is invertible (i.e. no divide by zero)\n",
    "  - Only invertible if the determinant of the coefficient matrix is a non-zero value."
   ]
  },
  {
   "cell_type": "markdown",
   "metadata": {
    "collapsed": false,
    "deletable": false,
    "editable": false,
    "run_control": {
     "frozen": true
    }
   },
   "source": [
    "## Inverses, Identity Matrix, and Determinants\n",
    "\n",
    "- *NumPy* provides a group of functions in `numpy.linalg` (linear algebra) to make the matrix operations easier\n",
    "- Import this specific module and give it a shorthand alias in order to access its commands\n",
    "- Using the following will allow you to access commands in the module with syntax like `la.inv(F)`\n",
    "\n",
    "  `from numpy import linalg as la`\n",
    "  \n",
    "  <br/>  \n",
    "\n",
    "- Inside the `numpy.linalg` module there are commands for...\n",
    "  - Inverting arrays, `la.inv()`\n",
    "  - Finding determinants, `la.det()`\n",
    "    - Only square arrays can be inverted\n",
    "    - You can only find the determinant of a square array"
   ]
  },
  {
   "cell_type": "markdown",
   "metadata": {
    "collapsed": false,
    "deletable": false,
    "editable": false,
    "run_control": {
     "frozen": true
    }
   },
   "source": [
    "## Solving the Equations\n",
    "\n",
    "- We can solve for the unknown array $[x]$ by matrix muliplying the inverse of the coefficient array by the right hand side array\n",
    "- Generally the right hand side array needs to be vertical (i.e. $3\\times 1$) not horizontal (i.e. $1\\times 3$)\n",
    "- *NumPy* is usually smart enough to perform the required operations without caring about the orientation of the RHS array\n",
    "  - The results will be the same\n",
    "  - They will be presented in a different shaped array\n",
    "- Try using *NumPy* functions to solve the following\n"
   ]
  },
  {
   "cell_type": "markdown",
   "metadata": {
    "collapsed": false,
    "deletable": false,
    "editable": false,
    "run_control": {
     "frozen": true
    }
   },
   "source": [
    "- *NumPy* provides for a more efficient method within the linear algebra module to solve sets of equations\n",
    "- The magical function `la.solve()`\n",
    "- This function takes two arguments\n",
    "  - The first is the LHS array\n",
    "  - The second is the RHS array\n",
    "\n"
   ]
  },
  {
   "cell_type": "markdown",
   "metadata": {
    "collapsed": false,
    "deletable": false,
    "editable": false,
    "run_control": {
     "frozen": true
    }
   },
   "source": [
    "## Other Array Functions\n",
    "\n",
    "- The `np.dot()` function and the `@` operator both perform matrix multiplication on arrays\n",
    "- `np.dot` and `@` can also perform the **dot product** on a pair of vectors\n",
    "- *NumPy* also includes the `np.vdot()` function for the same purpose\n",
    "  - It handles complex numbers better\n",
    "- Another special array operation is the **cross product**\n",
    "  - *NumPy* uses `np.cross()` to take the cross product of two vectors (1D arrays)\n",
    "  - The order that the vectors are specified in `np.cross()` will change the results\n",
    "- Following are the mathematical definitions of the dot product and the cross product of two vectors\n",
    "- The vertical lines around the 2D array for the cross product represents the determinant of the array\n",
    "- The *dot product* results in a scalar value (a single number)\n",
    "- The *cross product* results in a vector (array)\n",
    "\n",
    "\n",
    "$\\begin{align*}\n",
    "   &\\textbf{u}=\\left[ \\begin{array}{ccc} u_x & u_y & u_z \\end{array}\\right] \\hspace{15mm}\n",
    "\\textbf{v}=\\left[ \\begin{array}{ccc} v_x & v_y & v_z \\end{array}\\right] \\\\[0.15cm]\n",
    "   &\\text{Dot Product: }\\textbf{u}\\cdot\\textbf{v}=u_xv_x + u_yv_y + u_zv_z \\\\[0.1cm]\\\\\n",
    "   &\\text{Cross Product: }\\textbf{u}\\times\\textbf{v}=\\left| \\begin{array}{ccc}\n",
    "\\textbf{i} & \\textbf{j} & \\textbf{k}\\\\\n",
    "u_x & u_y & u_z\\\\\n",
    "v_x & v_y & v_z \\end{array}\\right|\n",
    "=(u_yv_z-u_zv_y)\\textbf{i} - (u_xv_z-u_zv_x)\\textbf{j} + (u_xv_y-u_yv_x)\\textbf{k}\n",
    "\\end{align*}$\n",
    "\n",
    "\n"
   ]
  },
  {
   "cell_type": "markdown",
   "metadata": {
    "collapsed": false,
    "deletable": false,
    "editable": false,
    "run_control": {
     "frozen": true
    }
   },
   "source": [
    "**Wrap it up**\n",
    "\n",
    "Click on the **Save** button and then the **Close and halt** button when you are done before closing the tab."
   ]
  }
 ],
 "metadata": {
  "kernelspec": {
   "display_name": "Python 3 (Anaconda 2020)",
   "env": {
    "ADDR2LINE": "/ext/anaconda2020.02/bin/x86_64-conda_cos6-linux-gnu-addr2line",
    "ANACONDA2019": "$EXT/anaconda-2019.03",
    "ANACONDA2020": "/ext/anaconda2020.02",
    "ANACONDA3": "$EXT/anaconda3",
    "ANACONDA5": "$EXT/anaconda5",
    "AR": "/ext/anaconda2020.02/bin/x86_64-conda_cos6-linux-gnu-ar",
    "AS": "/ext/anaconda2020.02/bin/x86_64-conda_cos6-linux-gnu-as",
    "CC": "/ext/anaconda2020.02/bin/x86_64-conda_cos6-linux-gnu-cc",
    "CFLAGS": "-march=nocona -mtune=haswell -ftree-vectorize -fPIC -fstack-protector-strong -fno-plt -O2 -ffunction-sections -pipe -isystem /ext/anaconda2020.02/include",
    "CMAKE_PREFIX_PATH": "/ext/anaconda2020.02:/ext/anaconda2020.02/x86_64-conda_cos6-linux-gnu/sysroot/usr",
    "CONDA_BACKUP_HOST": "x86_64-conda_cos6-linux-gnu",
    "CONDA_BUILD_SYSROOT": "/ext/anaconda2020.02/x86_64-conda_cos6-linux-gnu/sysroot",
    "CONDA_DEFAULT_ENV": "base",
    "CONDA_EXE": "/ext/anaconda2020.02/bin/conda",
    "CONDA_MKL_INTERFACE_LAYER_BACKUP": "",
    "CONDA_PREFIX": "/ext/anaconda2020.02",
    "CONDA_PROMPT_MODIFIER": "(base) ",
    "CONDA_PYTHON_EXE": "/ext/anaconda2020.02/bin/python",
    "CONDA_SHLVL": "1",
    "CPP": "/ext/anaconda2020.02/bin/x86_64-conda_cos6-linux-gnu-cpp",
    "CPPFLAGS": "-DNDEBUG -D_FORTIFY_SOURCE=2 -O2 -isystem /ext/anaconda2020.02/include",
    "CXX": "/ext/anaconda2020.02/bin/x86_64-conda_cos6-linux-gnu-c++",
    "CXXFILT": "/ext/anaconda2020.02/bin/x86_64-conda_cos6-linux-gnu-c++filt",
    "CXXFLAGS": "-fvisibility-inlines-hidden -std=c++17 -fmessage-length=0 -march=nocona -mtune=haswell -ftree-vectorize -fPIC -fstack-protector-strong -fno-plt -O2 -ffunction-sections -pipe -isystem /ext/anaconda2020.02/include",
    "DEBUG_CFLAGS": "-march=nocona -mtune=haswell -ftree-vectorize -fPIC -fstack-protector-all -fno-plt -Og -g -Wall -Wextra -fvar-tracking-assignments -ffunction-sections -pipe -isystem /ext/anaconda2020.02/include",
    "DEBUG_CPPFLAGS": "-D_DEBUG -D_FORTIFY_SOURCE=2 -Og -isystem /ext/anaconda2020.02/include",
    "DEBUG_CXXFLAGS": "-fvisibility-inlines-hidden -std=c++17 -fmessage-length=0 -march=nocona -mtune=haswell -ftree-vectorize -fPIC -fstack-protector-all -fno-plt -Og -g -Wall -Wextra -fvar-tracking-assignments -ffunction-sections -pipe -isystem /ext/anaconda2020.02/include",
    "DEBUG_FFLAGS": "-fopenmp -march=nocona -mtune=haswell -ftree-vectorize -fPIC -fstack-protector-strong -fno-plt -O2 -ffunction-sections -pipe -isystem /ext/anaconda2020.02/include -fopenmp -march=nocona -mtune=haswell -ftree-vectorize -fPIC -fstack-protector-all -fno-plt -Og -g -Wall -Wextra -fcheck=all -fbacktrace -fimplicit-none -fvar-tracking-assignments -ffunction-sections -pipe",
    "DEBUG_FORTRANFLAGS": "-fopenmp -march=nocona -mtune=haswell -ftree-vectorize -fPIC -fstack-protector-strong -fno-plt -O2 -ffunction-sections -pipe -isystem /ext/anaconda2020.02/include -fopenmp -march=nocona -mtune=haswell -ftree-vectorize -fPIC -fstack-protector-all -fno-plt -Og -g -Wall -Wextra -fcheck=all -fbacktrace -fimplicit-none -fvar-tracking-assignments -ffunction-sections -pipe",
    "ELFEDIT": "/ext/anaconda2020.02/bin/x86_64-conda_cos6-linux-gnu-elfedit",
    "F77": "/ext/anaconda2020.02/bin/x86_64-conda_cos6-linux-gnu-gfortran",
    "F90": "/ext/anaconda2020.02/bin/x86_64-conda_cos6-linux-gnu-gfortran",
    "F95": "/ext/anaconda2020.02/bin/x86_64-conda_cos6-linux-gnu-f95",
    "FC": "/ext/anaconda2020.02/bin/x86_64-conda_cos6-linux-gnu-gfortran",
    "FFLAGS": "-fopenmp -march=nocona -mtune=haswell -ftree-vectorize -fPIC -fstack-protector-strong -fno-plt -O2 -ffunction-sections -pipe -isystem /ext/anaconda2020.02/include",
    "FORTRANFLAGS": "-fopenmp -march=nocona -mtune=haswell -ftree-vectorize -fPIC -fstack-protector-strong -fno-plt -O2 -ffunction-sections -pipe -isystem /ext/anaconda2020.02/include",
    "GCC": "/ext/anaconda2020.02/bin/x86_64-conda_cos6-linux-gnu-gcc",
    "GCC_AR": "/ext/anaconda2020.02/bin/x86_64-conda_cos6-linux-gnu-gcc-ar",
    "GCC_NM": "/ext/anaconda2020.02/bin/x86_64-conda_cos6-linux-gnu-gcc-nm",
    "GCC_RANLIB": "/ext/anaconda2020.02/bin/x86_64-conda_cos6-linux-gnu-gcc-ranlib",
    "GDAL_DATA": "/ext/anaconda2020.02/share/gdal",
    "GFORTRAN": "/ext/anaconda2020.02/bin/x86_64-conda_cos6-linux-gnu-gfortran",
    "GPROF": "/ext/anaconda2020.02/bin/x86_64-conda_cos6-linux-gnu-gprof",
    "GXX": "/ext/anaconda2020.02/bin/x86_64-conda_cos6-linux-gnu-g++",
    "JAVA_HOME": "/ext/anaconda2020.02",
    "JAVA_HOME_CONDA_BACKUP": "",
    "JAVA_LD_LIBRARY_PATH": "/ext/anaconda2020.02/lib/server",
    "LD": "/ext/anaconda2020.02/bin/x86_64-conda_cos6-linux-gnu-ld",
    "LDFLAGS": "-Wl,-O2 -Wl,--sort-common -Wl,--as-needed -Wl,-z,relro -Wl,-z,now -Wl,--disable-new-dtags -Wl,--gc-sections -Wl,-rpath,/ext/anaconda2020.02/lib -Wl,-rpath-link,/ext/anaconda2020.02/lib -L/ext/anaconda2020.02/lib",
    "LD_GOLD": "/ext/anaconda2020.02/bin/x86_64-conda_cos6-linux-gnu-ld.gold",
    "LD_LIBRARY_PATH": "/ext/anaconda2020.02/lib",
    "MKL_INTERFACE_LAYER": "LP64,GNU",
    "MKL_THREADING_LAYER": "GNU",
    "NM": "/ext/anaconda2020.02/bin/x86_64-conda_cos6-linux-gnu-nm",
    "OBJCOPY": "/ext/anaconda2020.02/bin/x86_64-conda_cos6-linux-gnu-objcopy",
    "OBJDUMP": "/ext/anaconda2020.02/bin/x86_64-conda_cos6-linux-gnu-objdump",
    "OLDPWD": "/ext/anaconda2020.02",
    "PATH": "/ext/anaconda2020.02/bin:/ext/anaconda2020.02/bin:/ext/anaconda2020.02/condabin:/cocalc/bin:/cocalc/src/smc-project/bin:/home/salvus/bin:/home/salvus/.local/bin:/usr/lib/xpra:/ext/bin:/opt/ghc/bin:/usr/local/sbin:/usr/local/bin:/usr/sbin:/usr/bin:/sbin:/bin:/snap/bin:/usr/lib/postgresql/10/bin:/ext/data/homer/bin:/ext/data/weblogo",
    "PROJ_LIB": "/ext/anaconda2020.02/share/proj",
    "RANLIB": "/ext/anaconda2020.02/bin/x86_64-conda_cos6-linux-gnu-ranlib",
    "READELF": "/ext/anaconda2020.02/bin/x86_64-conda_cos6-linux-gnu-readelf",
    "RSTUDIO_WHICH_R": "/ext/anaconda2020.02/bin/R",
    "SIZE": "/ext/anaconda2020.02/bin/x86_64-conda_cos6-linux-gnu-size",
    "STRINGS": "/ext/anaconda2020.02/bin/x86_64-conda_cos6-linux-gnu-strings",
    "STRIP": "/ext/anaconda2020.02/bin/x86_64-conda_cos6-linux-gnu-strip",
    "_CE_CONDA": "",
    "_CE_M": "",
    "_CONDA_PYTHON_SYSCONFIGDATA_NAME": "_sysconfigdata_x86_64_conda_cos6_linux_gnu"
   },
   "language": "python",
   "metadata": {
    "cocalc": {
     "description": "Python/R distribution for data science",
     "priority": 5,
     "url": "https://www.anaconda.com/distribution/"
    }
   },
   "name": "anaconda2020",
   "resource_dir": "/ext/jupyter/kernels/anaconda2020"
  },
  "language_info": {
   "codemirror_mode": {
    "name": "ipython",
    "version": 3
   },
   "file_extension": ".py",
   "mimetype": "text/x-python",
   "name": "python",
   "nbconvert_exporter": "python",
   "pygments_lexer": "ipython3",
   "version": "3.7.4"
  },
  "varInspector": {
   "cols": {
    "lenName": 16,
    "lenType": 16,
    "lenVar": 40
   },
   "kernels_config": {
    "python": {
     "delete_cmd_postfix": "",
     "delete_cmd_prefix": "del ",
     "library": "var_list.py",
     "varRefreshCmd": "print(var_dic_list())"
    },
    "r": {
     "delete_cmd_postfix": ") ",
     "delete_cmd_prefix": "rm(",
     "library": "var_list.r",
     "varRefreshCmd": "cat(var_dic_list()) "
    }
   },
   "types_to_exclude": [
    "module",
    "function",
    "builtin_function_or_method",
    "instance",
    "_Feature"
   ],
   "window_display": false
  }
 },
 "nbformat": 4,
 "nbformat_minor": 4
}
