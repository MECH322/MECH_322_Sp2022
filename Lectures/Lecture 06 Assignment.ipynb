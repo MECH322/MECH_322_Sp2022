{
 "cells": [
  {
   "cell_type": "markdown",
   "metadata": {
    "collapsed": false,
    "deletable": false,
    "editable": false,
    "run_control": {
     "frozen": true
    }
   },
   "source": [
    "# Lecture 6 Assignment\n",
    "# Python Iteration\n",
    "___"
   ]
  },
  {
   "cell_type": "markdown",
   "metadata": {
    "collapsed": false,
    "deletable": false,
    "editable": false,
    "run_control": {
     "frozen": true
    }
   },
   "source": [
    "## Purpose\n",
    "\n",
    "- Create `for` loops for definite iteration\n",
    "- Create `while` loops for indefinite iteration\n",
    "- Create lists of values using **list comprehension**"
   ]
  },
  {
   "cell_type": "markdown",
   "metadata": {
    "collapsed": false,
    "deletable": false,
    "editable": false,
    "run_control": {
     "frozen": true
    }
   },
   "source": [
    "**Predict results of a `for` loop**\n",
    "\n",
    "Predict the output of the `for` loop diagrammed above and then execute the code cell below to confirm your answer."
   ]
  },
  {
   "cell_type": "code",
   "execution_count": null,
   "metadata": {
    "collapsed": false
   },
   "outputs": [],
   "source": [
    "for k in range(1,11,3):\n",
    "    x = k**2\n",
    "    print('x =', x)"
   ]
  },
  {
   "cell_type": "markdown",
   "metadata": {
    "collapsed": false,
    "deletable": false,
    "editable": false
   },
   "source": [
    "*Python Tutor* is a helpful visualization tool for more complex code.\n",
    "\n",
    "[Python Tutor visualization for this code](http://pythontutor.com/visualize.html#code=for%20k%20in%20range%281,11,3%29%3A%0A%20%20%20%20x%20%3D%20k**2%0A%20%20%20%20print%28'x%20%3D',%20x%29&cumulative=false&curInstr=0&heapPrimitives=nevernest&mode=display&origin=opt-frontend.js&py=3&rawInputLstJSON=%5B%5D&textReferences=false)"
   ]
  },
  {
   "cell_type": "markdown",
   "metadata": {
    "collapsed": false,
    "deletable": false,
    "editable": false,
    "run_control": {
     "frozen": true
    }
   },
   "source": [
    "**Using a list instead of a range**\n",
    "\n",
    "The above example could have used a list instead of a range. Complete the `for` statement in following code cell using a list to get the same results as the previous example."
   ]
  },
  {
   "cell_type": "code",
   "execution_count": null,
   "metadata": {
    "collapsed": false,
    "deletable": false
   },
   "outputs": [],
   "source": [
    "for k in :\n",
    "    x = k**2\n",
    "    print('x =', x)"
   ]
  },
  {
   "cell_type": "markdown",
   "metadata": {
    "collapsed": false,
    "deletable": false,
    "editable": false,
    "run_control": {
     "frozen": true
    }
   },
   "source": [
    "**Loop with no iteration variable used in the body**\n",
    "\n",
    "It is not necessary to actually use the iteration variable anywhere in the loop body. You do however have to still include one in the first line. What output do you think the following code will produce? Convert the cell to a code cell and execute it."
   ]
  },
  {
   "cell_type": "raw",
   "metadata": {
    "collapsed": false,
    "deletable": false
   },
   "source": [
    "good_list = range(5)\n",
    "for nice_number in good_list:\n",
    "    print(\"Spam\")"
   ]
  },
  {
   "cell_type": "markdown",
   "metadata": {
    "collapsed": false,
    "deletable": false,
    "editable": false,
    "run_control": {
     "frozen": true
    }
   },
   "source": [
    "**Filling a list with a loop**\n",
    "\n",
    "Edit the following code cell such that $x^2$ is appended to the list `y` each time through the loop. Then execute the cell to see the results of the iteration."
   ]
  },
  {
   "cell_type": "code",
   "execution_count": null,
   "metadata": {
    "collapsed": false,
    "deletable": false
   },
   "outputs": [],
   "source": [
    "# create an empty list named y first\n",
    "\n",
    "for x in range(1, 11, 3):\n",
    "    # append x**2 to the list y\n",
    "    \n",
    "    print('x =',x)\n",
    "    print('y =', y)\n",
    "print('Final y =', y)"
   ]
  },
  {
   "cell_type": "markdown",
   "metadata": {
    "collapsed": false,
    "deletable": false,
    "editable": false
   },
   "source": [
    "[Python Tutor visualization of the above code](http://pythontutor.com/visualize.html#code=y%20%3D%20%5B%5D%0Afor%20x%20in%20range%281,%2011,%203%29%3A%0A%20%20%20%20y.append%28x**2%29%20%23%20append%20x**2%20to%20the%20list%20y%0A%20%20%20%20print%28'x%20%3D',x%29%0A%20%20%20%20print%28'y%20%3D',%20y%29%0Aprint%28'Final%20y%20%3D',%20y%29&cumulative=false&curInstr=0&heapPrimitives=nevernest&mode=display&origin=opt-frontend.js&py=3&rawInputLstJSON=%5B%5D&textReferences=false)"
   ]
  },
  {
   "cell_type": "markdown",
   "metadata": {
    "collapsed": false,
    "deletable": false,
    "editable": false,
    "run_control": {
     "frozen": true
    }
   },
   "source": [
    "**Looping over existing lists: technique 1 - indexing**\n",
    "\n",
    "Edit the `for` statement line such that the sequence used is a range based on the length of `list1`.**  Edit the body of the loop such that the values at the current index positions in `list1` and `list2` are multiplied and the product is appended to `list3`.**   Execute the completed loop to see how this technique works."
   ]
  },
  {
   "cell_type": "code",
   "execution_count": null,
   "metadata": {
    "collapsed": false,
    "deletable": false
   },
   "outputs": [],
   "source": [
    "list1 = [1, 2, 3, 4, 5]\n",
    "list2 = [5, 4, 3, 2, 1]\n",
    "list3 = []\n",
    "for index in : # use a range based on the length of list1\n",
    "    # append list3 with the list1 value times the list2 value\n",
    "print(list3)"
   ]
  },
  {
   "cell_type": "markdown",
   "metadata": {
    "collapsed": false,
    "deletable": false,
    "editable": false
   },
   "source": [
    "[Python Tutor visualization for the above completed code](http://pythontutor.com/live.html#code=list1%20%3D%20%5B1,%202,%203,%204,%205%5D%0Alist2%20%3D%20%5B5,%204,%203,%202,%201%5D%0Alist3%20%3D%20%5B%5D%0Afor%20index%20in%20range%28len%28list1%29%29%3A%20%23%20use%20a%20range%20based%20on%20the%20length%20of%20list1%0A%20%20%20%20%23%20append%20list3%20the%20list1%20value%20times%20the%20list2%20value%0A%20%20%20%20list3.append%28list1%5Bindex%5D%20*%20list2%5Bindex%5D%29%0Aprint%28list3%29&cumulative=false&curInstr=0&heapPrimitives=nevernest&mode=display&origin=opt-live.js&py=3&rawInputLstJSON=%5B%5D&textReferences=false)"
   ]
  },
  {
   "cell_type": "markdown",
   "metadata": {
    "collapsed": false,
    "deletable": false,
    "editable": false,
    "run_control": {
     "frozen": true
    }
   },
   "source": [
    "**Looping over existing lists: technique 2 - `enumerate()` and indexing**\n",
    "\n",
    "Execute the following loop that uses the `enumerate()` function."
   ]
  },
  {
   "cell_type": "code",
   "execution_count": null,
   "metadata": {
    "collapsed": false,
    "deletable": false
   },
   "outputs": [],
   "source": [
    "list1 = [1, 2, 3, 4, 5]\n",
    "list2 = [5, 4, 3, 2, 1]\n",
    "list3 = []\n",
    "for index, list1_value in enumerate(list1):\n",
    "    list3.append(list1_value * list2[index])\n",
    "print(list3)"
   ]
  },
  {
   "cell_type": "markdown",
   "metadata": {
    "collapsed": false,
    "deletable": false,
    "editable": false,
    "run_control": {
     "frozen": true
    }
   },
   "source": [
    "**Looping over existing lists: technique 3 - `zip()`**\n",
    "\n",
    "See how using the `zip()` function works with this loop to generate the same output as the last two examples."
   ]
  },
  {
   "cell_type": "code",
   "execution_count": null,
   "metadata": {
    "collapsed": false,
    "deletable": false
   },
   "outputs": [],
   "source": [
    "list1 = [1, 2, 3, 4, 5]\n",
    "list2 = [5, 4, 3, 2, 1]\n",
    "list3 = []\n",
    "for x, y in zip(list1, list2):\n",
    "    list3.append(x * y)\n",
    "print(list3)"
   ]
  },
  {
   "cell_type": "markdown",
   "metadata": {
    "collapsed": false,
    "deletable": false,
    "editable": false
   },
   "source": [
    "[Python Tutor visualization for the above completed code](http://pythontutor.com/live.html#code=list1%20%3D%20%5B1,%202,%203,%204,%205%5D%0Alist2%20%3D%20%5B5,%204,%203,%202,%201%5D%0Alist3%20%3D%20%5B%5D%0Afor%20x,%20y%20in%20zip%28list1,list2%29%3A%0A%20%20%20%20list3.append%28x%20*%20y%29%0Aprint%28list3%29&cumulative=false&curInstr=0&heapPrimitives=nevernest&mode=display&origin=opt-live.js&py=3&rawInputLstJSON=%5B%5D&textReferences=false)"
   ]
  },
  {
   "cell_type": "markdown",
   "metadata": {
    "collapsed": false,
    "deletable": false,
    "editable": false,
    "run_control": {
     "frozen": true
    }
   },
   "source": [
    "**Nested `for` loop example**\n",
    "\n",
    "Edit the following nested loop code to create a list of lists such that the outer loop (iteration variable named `outer`) iterates over a range of integers from `0` to `2` (inclusive) and the inner loop (iteration variable named `inner`) iterates over a range of integers from `0` to `9` (inclusive). Execute the edited code to verify that it works correctly; it should append the value `outer * inner` to each position of each of the sub-lists within the list named `C`.** "
   ]
  },
  {
   "cell_type": "code",
   "execution_count": null,
   "metadata": {
    "collapsed": false,
    "deletable": false
   },
   "outputs": [],
   "source": [
    "C = []  # create empty list C\n",
    "for outer in :\n",
    "    C.append([])  # add an empty list at the end of C\n",
    "    for inner in :\n",
    "        # add values into the list that was created within C just before starting this loop\n",
    "        C[outer].append(outer * inner)\n",
    "print(C)"
   ]
  },
  {
   "cell_type": "markdown",
   "metadata": {
    "collapsed": false,
    "deletable": false,
    "editable": false,
    "run_control": {
     "frozen": true
    }
   },
   "source": [
    "[Python Tutor visualization of the above finished code](http://pythontutor.com/live.html#code=C%20%3D%20%5B%5D%0Afor%20outer%20in%20range%283%29%3A%0A%20%20%20%20C.append%28%5B%5D%29%0A%20%20%20%20for%20inner%20in%20range%2810%29%3A%0A%20%20%20%20%20%20%20%20C%5Bouter%5D.append%28outer%20*%20inner%29%0Aprint%28C%29&cumulative=false&curInstr=72&heapPrimitives=nevernest&mode=display&origin=opt-live.js&py=3&rawInputLstJSON=%5B%5D&textReferences=false)"
   ]
  },
  {
   "cell_type": "markdown",
   "metadata": {
    "collapsed": false,
    "deletable": false,
    "editable": false,
    "run_control": {
     "frozen": true
    }
   },
   "source": [
    "**Iterate over a string**\n",
    "\n",
    "Change the string assigned to to the variable `name` to your name, not mine, and execute the cell to see how iterating over a string works."
   ]
  },
  {
   "cell_type": "code",
   "execution_count": null,
   "metadata": {
    "collapsed": false,
    "deletable": false
   },
   "outputs": [],
   "source": [
    "name = \"Brian\"\n",
    "for letter in name:\n",
    "    print(letter.upper())"
   ]
  },
  {
   "cell_type": "markdown",
   "metadata": {
    "collapsed": false,
    "deletable": false,
    "editable": false
   },
   "source": [
    "[Python Tutor visualization of the above code](http://pythontutor.com/live.html#code=name%20%3D%20%22Brian%22%0Afor%20letter%20in%20name%3A%0A%20%20%20%20print%28letter.upper%28%29%29&cumulative=false&curInstr=0&heapPrimitives=nevernest&mode=display&origin=opt-live.js&py=3&rawInputLstJSON=%5B%5D&textReferences=false)"
   ]
  },
  {
   "cell_type": "markdown",
   "metadata": {
    "collapsed": false,
    "deletable": false,
    "editable": false,
    "run_control": {
     "frozen": true
    }
   },
   "source": [
    "**List comprehensions are awesome**\n",
    "\n",
    "Try out the following list comprehension that does essentially the same thing as an earlier loop example did. List comprehensions do not generally contain `print()` commands, so this one only prints the final result not each step. However, the values from each are placed into f-strings."
   ]
  },
  {
   "cell_type": "code",
   "execution_count": null,
   "metadata": {
    "collapsed": false,
    "deletable": false
   },
   "outputs": [],
   "source": [
    "y = [f\"x = {x}, y = {x**2}\" for x in range(1, 11, 3)]\n",
    "print(y)"
   ]
  },
  {
   "cell_type": "markdown",
   "metadata": {
    "collapsed": false,
    "deletable": false,
    "editable": false
   },
   "source": [
    "The following example does essentially the same as the previous, just withing any strings. It only puts the results of the calculation in the list."
   ]
  },
  {
   "cell_type": "code",
   "execution_count": null,
   "metadata": {
    "collapsed": false,
    "deletable": false
   },
   "outputs": [],
   "source": [
    "\"\"\" assigning x a value before the comprehension shows\n",
    "    that x in the comprehension is local and available after\"\"\"\n",
    "\n",
    "x = 8675309\n",
    "y = [x**2 for x in range(1, 11, 3)]\n",
    "print(\"x =\", x)\n",
    "print(\"y =\", y)"
   ]
  },
  {
   "cell_type": "markdown",
   "metadata": {
    "collapsed": false,
    "deletable": false,
    "editable": false,
    "run_control": {
     "frozen": true
    }
   },
   "source": [
    "The following code cell generates an error. Why? Execute the code cell to see what the error is.\n",
    "\n",
    "*Hint*: it is related to local versus global naming."
   ]
  },
  {
   "cell_type": "code",
   "execution_count": null,
   "metadata": {
    "collapsed": false,
    "deletable": false
   },
   "outputs": [],
   "source": [
    "del(x)\n",
    "y = [x**2 for x in range(1, 11, 3)]\n",
    "print('x =', x)\n",
    "print('y =', y)"
   ]
  },
  {
   "cell_type": "markdown",
   "metadata": {
    "collapsed": false,
    "deletable": false,
    "editable": false,
    "run_control": {
     "frozen": true
    }
   },
   "source": [
    "**Nested list comprehensions**\n",
    "\n",
    "Execute the code cell to demonstrate nested list comprehension to see that the results are the same as seen previously."
   ]
  },
  {
   "cell_type": "code",
   "execution_count": null,
   "metadata": {
    "collapsed": false,
    "deletable": false
   },
   "outputs": [],
   "source": [
    "C = [[outer * inner for inner in range(10)] for outer in range(3)]\n",
    "print(C)"
   ]
  },
  {
   "cell_type": "markdown",
   "metadata": {
    "collapsed": false,
    "deletable": false,
    "editable": false,
    "run_control": {
     "frozen": true
    }
   },
   "source": [
    "[Python Tutor visualization of the above code](http://pythontutor.com/live.html#code=C%20%3D%20%5B%5Bouter%20*%20inner%20for%20inner%20in%20range%2810%29%5D%20for%20outer%20in%20range%283%29%5D%0Aprint%28C%29&cumulative=true&curInstr=0&heapPrimitives=nevernest&mode=display&origin=opt-live.js&py=3&rawInputLstJSON=%5B%5D&textReferences=false)"
   ]
  },
  {
   "cell_type": "markdown",
   "metadata": {
    "collapsed": false,
    "deletable": false,
    "editable": false,
    "run_control": {
     "frozen": true
    }
   },
   "source": [
    "**List comprehension with a conditional**\n",
    "\n",
    "Execute the following code cell to see how list comprehensions can use conditional statements. The conditional statement must be placed after the `for` statement. For instance, the following list comprehension will only calculate values when items in the range are less than 10."
   ]
  },
  {
   "cell_type": "code",
   "execution_count": null,
   "metadata": {
    "collapsed": false,
    "deletable": false
   },
   "outputs": [],
   "source": [
    "z = [2*x for x in [1, 2, 5, 7, 10, 12, 8, 9, 15] if x < 10]\n",
    "print(z)"
   ]
  },
  {
   "cell_type": "markdown",
   "metadata": {
    "collapsed": false,
    "deletable": false,
    "editable": false,
    "run_control": {
     "frozen": true
    }
   },
   "source": [
    "**List comprehension with a conditional and logical statements**\n",
    "\n",
    "Run the following cell. Why does the resulting list only have two values?\n",
    "\n",
    "Answer: there only non-zero values that are divisible by both 0 and 4."
   ]
  },
  {
   "cell_type": "code",
   "execution_count": null,
   "metadata": {
    "collapsed": false,
    "deletable": false
   },
   "outputs": [],
   "source": [
    "[x for x in range(10) if x%2 == 0 and x%4 == 0 and x != 0]"
   ]
  },
  {
   "cell_type": "markdown",
   "metadata": {
    "collapsed": false,
    "deletable": false,
    "editable": false,
    "run_control": {
     "frozen": true
    }
   },
   "source": [
    "**List comprehension with `zip()`**\n",
    "\n",
    "A single list comprehension can use `zip()` to create two or more separate sequences of values. Placing a `*` inside the opening parenthesis of the `zip()` function causes a zip object to be unzipped. Placing two variable names separated by a comma to the left of the equal sign tells *Python* to assign the two unzipped lists to those variable names. Execute the following code to see this in action."
   ]
  },
  {
   "cell_type": "code",
   "execution_count": null,
   "metadata": {
    "collapsed": false,
    "deletable": false
   },
   "outputs": [],
   "source": [
    "list1, list2 = zip(*[(x, x**2) for x in range(1, 11, 3)])\n",
    "print(list1)\n",
    "print(list2)"
   ]
  },
  {
   "cell_type": "markdown",
   "metadata": {
    "collapsed": false,
    "deletable": false,
    "editable": false
   },
   "source": [
    "[Python Tutor Visualization of the above code](http://pythontutor.com/live.html#code=list1,%20list2%20%3D%20zip%28*%5B%28x,%20x**2%29%20for%20x%20in%20range%281,%2011,%203%29%5D%29%0Aprint%28list1%29%0Aprint%28list2%29&cumulative=true&curInstr=0&heapPrimitives=nevernest&mode=display&origin=opt-live.js&py=3&rawInputLstJSON=%5B%5D&textReferences=false)"
   ]
  },
  {
   "cell_type": "markdown",
   "metadata": {
    "collapsed": false,
    "deletable": false,
    "editable": false,
    "run_control": {
     "frozen": true
    }
   },
   "source": [
    "**Using shortcut increment expressions**\n",
    "\n",
    "Assign 5 to the variable `a` in the first code cell then use shortcut increment expressions to perform each of the following tasks. Print `a` after each expression.\n",
    "\n",
    "1. Add 4 to `a`\n",
    "1. Subtract 4 from `a`\n",
    "1. Square `a`\n",
    "1. Multiply `a` by 3\n",
    "\n",
    "If you make a mistake along the way, re-execute all of the cells after fixing the error."
   ]
  },
  {
   "cell_type": "code",
   "execution_count": null,
   "metadata": {
    "collapsed": false
   },
   "outputs": [],
   "source": [
    "# assign 5 to a\n"
   ]
  },
  {
   "cell_type": "code",
   "execution_count": null,
   "metadata": {
    "collapsed": false
   },
   "outputs": [],
   "source": [
    "# add 4 to a and assign back to a\n"
   ]
  },
  {
   "cell_type": "code",
   "execution_count": null,
   "metadata": {
    "collapsed": false
   },
   "outputs": [],
   "source": [
    "# subtract 4 from a and assign back to a\n"
   ]
  },
  {
   "cell_type": "code",
   "execution_count": null,
   "metadata": {
    "collapsed": false
   },
   "outputs": [],
   "source": [
    "# square a and assign back to a\n"
   ]
  },
  {
   "cell_type": "code",
   "execution_count": null,
   "metadata": {
    "collapsed": false
   },
   "outputs": [],
   "source": [
    "# multiply a by 3 and assign back to a\n"
   ]
  },
  {
   "cell_type": "markdown",
   "metadata": {
    "collapsed": false,
    "deletable": false,
    "editable": false,
    "run_control": {
     "frozen": true
    }
   },
   "source": [
    "**Your first `while` loop**\n",
    "\n",
    "Execute the following code cell to see how the `while` loop diagrammed above works."
   ]
  },
  {
   "cell_type": "code",
   "execution_count": null,
   "metadata": {
    "collapsed": false
   },
   "outputs": [],
   "source": [
    "k = 1\n",
    "while k < 11:\n",
    "    x = k**2\n",
    "    print('x =', x)\n",
    "    k += 3"
   ]
  },
  {
   "cell_type": "markdown",
   "metadata": {
    "collapsed": false,
    "deletable": false,
    "editable": false
   },
   "source": [
    "[Python Tutor visualization of the above code](http://pythontutor.com/live.html#code=k%20%3D%201%0Awhile%20k%20%3C%2011%3A%0A%20%20%20%20x%20%3D%20k**2%0A%20%20%20%20print%28'x%20%3D',%20x%29%0A%20%20%20%20k%20%2B%3D%203&cumulative=true&curInstr=0&heapPrimitives=nevernest&mode=display&origin=opt-live.js&py=3&rawInputLstJSON=%5B%5D&textReferences=false)"
   ]
  },
  {
   "cell_type": "markdown",
   "metadata": {
    "collapsed": false,
    "deletable": false,
    "editable": false,
    "run_control": {
     "frozen": true
    }
   },
   "source": [
    "**A `while` loop to fill a list**\n",
    "\n",
    "Edit the following code to include an appropriate conditional with the `while` statement and an appropriate starting value. Increment an expression for `x` in order to square every third integer starting at 1 and ending with 10. Then execute the edited code cell to perform the same task as was previously accomplished, except this time using a `while` loop instead of a `for` loop."
   ]
  },
  {
   "cell_type": "code",
   "execution_count": null,
   "metadata": {
    "collapsed": false
   },
   "outputs": [],
   "source": [
    "y = []\n",
    "x =            # set the starting value for x\n",
    "while :        # add a conditional statement\n",
    "    y.append(x**2)\n",
    "    print('x =',x)\n",
    "    print('y =', y)\n",
    "    # add proper increment for x\n",
    "print('Final y =', y)"
   ]
  },
  {
   "cell_type": "markdown",
   "metadata": {
    "collapsed": false,
    "deletable": false,
    "editable": false,
    "run_control": {
     "frozen": true
    }
   },
   "source": [
    "[Python Tutor visualization of the above completed code](http://pythontutor.com/live.html#code=y%20%3D%20%5B%5D%0Ax%20%3D%201%20%20%20%20%20%20%20%20%20%20%20%20%20%20%20%20%23%20set%20the%20starting%20value%20for%20x%0Awhile%20x%20%3C%2011%3A%20%20%20%20%20%20%20%20%23%20add%20a%20conditional%20statement%0A%20%20%20%20y.append%28x**2%29%0A%20%20%20%20print%28'x%20%3D',x%29%0A%20%20%20%20print%28'y%20%3D',%20y%29%0A%20%20%20%20%23%20add%20proper%20increment%20for%20x%0A%20%20%20%20x%20%2B%3D%203%0Aprint%28'Final%20y%20%3D',%20y%29&cumulative=true&curInstr=0&heapPrimitives=nevernest&mode=display&origin=opt-live.js&py=3&rawInputLstJSON=%5B%5D&textReferences=false)"
   ]
  },
  {
   "cell_type": "markdown",
   "metadata": {
    "collapsed": false,
    "deletable": false,
    "editable": false,
    "run_control": {
     "frozen": true
    }
   },
   "source": [
    "**A `while` loop with a `break`**\n",
    "\n",
    "Add a `while` loop and a `break` command to the `diceroll()` function in the following cell. Add an `input()` function after the dice roll results are displayed that tells the user to press the `q` key then the `[enter]` key to quit or just the `[enter]` key to continue. Break from the loop only if the input value is `q` or `Q`.** Test the modified function in the provided code cell with a few dice rolls.\n",
    "\n",
    "- Where should the `while` statement be placed?\n",
    "- Where do the `input()` and `break` expressions go?\n",
    "- Don't forget to indent properly"
   ]
  },
  {
   "cell_type": "code",
   "execution_count": null,
   "metadata": {
    "collapsed": false
   },
   "outputs": [],
   "source": [
    "def diceroll():\n",
    "    import random\n",
    "    dice1 = random.randint(1,6)\n",
    "    dice2 = random.randint(1,6)\n",
    "    print('Die 1 =',dice1,'    Die 2 =',dice2)\n",
    "    if dice1 + dice2 == 2:\n",
    "        print('Too bad')\n",
    "        print('{} + {} is snake eyes'.format(dice1, dice2))\n",
    "    elif (dice1 + dice2 == 7) or (dice1 + dice2 == 11):\n",
    "        print('Winner, winner, chicken dinner')\n",
    "        print('{} + {} = {}, a natural'.format(dice1, dice2, dice1 + dice2))\n",
    "    elif dice1 + dice2 == 12:\n",
    "        print(\"It's not your day\")\n",
    "        print('{} + {} is boxcars'.format(dice1, dice2));\n",
    "    else:\n",
    "        print('Better luck next time')\n",
    "        print('{} + {} is nothing special'.format(dice1,dice2))\n",
    "    print(flush=True)"
   ]
  },
  {
   "cell_type": "code",
   "execution_count": null,
   "metadata": {
    "collapsed": false
   },
   "outputs": [],
   "source": []
  },
  {
   "cell_type": "markdown",
   "metadata": {
    "collapsed": false,
    "deletable": false,
    "editable": false,
    "run_control": {
     "frozen": true
    }
   },
   "source": [
    "**Wrap it up**\n",
    "\n",
    "Click on the **Save** button and then the **Close and halt** button when you are done before closing your tab."
   ]
  }
 ],
 "metadata": {
  "kernelspec": {
   "display_name": "Python 3 (Anaconda 2020)",
   "env": {
    "ADDR2LINE": "/ext/anaconda2020.02/bin/x86_64-conda_cos6-linux-gnu-addr2line",
    "ANACONDA2019": "$EXT/anaconda-2019.03",
    "ANACONDA2020": "/ext/anaconda2020.02",
    "ANACONDA3": "$EXT/anaconda3",
    "ANACONDA5": "$EXT/anaconda5",
    "AR": "/ext/anaconda2020.02/bin/x86_64-conda_cos6-linux-gnu-ar",
    "AS": "/ext/anaconda2020.02/bin/x86_64-conda_cos6-linux-gnu-as",
    "CC": "/ext/anaconda2020.02/bin/x86_64-conda_cos6-linux-gnu-cc",
    "CFLAGS": "-march=nocona -mtune=haswell -ftree-vectorize -fPIC -fstack-protector-strong -fno-plt -O2 -ffunction-sections -pipe -isystem /ext/anaconda2020.02/include",
    "CMAKE_PREFIX_PATH": "/ext/anaconda2020.02:/ext/anaconda2020.02/x86_64-conda_cos6-linux-gnu/sysroot/usr",
    "CONDA_BACKUP_HOST": "x86_64-conda_cos6-linux-gnu",
    "CONDA_BUILD_SYSROOT": "/ext/anaconda2020.02/x86_64-conda_cos6-linux-gnu/sysroot",
    "CONDA_DEFAULT_ENV": "base",
    "CONDA_EXE": "/ext/anaconda2020.02/bin/conda",
    "CONDA_MKL_INTERFACE_LAYER_BACKUP": "",
    "CONDA_PREFIX": "/ext/anaconda2020.02",
    "CONDA_PROMPT_MODIFIER": "(base) ",
    "CONDA_PYTHON_EXE": "/ext/anaconda2020.02/bin/python",
    "CONDA_SHLVL": "1",
    "CPP": "/ext/anaconda2020.02/bin/x86_64-conda_cos6-linux-gnu-cpp",
    "CPPFLAGS": "-DNDEBUG -D_FORTIFY_SOURCE=2 -O2 -isystem /ext/anaconda2020.02/include",
    "CXX": "/ext/anaconda2020.02/bin/x86_64-conda_cos6-linux-gnu-c++",
    "CXXFILT": "/ext/anaconda2020.02/bin/x86_64-conda_cos6-linux-gnu-c++filt",
    "CXXFLAGS": "-fvisibility-inlines-hidden -std=c++17 -fmessage-length=0 -march=nocona -mtune=haswell -ftree-vectorize -fPIC -fstack-protector-strong -fno-plt -O2 -ffunction-sections -pipe -isystem /ext/anaconda2020.02/include",
    "DEBUG_CFLAGS": "-march=nocona -mtune=haswell -ftree-vectorize -fPIC -fstack-protector-all -fno-plt -Og -g -Wall -Wextra -fvar-tracking-assignments -ffunction-sections -pipe -isystem /ext/anaconda2020.02/include",
    "DEBUG_CPPFLAGS": "-D_DEBUG -D_FORTIFY_SOURCE=2 -Og -isystem /ext/anaconda2020.02/include",
    "DEBUG_CXXFLAGS": "-fvisibility-inlines-hidden -std=c++17 -fmessage-length=0 -march=nocona -mtune=haswell -ftree-vectorize -fPIC -fstack-protector-all -fno-plt -Og -g -Wall -Wextra -fvar-tracking-assignments -ffunction-sections -pipe -isystem /ext/anaconda2020.02/include",
    "DEBUG_FFLAGS": "-fopenmp -march=nocona -mtune=haswell -ftree-vectorize -fPIC -fstack-protector-strong -fno-plt -O2 -ffunction-sections -pipe -isystem /ext/anaconda2020.02/include -fopenmp -march=nocona -mtune=haswell -ftree-vectorize -fPIC -fstack-protector-all -fno-plt -Og -g -Wall -Wextra -fcheck=all -fbacktrace -fimplicit-none -fvar-tracking-assignments -ffunction-sections -pipe",
    "DEBUG_FORTRANFLAGS": "-fopenmp -march=nocona -mtune=haswell -ftree-vectorize -fPIC -fstack-protector-strong -fno-plt -O2 -ffunction-sections -pipe -isystem /ext/anaconda2020.02/include -fopenmp -march=nocona -mtune=haswell -ftree-vectorize -fPIC -fstack-protector-all -fno-plt -Og -g -Wall -Wextra -fcheck=all -fbacktrace -fimplicit-none -fvar-tracking-assignments -ffunction-sections -pipe",
    "ELFEDIT": "/ext/anaconda2020.02/bin/x86_64-conda_cos6-linux-gnu-elfedit",
    "F77": "/ext/anaconda2020.02/bin/x86_64-conda_cos6-linux-gnu-gfortran",
    "F90": "/ext/anaconda2020.02/bin/x86_64-conda_cos6-linux-gnu-gfortran",
    "F95": "/ext/anaconda2020.02/bin/x86_64-conda_cos6-linux-gnu-f95",
    "FC": "/ext/anaconda2020.02/bin/x86_64-conda_cos6-linux-gnu-gfortran",
    "FFLAGS": "-fopenmp -march=nocona -mtune=haswell -ftree-vectorize -fPIC -fstack-protector-strong -fno-plt -O2 -ffunction-sections -pipe -isystem /ext/anaconda2020.02/include",
    "FORTRANFLAGS": "-fopenmp -march=nocona -mtune=haswell -ftree-vectorize -fPIC -fstack-protector-strong -fno-plt -O2 -ffunction-sections -pipe -isystem /ext/anaconda2020.02/include",
    "GCC": "/ext/anaconda2020.02/bin/x86_64-conda_cos6-linux-gnu-gcc",
    "GCC_AR": "/ext/anaconda2020.02/bin/x86_64-conda_cos6-linux-gnu-gcc-ar",
    "GCC_NM": "/ext/anaconda2020.02/bin/x86_64-conda_cos6-linux-gnu-gcc-nm",
    "GCC_RANLIB": "/ext/anaconda2020.02/bin/x86_64-conda_cos6-linux-gnu-gcc-ranlib",
    "GDAL_DATA": "/ext/anaconda2020.02/share/gdal",
    "GFORTRAN": "/ext/anaconda2020.02/bin/x86_64-conda_cos6-linux-gnu-gfortran",
    "GPROF": "/ext/anaconda2020.02/bin/x86_64-conda_cos6-linux-gnu-gprof",
    "GXX": "/ext/anaconda2020.02/bin/x86_64-conda_cos6-linux-gnu-g++",
    "JAVA_HOME": "/ext/anaconda2020.02",
    "JAVA_HOME_CONDA_BACKUP": "",
    "JAVA_LD_LIBRARY_PATH": "/ext/anaconda2020.02/lib/server",
    "LD": "/ext/anaconda2020.02/bin/x86_64-conda_cos6-linux-gnu-ld",
    "LDFLAGS": "-Wl,-O2 -Wl,--sort-common -Wl,--as-needed -Wl,-z,relro -Wl,-z,now -Wl,--disable-new-dtags -Wl,--gc-sections -Wl,-rpath,/ext/anaconda2020.02/lib -Wl,-rpath-link,/ext/anaconda2020.02/lib -L/ext/anaconda2020.02/lib",
    "LD_GOLD": "/ext/anaconda2020.02/bin/x86_64-conda_cos6-linux-gnu-ld.gold",
    "LD_LIBRARY_PATH": "/ext/anaconda2020.02/lib",
    "MKL_INTERFACE_LAYER": "LP64,GNU",
    "MKL_THREADING_LAYER": "GNU",
    "NM": "/ext/anaconda2020.02/bin/x86_64-conda_cos6-linux-gnu-nm",
    "OBJCOPY": "/ext/anaconda2020.02/bin/x86_64-conda_cos6-linux-gnu-objcopy",
    "OBJDUMP": "/ext/anaconda2020.02/bin/x86_64-conda_cos6-linux-gnu-objdump",
    "OLDPWD": "/ext/anaconda2020.02",
    "PATH": "/ext/anaconda2020.02/bin:/ext/anaconda2020.02/bin:/ext/anaconda2020.02/condabin:/cocalc/bin:/cocalc/src/smc-project/bin:/home/salvus/bin:/home/salvus/.local/bin:/usr/lib/xpra:/ext/bin:/opt/ghc/bin:/usr/local/sbin:/usr/local/bin:/usr/sbin:/usr/bin:/sbin:/bin:/snap/bin:/usr/lib/postgresql/10/bin:/ext/data/homer/bin:/ext/data/weblogo",
    "PROJ_LIB": "/ext/anaconda2020.02/share/proj",
    "RANLIB": "/ext/anaconda2020.02/bin/x86_64-conda_cos6-linux-gnu-ranlib",
    "READELF": "/ext/anaconda2020.02/bin/x86_64-conda_cos6-linux-gnu-readelf",
    "RSTUDIO_WHICH_R": "/ext/anaconda2020.02/bin/R",
    "SIZE": "/ext/anaconda2020.02/bin/x86_64-conda_cos6-linux-gnu-size",
    "STRINGS": "/ext/anaconda2020.02/bin/x86_64-conda_cos6-linux-gnu-strings",
    "STRIP": "/ext/anaconda2020.02/bin/x86_64-conda_cos6-linux-gnu-strip",
    "_CE_CONDA": "",
    "_CE_M": "",
    "_CONDA_PYTHON_SYSCONFIGDATA_NAME": "_sysconfigdata_x86_64_conda_cos6_linux_gnu"
   },
   "language": "python",
   "metadata": {
    "cocalc": {
     "description": "Python/R distribution for data science",
     "priority": 5,
     "url": "https://www.anaconda.com/distribution/"
    }
   },
   "name": "anaconda2020",
   "resource_dir": "/ext/jupyter/kernels/anaconda2020"
  },
  "language_info": {
   "codemirror_mode": {
    "name": "ipython",
    "version": 3
   },
   "file_extension": ".py",
   "mimetype": "text/x-python",
   "name": "python",
   "nbconvert_exporter": "python",
   "pygments_lexer": "ipython3",
   "version": "3.9.0"
  },
  "nteract": {
   "version": "0.25.1"
  },
  "varInspector": {
   "cols": {
    "lenName": 16,
    "lenType": 16,
    "lenVar": 40
   },
   "kernels_config": {
    "python": {
     "delete_cmd_postfix": "",
     "delete_cmd_prefix": "del ",
     "library": "var_list.py",
     "varRefreshCmd": "print(var_dic_list())"
    },
    "r": {
     "delete_cmd_postfix": ") ",
     "delete_cmd_prefix": "rm(",
     "library": "var_list.r",
     "varRefreshCmd": "cat(var_dic_list()) "
    }
   },
   "types_to_exclude": [
    "module",
    "function",
    "builtin_function_or_method",
    "instance",
    "_Feature"
   ],
   "window_display": false
  }
 },
 "nbformat": 4,
 "nbformat_minor": 4
}
