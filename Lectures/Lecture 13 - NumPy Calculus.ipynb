{
 "cells": [
  {
   "cell_type": "markdown",
   "metadata": {
    "collapsed": false,
    "deletable": false,
    "editable": false,
    "run_control": {
     "frozen": true
    }
   },
   "source": [
    "# Lecture 13 - *NumPy* Calculus\n",
    "___"
   ]
  },
  {
   "cell_type": "markdown",
   "metadata": {
    "collapsed": false,
    "deletable": false,
    "editable": false,
    "run_control": {
     "frozen": true
    }
   },
   "source": [
    "## Purpose:\n",
    "\n",
    "- *Python*, and the many modules available for it, can do much more than can be covered in a one semester class\n",
    "- Many of the basics have been covered which...\n",
    "  - Should allow you to use *Python* to solve engineering related problems in the future\n",
    "  - Give you a good understanding of how programming works\n",
    "- This notebook will focus on using *NumPy* and *SciPy* to solve a number of problems related to...\n",
    "  - Polynomials\n",
    "  - Numeric calculus\n",
    "  - Curve fitting\n",
    "  - More\n",
    "- The topics covered include...\n",
    "  - Adding, subtracting, multiplying, and dividing polynomials using `numpy.polynomial.polynomial` (aka `P`) functions\n",
    "  - Derivatives and integrals of polynomials using `P.polyder()` and `P.polyint()`\n",
    "  - Polynomial curve fitting with `P.polyfit()` and `P.polyval()`\n",
    "  - Finding roots of polynomials using `numpy.roots()` and `P.polyroots`\n",
    "  - Finding zeros and local minimums and maximums of functions with `scipy.optimize.fsolve()` and `scipy.optimize.fminbound()`\n",
    "  - Numeric integration with `scipy.integrate.quad()` and `numpy.trapz()`\n",
    "  - Numeric differentiation with `scipy.misc.derivative()`\n",
    "- Each of these topics will be introduced by using a number of examples\n",
    "- This is not an exhaustive investigation of these topics, but merely an introduction"
   ]
  },
  {
   "cell_type": "markdown",
   "metadata": {
    "collapsed": false,
    "deletable": false,
    "editable": false,
    "run_control": {
     "frozen": true
    }
   },
   "source": [
    "**Execute the following code cell to import the necessary modules for this notebook**"
   ]
  },
  {
   "cell_type": "code",
   "execution_count": null,
   "metadata": {
    "collapsed": false,
    "deletable": false
   },
   "outputs": [],
   "source": [
    "import numpy as np\n",
    "from scipy import integrate, optimize"
   ]
  },
  {
   "cell_type": "markdown",
   "metadata": {
    "collapsed": false,
    "deletable": false,
    "editable": false,
    "run_control": {
     "frozen": true
    }
   },
   "source": [
    "## Adding, Subtracting, Multiplying, and Dividing Polynomials\n",
    "\n",
    "- Polynomials are typically expressed in the following form\n",
    "  - $c_5x^5+c_4x^4+c_3x^3+c_2x^2+c_1x^1+c_0x^0$\n",
    "  - For example, $5x^2 - 3x + 2$\n",
    "- *NumPy*'s polynomial module starts with the $x^0$ coefficient on the left instead of the right\n",
    "  - $c_0x^0 + c_1x^1+ c_2x^2 + c_3x^3 + c_4x^4 + c_5x^5+\\ldots$\n",
    "  - For example, $2 - 3x + 5x^2$\n",
    "- This module can add, subtract, multiply, and divide two polynomials using...\n",
    "  - `P.polyadd()`\n",
    "  - `P.polysub()`\n",
    "  - `P.polymul()`\n",
    "  - `P.polydiv()` - polynomial division returns two arrays; coefficients of the quotient and remainder polynomials\n",
    "- See the *NumPy* [polynomial documentation page](https://docs.scipy.org/doc/numpy/reference/routines.polynomials.polynomial.html) for help on these and other polynomial functions\n",
    "- In *NumPy* polynomials are defined as lists of the coefficients (numeric values)\n",
    "  - The lists need to start with the $x^0$ coefficient \n",
    "  - They need to include all coefficients even if they are zero\n",
    "  - All signs belong to the coefficients\n",
    "  - $5x^2 - 3x + 2$ would be defined with the list `[2, -3, 5]`\n",
    "  - $-3x^4 + 2x^2 + 5x - 12$ would be defined with the list `[-12, 5, 2, 0, -3]`"
   ]
  },
  {
   "cell_type": "markdown",
   "metadata": {
    "collapsed": false,
    "deletable": false,
    "editable": false,
    "run_control": {
     "frozen": true
    }
   },
   "source": [
    "## Determining Polynomial Values\n",
    "\n",
    "- Find the value of a polynomial at any $x$ value by using `P.polyval()`\n",
    "- It takes two arguments\n",
    "  - The value (or values as a list, tuple, or array) for $x$\n",
    "  - The polynomial to evaluate\n",
    "- Examples\n",
    "  - `P.polyval(2, p2)` evaluates `p2` at $x = 2$\n",
    "  - `P.polyval([1, 2, 3], p2)` evaluates `p2` at $x=1, 2, 3$\n"
   ]
  },
  {
   "cell_type": "markdown",
   "metadata": {
    "collapsed": false,
    "deletable": false,
    "editable": false,
    "run_control": {
     "frozen": true
    }
   },
   "source": [
    "## Derivatives and Integrals of Polynomials\n",
    "\n",
    "- *NumPy* can find the derivatives and integrals of polynomials using...\n",
    "  - `P.polyder()`\n",
    "  - `P.polyint()`\n",
    "- Both functions accept the following arguments...\n",
    "  - Coefficient values in an array or list as previously described (required)\n",
    "  - The number of differentiations or integrations to take (optional, defaults to 1)\n",
    "- The result is displayed as an array of coefficients for the resulting polynomial\n",
    "- The expression `P.polyder(p1, 2)` will take the second derivative of the polynomial named `p1`\n",
    "- These functions do not work with non-polynomial expressions\n"
   ]
  },
  {
   "cell_type": "markdown",
   "metadata": {
    "collapsed": false,
    "deletable": false,
    "editable": false,
    "run_control": {
     "frozen": true
    }
   },
   "source": [
    "## Curve Fitting\n",
    "\n",
    "- The *NumPy* polynomial module also provides a means to perform regression analysis, aka curve fitting\n",
    "- A function may be fitted to a set of $x$ and $y$ data points\n",
    "- The `P.polyfit()` function is used to fit a polynomial of a specific order to the data\n",
    "- A polynomial of order $n = 1$ is a straight line of the form $y = mx + b$\n",
    "- The function `P.polyval()` can then be used to create an array of values using the `P.polyfit()` results\n",
    "  - This array can then be used for plotting the fitted curve\n",
    "- The arguments passed to the `P.polyfit()` function are the $x$ and $y$ arrays followed by the desired fit order\n",
    "- `P.polyfit(x, y, 5)` will result in a 5th order polynomial\n",
    "- *SciPy* has a statistics module called `stats` that includes the `linregress()` function\n",
    "  - Use it for finding the $R^2$ value (and more) for each of the fitted curves relative to the original data points\n",
    "  - The arrays used in this function need to be the same length\n"
   ]
  },
  {
   "cell_type": "markdown",
   "metadata": {
    "collapsed": false,
    "deletable": false,
    "editable": false,
    "run_control": {
     "frozen": true
    }
   },
   "source": [
    "## Finding Zeros (Roots) and Local Minimums and Maximums of Polynomials\n",
    "\n",
    "- Solving a polynomial\n",
    "  - Also known as finding its zeros or roots\n",
    "  - Accomplished by finding the $x$ locations where the polynomial crosses the $x$-axis\n",
    "  - The $x$ values where the $y$ value of the polynomial equals zero\n",
    "- *NumPy* can find local roots of polynomials using the `P.polyroots()` function\n",
    "  - Returns all of the real roots (zeros) of the polynomial\n",
    "- *NumPy* can also find the roots of a polynomial using `np.roots()`\n",
    "  - The polynomial coefficients need to be reversed for this function\n",
    "  - This can be done using slicing if you already have a polynomial defined using the polynomial module\n",
    "- Local minimums and maximums can be determined by finding the roots of the first derivative of the polynomial\n"
   ]
  },
  {
   "cell_type": "markdown",
   "metadata": {
    "collapsed": false,
    "deletable": false,
    "editable": false,
    "run_control": {
     "frozen": true
    }
   },
   "source": [
    "## Creating User Defined Functions: Review\n",
    "\n",
    "- Header `def func_name(arg1, arg2):`\n",
    "- Body\n",
    "  - Indented 4 spaces from header\n",
    "  - Expressions that use the arguments\n",
    "  - Returns a result or results\n",
    "\n",
    "**Example**\n",
    "\n",
    "```python\n",
    "def cbrt(x):\n",
    "    if x >= 0:\n",
    "        return round(x**(1/3), 12)\n",
    "    else:\n",
    "        return round(-abs(x**(1/3)), 12)\n",
    "```"
   ]
  },
  {
   "cell_type": "markdown",
   "metadata": {
    "collapsed": false,
    "deletable": false,
    "editable": false,
    "run_control": {
     "frozen": true
    }
   },
   "source": [
    "## Creating Anonymous `lambda` Functions\n",
    "\n",
    "- *Python* includes a command named `lambda` to create quick, anonymous functions\n",
    "- This type of function must consist of a single mathematical expression\n",
    "- `lambda` can be used when creating function plots or finding function zeros and minimums\n",
    "- The following illustrates the general syntax for creating an anonymous function using `lambda`\n",
    "\n",
    "\n",
    "    `function_name = lambda arg_name: <expression that uses arg_name>`\n"
   ]
  },
  {
   "cell_type": "markdown",
   "metadata": {
    "collapsed": false,
    "deletable": false,
    "editable": false,
    "run_control": {
     "frozen": true
    }
   },
   "source": [
    "## Finding Zeros (Roots) and Local Minimums and Maximums of Functions\n",
    "\n",
    "- *SciPy* has an `optimize` module that includes..\n",
    "  - `optimize.fsolve()` for finding the zeros (roots) of any function\n",
    "    - Requires an $x$-value \"guess\" that is close to where the function crosses the $x$-axis\n",
    "  - `optimize.fminbound()`  for finding local minimums of any function; not just polynomials\n",
    "    - Can find local minimums using the `optimize.fminbound()` function\n",
    "    - There is no maximum function\n",
    "    - Local maximums can be found by...\n",
    "      - Negating (multiply by $-1$) the original function \n",
    "      - Using `optimize.fminbound()` on the negated function\n",
    "    - The function requires three arguments\n",
    "      - The function name\n",
    "      - Lower and upper bounds for the range over which to look for the minimum\n",
    "    - Pass the results back to the original function to determine the $y$ values of the minimums and maximums\n",
    "- Plotting functions before finding the zeros is very helpful\n"
   ]
  },
  {
   "cell_type": "markdown",
   "metadata": {
    "collapsed": false,
    "deletable": false,
    "editable": false,
    "run_control": {
     "frozen": true
    }
   },
   "source": [
    "## Numerical Integration and Differentiation\n",
    "\n",
    "- *NumPy* and *SciPy* both provide functions to perform numerical integration\n",
    "- *NumPy* has `np.trapz()` \n",
    "  - Integrates (area under curve) arrays of $x,y$ values\n",
    "  - Uses the trapezoid rule\n",
    "  - The arguments for `np.trapz()` are in `y, x` order\n",
    "- *SciPy* has the `integrate.quad()` fuction (among others) for integrating a function between a set of limits\n",
    "  - This function returns an array of two values\n",
    "    - The first is the result of the integration\n",
    "    - The second is an estimate of the error\n",
    "- For both `np.trapz()` and `integrate.quad()` the results are estimates of definite integrals\n",
    "- The *SciPy* module can also calculate (estimate) the derivative of a function at a specific point\n",
    "  - The function is found in `scipy.misc` and called `derivative()`\n",
    "  - The arguments are...\n",
    "    - A function name\n",
    "    - The value of the point of interest\n",
    "    - Two optional arguments\n",
    "      - `dx=` is the spacing\n",
    "      - `n=` is the order of the derivative\n",
    "    - The default values for both of the optional arguments is $1$\n",
    "    - A smaller `dx` value generally improves the result\n"
   ]
  },
  {
   "cell_type": "markdown",
   "metadata": {
    "collapsed": false,
    "deletable": false,
    "editable": false
   },
   "source": [
    "**Wrap it up**\n",
    "\n",
    "Click on the **Save** button and then the **Close and halt** button when you are done before closing the tab."
   ]
  }
 ],
 "metadata": {
  "kernelspec": {
   "display_name": "Python 3 (Anaconda 2020)",
   "env": {
    "ADDR2LINE": "/ext/anaconda2020.02/bin/x86_64-conda_cos6-linux-gnu-addr2line",
    "ANACONDA2019": "$EXT/anaconda-2019.03",
    "ANACONDA2020": "/ext/anaconda2020.02",
    "ANACONDA3": "$EXT/anaconda3",
    "ANACONDA5": "$EXT/anaconda5",
    "AR": "/ext/anaconda2020.02/bin/x86_64-conda_cos6-linux-gnu-ar",
    "AS": "/ext/anaconda2020.02/bin/x86_64-conda_cos6-linux-gnu-as",
    "CC": "/ext/anaconda2020.02/bin/x86_64-conda_cos6-linux-gnu-cc",
    "CFLAGS": "-march=nocona -mtune=haswell -ftree-vectorize -fPIC -fstack-protector-strong -fno-plt -O2 -ffunction-sections -pipe -isystem /ext/anaconda2020.02/include",
    "CMAKE_PREFIX_PATH": "/ext/anaconda2020.02:/ext/anaconda2020.02/x86_64-conda_cos6-linux-gnu/sysroot/usr",
    "CONDA_BACKUP_HOST": "x86_64-conda_cos6-linux-gnu",
    "CONDA_BUILD_SYSROOT": "/ext/anaconda2020.02/x86_64-conda_cos6-linux-gnu/sysroot",
    "CONDA_DEFAULT_ENV": "base",
    "CONDA_EXE": "/ext/anaconda2020.02/bin/conda",
    "CONDA_MKL_INTERFACE_LAYER_BACKUP": "",
    "CONDA_PREFIX": "/ext/anaconda2020.02",
    "CONDA_PROMPT_MODIFIER": "(base) ",
    "CONDA_PYTHON_EXE": "/ext/anaconda2020.02/bin/python",
    "CONDA_SHLVL": "1",
    "CPP": "/ext/anaconda2020.02/bin/x86_64-conda_cos6-linux-gnu-cpp",
    "CPPFLAGS": "-DNDEBUG -D_FORTIFY_SOURCE=2 -O2 -isystem /ext/anaconda2020.02/include",
    "CXX": "/ext/anaconda2020.02/bin/x86_64-conda_cos6-linux-gnu-c++",
    "CXXFILT": "/ext/anaconda2020.02/bin/x86_64-conda_cos6-linux-gnu-c++filt",
    "CXXFLAGS": "-fvisibility-inlines-hidden -std=c++17 -fmessage-length=0 -march=nocona -mtune=haswell -ftree-vectorize -fPIC -fstack-protector-strong -fno-plt -O2 -ffunction-sections -pipe -isystem /ext/anaconda2020.02/include",
    "DEBUG_CFLAGS": "-march=nocona -mtune=haswell -ftree-vectorize -fPIC -fstack-protector-all -fno-plt -Og -g -Wall -Wextra -fvar-tracking-assignments -ffunction-sections -pipe -isystem /ext/anaconda2020.02/include",
    "DEBUG_CPPFLAGS": "-D_DEBUG -D_FORTIFY_SOURCE=2 -Og -isystem /ext/anaconda2020.02/include",
    "DEBUG_CXXFLAGS": "-fvisibility-inlines-hidden -std=c++17 -fmessage-length=0 -march=nocona -mtune=haswell -ftree-vectorize -fPIC -fstack-protector-all -fno-plt -Og -g -Wall -Wextra -fvar-tracking-assignments -ffunction-sections -pipe -isystem /ext/anaconda2020.02/include",
    "DEBUG_FFLAGS": "-fopenmp -march=nocona -mtune=haswell -ftree-vectorize -fPIC -fstack-protector-strong -fno-plt -O2 -ffunction-sections -pipe -isystem /ext/anaconda2020.02/include -fopenmp -march=nocona -mtune=haswell -ftree-vectorize -fPIC -fstack-protector-all -fno-plt -Og -g -Wall -Wextra -fcheck=all -fbacktrace -fimplicit-none -fvar-tracking-assignments -ffunction-sections -pipe",
    "DEBUG_FORTRANFLAGS": "-fopenmp -march=nocona -mtune=haswell -ftree-vectorize -fPIC -fstack-protector-strong -fno-plt -O2 -ffunction-sections -pipe -isystem /ext/anaconda2020.02/include -fopenmp -march=nocona -mtune=haswell -ftree-vectorize -fPIC -fstack-protector-all -fno-plt -Og -g -Wall -Wextra -fcheck=all -fbacktrace -fimplicit-none -fvar-tracking-assignments -ffunction-sections -pipe",
    "ELFEDIT": "/ext/anaconda2020.02/bin/x86_64-conda_cos6-linux-gnu-elfedit",
    "F77": "/ext/anaconda2020.02/bin/x86_64-conda_cos6-linux-gnu-gfortran",
    "F90": "/ext/anaconda2020.02/bin/x86_64-conda_cos6-linux-gnu-gfortran",
    "F95": "/ext/anaconda2020.02/bin/x86_64-conda_cos6-linux-gnu-f95",
    "FC": "/ext/anaconda2020.02/bin/x86_64-conda_cos6-linux-gnu-gfortran",
    "FFLAGS": "-fopenmp -march=nocona -mtune=haswell -ftree-vectorize -fPIC -fstack-protector-strong -fno-plt -O2 -ffunction-sections -pipe -isystem /ext/anaconda2020.02/include",
    "FORTRANFLAGS": "-fopenmp -march=nocona -mtune=haswell -ftree-vectorize -fPIC -fstack-protector-strong -fno-plt -O2 -ffunction-sections -pipe -isystem /ext/anaconda2020.02/include",
    "GCC": "/ext/anaconda2020.02/bin/x86_64-conda_cos6-linux-gnu-gcc",
    "GCC_AR": "/ext/anaconda2020.02/bin/x86_64-conda_cos6-linux-gnu-gcc-ar",
    "GCC_NM": "/ext/anaconda2020.02/bin/x86_64-conda_cos6-linux-gnu-gcc-nm",
    "GCC_RANLIB": "/ext/anaconda2020.02/bin/x86_64-conda_cos6-linux-gnu-gcc-ranlib",
    "GDAL_DATA": "/ext/anaconda2020.02/share/gdal",
    "GFORTRAN": "/ext/anaconda2020.02/bin/x86_64-conda_cos6-linux-gnu-gfortran",
    "GPROF": "/ext/anaconda2020.02/bin/x86_64-conda_cos6-linux-gnu-gprof",
    "GXX": "/ext/anaconda2020.02/bin/x86_64-conda_cos6-linux-gnu-g++",
    "JAVA_HOME": "/ext/anaconda2020.02",
    "JAVA_HOME_CONDA_BACKUP": "",
    "JAVA_LD_LIBRARY_PATH": "/ext/anaconda2020.02/lib/server",
    "LD": "/ext/anaconda2020.02/bin/x86_64-conda_cos6-linux-gnu-ld",
    "LDFLAGS": "-Wl,-O2 -Wl,--sort-common -Wl,--as-needed -Wl,-z,relro -Wl,-z,now -Wl,--disable-new-dtags -Wl,--gc-sections -Wl,-rpath,/ext/anaconda2020.02/lib -Wl,-rpath-link,/ext/anaconda2020.02/lib -L/ext/anaconda2020.02/lib",
    "LD_GOLD": "/ext/anaconda2020.02/bin/x86_64-conda_cos6-linux-gnu-ld.gold",
    "LD_LIBRARY_PATH": "/ext/anaconda2020.02/lib",
    "MKL_INTERFACE_LAYER": "LP64,GNU",
    "MKL_THREADING_LAYER": "GNU",
    "NM": "/ext/anaconda2020.02/bin/x86_64-conda_cos6-linux-gnu-nm",
    "OBJCOPY": "/ext/anaconda2020.02/bin/x86_64-conda_cos6-linux-gnu-objcopy",
    "OBJDUMP": "/ext/anaconda2020.02/bin/x86_64-conda_cos6-linux-gnu-objdump",
    "OLDPWD": "/ext/anaconda2020.02",
    "PATH": "/ext/anaconda2020.02/bin:/ext/anaconda2020.02/bin:/ext/anaconda2020.02/condabin:/cocalc/bin:/cocalc/src/smc-project/bin:/home/salvus/bin:/home/salvus/.local/bin:/usr/lib/xpra:/ext/bin:/opt/ghc/bin:/usr/local/sbin:/usr/local/bin:/usr/sbin:/usr/bin:/sbin:/bin:/snap/bin:/usr/lib/postgresql/10/bin:/ext/data/homer/bin:/ext/data/weblogo",
    "PROJ_LIB": "/ext/anaconda2020.02/share/proj",
    "RANLIB": "/ext/anaconda2020.02/bin/x86_64-conda_cos6-linux-gnu-ranlib",
    "READELF": "/ext/anaconda2020.02/bin/x86_64-conda_cos6-linux-gnu-readelf",
    "RSTUDIO_WHICH_R": "/ext/anaconda2020.02/bin/R",
    "SIZE": "/ext/anaconda2020.02/bin/x86_64-conda_cos6-linux-gnu-size",
    "STRINGS": "/ext/anaconda2020.02/bin/x86_64-conda_cos6-linux-gnu-strings",
    "STRIP": "/ext/anaconda2020.02/bin/x86_64-conda_cos6-linux-gnu-strip",
    "_CE_CONDA": "",
    "_CE_M": "",
    "_CONDA_PYTHON_SYSCONFIGDATA_NAME": "_sysconfigdata_x86_64_conda_cos6_linux_gnu"
   },
   "language": "python",
   "metadata": {
    "cocalc": {
     "description": "Python/R distribution for data science",
     "priority": 5,
     "url": "https://www.anaconda.com/distribution/"
    }
   },
   "name": "anaconda2020",
   "resource_dir": "/ext/jupyter/kernels/anaconda2020"
  },
  "language_info": {
   "codemirror_mode": {
    "name": "ipython",
    "version": 3
   },
   "file_extension": ".py",
   "mimetype": "text/x-python",
   "name": "python",
   "nbconvert_exporter": "python",
   "pygments_lexer": "ipython3",
   "version": "3.7.4"
  },
  "varInspector": {
   "cols": {
    "lenName": 16,
    "lenType": 16,
    "lenVar": 40
   },
   "kernels_config": {
    "python": {
     "delete_cmd_postfix": "",
     "delete_cmd_prefix": "del ",
     "library": "var_list.py",
     "varRefreshCmd": "print(var_dic_list())"
    },
    "r": {
     "delete_cmd_postfix": ") ",
     "delete_cmd_prefix": "rm(",
     "library": "var_list.r",
     "varRefreshCmd": "cat(var_dic_list()) "
    }
   },
   "types_to_exclude": [
    "module",
    "function",
    "builtin_function_or_method",
    "instance",
    "_Feature"
   ],
   "window_display": false
  }
 },
 "nbformat": 4,
 "nbformat_minor": 4
}
