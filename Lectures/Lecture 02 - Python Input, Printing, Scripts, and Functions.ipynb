{
 "cells": [
  {
   "cell_type": "markdown",
   "metadata": {
    "collapsed": false,
    "deletable": false,
    "editable": false,
    "run_control": {
     "frozen": true
    }
   },
   "source": [
    "# Lecture 2 - Python Input, Printing, Scripts, and Functions"
   ]
  },
  {
   "cell_type": "markdown",
   "metadata": {
    "collapsed": false,
    "deletable": false,
    "editable": false
   },
   "source": [
    "## Purpose\n",
    "\n",
    "- Use string literals (*f-strings*) and the `.format()` string method to generate specifically formatted output\n",
    "- Use the `input()` function to generate interactive input from the user in scripts and user-defined functions\n",
    "- Create, edit, and execute simple scripts using *Python*\n",
    "- Assign values to variable names within scripts\n",
    "- Request user input to assign values to variables in scripts using the `input()` function\n",
    "- Create and execute user-defined functions that do and do not accept arguments\n",
    "- Create and execute void and fruitful functions\n",
    "- Use `print()` to display output from scripts and user-defined functions"
   ]
  },
  {
   "cell_type": "markdown",
   "metadata": {
    "collapsed": false,
    "deletable": false,
    "editable": false,
    "run_control": {
     "frozen": true
    }
   },
   "source": [
    "## Some Creative Commons Reference Sources for This Material\n",
    "\n",
    "- *Think Python 2nd Edition*, Allen Downey, chapters 3 and 6\n",
    "- *The Coder's Apprentice*, Pieter Spronck, chapters 5 and 8\n",
    "- *A Practical Introduction to Python Programming*, Brian Heinold, chapters 1, 10, 13, and 23\n",
    "- *Algorithmic Problem Solving with Python*, John Schneider, Shira Broschat, and Jess Dahmen, chapters 3 and 4"
   ]
  },
  {
   "cell_type": "markdown",
   "metadata": {
    "collapsed": false,
    "deletable": false,
    "editable": false,
    "run_control": {
     "frozen": true
    }
   },
   "source": [
    "## Reviewing the `print()` Function\n",
    "\n",
    "- `print()` can display numeric values and text strings\n",
    "- Multiple items can be printed by separating items with commas\n",
    "- Force a line return in any string by adding the newline escape sequence `\\n`\n",
    "- The escape sequence `\\t` adds a tab\n",
    "- Multiplying a string by an integer in `print()` will print the string that number of times\n"
   ]
  },
  {
   "cell_type": "markdown",
   "metadata": {
    "collapsed": false,
    "deletable": false,
    "editable": false,
    "run_control": {
     "frozen": true
    }
   },
   "source": [
    "## Functions Versus Methods\n",
    "\n",
    "- *Python* uses both **functions** and **methods** to work with/on objects\n",
    "- Functions usually work with arguments to return a value or do something with the arguments\n",
    "  - Like the `abs()`\n",
    "  - Or like `print()`\n",
    "- Methods are similar to functions\n",
    "  - Methods usually work on an object using arguments to either return a value or change the object\n",
    "  - Can accept arguments\n",
    "  - Syntax is different\n",
    "  - We will look at the string `.format()` method in this notebook\n",
    "- See images below\n",
    "\n",
    "![Functions.png](Functions.png)\n",
    "\n",
    "![Methods.png](Methods.png)"
   ]
  },
  {
   "cell_type": "markdown",
   "metadata": {
    "collapsed": false,
    "deletable": false,
    "editable": false,
    "run_control": {
     "frozen": true
    }
   },
   "source": [
    "## Formatting Printed Output\n",
    "\n",
    "### The `.format()` String Method\n",
    "\n",
    "- Including the `.format()` string method within a `print()` function\n",
    "- Control exactly how numeric (and non-numeric) values are displayed\n",
    "- The general layout is `'The sum of {} and {} is {}'.format(item_1, item_2, item_3)`\n",
    "- The expression starts with a string that has curly braces `{}` as placeholders\n",
    "- Think of the curly braces as blanks in a fill-in-the-blanks statement\n",
    "- The `.format()` method directly follows the closing quote for the string\n",
    "- The arguments in the parentheses are the values (in order) that match the placeholders in the string\n",
    "- Arguments may be values and/or expressions\n",
    "- Placeholders can include formatting descriptors to generate very specific formatting\n",
    "- Formatting descriptors within braces must be preceded by a colon, i.e. `{:.2f}`.\n",
    "\n",
    "The website https://pyformat.info does a good job of explaining various examples of the `.format()` method; both simple and complex.\n"
   ]
  },
  {
   "cell_type": "markdown",
   "metadata": {
    "collapsed": false,
    "deletable": false,
    "editable": false,
    "run_control": {
     "frozen": true
    }
   },
   "source": [
    "### Formatted String Literals\n",
    "\n",
    "- New to *Python* starting with version 3.6 \n",
    "- Also called \"*f-strings*\"\n",
    "- Work like the `.format()` method but in a more direct way\n",
    "- Use `print(f'pi is close to {22/7}')` instead of `print('pi is close to {}'.format(22/7))` \n",
    "- Allow expressions or variables to be placed directly within the curly braces\n",
    "- Use a colon is added after the expression or variable to add a formatting descriptor\n",
    "  - `print(f'pi is close to {22/7:.8f}')`\n"
   ]
  },
  {
   "cell_type": "markdown",
   "metadata": {
    "collapsed": false,
    "deletable": false,
    "editable": false,
    "run_control": {
     "frozen": true
    }
   },
   "source": [
    "\n",
    "*What does the formatting descriptor `8.3f` mean?*\n",
    "\n",
    "- `8` means that there are 8 total characters set aside \n",
    "- `.3` says there are to be 3 digits to the right of the decimal point\n",
    "- `f` means the value will be formatted as a float\n",
    "- Decimal point counts as a character\n",
    "- Leading blanks are added as needed\n",
    "\n",
    "    ```\n",
    "    | | | |3|.|1|4|3|  <= formatted value\n",
    "    | | | | | | | | |\n",
    "    |8|7|6|5|4|3|2|1|  <= characters set aside for the value\n",
    "    ```"
   ]
  },
  {
   "cell_type": "markdown",
   "metadata": {
    "collapsed": false,
    "deletable": false,
    "editable": false,
    "run_control": {
     "frozen": true
    }
   },
   "source": [
    "## The `input()` Function\n",
    "\n",
    "- Used to request information from a user at a command line for use in a script\n",
    "- It accepts one optional argument\n",
    "  - A statement or question to the user so they know what to enter\n",
    "  - Must be a string or formatted string\n",
    "- `input()` always returns a string\n",
    "- Must specifically convert the returned value to an integer or float if that is desired\n",
    "  - Last two examples have the `input()` function inside of `float()` and `int()`\n",
    "- Good practice to end prompt strings with a delimiter of some sort and a space\n",
    "- Common delimiters\n",
    "  - Question mark (`?`)\n",
    "  - Colon (`:`)\n",
    "  - Right arrow (`>`)\n",
    "- The delimiter and space makes it easier to read, so *do this*\n",
    "\n",
    "  ```python\n",
    "  user_name = input('What is your name? ')\n",
    "  city = input(\"Enter your city of residence: \")\n",
    "  applied_load = float(input('Enter the applied load (lbf): '))\n",
    "  age = int(input('Enter your current age > '))\n",
    "  ```"
   ]
  },
  {
   "cell_type": "markdown",
   "metadata": {
    "collapsed": false,
    "deletable": false,
    "editable": false,
    "run_control": {
     "frozen": true
    }
   },
   "source": [
    "## Scripting and Functions Background\n",
    "\n",
    "- Scripts or user-defined functions can do most everything that can be done in a *Jupyter* code cell\n",
    "- Quite often it is more efficient to use a script or user-defined function\n",
    "- Scripts are sometimes called programs\n",
    "- Simple scripts are lists of commands that are executed sequentially from top to bottom\n",
    "- Variables used in scripts can be assigned values a number of ways\n",
    "  1. Assign within the script (hard-coded)\n",
    "  2. Ask the user to input a value at a prompt\n",
    "  3. Pass when the script is executed\n",
    "  4. Load values from a file"
   ]
  },
  {
   "cell_type": "markdown",
   "metadata": {
    "collapsed": false,
    "deletable": false,
    "editable": false,
    "run_control": {
     "frozen": true
    }
   },
   "source": [
    "## Script and User-Defined Function Details\n",
    "- User-defined functions are similar to scripts\n",
    "- They generally receive input by passing arguments instead of using `input()`\n",
    "- `abs(-100)` passes `-100` as an argument to the absolute value function\n",
    "- Functions be included inside scripts or as part of a module\n",
    "- Functions must be defined before the function is called (used) in a script\n",
    "- Good programming practice\n",
    "  - Place all `import` statements at the beginning of scripts\n",
    "  - Place all user-defined functions immediately after imports\n",
    "- Assigned variables in scripts are available for use after being assigned\n",
    "- Argument names passed into and used in a function are only available for use in that function\n",
    "- Results in scripts and functions can be displayed/output using...\n",
    "  - `print()` \n",
    "  - Writing output values to a text file\n",
    "- Functions usually just return results back to the calling location\n",
    "- `abs(-100)` returns the value `100` but does not print the result\n",
    "- Not all user-defined functions return values (sometimes called **void functions**) \n",
    "- Functions that return values are sometimes called **fruitful functions**.\n",
    "- Scripts and user-defined functions should include comments explaining \"why\""
   ]
  },
  {
   "cell_type": "markdown",
   "metadata": {
    "collapsed": false,
    "deletable": false,
    "editable": false,
    "run_control": {
     "frozen": true
    }
   },
   "source": [
    "## Creating, Editing, and Executing a Script\n",
    "\n",
    "- Plain text files written using text editors\n",
    "  - *Jupyter* environment includes a simple text editor with syntax highlighting\n",
    "  - *VSCode* is a good, free text editor for programming in *Python*\n",
    "- *Python* script files end with a `.py` extension\n",
    "- Execute scripts from...\n",
    "  - Command line prompt: `python script_name.py` or `python3 script_name.py`\n",
    "  - *Jupyter* code cell: `run my_script.py` if script is in the same directory as the notebook\n",
    "  - *Python* prompt: `import my_script`\n",
    "- Good practice to include comments at the top of a script file\n",
    "  - Describing what the script does\n",
    "  - Units that are used\n",
    "  - Special conditions, etc. \n",
    "  - Should include a comment with your name, website, licensing, etc."
   ]
  },
  {
   "cell_type": "markdown",
   "metadata": {
    "collapsed": false,
    "deletable": false,
    "editable": false,
    "run_control": {
     "frozen": true
    }
   },
   "source": [
    "## Importance of Indentation\n",
    "\n",
    "* Indentation (white space) is important in *Python*\n",
    "- In the above script example all lines were aligned on the left edge\n",
    "- Indentation is used to group commands for specific purposes\n",
    "- The default indentation is no indentation at all\n",
    "- Even a single space at the beginning of a line will generate an error"
   ]
  },
  {
   "cell_type": "code",
   "execution_count": null,
   "metadata": {
    "collapsed": false,
    "deletable": false
   },
   "outputs": [],
   "source": [
    "# The following line has a space at the beginning\n",
    " print(\"Spaces are important\")"
   ]
  },
  {
   "cell_type": "markdown",
   "metadata": {
    "collapsed": false,
    "deletable": false,
    "editable": false,
    "run_control": {
     "frozen": true
    }
   },
   "source": [
    "## User-Defined Function Structure\n",
    "- Indent all commands that belong to the function by 4-spaces except the header\n",
    "- Signals to *Python* that the lines belong to the named in the header\n",
    "- The following image illustrates the basic structure of user-defined functions\n",
    "\n",
    "![function_definition.png](function_definition.png)"
   ]
  },
  {
   "cell_type": "markdown",
   "metadata": {
    "collapsed": false,
    "deletable": false,
    "editable": false,
    "run_control": {
     "frozen": true
    }
   },
   "source": [
    "- The first line is the **function header** and includes...\n",
    "  - Function name\n",
    "  - Any arguments to pass in parentheses \n",
    "  - End with a colon\n",
    "- Lines below the header are the **function body**\n",
    "  - Must consist of at least one command\n",
    "  - `pass` command may be used as a placeholder if there are no other commands\n",
    "  - A `pass` command tells *Python* to immediately exit the function and return to where it was\n",
    "- Function definitions may optionally include a **docstring**\n",
    "  - Displays information about the function when `help()` is called with the function name\n",
    "  - The docstring must be enclosed by a set of three double quotes\n",
    "  - Can span multiple lines if needed, but just one set of double quotes total"
   ]
  },
  {
   "cell_type": "markdown",
   "metadata": {
    "collapsed": false,
    "deletable": false,
    "editable": false,
    "run_control": {
     "frozen": true
    }
   },
   "source": [
    "### Void Functions\n",
    "\n",
    "- Void functions do not return any values \n",
    "- They may print the results, but don't return any values\n",
    "- The above function definition is a useless void function since it only contains `pass`\n"
   ]
  },
  {
   "cell_type": "markdown",
   "metadata": {
    "collapsed": false,
    "deletable": false,
    "editable": false,
    "run_control": {
     "frozen": true
    }
   },
   "source": [
    "### Fruitful Functions\n",
    "\n",
    "- Fruitful functions return a value back to the caller\n",
    "- They usually do not create any printed output\n",
    "- Need to have a `return` statement \n",
    "- The `return` is located on the last line since a function quits when a value is returned\n",
    "- Multiple values can be returned by separating the values with commas after the `return` statement\n",
    "- Unlike the `print()` function, `return` is a statement and does not use parentheses\n",
    "- The example below illustrates the general structure of a fruitful function\n",
    "\n",
    "``` python\n",
    "def my_function(arg1,arg2):\n",
    "    \"\"\"docstring\"\"\"\n",
    "    body line 1\n",
    "    body line 2\n",
    "    return value1, value2\n",
    "```"
   ]
  }
 ],
 "metadata": {
  "kernelspec": {
   "display_name": "Python 3 (system-wide)",
   "language": "python",
   "metadata": {
    "cocalc": {
     "description": "Python 3 programming language",
     "priority": 100,
     "url": "https://www.python.org/"
    }
   },
   "name": "python3",
   "resource_dir": "/ext/jupyter/kernels/python3"
  },
  "language_info": {
   "codemirror_mode": {
    "name": "ipython",
    "version": 3
   },
   "file_extension": ".py",
   "mimetype": "text/x-python",
   "name": "python",
   "nbconvert_exporter": "python",
   "pygments_lexer": "ipython3",
   "version": "3.8.10"
  },
  "nteract": {
   "version": "0.25.1"
  },
  "varInspector": {
   "cols": {
    "lenName": 16,
    "lenType": 16,
    "lenVar": 40
   },
   "kernels_config": {
    "python": {
     "delete_cmd_postfix": "",
     "delete_cmd_prefix": "del ",
     "library": "var_list.py",
     "varRefreshCmd": "print(var_dic_list())"
    },
    "r": {
     "delete_cmd_postfix": ") ",
     "delete_cmd_prefix": "rm(",
     "library": "var_list.r",
     "varRefreshCmd": "cat(var_dic_list()) "
    }
   },
   "types_to_exclude": [
    "module",
    "function",
    "builtin_function_or_method",
    "instance",
    "_Feature"
   ],
   "window_display": false
  }
 },
 "nbformat": 4,
 "nbformat_minor": 4
}
