{
 "cells": [
  {
   "cell_type": "markdown",
   "metadata": {
    "deletable": false,
    "editable": false
   },
   "source": [
    "# Lecture 4 - Python Conditionals\n",
    "___"
   ]
  },
  {
   "cell_type": "markdown",
   "metadata": {},
   "source": [
    "## Purpose\n",
    "\n",
    "- Create expressions with comparison operators\n",
    "- Create expressions with logical operators\n",
    "- Create more complex scripts that include conditional branching\n",
    "  - Use `if` statement groups\n",
    "  - Use `if-else` statement groups\n",
    "  - Use `if-elif-else` statement groups"
   ]
  },
  {
   "cell_type": "markdown",
   "metadata": {},
   "source": [
    "## Some Creative Commons Reference Sources for This Material\n",
    "\n",
    "- *Think Python 2nd Edition*, Allen Downey, chapter 5\n",
    "- *The Coder's Apprentice*, Pieter Spronck, chapter 6\n",
    "- *A Practical Introduction to Python Programming*, Brian Heinold, chapter 4\n",
    "- *Algorithmic Problem Solving with Python*, John Schneider, Shira Broschat, and Jess Dahmen, chapter 11"
   ]
  },
  {
   "cell_type": "markdown",
   "metadata": {},
   "source": [
    "## Background\n",
    "\n",
    "- Simple script files are lists of commands that are executed sequentially from top to bottom\n",
    "- Often it is necessary for a script to be smarter..\n",
    "  - Make decisions based on the values assigned to variables\n",
    "  - Execute a group of commands more than once\n",
    "- Changing the flow requires that some sort of decision making be added within the script\n",
    "- Decision making processes is one of the primary differences between simple and complex scripts\n",
    "- Comparison and logical operators are a necessary part of the decision making process\n",
    "- They are used as part of every conditional statement that alters the flow of a script\n",
    "- The statement groups introduced in this notebook are...\n",
    "  - `if`\n",
    "  - `if-else`\n",
    "  - `if-elif-else`"
   ]
  },
  {
   "cell_type": "markdown",
   "metadata": {},
   "source": [
    "## Comparison Operators\n",
    "\n",
    "- To make decisions, we need to compare values and/or variables\n",
    "- Doing so requires an understanding of comparison and logical operators\n",
    "- Comparison operators compare two values\n",
    "  - Usually numbers in our case\n",
    "  - Can include strings and other objects\n",
    "- Result is either `True` or `False` (`bool` type, not strings)\n",
    "\n",
    "|Operator | Description | Example | Result |\n",
    "|:-----:|:----------|:---|:---|\n",
    "|`<`  | is the left side value less than the right | `3 < 5` | `True`|\n",
    "|`>`  | is the left side value greater than the right | `3 > 5` | `False`|\n",
    "|`<=` | is the left value less than or equal to the right | `2 <= 4/2` | `True`|\n",
    "|`>=` | is the left value greater than or equal to the right | `4**2 >= 15` | `True`|\n",
    "|`==` | are the two values equal to each other | `2 + 2 == 2*2` | `True`|\n",
    "|`!=` | are the two values not equal to each other | `16**(1/2) != 4` | `False`|\n",
    "|`is` | is one object the same as another (different than `==`) | `2.0 is 2` | `False`|\n",
    "|`is not` | is one object not the same as the other | `2.0 is  not 2` | `True`|\n",
    "|`in` | is one object in (a sub-set of) the other | `'e' in 'yes'` | `True`|\n",
    "|`not in` | is one object not in the other | `'i' not in 'team'` | `True`|\n",
    "\n",
    "\n",
    "- Mathematical operators take precedence over comparison operators\n",
    "- Comparison operators all have the same precedence and are evaluated left to right\n",
    "- It is important to use parentheses to group portions of expressions\n",
    "- When using the `in` and `not in` operators, the second object must be an iterable\n",
    "- Strings are iterables\n",
    "- Lists, tuples, and ranges are iterables (each of which will be introduced later)"
   ]
  },
  {
   "cell_type": "markdown",
   "metadata": {},
   "source": [
    "## Logical Operators\n",
    "\n",
    "- Logical operators include `and`, `or`, and `not`\n",
    "- Any non-zero value is considered to be logically `True`\n",
    "- Zero is logically `False`\n",
    "\n",
    "|Name | Usage |  Result|\n",
    ":------:|:----------|:---------|\n",
    "`and` | `A and B` |  `True` if both `A` and `B` are `True`; `False` otherwise\n",
    "`or`  |  `A or B` |  `True` if either `A` or `B` are `True`; `False` otherwise\n",
    "`not` | `not A`   |  `True` if `A` is `False`; `False` if `A` is `True`\n",
    "\n",
    "- Can be used with any object\n",
    "- Can be used alongside arithmetic operators\n",
    "- The precedence of the `and`, `or`, and `not` operators falls after all arithmetic operators and comparison operators in the order shown. \n",
    "- Using logical operators with numeric values can generate curious results\n",
    "- Using `or` with two numeric values results in...\n",
    "  - The first non-zero value of the pair if at least one of the values is not zero \n",
    "  - Zero if both values are zero\n",
    "- Using `and` with two numeric values results in... \n",
    "  - The second non-zero value of the pair if neither value is zero\n",
    "  - Zero if either of the values is zero"
   ]
  },
  {
   "cell_type": "markdown",
   "metadata": {},
   "source": [
    "## The `if` Statement Group\n",
    "\n",
    "- `if` is part of a block of commands\n",
    "- First line contains the `if` statement plus a comparison followed by a colon\n",
    "- The colon indicates that the line is the first of a group of lines/commands\n",
    "- The lines that follow...\n",
    "  - Must be indented 4 spaces \n",
    "  - Contain all of the code that need to be executed only if the comparison is `True`\n",
    "- If the initial comparison is `False`\n",
    "  - Execution will skip all of the indented lines before continuing\n",
    "\n",
    "  ```python\n",
    "  x = 9\n",
    "  if x < 10:  # can be any comparison. you must have the colon : at the end\n",
    "      # the indented code only executes if the comparison is true\n",
    "      print('x is less than 10')\n",
    "  print('x =' ,x) # this line always executes\n",
    "  ```"
   ]
  },
  {
   "cell_type": "markdown",
   "metadata": {},
   "source": [
    "## Using the `if-else` Statement Group\n",
    "\n",
    "- `if-else` statement group starts with an `if` group\n",
    "- An `else` statement is added immediately after the last indented line of the `if` group\n",
    "- The `else` must have the same indentation as the `if` line that it is paired with \n",
    "- The `else` line does not (and can not) contain any comparison\n",
    "- The following lines must be\n",
    "  - Indented 4 spaces\n",
    "  - Contain all of the code that needs to execute if the `if` condition is `False`\n",
    "- The first block of commands execute if the condition is `True` \n",
    "- The second block if the condition is `False`\n",
    "\n",
    "  ```python\n",
    "  x = 9\n",
    "  if x < 10:  # can be any comparison. you must have the colon : at the end\n",
    "      # this indented code only executes if the comparison is true\n",
    "      print('x is less than 10')\n",
    "  else:\n",
    "      # this indented code only executes if the comparison is false\n",
    "      print('x is greater than or equal to 10')\n",
    "  print('x =', x) # this line always executes\n",
    "  ```"
   ]
  },
  {
   "cell_type": "markdown",
   "metadata": {},
   "source": [
    "## The `if-elif-else` Statement Group\n",
    "\n",
    "- The addition of `elif` (short for else if) statements allows for any number of possible conditions\n",
    "- The format of the `elif` statement is just like the `if`\n",
    "- It is located after the initial `if` and before an `else`\n",
    "- Use of this statement group type does not mandate the use of an `else` \n",
    "- Only the first condition that evaluates to `True` will be executed\n",
    "- Once an `if` or `elif` group is executed, all others will be skipped\n",
    "\n",
    "    ```python\n",
    "    x = 9\n",
    "    if x < 10:  # can be any comparison. you must have the colon : at the end\n",
    "        # this indented code only executes if the 'if' is true\n",
    "        print('x is less than 10')\n",
    "    elif x == 10:\n",
    "        # this indented code only executes if the 'elif' is true\n",
    "        print('x is equal to 10')\n",
    "    else:\n",
    "        # this indented code only executes if the 'if' and 'elif' are false\n",
    "        print('x is greater than 10')\n",
    "    print('x =',x) # this line always executes\n",
    "    ```"
   ]
  },
  {
   "cell_type": "markdown",
   "metadata": {},
   "source": [
    "## The Ternary Operator; A *Pythonic* Technique\n",
    "\n",
    "- *Python* allows you to perform an assignment and an `if-else` in the same line of code\n",
    "- This operation is called the **ternary operator**\n",
    "- It does the same thing in one expression as a standard `if-else` does with four\n",
    "\n",
    "    ```python\n",
    "    # using an if-else group\n",
    "    y = 10\n",
    "    if y > 10:\n",
    "        x = 25\n",
    "    else:\n",
    "        x = 20\n",
    "    print('x =', x)\n",
    "    ```\n",
    "\n",
    "    ```python\n",
    "    # using a ternary operator\n",
    "    y = 10\n",
    "    x = 25 if y > 10 else 20\n",
    "    print('x =', x)\n",
    "    ```\n"
   ]
  },
  {
   "cell_type": "markdown",
   "metadata": {},
   "source": [
    "**Wrap it up**\n",
    "\n",
    "Click on the **Save** button and then the **Close and halt** button when you are done before closing the tab."
   ]
  }
 ],
 "metadata": {
  "kernelspec": {
   "display_name": "Python 3",
   "language": "python",
   "name": "python3"
  },
  "language_info": {
   "codemirror_mode": {
    "name": "ipython",
    "version": 3
   },
   "file_extension": ".py",
   "mimetype": "text/x-python",
   "name": "python",
   "nbconvert_exporter": "python",
   "pygments_lexer": "ipython3",
   "version": "3.8.8"
  },
  "varInspector": {
   "cols": {
    "lenName": 16,
    "lenType": 16,
    "lenVar": 40
   },
   "kernels_config": {
    "python": {
     "delete_cmd_postfix": "",
     "delete_cmd_prefix": "del ",
     "library": "var_list.py",
     "varRefreshCmd": "print(var_dic_list())"
    },
    "r": {
     "delete_cmd_postfix": ") ",
     "delete_cmd_prefix": "rm(",
     "library": "var_list.r",
     "varRefreshCmd": "cat(var_dic_list()) "
    }
   },
   "types_to_exclude": [
    "module",
    "function",
    "builtin_function_or_method",
    "instance",
    "_Feature"
   ],
   "window_display": false
  }
 },
 "nbformat": 4,
 "nbformat_minor": 4
}
