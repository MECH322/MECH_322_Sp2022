{
 "cells": [
  {
   "cell_type": "markdown",
   "metadata": {
    "deletable": false,
    "editable": false,
    "run_control": {
     "frozen": true
    }
   },
   "source": [
    "# Lecture 11 Assignment\n",
    "# *NumPy* Array Math\n",
    "___"
   ]
  },
  {
   "cell_type": "markdown",
   "metadata": {
    "deletable": false,
    "editable": false,
    "run_control": {
     "frozen": true
    }
   },
   "source": [
    "\n",
    "## Purpose\n",
    "\n",
    "- Perform math with arrays and scalar objects\n",
    "- Perform math using multiple arrays at the same time\n",
    "- Use *NumPy* functions on elements in arrays"
   ]
  },
  {
   "cell_type": "markdown",
   "metadata": {
    "deletable": false,
    "editable": false,
    "run_control": {
     "frozen": true
    }
   },
   "source": [
    "***NumPy* Array Review**\n",
    "\n",
    "Recall that we need to import *NumPy* in order to use it. Lets do that right away so we don't forget."
   ]
  },
  {
   "cell_type": "code",
   "execution_count": null,
   "metadata": {},
   "outputs": [],
   "source": [
    "import numpy as np"
   ]
  },
  {
   "cell_type": "markdown",
   "metadata": {
    "deletable": false,
    "editable": false,
    "run_control": {
     "frozen": true
    }
   },
   "source": [
    "**Scalar-array operations**\n",
    "\n",
    "Execute the following code cell to assign an array to the variable `a` and a scalar to the variable `b`. Then use the remaining cells to perform each of the following scalar-array operations:\n",
    "- $a+b$\n",
    "- $a\\times b$\n",
    "- $a\\div b$\n",
    "- $b\\div a$\n",
    "- $a^b$"
   ]
  },
  {
   "cell_type": "code",
   "execution_count": null,
   "metadata": {},
   "outputs": [],
   "source": [
    "a = np.arange(1, 16, 2)\n",
    "b = 1.5"
   ]
  },
  {
   "cell_type": "code",
   "execution_count": null,
   "metadata": {},
   "outputs": [],
   "source": [
    "# a plus b\n"
   ]
  },
  {
   "cell_type": "code",
   "execution_count": null,
   "metadata": {},
   "outputs": [],
   "source": [
    "# a times b\n"
   ]
  },
  {
   "cell_type": "code",
   "execution_count": null,
   "metadata": {},
   "outputs": [],
   "source": [
    "# a divided by b\n"
   ]
  },
  {
   "cell_type": "code",
   "execution_count": null,
   "metadata": {},
   "outputs": [],
   "source": [
    "# b divided by a\n"
   ]
  },
  {
   "cell_type": "code",
   "execution_count": null,
   "metadata": {},
   "outputs": [],
   "source": [
    "# a to the b power\n"
   ]
  },
  {
   "cell_type": "markdown",
   "metadata": {
    "deletable": false,
    "editable": false,
    "run_control": {
     "frozen": true
    }
   },
   "source": [
    "**2D array-scalar operations**\n",
    "\n",
    "Let's perform some more scalar-array operations; this time with a two-dimensional array. Execute the first code cell to assign the array to a variable, then peform each of the following scalar-array math operations.\n",
    "\n",
    "- $b\\times A$\n",
    "- $A\\times 10$\n",
    "- $A + 10$\n",
    "- $100 - A$\n",
    "- $A^2$"
   ]
  },
  {
   "cell_type": "code",
   "execution_count": null,
   "metadata": {},
   "outputs": [],
   "source": [
    "A = np.array([[2, 5, 7, 0], [10, 1, 3, 4], [6, 2, 11, 5]])"
   ]
  },
  {
   "cell_type": "code",
   "execution_count": null,
   "metadata": {},
   "outputs": [],
   "source": [
    "# b times A\n"
   ]
  },
  {
   "cell_type": "code",
   "execution_count": null,
   "metadata": {},
   "outputs": [],
   "source": [
    "#A times 10\n"
   ]
  },
  {
   "cell_type": "code",
   "execution_count": null,
   "metadata": {},
   "outputs": [],
   "source": [
    "# A plus 10\n"
   ]
  },
  {
   "cell_type": "code",
   "execution_count": null,
   "metadata": {},
   "outputs": [],
   "source": [
    "# 100 minus A\n"
   ]
  },
  {
   "cell_type": "code",
   "execution_count": null,
   "metadata": {},
   "outputs": [],
   "source": [
    "# A squared\n"
   ]
  },
  {
   "cell_type": "markdown",
   "metadata": {
    "deletable": false,
    "editable": false,
    "run_control": {
     "frozen": true
    }
   },
   "source": [
    "**Array-array math**\n",
    "\n",
    "Execute the following code cell to create arrays `vectA` and `vectB`. Perform the following array-array math operations in the remaining code cells.\n",
    "\n",
    "- $vectA+vectB$\n",
    "- $vectA\\times vectB$\n",
    "- $vectB\\div vectA$\n",
    "- $vectA^{vectB}$"
   ]
  },
  {
   "cell_type": "code",
   "execution_count": null,
   "metadata": {},
   "outputs": [],
   "source": [
    "vectA = np.array([8, 5, 4],float)\n",
    "vectB = np.array([10, 2, 7],float)"
   ]
  },
  {
   "cell_type": "code",
   "execution_count": null,
   "metadata": {},
   "outputs": [],
   "source": [
    "# vectA plus vectB\n"
   ]
  },
  {
   "cell_type": "code",
   "execution_count": null,
   "metadata": {},
   "outputs": [],
   "source": [
    "# vectA times vectB\n"
   ]
  },
  {
   "cell_type": "code",
   "execution_count": null,
   "metadata": {},
   "outputs": [],
   "source": [
    "# vectB divided by vectA\n"
   ]
  },
  {
   "cell_type": "code",
   "execution_count": null,
   "metadata": {},
   "outputs": [],
   "source": [
    "# vectA to the vectB power\n"
   ]
  },
  {
   "cell_type": "markdown",
   "metadata": {
    "deletable": false,
    "editable": false,
    "run_control": {
     "frozen": true
    }
   },
   "source": [
    "**More array-array math**\n",
    "\n",
    "How about another? In the first code cell create two arrays `A` and `B`. Use `np.linspace()` to fill `A` with 5 values starting at 0 and ending at 15. Fill `B` with values starting at 10.0 and ending at 2 (including 2) with a step size of -2 using `np.arange()`. Then use the following cells to:\n",
    "\n",
    "- Add both arrays\n",
    "- Subtract `B` from `A`\n",
    "- Divide `B` by `A`"
   ]
  },
  {
   "cell_type": "code",
   "execution_count": null,
   "metadata": {},
   "outputs": [],
   "source": []
  },
  {
   "cell_type": "code",
   "execution_count": null,
   "metadata": {},
   "outputs": [],
   "source": [
    "# add both arrays\n"
   ]
  },
  {
   "cell_type": "code",
   "execution_count": null,
   "metadata": {},
   "outputs": [],
   "source": [
    "#subtract B from A\n"
   ]
  },
  {
   "cell_type": "code",
   "execution_count": null,
   "metadata": {},
   "outputs": [],
   "source": [
    "# divide B by A\n"
   ]
  },
  {
   "cell_type": "markdown",
   "metadata": {
    "deletable": false,
    "editable": false,
    "run_control": {
     "frozen": true
    }
   },
   "source": [
    "**Single row and single column arrays**\n",
    "\n",
    "The results so far have likely matched your expectations. However, that may or may not be the case if you try to perform mathematical operations on arrays that are the same size but different shapes.\n",
    "\n",
    "The following code cell creates array `C` that has a single column instead of a single row. This array is no longer one-dimensional from *NumPy*'s perspective because it requires two values to describe the size; it is a $5\\times1$ array. Execute the code to create the array and then add it to `B` in the next code cell."
   ]
  },
  {
   "cell_type": "code",
   "execution_count": null,
   "metadata": {},
   "outputs": [],
   "source": [
    "C = np.array([1, 3, 4, 6, 7]).reshape(5,1)\n",
    "C"
   ]
  },
  {
   "cell_type": "code",
   "execution_count": null,
   "metadata": {},
   "outputs": [],
   "source": [
    "# B plus C\n"
   ]
  },
  {
   "cell_type": "markdown",
   "metadata": {
    "deletable": false,
    "editable": false,
    "run_control": {
     "frozen": true
    }
   },
   "source": [
    "**Element=by-element math**\n",
    "\n",
    "Try a few more element by element math operations using arrays.\n",
    "\n",
    "1. Create an array named `x` with a range of integers from 1 to 8 inclusive\n",
    "1. Calculate $x^2 - 4x$ using the array `x` and assign the new array to the variable `y` then display it\n",
    "1. Create two arrays `a` and `b` such that `a` has 9 equally spaced values between 1 and 9 and `b` has 9 equally spaced values between 0.25 and 0.5\n",
    "1. Calculate $\\displaystyle \\frac{5a\\,b^{1.2}}{a-2b} $ using arrays `a` and `b` and name the resulting array `c` then display it"
   ]
  },
  {
   "cell_type": "code",
   "execution_count": null,
   "metadata": {},
   "outputs": [],
   "source": []
  },
  {
   "cell_type": "code",
   "execution_count": null,
   "metadata": {},
   "outputs": [],
   "source": []
  },
  {
   "cell_type": "code",
   "execution_count": null,
   "metadata": {},
   "outputs": [],
   "source": []
  },
  {
   "cell_type": "code",
   "execution_count": null,
   "metadata": {},
   "outputs": [],
   "source": []
  },
  {
   "cell_type": "markdown",
   "metadata": {
    "deletable": false,
    "editable": false,
    "run_control": {
     "frozen": true
    }
   },
   "source": [
    "| `math` | `numpy` |\n",
    "|:------|:------|\n",
    "| `math.sin(x)` | `np.sin(x)`|\n",
    "| `math.cos(x)` | `np.cos(x)`|\n",
    "| `math.tan(x)` | `np.tan(x)`|\n",
    "| `math.asin(x)` | `np.arcsin(x)`|\n",
    "| `math.acos(x)` | `np.arccos(x)`|\n",
    "| `math.atan(x)` | `np.arctan(x)`|\n",
    "| `math.atan2(y, x)` | `np.arctan2(y, x)`|\n",
    "| `math.hypot(x, y)` | `np.hypot(x, y)`|\n",
    "| `math.radians(x)` | `np.radians(x)`|\n",
    "| `math.degrees(x)` | `np.degrees(x)`|\n",
    "| `math.pi` | `np.pi`|\n",
    "| `math.e` | `np.e`|\n",
    "| `math.exp(x)` | `np.exp(x)`|\n",
    "| `math.log(x)` | `np.log(x)`|\n",
    "| `math.log10()` | `np.log10(x)`|\n",
    "| `math.sin()` | `np.sin(x)`|\n",
    "| `math.round(x)` | `np.round(x)`|\n",
    "| `math.sqrt(x)` | `np.sqrt(x)`|"
   ]
  },
  {
   "cell_type": "markdown",
   "metadata": {
    "deletable": false,
    "editable": false,
    "run_control": {
     "frozen": true
    }
   },
   "source": [
    "***NumPy* trig operations**\n",
    "\n",
    "Execute the following code cell to create an array of angles named `theta` that range from $0$ to $360^{\\circ}$ in steps of $15^{\\circ}$. Then calculate arrays `x` and `y` using $x=\\cos(\\theta)$ and $y=\\sin(\\theta)$. You will need to use *NumPy*'s versions of the cosine, sine, and radians functions to do this. When done, execute the last cell that uses the `tablulate` module to make the results look a bit nicer."
   ]
  },
  {
   "cell_type": "code",
   "execution_count": null,
   "metadata": {},
   "outputs": [],
   "source": [
    "theta = np.arange(0., 361, 15)\n",
    "theta"
   ]
  },
  {
   "cell_type": "code",
   "execution_count": null,
   "metadata": {},
   "outputs": [],
   "source": [
    "# calculate 'x' using NumPy's cosine function\n"
   ]
  },
  {
   "cell_type": "code",
   "execution_count": null,
   "metadata": {},
   "outputs": [],
   "source": [
    "# calculate 'y' using NumPy's sine function\n"
   ]
  },
  {
   "cell_type": "code",
   "execution_count": null,
   "metadata": {},
   "outputs": [],
   "source": [
    "from tabulate import tabulate\n",
    "print(tabulate(zip(theta, x, y),[\"Degrees\", \"x   \", \"y   \"],floatfmt=('3.0f','+0.4f','+0.4f')))"
   ]
  },
  {
   "cell_type": "markdown",
   "metadata": {
    "deletable": false,
    "editable": false,
    "run_control": {
     "frozen": true
    }
   },
   "source": [
    "**Other *NumPy* math operations**\n",
    "\n",
    "Execute the cell below and then perform the following math functions on array `q`. Remember to use the correct *NumPy* math functions.\n",
    "\n",
    "- $\\ln{q}$\n",
    "- $\\sqrt{q}$\n",
    "- $e^q$"
   ]
  },
  {
   "cell_type": "code",
   "execution_count": null,
   "metadata": {},
   "outputs": [],
   "source": [
    "q = np.arange(1,6,dtype=\"float\")\n",
    "q"
   ]
  },
  {
   "cell_type": "code",
   "execution_count": null,
   "metadata": {},
   "outputs": [],
   "source": []
  },
  {
   "cell_type": "code",
   "execution_count": null,
   "metadata": {},
   "outputs": [],
   "source": []
  },
  {
   "cell_type": "code",
   "execution_count": null,
   "metadata": {},
   "outputs": [],
   "source": []
  },
  {
   "cell_type": "markdown",
   "metadata": {
    "deletable": false,
    "editable": false,
    "run_control": {
     "frozen": true
    }
   },
   "source": [
    "| `numpy` Function | Description |\n",
    "|:---|:---|\n",
    "|`np.sum()` | Sum the values |\n",
    "|`np.mean()` | Arithmetic mean |\n",
    "|`np.median()` | Median value |\n",
    "|`np.std()` | Standard deviation |\n",
    "|`np.var()` | Variance |\n",
    "|`np.max()` | Maximum value |\n",
    "|`np.argmax()` | Index of the maximum value |\n",
    "|`np.min()` | Minimum value |\n",
    "|`np.argmin()` | Index of the minimum value |\n",
    "|`np.sort()` | Create a sorted copy |\n"
   ]
  },
  {
   "cell_type": "markdown",
   "metadata": {
    "deletable": false,
    "editable": false,
    "run_control": {
     "frozen": true
    }
   },
   "source": [
    "**Statistics with *NumPy***\n",
    "\n",
    "Execute the next code cell to create array `A`. In the remaining code cells perform each of the following operations on `A`\n",
    "\n",
    "- Compute the mean\n",
    "- Compute the median\n",
    "- Compute the standard deviation\n",
    "- Return the maximum value and its location\n",
    "- Return the minimum value\n",
    "- Sum all of the values\n",
    "- Sort the array"
   ]
  },
  {
   "cell_type": "code",
   "execution_count": null,
   "metadata": {},
   "outputs": [],
   "source": [
    "A = np.array([2, 5, 9, 13, 12, 10])"
   ]
  },
  {
   "cell_type": "code",
   "execution_count": null,
   "metadata": {},
   "outputs": [],
   "source": [
    "# compute the mean\n"
   ]
  },
  {
   "cell_type": "code",
   "execution_count": null,
   "metadata": {},
   "outputs": [],
   "source": [
    "# compute the median\n"
   ]
  },
  {
   "cell_type": "code",
   "execution_count": null,
   "metadata": {},
   "outputs": [],
   "source": [
    "# standard deviation\n"
   ]
  },
  {
   "cell_type": "code",
   "execution_count": null,
   "metadata": {},
   "outputs": [],
   "source": [
    "# maximum value and its position in the array\n"
   ]
  },
  {
   "cell_type": "code",
   "execution_count": null,
   "metadata": {},
   "outputs": [],
   "source": [
    "# minimum value\n"
   ]
  },
  {
   "cell_type": "code",
   "execution_count": null,
   "metadata": {},
   "outputs": [],
   "source": [
    "# add all of the values\n"
   ]
  },
  {
   "cell_type": "code",
   "execution_count": null,
   "metadata": {},
   "outputs": [],
   "source": [
    "# make a sorted copy\n"
   ]
  },
  {
   "cell_type": "markdown",
   "metadata": {
    "deletable": false,
    "editable": false,
    "run_control": {
     "frozen": true
    }
   },
   "source": [
    "**Array sums and products**\n",
    "\n",
    "See what each of the following *NumPy* functions do with the values from `A` (above) by executing the following code cells."
   ]
  },
  {
   "cell_type": "code",
   "execution_count": null,
   "metadata": {},
   "outputs": [],
   "source": [
    "# cumulative sum\n",
    "np.cumsum(A)"
   ]
  },
  {
   "cell_type": "code",
   "execution_count": null,
   "metadata": {},
   "outputs": [],
   "source": [
    "# product\n",
    "np.prod(A)"
   ]
  },
  {
   "cell_type": "code",
   "execution_count": null,
   "metadata": {},
   "outputs": [],
   "source": [
    "# cumulative product\n",
    "np.cumprod(A)"
   ]
  },
  {
   "cell_type": "markdown",
   "metadata": {
    "deletable": false,
    "editable": false,
    "run_control": {
     "frozen": true
    }
   },
   "source": [
    "| Function | Description |\n",
    "|:---|:---|\n",
    "| `np.random.rand()` | Random float from a uniform distribution over $[0, 1)$ |\n",
    "| `np.random.rand(x)` | Array of `x` random floats from a uniform distribution over $[0, 1)$ |\n",
    "| `np.random.rand(r, c)` | An $r\\times c$ array of random floats from a uniform distribution over $[0, 1)$ |\n",
    "| `np.random.randint(x)` | A random integer from $[0, x)$ |\n",
    "| `np.random.randint(low, high)` | A random integer from $[low, high)$ |\n",
    "| `np.random.randint(low, high, size)` | Array of length `size` filled with random integers from $[low, high)$ |\n",
    "| `np.random.randint(low, high, (r, c))` | An $r\\times c$ array of random integers from $[low, high)$ |\n",
    "| `np.random.randn()` | A random value from a normal distribution of mean $0$ and variance of $1$ |\n",
    "| `np.random.randn(x)` | Array of `x` random values from a normal distribution |\n",
    "| `np.random.randn(r, c)` | $r\\times c$ array of random values from a normal distribution |\n",
    "| `np.random.shuffle(arr)` | Randomly shuffle array `arr` in place |"
   ]
  },
  {
   "cell_type": "markdown",
   "metadata": {
    "deletable": false,
    "editable": false,
    "run_control": {
     "frozen": true
    }
   },
   "source": [
    "**Random number generation**\n",
    "\n",
    "Use functions from the above table to perform the following tasks:\n",
    "1. Generate a single random float\n",
    "1. Generate 5 random integers between 1 and 6, inclusive\n",
    "1. Shuffle and then print all integers from 1 to 10, inclusive\n",
    "1. Generate a random integer from 1 to 100, inclusive\n",
    "1. Generate an array of 10 random integers from 0 to 9, inclusive"
   ]
  },
  {
   "cell_type": "code",
   "execution_count": null,
   "metadata": {},
   "outputs": [],
   "source": [
    "# single random float\n"
   ]
  },
  {
   "cell_type": "code",
   "execution_count": null,
   "metadata": {},
   "outputs": [],
   "source": [
    "# 5 random integers between 1 and 6, inclusive\n"
   ]
  },
  {
   "cell_type": "code",
   "execution_count": null,
   "metadata": {},
   "outputs": [],
   "source": [
    "# shuffle and print all integers from 1 to 10, inclusive\n"
   ]
  },
  {
   "cell_type": "code",
   "execution_count": null,
   "metadata": {},
   "outputs": [],
   "source": [
    "# random integer from 1 to 100, inclusive\n"
   ]
  },
  {
   "cell_type": "code",
   "execution_count": null,
   "metadata": {},
   "outputs": [],
   "source": [
    "# 10 random integers from 0 to 9, inclusive\n"
   ]
  },
  {
   "cell_type": "markdown",
   "metadata": {
    "deletable": false,
    "editable": false,
    "run_control": {
     "frozen": true
    }
   },
   "source": [
    "The following code cell generates a number of normally distributed values with a particular mean and variance. Change the values of `v` and `m` so see how it effects the results."
   ]
  },
  {
   "cell_type": "code",
   "execution_count": null,
   "metadata": {},
   "outputs": [],
   "source": [
    "v = 4\n",
    "m = 50\n",
    "np.random.randn(10)*4 + 50  # 10 element array, mean = m, variance = v"
   ]
  },
  {
   "cell_type": "markdown",
   "metadata": {
    "deletable": false,
    "editable": false,
    "run_control": {
     "frozen": true
    }
   },
   "source": [
    "**Wrap it up**\n",
    "\n",
    "Click on the **Save** button and then the **Close and halt** button when you are done before closing the tab."
   ]
  }
 ],
 "metadata": {
  "kernelspec": {
   "display_name": "Python 3",
   "language": "python",
   "name": "python3"
  },
  "language_info": {
   "codemirror_mode": {
    "name": "ipython",
    "version": 3
   },
   "file_extension": ".py",
   "mimetype": "text/x-python",
   "name": "python",
   "nbconvert_exporter": "python",
   "pygments_lexer": "ipython3",
   "version": "3.8.8"
  },
  "varInspector": {
   "cols": {
    "lenName": 16,
    "lenType": 16,
    "lenVar": 40
   },
   "kernels_config": {
    "python": {
     "delete_cmd_postfix": "",
     "delete_cmd_prefix": "del ",
     "library": "var_list.py",
     "varRefreshCmd": "print(var_dic_list())"
    },
    "r": {
     "delete_cmd_postfix": ") ",
     "delete_cmd_prefix": "rm(",
     "library": "var_list.r",
     "varRefreshCmd": "cat(var_dic_list()) "
    }
   },
   "types_to_exclude": [
    "module",
    "function",
    "builtin_function_or_method",
    "instance",
    "_Feature"
   ],
   "window_display": false
  }
 },
 "nbformat": 4,
 "nbformat_minor": 4
}
