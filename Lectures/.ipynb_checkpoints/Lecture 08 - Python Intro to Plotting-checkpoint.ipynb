{
 "cells": [
  {
   "cell_type": "markdown",
   "metadata": {
    "deletable": false,
    "editable": false,
    "run_control": {
     "frozen": true
    }
   },
   "source": [
    "# Lecture 8 - Python Intro to Plotting\n",
    "___"
   ]
  },
  {
   "cell_type": "markdown",
   "metadata": {
    "deletable": false,
    "editable": false,
    "run_control": {
     "frozen": true
    }
   },
   "source": [
    "## Purpose\n",
    "\n",
    "- Create lists of values to plot\n",
    "- Create simple $xy$-plots\n",
    "- Use a variety of plotting functions/methods from the *Matplotlib* library\n",
    "- Add titles and axis labels to plots\n",
    "- Change plot properties such as line color, line type, line width, and marker style\n",
    "- Create a plot with multiple lines/curves\n",
    "- Create multiple plots on the same page (side-by-side, vertically stacked, etc.)\n"
   ]
  },
  {
   "cell_type": "markdown",
   "metadata": {
    "deletable": false,
    "editable": false,
    "run_control": {
     "frozen": true
    }
   },
   "source": [
    "## Background:\n",
    "\n",
    "- Plots are very helpful for presenting the results of engineering calculations \n",
    "- Plotting with *Python* and the *Matplotlib* library is quite easy\n",
    "- The *Matplotlib* (https://matplotlib.org) library can create publication quality plots\n",
    "- The `pyplot` module  that was created to make *MATLAB* type plots in *Python*\n",
    "- Plotting commands can be used from...\n",
    "  - REPL (command line) \n",
    "  - Scripts and functions\n",
    "  - *Jupyter* notebooks\n",
    "- Sequences of numeric  values are required to create plots\n",
    "  - Lists\n",
    "  - Tuples\n",
    "  - Ranges\n",
    "  - Others (covered later)\n",
    "- Sequence data can be collected from an external source or created using math\n",
    "- The simplest plot can be created using two lists (`x` and `y`) and issuing the following commands\n",
    "  - `import matplotlib.pyplot as plt`\n",
    "  - `plt.plot(x, y)`"
   ]
  },
  {
   "cell_type": "markdown",
   "metadata": {
    "deletable": false,
    "editable": false,
    "run_control": {
     "frozen": true
    }
   },
   "source": [
    "- *Matplotlib* then provides many possible ways to modify and add to the plot...\n",
    "  - Setting axes limits\n",
    "  - Adding a title and axes labels\n",
    "  - Turning on a grid\n",
    "  - Adding text annotations\n",
    "  - Setting line types, colors and widths\n",
    "  - Setting marker shapes and sizes\n",
    "  - Adding legends\n",
    "  - Adding error bars\n",
    "- Axes may be linear or log10 or a combination of the two\n",
    "- Specialty plots can be created, such as...\n",
    "  - Polar plots\n",
    "  - Histograms\n",
    "  - Bar charts\n",
    "  - Pie charts\n",
    "  - Stairs plots\n",
    "  - Stem plots\n",
    "- Plots may be combined into the same plot window or multiple windows can be used"
   ]
  },
  {
   "cell_type": "markdown",
   "metadata": {},
   "source": [
    "Approaches for Using *Matplotlib* and the `pyplot` Module\n",
    "1. State-machine approach\n",
    "    - Like the above example\n",
    "    - Based on the commands used in *MATLAB* to create plots\n",
    "2. Object-oriented approach\n",
    "    - Considered the more *Pythonic* approach because it is more explicit\n",
    "    - The approach we will be using\n",
    "    - For many plotting tasks either approach will work\n",
    "    - Some results can only be achieved by using this approach\n",
    "    - Generally requires a bit more coding, but not a lot\n",
    "    - Same plot as above using object-oriented approach\n",
    "      - `import matplotlib.pyplot as plt`\n",
    "      - `fig, ax = plt.subplots()`\n",
    "      - `ax.plot(x, y)`"
   ]
  },
  {
   "cell_type": "markdown",
   "metadata": {
    "deletable": false,
    "editable": false,
    "run_control": {
     "frozen": true
    }
   },
   "source": [
    "## Importing *Matplotlib*\n",
    "\n",
    "- The ability to create plots is not built into the *Python* standard library\n",
    "- Provided by the external *Matplotlib* library\n",
    "- We will use the `pyplot` module from the *Matplotlib* library\n",
    "- Must first import the module before issuing any plotting commands\n",
    "- Two import methods\n",
    "  - `import matplotlib.pyplot as plt`\n",
    "  - `from matplotlib import pyplot as plt`\n",
    "- Preface all plotting commands with `plt.`\n",
    "\n",
    "Executing the following code cell imports both the `math` module and `matplotlib.pyplot` modules for use in the rest of this document. Notice that we are using the `plt` shortcut (alias) for the name of the `matplotlib.pyplot` module."
   ]
  },
  {
   "cell_type": "code",
   "execution_count": null,
   "metadata": {},
   "outputs": [],
   "source": [
    "import math\n",
    "import matplotlib.pyplot as plt"
   ]
  },
  {
   "cell_type": "markdown",
   "metadata": {
    "deletable": false,
    "editable": false,
    "run_control": {
     "frozen": true
    }
   },
   "source": [
    "## Anatomy of a Figure (Plot)\n",
    "\n",
    "- The figure below comes from the *Matplotlib* website\n",
    "- Illustrates the many different parts of a plot figure\n",
    "- The plot itself is referred to as an **Axes** and it is located within a **Figure**\n",
    "- Object-oriented approach gives fine control over both the figure and the axes (plots) that are added to it\n",
    "\n",
    "![anatomy1.png](anatomy1.png)"
   ]
  },
  {
   "cell_type": "markdown",
   "metadata": {
    "deletable": false,
    "editable": false,
    "run_control": {
     "frozen": true
    }
   },
   "source": [
    "## Basic Plotting\n",
    "\n",
    "- One of the simplest plots is an $x,y$ plot using lists of values for $x$ and $y$\n",
    "- Create such a plot using `plt.plot(x, y)` using the state-machine approach\n",
    "- For the object-oriented approach a figure and axes must be created to plot on\n",
    "- The following sets of commands can be used to plot $x,y$ pairs with the same results\n",
    "\n",
    "1. **Example 1**\n",
    "    - Create a blank figure named `fig`\n",
    "    - Add an axes object named `ax` to the figure\n",
    "    - Plot the values to `ax` \n",
    "    - The axes object fills the figure\n",
    "      - Starting at $x,y = (0,0)$ \n",
    "      - Ending at $x,y = (1,1)$ \n",
    "      - Set by the argument `[0, 0, 1, 1]` (where value of 1 in this means 100%)\n",
    "\n",
    "\n",
    "    ```python\n",
    "    fig = plt.figure()\n",
    "    ax = fig.add_axes([0, 0, 1, 1])\n",
    "    ax.plot(x, y)\n",
    "    ```\n",
    "<br/>\n",
    "\n",
    "2. **Example 2**\n",
    "    - Create a blank figure\n",
    "    - Add a subplot object named `ax` \n",
    "    - Plot the values to `ax` \n",
    "    - Subplot objects allow multiple plots to be arranged\n",
    "      - Next to each other\n",
    "      - Above/below each other\n",
    "      - In a grid\n",
    "      - `ax = fig.add_subplot(111)` creates a subplot group...\n",
    "        - 1 plot high (1 row) \n",
    "        - 1 plot wide (1 column) \n",
    "        - Current plot (axes) is number 1 \n",
    "        - Assigns plot the name `ax`\n",
    "\n",
    "    \n",
    "    ```python\n",
    "    fig = plt.figure()\n",
    "    ax = fig.add_subplot(111)\n",
    "    ax.plot(x, y)\n",
    "    ```\n",
    "    <br/>\n",
    "\n",
    "3. **Example 3**\n",
    "    - Create a figure object named `fig`\n",
    "    - Pre-filled with an axes named `ax` \n",
    "    - Plot the values to `ax`\n",
    "    - `fig, ax = plt.subplots()` \n",
    "      - Creates a figure named `fig` \n",
    "      - Populated with a default subplot object\n",
    "        - One row \n",
    "        - One column\n",
    "      - The subplot object is assigned to the name `ax`\n",
    "\n",
    "\n",
    "    ```python\n",
    "    fig, ax = plt.subplots()\n",
    "    ax.plot(x, y)\n",
    "    ```"
   ]
  },
  {
   "cell_type": "markdown",
   "metadata": {
    "deletable": false,
    "editable": false,
    "run_control": {
     "frozen": true
    }
   },
   "source": [
    "- Variable names used in the `plot()` command do not need to be `x` and `y`\n",
    "- Both variables must be sequences of the same size\n",
    "- First variable in the plot command will be used to generate the $x$-values for each point\n",
    "- Second variable will be used to generate the $y$-values for each point\n",
    "- It is also possible to just use `plot(x)` or `plot(y)` and create a plot\n",
    "  - The variable used as the argument will correspond to the $y$-values of the plotted points\n",
    "  - The $x$-value of the points will come from their index positions in the list"
   ]
  },
  {
   "cell_type": "markdown",
   "metadata": {
    "deletable": false,
    "editable": false,
    "run_control": {
     "frozen": true
    }
   },
   "source": [
    "- The size of a figure can be set using keyword arguments when using `.subplots()`\n",
    "  - `figsize=(x,y)` where `x,y` is the size in inches\n",
    "  - `dpi=xxx` where `xxx` is the pixel density in dots per inch\n",
    "- The *Jupyter* notebook will likely not make a plot that exactly matches the size"
   ]
  },
  {
   "cell_type": "markdown",
   "metadata": {
    "deletable": false,
    "editable": false
   },
   "source": [
    "## Creating Non-Integer Ranges for Plotting"
   ]
  },
  {
   "cell_type": "markdown",
   "metadata": {
    "deletable": false,
    "editable": false,
    "run_control": {
     "frozen": true
    }
   },
   "source": [
    "- *Python's* `range()` function only creates ranges of integer values\n",
    "- The following math expression can be used to create a list of equally spaced values between upper and lower limits that are not limited to integers\n",
    "  - $\\displaystyle x_i = (x_{upper}-x_{lower})\\frac{i}{(n-1)} + x_{lower}$\n",
    "  - where... \n",
    "    - $i$ is the index position of a zero indexed list\n",
    "    - $x_{lower}$ and $x_{upper}$ are the desired lower and upper limits\n",
    "    - $n$ is the desired number of values in the list"
   ]
  },
  {
   "cell_type": "markdown",
   "metadata": {
    "deletable": false,
    "editable": false,
    "run_control": {
     "frozen": true
    }
   },
   "source": [
    "## Defining Functions and Using Them in List Comprehensions\n",
    "\n",
    "- Plots often need a list of $x$-values and a list of $y$-values\n",
    "- Lists of $x$-values could be created... \n",
    "  - Manually\n",
    "  - With a standard `range()` command, i.e. `x = range(10)`\n",
    "  - With a custom function based on the expression provided previously (a function named `frange()` is created in the lecture assignment notebook)\n",
    "- Once a list of $x$-values is created, use that list to create $y$-values with these steps...\n",
    "  - Define a function that returns a calculated value, such as...\n",
    "  \n",
    "      ```python\n",
    "      def my_func(x):\n",
    "          return x**3\n",
    "      ```\n",
    "      <br/>\n",
    "      \n",
    "  - Create a list of $y$-values using a list comprehension that calls the function using the $x$-values from the previously created list\n",
    "  \n",
    "      ```python\n",
    "      y = [my_func(x) for x in x]\n",
    "      ```"
   ]
  },
  {
   "cell_type": "markdown",
   "metadata": {
    "deletable": false,
    "editable": false,
    "run_control": {
     "frozen": true
    }
   },
   "source": [
    "## Formatting Arguments for `.plot()`\n",
    "\n",
    "- The `.plot()` method accepts a number of optional arguments that modify the look of a plot\n",
    "- See the [*Matplotlib* documentation](https://matplotlib.org/api/_as_gen/matplotlib.axes.Axes.plot.html?highlight=axes.plot#matplotlib.axes.Axes.plot) for a comprehensive list\n",
    "- Quick line style, color, and marker changes\n",
    "  - `'-r'` will create a solid red line with no markers\n",
    "  - `'--bo'` will create a dashed blue line with circle markers at each data point\n",
    "  - Valid line types include `-`, `--`, `-.`, and `:`\n",
    "  - Valid colors include any of the letters from `rgbcmykw`\n",
    "  - Valid marker shapes include any of the characters `odDsx*.+^v` plus more\n",
    "- `linewidth=2.0` or `lw=2.0` will make the plotted line 2-points wide\n",
    "- Can also use `color='r'` or `c='r'` to change the color to red \n",
    "- Can also use `linestyle='--'` or `ls='--'` to change the line style to dashed\n",
    "- Using `color` or `c` allows for a much broader range of colors by typing color names instead of letters\n",
    "- Use the command `plt.show()` after creating plots to keep *Jupyter* from showing a plot object descriptor and display the plot\n",
    "- Use the command `plt.savefig(\"file_name.png\")` to save the plot as a png file (jpg is also an option)"
   ]
  },
  {
   "cell_type": "markdown",
   "metadata": {
    "deletable": false,
    "editable": false,
    "run_control": {
     "frozen": true
    }
   },
   "source": [
    "Common color indicators:\n",
    "\n",
    "- `r` = red\n",
    "- `g` = green\n",
    "- `b` = blue\n",
    "- `c` = cyan\n",
    "- `m` = magenta\n",
    "- `y` = yellow \n",
    "- `k` = black\n",
    "- `w` = white"
   ]
  },
  {
   "cell_type": "markdown",
   "metadata": {
    "deletable": false,
    "editable": false,
    "run_control": {
     "frozen": true
    }
   },
   "source": [
    "Common linestyle indicators:\n",
    "- `-` = solid\n",
    "- `--` = dashed\n",
    "- `-.` = dash-dot\n",
    "- `:` = dotted"
   ]
  },
  {
   "cell_type": "markdown",
   "metadata": {
    "deletable": false,
    "editable": false,
    "run_control": {
     "frozen": true
    }
   },
   "source": [
    "Common marker indicators:\n",
    "\n",
    "- `.` = point\n",
    "- `x` and `X` = $\\times$'s\n",
    "- `+` and `P` = plus signs\n",
    "- `o` = circle\n",
    "- `d` and `D` = diamonds\n",
    "- `s` = square\n",
    "- `^`, `v`, `<`, and `>` = triangles\n",
    "- `h` and `H` = hexagons\n",
    "- `*` = star\n",
    "- `p` = pentagon\n",
    "- `8` = octagon"
   ]
  },
  {
   "cell_type": "markdown",
   "metadata": {
    "deletable": false,
    "editable": false,
    "run_control": {
     "frozen": true
    }
   },
   "source": [
    "## Adding a Title, Labels, and Other Stuff\n",
    "\n",
    "- Easily add a title, axes labels, and other options to plots\n",
    "- The [Axes class](https://matplotlib.org/api/axes_api.html?highlight=axes#module-matplotlib.axes) lists all of the possible options\n",
    "- A simple title can be added using the `.set_title(\"Title Text\")` method\n",
    "- Axes labels use the `.set_xlabel()` and `.set_ylabel()` methods\n",
    "- All three of these accept an optional `fontsize=` argument to change the text height\n",
    "- `.set(title='Title text', xlabel='x-axis label', ylabel='y-axis label')` sets all three\n",
    "- `.axis([xmin, xmax, ymin, ymax])` sets the plot limits in the $x$ and $y$ directions\n",
    "  - Requires that all 4 values be given\n",
    "  - Must use the square brackets\n",
    "  - Could use named arguments in `.axis()` instead \n",
    "    - `.axis(xmin=0, xmax=10, ymin=-4, ymax=5)`\n",
    "- `.set_xlim(xmin, xmax)` and `.set_ylim(ymin, ymax)` can be used to set specific axis limits\n",
    "- Add a grid by using `.grid(True)`\n",
    "- Place the formatting commands after the `.plot()` command\n",
    "- Use `plt.show()` after all plot formatting commands.\n"
   ]
  },
  {
   "cell_type": "markdown",
   "metadata": {
    "deletable": false,
    "editable": false,
    "run_control": {
     "frozen": true
    }
   },
   "source": [
    "## Multiple Graphs on the Same Plot\n",
    "\n",
    "- Add more than one set of data to a single plot by adding more list pairs in `.plot()` \n",
    "- Color, line, and marker settings for a plot curve should be placed after its pair of lists\n",
    "\n",
    "    ```\n",
    "    ax.plot(x, y, '-b', x, y1, '--r')\n",
    "    ```"
   ]
  },
  {
   "cell_type": "markdown",
   "metadata": {
    "deletable": false,
    "editable": false,
    "run_control": {
     "frozen": true
    }
   },
   "source": [
    "- Another option is to just create each plot separately using `ax.plot()` commands for each set of data points then show them all\n",
    "\n",
    "    ```\n",
    "    ax.plot(x, y, '-b')\n",
    "    ax.plot(x, y1, '--r')\n",
    "    ```"
   ]
  },
  {
   "cell_type": "markdown",
   "metadata": {
    "deletable": false,
    "editable": false,
    "run_control": {
     "frozen": true
    }
   },
   "source": [
    "## Subplots\n",
    "\n",
    "- Multiple plots on separate axes are referred to as subplots \n",
    "- The `.subplots()` method can be used to initialize a subplot with any number of rows or columns\n",
    "- Add the number of rows and columns desired inside the parentheses and separated by a comma\n",
    "- Can also use the keyword arguments `nrows` and `ncols` instead\n",
    "- If more than one axes object is created, then a list of axes objects is returned\n",
    "- If using `.add_subplot()` to create axes objects\n",
    "  - Then the argument used needs to be a 3-digit value\n",
    "  - Represents...\n",
    "    - Number of rows\n",
    "    - Number of columns\n",
    "    - Which subplot is the active one\n",
    "  - `.add_subplot(211)` yields a subplot object 2 rows high by 1 column wide with the first subplot active\n",
    "- Using `.subplots()` is preferred most of the time\n"
   ]
  },
  {
   "cell_type": "markdown",
   "metadata": {
    "deletable": false,
    "editable": false,
    "run_control": {
     "frozen": true
    }
   },
   "source": [
    "## A Polar Plot and a Histogram\n",
    "\n",
    "- *Matplotlib* supports the construction of much more than just $x,y$ plots\n",
    "- Two of many other plots that you can create are...\n",
    "  - Histograms\n",
    "  - Polar plots\n"
   ]
  },
  {
   "cell_type": "markdown",
   "metadata": {
    "deletable": false,
    "editable": false,
    "run_control": {
     "frozen": true
    }
   },
   "source": [
    "**Wrap it up**\n",
    "\n",
    "Click on the **Save** button and then the **Close and halt** button when you are done before closing the tab."
   ]
  }
 ],
 "metadata": {
  "kernelspec": {
   "display_name": "Python 3",
   "language": "python",
   "name": "python3"
  },
  "language_info": {
   "codemirror_mode": {
    "name": "ipython",
    "version": 3
   },
   "file_extension": ".py",
   "mimetype": "text/x-python",
   "name": "python",
   "nbconvert_exporter": "python",
   "pygments_lexer": "ipython3",
   "version": "3.8.8"
  },
  "varInspector": {
   "cols": {
    "lenName": 16,
    "lenType": 16,
    "lenVar": 40
   },
   "kernels_config": {
    "python": {
     "delete_cmd_postfix": "",
     "delete_cmd_prefix": "del ",
     "library": "var_list.py",
     "varRefreshCmd": "print(var_dic_list())"
    },
    "r": {
     "delete_cmd_postfix": ") ",
     "delete_cmd_prefix": "rm(",
     "library": "var_list.r",
     "varRefreshCmd": "cat(var_dic_list()) "
    }
   },
   "types_to_exclude": [
    "module",
    "function",
    "builtin_function_or_method",
    "instance",
    "_Feature"
   ],
   "window_display": false
  }
 },
 "nbformat": 4,
 "nbformat_minor": 4
}
