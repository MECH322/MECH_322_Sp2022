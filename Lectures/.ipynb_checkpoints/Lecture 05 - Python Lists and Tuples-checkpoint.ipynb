{
 "cells": [
  {
   "cell_type": "markdown",
   "metadata": {
    "deletable": false,
    "editable": false,
    "run_control": {
     "frozen": true
    }
   },
   "source": [
    "# Lecture 5 - Python Lists and Tuples\n",
    "___"
   ]
  },
  {
   "cell_type": "markdown",
   "metadata": {
    "deletable": false,
    "editable": false,
    "run_control": {
     "frozen": true
    }
   },
   "source": [
    "## Purpose\n",
    "\n",
    "- Create lists\n",
    "- Create tuples\n",
    "- Access individual objects in lists and tuples\n",
    "- List and tuple slicing\n",
    "- Learn about list methods\n",
    "- Use select list methods\n"
   ]
  },
  {
   "cell_type": "markdown",
   "metadata": {
    "deletable": false,
    "editable": false,
    "run_control": {
     "frozen": true
    }
   },
   "source": [
    "## Some Creative Commons Reference Sources for This Material\n",
    "\n",
    "- *Think Python 2nd Edition*, Allen Downey, chapter 10\n",
    "- *The Coder's Apprentice*, Pieter Spronck, chapters 11 and 12\n",
    "- *A Practical Introduction to Python Programming*, Brian Heinold, chapters 7 and 8\n",
    "- *Algorithmic Problem Solving with Python*, John Schneider, Shira Broschat, and Jess Dahmen, chapters 6 and 7"
   ]
  },
  {
   "cell_type": "markdown",
   "metadata": {
    "deletable": false,
    "editable": false,
    "run_control": {
     "frozen": true
    }
   },
   "source": [
    "## Creating Lists\n",
    "\n",
    "- Two data types can hold multiple objects\n",
    "  - **lists** \n",
    "  - **tuples**\n",
    "- Lists can be used to store different object types in the same structure, such as..\n",
    "  - Integers\n",
    "  - Floats\n",
    "  - Strings\n",
    "  - Lists\n",
    "  - Others\n",
    "- Defined by surrounding the objects with square brackets `[]` and separating with commas\n",
    "- For example, `[1, 2, 3, 4.5, \"knights\", [5, 6, 7]]`\n",
    "- Most lists will contain one type\n",
    "  - Numeric values \n",
    "  - Strings\n",
    "- Empty lists are created by...\n",
    "  - Using an empty set of square brackets, i.e. `empty_list = []`\n",
    "  - Using the `list()` function, i.e. `empty_list = list()`\n",
    "- Mutable; i.e. can change, add, and remove items in lists"
   ]
  },
  {
   "cell_type": "markdown",
   "metadata": {
    "deletable": false,
    "editable": false,
    "run_control": {
     "frozen": true
    }
   },
   "source": [
    "## Creating Tuples\n",
    "\n",
    "- **Tuples** are similar to lists\n",
    "- Constructed using parentheses instead of square brackets; i.e. `my_tuple = (1, 2, 3)`\n",
    "- Tuples can contain the same mix of data types as lists do\n",
    "- Sometimes you can create a tuple without using parentheses, but parentheses are preferred for clarity\n",
    "- Used in functions that return more than one value\n",
    "- Will be used later when creating $(x, y)$ and $(x, y, z)$ vectors.\n",
    "- Convert lists and some other data types into tuples using the `tuple()` function\n",
    "- Can create a tuple with a single item, i.e. `my_tuple = (4,)`\n",
    "- Immutable, i.e. cannot change, add or remove items in tuples"
   ]
  },
  {
   "cell_type": "markdown",
   "metadata": {},
   "source": [
    "## The `range()` and `list()` Functions\n",
    "\n",
    "- Use the `range()` function to create an iterable of evenly spaced values\n",
    "- `range()` accepts up to three integer arguments\n",
    "  - Start value\n",
    "  - End value\n",
    "  - Step size\n",
    "- Creates mathematics refers to as a half-open range; the end value is not included in the range\n",
    "- If one argument...\n",
    "  - `range(x)`\n",
    "  - The range includes all integers from `0` to `x-1`\n",
    "  - `range(10)` creates an iterable of all integers from 0 to 9, inclusive\n",
    "- If two arguments...\n",
    "  - `range(a, b)`\n",
    "  - The range includes all integers from `a` to `b-1`\n",
    "  - `range(4, 8)` includes all integers from 4 to 7, inclusive\n",
    "- If three arguments...\n",
    "  - `range(a, b, c)`\n",
    "  - The range includes all integers from `a` to `b-1` in steps of `c`\n",
    "  - `range(3, 10, 2)` includes all odd integers from 3 to 9, inclusive\n",
    "  - `b` must be greater than `a` for positive steps\n",
    "  - `b` must be less than `a` for negative steps\n",
    "- `range(10)` does not create a list but can be used like a list\n",
    "- Convert a range into a list using the `list()` function\n",
    "  - `list(range(10))` creates the list `[0, 1, 2, 3, 4, 5, 6, 7, 8, 9]`"
   ]
  },
  {
   "cell_type": "markdown",
   "metadata": {
    "deletable": false,
    "editable": false,
    "run_control": {
     "frozen": true
    }
   },
   "source": [
    "## List Functions\n",
    "\n",
    "- `len()` returns the number of objects in a list\n",
    "- For example, `len([0, 1, 2, 3, 4])` will return 5\n",
    "- `[0, 1, 2, 3, [4, 5, 6]]` also has 5 objects\n",
    "- List functions that work with lists of numbers only\n",
    "  - `sum()`\n",
    "  - `max()`\n",
    "  - `min()`\n",
    "- `del()` is used to completely delete a list, so be careful if you decide to use it"
   ]
  },
  {
   "cell_type": "markdown",
   "metadata": {
    "deletable": false,
    "editable": false,
    "run_control": {
     "frozen": true
    }
   },
   "source": [
    "## Accessing List Items\n",
    "\n",
    "- **List indexing** works the same as string indexing\n",
    "- Lists are zero indexed and square brackets are used to specify the index value\n",
    "- `my_list[3]` returns the object in the 3rd index position (4th item)\n",
    "- A `[-1]` index accesses the last object in the list\n",
    "- **List slicing** works just like string slicing\n",
    "- `my_list[0:3]`, `my_list[:3]`, and `my_list[0:3:1]` are the same\n",
    "- Tuples are indexed and sliced exactly the same as lists."
   ]
  },
  {
   "cell_type": "markdown",
   "metadata": {},
   "source": [
    "**List Indexing Guide**\n",
    "\n",
    "```\n",
    "| 0 | 1 | 2 | 3 | 4 | 5 | 6 | <-- Indexing from the left; my_list[3] = 5\n",
    "|===|===|===|===|===|===|===|\n",
    "| 8 | 6 | 7 | 5 | 3 | 0 | 9 | <-- my_list\n",
    "|===|===|===|===|===|===|===|\n",
    "|-7 |-6 |-5 |-4 |-3 |-2 |-1 | <-- Indexing from the right; my_list[-3] = 3\n",
    "```"
   ]
  },
  {
   "cell_type": "markdown",
   "metadata": {},
   "source": [
    "**List Slicing Guide**\n",
    "\n",
    "```\n",
    "0   1   2   3   4   5   6   7 <-- Slicing from the left; my_list[1:4] = [6, 7, 5]\n",
    "|===|===|===|===|===|===|===|\n",
    "| 8 | 6 | 7 | 5 | 3 | 0 | 9 | <-- my_list\n",
    "|===|===|===|===|===|===|===|\n",
    "-7  -6  -5  -4  -3  -2  -1   | <-- Slicing from the right with positive step; my_list[-5:-2] = [7, 5, 3]\n",
    "|   |   |   |   |   |   |   |\n",
    "-8  -7  -6  -5  -4  -3  -2  -1 <-- Slicing from the right with negative step; my_list[-3:-7:-1] = [3, 5, 7, 6]\n",
    "```"
   ]
  },
  {
   "cell_type": "markdown",
   "metadata": {
    "deletable": false,
    "editable": false,
    "run_control": {
     "frozen": true
    }
   },
   "source": [
    "## Changing List Items\n",
    "\n",
    "- Lists are considered **mutable**; you can change/modify (mutate) the contents of a list after creation\n",
    "- Changing the value of a single item using list indexing\n",
    "  - `my_list[4] = 12` changes the value in the 4th index position to 12\n",
    "  - `my_list[-1] = 10` changes the last value in the list to 10\n",
    "- Change multiple items using the list slicing syntax\n",
    "  - `my_list[:5] = [9, 8, 7, 6, 5]` changes the values of the first 5 items"
   ]
  },
  {
   "cell_type": "markdown",
   "metadata": {
    "deletable": false,
    "editable": false,
    "run_control": {
     "frozen": true
    }
   },
   "source": [
    "## List Methods\n",
    "\n",
    "- `print(dir(list))` shows available string methods, functions, and operations\n",
    "- We will look at methods related to...\n",
    "  - Modifiying lists\n",
    "  - Counting\n",
    "  - Searching\n",
    "  - Changing the order of the objects in lists\n",
    "- Since lists are mutable, most of the methods change the original list instead of making a copy\n",
    "\n",
    "</br>\n",
    "\n",
    "\n",
    "Execute the expression `print(dir(list))` in the following cell."
   ]
  },
  {
   "cell_type": "code",
   "execution_count": null,
   "metadata": {},
   "outputs": [],
   "source": []
  },
  {
   "cell_type": "markdown",
   "metadata": {
    "deletable": false,
    "editable": false,
    "run_control": {
     "frozen": true
    }
   },
   "source": [
    "### Methods for Adding and Removing List Objects\n",
    "\n",
    "- `.append()` adds a single object to the end of list\n",
    "  - For `my_list = [1, 2, 3, 4]`\n",
    "    - `my_list.append(5)` results in `[1, 2, 3, 4, 5]`\n",
    "    - `my_list.append([6, 7])` results in `[1, 2, 3, 4, 5, [6, 7]]`\n",
    "- `.extend()` extends a list with the items from another list\n",
    "  - For `my_list = [1, 2, 3, 4]`\n",
    "    - `my_list.extend([5, 6, 7])` results in `[1, 2, 3, 4, 5, 6, 7]`\n",
    "- `.insert()` adds items at specific locations within a list\n",
    "  - Two arguments\n",
    "    - Index position for insertion\n",
    "    - Object to insert\n",
    "  - For `my_list = [1, 2, 3, 4]`\n",
    "    - `my_list.insert(3, 12)` results in `[1, 2, 3, 12, 4]`\n",
    "- `.clear()` deletes all items in a list, leaving it empty\n",
    "- `.remove()` removes the first occurance of the argument value\n",
    "  - For `my_list = [1, 2, 3, 4]`\n",
    "    - `my_list.remove(2)` results in `[1, 3, 4]`\n",
    "- `.pop()` removes and returns the value from a specific index position\n",
    "  - No argument, last item is removed and returned\n",
    "  - With an argument, the index position of the argument is removed and returned\n",
    "\n",
    "  ```\n",
    "  >> my_list = [1, 2, 3, 4, 5]\n",
    "  >> a = my_list.pop()\n",
    "  >> a\n",
    "  5\n",
    "  >> my_list\n",
    "  [1, 2, 3, 4]\n",
    "  ```"
   ]
  },
  {
   "cell_type": "markdown",
   "metadata": {
    "deletable": false,
    "editable": false,
    "run_control": {
     "frozen": true
    }
   },
   "source": [
    "### Methods for Counting, Searching, and Changing Order\n",
    "\n",
    "- `.count()` counts the number of times a specific object appears in the list\n",
    "  - One argument; the object to be counted\n",
    "  - For `my_list = [1, 2, 2, 3, 4]`\n",
    "    - `my_list.count(2)` will return the value 2\n",
    "    - `my_list.count(8)` will return 0\n",
    "- `.index()` finds an object in a list\n",
    "  - If found, it returns the index position of the first occurance of the object\n",
    "  - If not found, it returns an error\n",
    "  - For `my_list = [1, 2, 3, 4, 5]`, `my_list.index(4)` returns the index 3\n",
    "  - Optional arguments\n",
    "    - Starting index\n",
    "    - Ending index\n",
    "    - `my_list.index(2, 3, 5)` looks for 2 starting at index 3 and ending just before the 5th index\n",
    "  - Good idea to check if a value is in a list before using `.index`\n",
    "    - `7 in my_list` will check if the value 7 is in `my_list`\n",
    "- `.sort()` will sort a list in ascending order by default\n",
    "  - Must be either numeric or string values only, not a mix\n",
    "  - Using `my_list.sort(reverse=True)` will sort the list in descending order\n",
    "- `.reverse()` will flip the order of the list\n",
    "- The `sorted()` function makes  sorted copy of the list\n",
    "- The `reversed()` function makes flipped *copy* of the list as an iterator, not a list"
   ]
  },
  {
   "cell_type": "markdown",
   "metadata": {
    "deletable": false,
    "editable": false,
    "run_control": {
     "frozen": true
    }
   },
   "source": [
    "## The `zip()` Function and Making Tables from Lists\n",
    "\n",
    "- Often there are lists of values/data that would be nice to display together in tabular form\n",
    "- Printing a list or multiple lists does not make a nicely displayed table\n",
    "- The function `zip()` connects two or more lists together musch like the teeth in a zipper\n",
    "- `zip()` function creates a special iterable object that can be converted to list\n",
    "- To print a `zip` object and see the values you have to convert it to a list first\n",
    "\n",
    "</br>\n",
    "\n",
    "\n",
    "Execute the following code cell to see how two lists are zipped together and printed."
   ]
  },
  {
   "cell_type": "code",
   "execution_count": null,
   "metadata": {},
   "outputs": [],
   "source": [
    "print(list(zip([1, 2, 3, 4, 5],[6, 7, 8, 9, 10])))"
   ]
  },
  {
   "cell_type": "markdown",
   "metadata": {},
   "source": [
    "## Using `tabulate`\n",
    "\n",
    "- A module named `tabulate` can make tables from zipped values\n",
    "- In this module is the `tabulate()` that needs to be passed into a `print()` function\n",
    "- Visit https://bitbucket.org/astanin/python-tabulate for a complete overview of `tabulate`\n",
    "- See the example in the code cell below\n",
    "- Other options\n",
    "  - `tablefmt=` options are `\"simple\"`, `\"grid\"`, and `\"plain\"`\n",
    "  - Row alignment as `\"center\"` or `\"left\"` by adding the `numalign=` argument\n",
    "  - The argument `floatfmt=(\".1f\",\".2f\")` will show...\n",
    "    - The first column with one-decimal place\n",
    "    - The second with two-decimal places"
   ]
  },
  {
   "cell_type": "code",
   "execution_count": null,
   "metadata": {
    "deletable": false,
    "editable": false
   },
   "outputs": [],
   "source": [
    "from tabulate import tabulate"
   ]
  },
  {
   "cell_type": "code",
   "execution_count": null,
   "metadata": {
    "deletable": false,
    "editable": false
   },
   "outputs": [],
   "source": [
    "zipped_lists = list(zip([1, 2, 3, 4, 5],[6, 7, 8, 9, 10]))\n",
    "headers = [\"col 1\", \"col 2\"]\n",
    "print(tabulate(zipped_lists, headers, tablefmt=\"fancy_grid\"))"
   ]
  },
  {
   "cell_type": "markdown",
   "metadata": {
    "deletable": false,
    "editable": false,
    "run_control": {
     "frozen": true
    }
   },
   "source": [
    "## List Related String Methods\n",
    "\n",
    "- The string method `.split()` can easily turn a sentence or phrase into a list of words\n",
    "  - Without an argument\n",
    "    - `.split()` will split the string at spaces\n",
    "    - `my_sentence.split()`\n",
    "  - With an argument\n",
    "    - Argument must be a string with a character in it\n",
    "    - The string will be split at every location the character is found\n",
    "    - `my_paragraph.split(\".\")` will split at periods\n",
    "- The string method `.join()` can join together a list of strings to create a single string\n",
    "  - Acts on the string that is desired between the strings in the list (often `\" \"`)\n",
    "  - Requires the the list as an argument\n",
    "  - `\" \".join(my_string_list)`"
   ]
  },
  {
   "cell_type": "code",
   "execution_count": null,
   "metadata": {
    "deletable": false,
    "editable": false
   },
   "outputs": [],
   "source": [
    "# splitting strings\n",
    "\n",
    "my_string = \"Hello, my name is Inigo Montoya, you killed my father, prepare to die.\"\n",
    "my_string_list = my_string.split()\n",
    "print(my_string_list)\n",
    "another_string = \"1,2,3,4,5,6\"\n",
    "print(another_string.split(\",\"))"
   ]
  },
  {
   "cell_type": "code",
   "execution_count": null,
   "metadata": {
    "deletable": false,
    "editable": false
   },
   "outputs": [],
   "source": [
    "# joining a list of strings together\n",
    "\n",
    "\" \".join(my_string_list)"
   ]
  },
  {
   "cell_type": "markdown",
   "metadata": {
    "deletable": false,
    "editable": false
   },
   "source": [
    "**Wrap it up**\n",
    "\n",
    "Click on the **Save** button and then the **Close and halt** button when you are done before closing the tab."
   ]
  }
 ],
 "metadata": {
  "kernelspec": {
   "display_name": "Python 3",
   "language": "python",
   "name": "python3"
  },
  "language_info": {
   "codemirror_mode": {
    "name": "ipython",
    "version": 3
   },
   "file_extension": ".py",
   "mimetype": "text/x-python",
   "name": "python",
   "nbconvert_exporter": "python",
   "pygments_lexer": "ipython3",
   "version": "3.8.8"
  },
  "varInspector": {
   "cols": {
    "lenName": 16,
    "lenType": 16,
    "lenVar": 40
   },
   "kernels_config": {
    "python": {
     "delete_cmd_postfix": "",
     "delete_cmd_prefix": "del ",
     "library": "var_list.py",
     "varRefreshCmd": "print(var_dic_list())"
    },
    "r": {
     "delete_cmd_postfix": ") ",
     "delete_cmd_prefix": "rm(",
     "library": "var_list.r",
     "varRefreshCmd": "cat(var_dic_list()) "
    }
   },
   "types_to_exclude": [
    "module",
    "function",
    "builtin_function_or_method",
    "instance",
    "_Feature"
   ],
   "window_display": false
  }
 },
 "nbformat": 4,
 "nbformat_minor": 4
}
