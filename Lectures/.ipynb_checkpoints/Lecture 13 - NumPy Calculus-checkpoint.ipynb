{
 "cells": [
  {
   "cell_type": "markdown",
   "metadata": {
    "deletable": false,
    "editable": false,
    "run_control": {
     "frozen": true
    }
   },
   "source": [
    "# Lecture 13 - *NumPy* Calculus\n",
    "___"
   ]
  },
  {
   "cell_type": "markdown",
   "metadata": {
    "deletable": false,
    "editable": false,
    "run_control": {
     "frozen": true
    }
   },
   "source": [
    "## Purpose:\n",
    "\n",
    "- *Python*, and the many modules available for it, can do much more than can be covered in a one semester class\n",
    "- Many of the basics have been covered which...\n",
    "  - Should allow you to use *Python* to solve engineering related problems in the future\n",
    "  - Give you a good understanding of how programming works\n",
    "- This notebook will focus on using *NumPy* and *SciPy* to solve a number of problems related to...\n",
    "  - Polynomials\n",
    "  - Numeric calculus\n",
    "  - Curve fitting\n",
    "  - More\n",
    "- The topics covered include...\n",
    "  - Adding, subtracting, multiplying, and dividing polynomials using `numpy.polynomial.polynomial` (aka `P`) functions\n",
    "  - Derivatives and integrals of polynomials using `P.polyder()` and `P.polyint()`\n",
    "  - Polynomial curve fitting with `P.polyfit()` and `P.polyval()`\n",
    "  - Finding roots of polynomials using `numpy.roots()` and `P.polyroots`\n",
    "  - Finding zeros and local minimums and maximums of functions with `scipy.optimize.fsolve()` and `scipy.optimize.fminbound()`\n",
    "  - Numeric integration with `scipy.integrate.quad()` and `numpy.trapz()`\n",
    "  - Numeric differentiation with `scipy.misc.derivative()`\n",
    "- Each of these topics will be introduced by using a number of examples\n",
    "- This is not an exhaustive investigation of these topics, but merely an introduction"
   ]
  },
  {
   "cell_type": "markdown",
   "metadata": {
    "deletable": false,
    "editable": false,
    "run_control": {
     "frozen": true
    }
   },
   "source": [
    "**Execute the following code cell to import the necessary modules for this notebook**"
   ]
  },
  {
   "cell_type": "code",
   "execution_count": null,
   "metadata": {},
   "outputs": [],
   "source": [
    "import numpy as np\n",
    "from scipy import integrate, optimize"
   ]
  },
  {
   "cell_type": "markdown",
   "metadata": {
    "deletable": false,
    "editable": false,
    "run_control": {
     "frozen": true
    }
   },
   "source": [
    "## Adding, Subtracting, Multiplying, and Dividing Polynomials\n",
    "\n",
    "- Polynomials are typically expressed in the following form\n",
    "  - $c_5x^5+c_4x^4+c_3x^3+c_2x^2+c_1x^1+c_0x^0$\n",
    "  - For example, $5x^2 - 3x + 2$\n",
    "- *NumPy*'s polynomial module starts with the $x^0$ coefficient on the left instead of the right\n",
    "  - $c_0x^0 + c_1x^1+ c_2x^2 + c_3x^3 + c_4x^4 + c_5x^5+\\ldots$\n",
    "  - For example, $2 - 3x + 5x^2$\n",
    "- This module can add, subtract, multiply, and divide two polynomials using...\n",
    "  - `P.polyadd()`\n",
    "  - `P.polysub()`\n",
    "  - `P.polymul()`\n",
    "  - `P.polydiv()` - polynomial division returns two arrays; coefficients of the quotient and remainder polynomials\n",
    "- See the *NumPy* [polynomial documentation page](https://docs.scipy.org/doc/numpy/reference/routines.polynomials.polynomial.html) for help on these and other polynomial functions\n",
    "- In *NumPy* polynomials are defined as lists of the coefficients (numeric values)\n",
    "  - The lists need to start with the $x^0$ coefficient \n",
    "  - They need to include all coefficients even if they are zero\n",
    "  - All signs belong to the coefficients\n",
    "  - $5x^2 - 3x + 2$ would be defined with the list `[2, -3, 5]`\n",
    "  - $-3x^4 + 2x^2 + 5x - 12$ would be defined with the list `[-12, 5, 2, 0, -3]`"
   ]
  },
  {
   "cell_type": "markdown",
   "metadata": {
    "deletable": false,
    "editable": false,
    "run_control": {
     "frozen": true
    }
   },
   "source": [
    "## Determining Polynomial Values\n",
    "\n",
    "- Find the value of a polynomial at any $x$ value by using `P.polyval()`\n",
    "- It takes two arguments\n",
    "  - The value (or values as a list, tuple, or array) for $x$\n",
    "  - The polynomial to evaluate\n",
    "- Examples\n",
    "  - `P.polyval(2, p2)` evaluates `p2` at $x = 2$\n",
    "  - `P.polyval([1, 2, 3], p2)` evaluates `p2` at $x=1, 2, 3$\n"
   ]
  },
  {
   "cell_type": "markdown",
   "metadata": {
    "deletable": false,
    "editable": false,
    "run_control": {
     "frozen": true
    }
   },
   "source": [
    "## Derivatives and Integrals of Polynomials\n",
    "\n",
    "- *NumPy* can find the derivatives and integrals of polynomials using...\n",
    "  - `P.polyder()`\n",
    "  - `P.polyint()`\n",
    "- Both functions accept the following arguments...\n",
    "  - Coefficient values in an array or list as previously described (required)\n",
    "  - The number of differentiations or integrations to take (optional, defaults to 1)\n",
    "- The result is displayed as an array of coefficients for the resulting polynomial\n",
    "- The expression `P.polyder(p1, 2)` will take the second derivative of the polynomial named `p1`\n",
    "- These functions do not work with non-polynomial expressions\n"
   ]
  },
  {
   "cell_type": "markdown",
   "metadata": {
    "deletable": false,
    "editable": false,
    "run_control": {
     "frozen": true
    }
   },
   "source": [
    "## Curve Fitting\n",
    "\n",
    "- The *NumPy* polynomial module also provides a means to perform regression analysis, aka curve fitting\n",
    "- A function may be fitted to a set of $x$ and $y$ data points\n",
    "- The `P.polyfit()` function is used to fit a polynomial of a specific order to the data\n",
    "- A polynomial of order $n = 1$ is a straight line of the form $y = mx + b$\n",
    "- The function `P.polyval()` can then be used to create an array of values using the `P.polyfit()` results\n",
    "  - This array can then be used for plotting the fitted curve\n",
    "- The arguments passed to the `P.polyfit()` function are the $x$ and $y$ arrays followed by the desired fit order\n",
    "- `P.polyfit(x, y, 5)` will result in a 5th order polynomial\n",
    "- *SciPy* has a statistics module called `stats` that includes the `linregress()` function\n",
    "  - Use it for finding the $R^2$ value (and more) for each of the fitted curves relative to the original data points\n",
    "  - The arrays used in this function need to be the same length\n"
   ]
  },
  {
   "cell_type": "markdown",
   "metadata": {
    "deletable": false,
    "editable": false,
    "run_control": {
     "frozen": true
    }
   },
   "source": [
    "## Finding Zeros (Roots) and Local Minimums and Maximums of Polynomials\n",
    "\n",
    "- Solving a polynomial\n",
    "  - Also known as finding its zeros or roots\n",
    "  - Accomplished by finding the $x$ locations where the polynomial crosses the $x$-axis\n",
    "  - The $x$ values where the $y$ value of the polynomial equals zero\n",
    "- *NumPy* can find local roots of polynomials using the `P.polyroots()` function\n",
    "  - Returns all of the real roots (zeros) of the polynomial\n",
    "- *NumPy* can also find the roots of a polynomial using `np.roots()`\n",
    "  - The polynomial coefficients need to be reversed for this function\n",
    "  - This can be done using slicing if you already have a polynomial defined using the polynomial module\n",
    "- Local minimums and maximums can be determined by finding the roots of the first derivative of the polynomial\n"
   ]
  },
  {
   "cell_type": "markdown",
   "metadata": {
    "deletable": false,
    "editable": false,
    "run_control": {
     "frozen": true
    }
   },
   "source": [
    "## Creating User Defined Functions: Review\n",
    "\n",
    "- Header `def func_name(arg1, arg2):`\n",
    "- Body\n",
    "  - Indented 4 spaces from header\n",
    "  - Expressions that use the arguments\n",
    "  - Returns a result or results\n",
    "\n",
    "**Example**\n",
    "\n",
    "```python\n",
    "def cbrt(x):\n",
    "    if x >= 0:\n",
    "        return round(x**(1/3), 12)\n",
    "    else:\n",
    "        return round(-abs(x**(1/3)), 12)\n",
    "```"
   ]
  },
  {
   "cell_type": "markdown",
   "metadata": {
    "deletable": false,
    "editable": false,
    "run_control": {
     "frozen": true
    }
   },
   "source": [
    "## Creating Anonymous `lambda` Functions\n",
    "\n",
    "- *Python* includes a command named `lambda` to create quick, anonymous functions\n",
    "- This type of function must consist of a single mathematical expression\n",
    "- `lambda` can be used when creating function plots or finding function zeros and minimums\n",
    "- The following illustrates the general syntax for creating an anonymous function using `lambda`\n",
    "\n",
    "\n",
    "    `function_name = lambda arg_name: <expression that uses arg_name>`\n"
   ]
  },
  {
   "cell_type": "markdown",
   "metadata": {
    "deletable": false,
    "editable": false,
    "run_control": {
     "frozen": true
    }
   },
   "source": [
    "## Finding Zeros (Roots) and Local Minimums and Maximums of Functions\n",
    "\n",
    "- *SciPy* has an `optimize` module that includes..\n",
    "  - `optimize.fsolve()` for finding the zeros (roots) of any function\n",
    "    - Requires an $x$-value \"guess\" that is close to where the function crosses the $x$-axis\n",
    "  - `optimize.fminbound()`  for finding local minimums of any function; not just polynomials\n",
    "    - Can find local minimums using the `optimize.fminbound()` function\n",
    "    - There is no maximum function\n",
    "    - Local maximums can be found by...\n",
    "      - Negating (multiply by $-1$) the original function \n",
    "      - Using `optimize.fminbound()` on the negated function\n",
    "    - The function requires three arguments\n",
    "      - The function name\n",
    "      - Lower and upper bounds for the range over which to look for the minimum\n",
    "    - Pass the results back to the original function to determine the $y$ values of the minimums and maximums\n",
    "- Plotting functions before finding the zeros is very helpful\n"
   ]
  },
  {
   "cell_type": "markdown",
   "metadata": {
    "deletable": false,
    "editable": false,
    "run_control": {
     "frozen": true
    }
   },
   "source": [
    "## Numerical Integration and Differentiation\n",
    "\n",
    "- *NumPy* and *SciPy* both provide functions to perform numerical integration\n",
    "- *NumPy* has `np.trapz()` \n",
    "  - Integrates (area under curve) arrays of $x,y$ values\n",
    "  - Uses the trapezoid rule\n",
    "  - The arguments for `np.trapz()` are in `y, x` order\n",
    "- *SciPy* has the `integrate.quad()` fuction (among others) for integrating a function between a set of limits\n",
    "  - This function returns an array of two values\n",
    "    - The first is the result of the integration\n",
    "    - The second is an estimate of the error\n",
    "- For both `np.trapz()` and `integrate.quad()` the results are estimates of definite integrals\n",
    "- The *SciPy* module can also calculate (estimate) the derivative of a function at a specific point\n",
    "  - The function is found in `scipy.misc` and called `derivative()`\n",
    "  - The arguments are...\n",
    "    - A function name\n",
    "    - The value of the point of interest\n",
    "    - Two optional arguments\n",
    "      - `dx=` is the spacing\n",
    "      - `n=` is the order of the derivative\n",
    "    - The default values for both of the optional arguments is $1$\n",
    "    - A smaller `dx` value generally improves the result\n"
   ]
  },
  {
   "cell_type": "markdown",
   "metadata": {
    "deletable": false,
    "editable": false
   },
   "source": [
    "**Wrap it up**\n",
    "\n",
    "Click on the **Save** button and then the **Close and halt** button when you are done before closing the tab."
   ]
  }
 ],
 "metadata": {
  "kernelspec": {
   "display_name": "Python 3",
   "language": "python",
   "name": "python3"
  },
  "language_info": {
   "codemirror_mode": {
    "name": "ipython",
    "version": 3
   },
   "file_extension": ".py",
   "mimetype": "text/x-python",
   "name": "python",
   "nbconvert_exporter": "python",
   "pygments_lexer": "ipython3",
   "version": "3.8.8"
  },
  "varInspector": {
   "cols": {
    "lenName": 16,
    "lenType": 16,
    "lenVar": 40
   },
   "kernels_config": {
    "python": {
     "delete_cmd_postfix": "",
     "delete_cmd_prefix": "del ",
     "library": "var_list.py",
     "varRefreshCmd": "print(var_dic_list())"
    },
    "r": {
     "delete_cmd_postfix": ") ",
     "delete_cmd_prefix": "rm(",
     "library": "var_list.r",
     "varRefreshCmd": "cat(var_dic_list()) "
    }
   },
   "types_to_exclude": [
    "module",
    "function",
    "builtin_function_or_method",
    "instance",
    "_Feature"
   ],
   "window_display": false
  }
 },
 "nbformat": 4,
 "nbformat_minor": 4
}
