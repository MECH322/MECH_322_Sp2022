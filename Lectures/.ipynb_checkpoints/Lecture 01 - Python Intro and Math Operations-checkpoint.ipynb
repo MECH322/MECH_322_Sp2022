{
 "cells": [
  {
   "cell_type": "markdown",
   "metadata": {
    "deletable": false,
    "editable": false,
    "run_control": {
     "frozen": true
    },
    "size": 2,
    "slideshow": {
     "slide_type": "slide"
    }
   },
   "source": [
    "# Lecture 1 - Python Introduction and Math Operations"
   ]
  },
  {
   "cell_type": "markdown",
   "metadata": {
    "deletable": false,
    "editable": false,
    "run_control": {
     "frozen": true
    },
    "slideshow": {
     "slide_type": "slide"
    }
   },
   "source": [
    "## Purpose\n",
    "\n",
    "Start using *Python* for basic math operations and learn how to navigate *Jupyter* notebooks."
   ]
  },
  {
   "cell_type": "markdown",
   "metadata": {
    "deletable": false,
    "editable": false,
    "run_control": {
     "frozen": true
    }
   },
   "source": [
    "## Some Creative Commons Reference Sources for This Material\n",
    "\n",
    "- *Think Python 2nd Edition*, Allen Downey, chapters 1 and 2\n",
    "- *The Coder's Apprentice*, Pieter Spronck, chapters 3 and 4\n",
    "- *A Practical Introduction to Python Programming*, Brian Heinold, chapters 1, 3, 10, and 22\n",
    "- *Algorithmic Problem Solving with Python*, John Schneider, Shira Broschat, and Jess Dahmen, chapters 2 and 3"
   ]
  },
  {
   "cell_type": "markdown",
   "metadata": {
    "deletable": false,
    "editable": false,
    "run_control": {
     "frozen": true
    },
    "size": 2
   },
   "source": [
    "## Welcome the *Jupyter* Notebook Interface and *Python*\n",
    "\n",
    "*Jupyter* notebooks can contain a mix of three possible types of cells:\n",
    "\n",
    "1. *Markdown* cells that include formatted text, formulas, and images\n",
    "2. Raw text cells that contain non-executable code-like text\n",
    "3. Executable *Python* code cells (other languages also available)"
   ]
  },
  {
   "cell_type": "markdown",
   "metadata": {
    "deletable": false,
    "editable": false,
    "run_control": {
     "frozen": true
    },
    "size": 2
   },
   "source": [
    "### Code Cell Numbering\n",
    "- `In [ ]:` Input cell before being executed\n",
    "- `In [1]:` Input cell after being executed\n",
    "- `Out[1]:` Output cell belonging to `In [1]:`\n",
    "- Certain output cells do not get numbers\n",
    "- Numbers are not re-used, they just keep counting\n",
    "- The last state of all input and output cells is remembered"
   ]
  },
  {
   "cell_type": "markdown",
   "metadata": {
    "deletable": false,
    "editable": false,
    "run_control": {
     "frozen": true
    },
    "size": 2
   },
   "source": [
    "### Editing and Executing Code Cells\n",
    "\n",
    "#### Two modes of operation\n",
    "- **Edit mode**\n",
    "  - Green border\n",
    "  - Text cursor\n",
    "  - Type commands/text in cells\n",
    "  - Must be in this mode to type *Python* commands\n",
    "  - Double-click in cell to enter edit mode\n",
    "  - Hit `[enter]` (`[return]`) key while in command mode to enter edit mode\n",
    "- **Command mode**\n",
    "  - Blue border\n",
    "  - Standard pointer\n",
    "  - Manage the notebook's structure and appearance\n",
    "  - Copy, paste, and delete cells\n",
    "  - Click outside of a text editing area to enter command mode\n",
    "  - Execute a cell that is being edited to enter command mode\n",
    "\n",
    "#### Types of cells\n",
    "- Code - *Python* commands that can be executed\n",
    "- *Markdown* - formatted text, formulas, and images\n",
    "- Raw - code-like text that cannot be executed\n",
    "\n",
    "#### Common command mode shortcuts\n",
    "- **A**: new cell above the selected cell\n",
    "- **B**: new cell below the selected cell\n",
    "- **X**: cut the selected cell\n",
    "- **M**: change the selected cell to a *Markdown* cell\n",
    "- **Y**: change the selected cell to a code cell\n",
    "- **R**: change the selected cell to a raw cell\n",
    "\n",
    "#### Executing cells\n",
    "- All cell types can be executed\n",
    "  - Code cells execute the *Python* commands\n",
    "  - *Markdown* cells execute the formatting\n",
    "  - Raw cells leave the text \"as-is\"\n",
    "- `[shift]+[enter]` to execute cell and jump to the next cell or start a new cell\n",
    "- `[control]+[enter]` on Windows or `[command]+[enter]` on a Mac to execute cell and keep the current cell selected\n"
   ]
  },
  {
   "cell_type": "markdown",
   "metadata": {
    "deletable": false,
    "editable": false,
    "run_control": {
     "frozen": true
    },
    "size": 2,
    "tags": []
   },
   "source": [
    "### Editing Formatted Text (*Markdown*) and Raw Text Cells\n",
    "\n",
    "#### *Markdown* cells are good for...\n",
    "- Instructions, descriptions, and explanations of what is happening in  code cells\n",
    "- Linking of image files that are located in the same directory as the notebook file\n",
    "- Formulas and equations\n",
    "\n",
    "#### Common *Markdown* symbols for formatting\n",
    "- `*` before and after text for *italic* text\n",
    "- `**` before and after text for **bold** text\n",
    "- `$` before and after special code that generates mathematical formulas; i.e. $\\beta = \\frac{\\pi}{4}$\n",
    "- `-` or `*` followed by a space at the beginning of a line for a bullet\n",
    "- `#` followed by a space at the beginning of a line for a title (first order heading)\n",
    "- `##` followed by a space at the beginning of a line for a 2nd order heading\n",
    "- `###` (or more) followed by a space at the beginning of a line for a 3rd order (or higher) heading\n",
    "- `___` (3 underscore characters) at the beginning of a line for a horizontal line\n",
    "\n",
    "#### Raw cells\n",
    "- Used less frequently \n",
    "- Used to show sample code\n",
    "- Not executable"
   ]
  },
  {
   "cell_type": "markdown",
   "metadata": {
    "deletable": false,
    "editable": false,
    "run_control": {
     "frozen": true
    },
    "size": 1
   },
   "source": [
    "## Three Important Types in *Python*\n",
    "\n",
    "- Numbers\n",
    "  - Integers: whole numbers with no decimal part\n",
    "    - `int` type\n",
    "    - 0, 1, 2, 3, etc\n",
    "    - -1, -2, -3, etc\n",
    "  - Floating point values (floats): decimal values\n",
    "    - `float` type\n",
    "    - 2.0\n",
    "    - 4.\n",
    "    - -3.45\n",
    "- Strings: any type of character inside quotes\n",
    "  - `str` type\n",
    "  - \"Hello\"\n",
    "  - 'Python'\n",
    "  - \"42\"\n",
    "\n",
    "Use `type(x)` to check the type of an object, i.e. `type(42)` or type(\"Hello\")`\n",
    "    \n"
   ]
  },
  {
   "cell_type": "markdown",
   "metadata": {
    "deletable": false,
    "editable": false,
    "run_control": {
     "frozen": true
    },
    "size": 2
   },
   "source": [
    "### Converting Types\n",
    "\n",
    "- To integer...\n",
    "  - `int()` function\n",
    "  - Convert floats - drops everything right of the decimal point\n",
    "  - Convert strings that just contain an integer value\n",
    "- To float...\n",
    "  - `float()` function\n",
    "  - Convert integers - adds a decimal point and zero\n",
    "  - Convert strings that just contain a float or an integer value\n",
    "- To string...\n",
    "  - `str()` function\n",
    "  - Convert integers and floats - numeric values are simply enclosed in quotes\n",
    "\n",
    "**Examples**\n",
    "\n",
    "  ```python\n",
    "  int(3.14159)\n",
    "  float(42)\n",
    "  str(42)\n",
    "  str(3.14159)\n",
    "  int(\"42\")\n",
    "  float(\"3.14159\")\n",
    "  int(float(\"3.14159\"))\n",
    "  ```"
   ]
  },
  {
   "cell_type": "markdown",
   "metadata": {
    "deletable": false,
    "editable": false,
    "run_control": {
     "frozen": true
    },
    "size": 2
   },
   "source": [
    "## Editing and Running Scripts\n",
    "\n",
    "### Editing Scripts\n",
    "- *Python* scripts should be written using a text editor\n",
    "- Do not a word processor like *MS Word*\n",
    "- *Jupyter* has a built-in text editor \n",
    "- Dedicated coding text editors like *VSCode* add nice features\n",
    "- Naming scripts...\n",
    "  - No spaces in the name\n",
    "  - Start with a letter or the underscore character\n",
    "  - May include numbers\n",
    "  - Must end with `.py` file extension\n",
    "\n",
    "### Running Scripts\n",
    "- Place script file (i.e `hello.py`) in same directory as the *Jupyter* notebook\n",
    "- From a *Jupyter* code cell or *iPython* prompt\n",
    "  - `run hello.py`\n",
    "- From *Python* prompt\n",
    "  - `import hello`\n",
    "- From command line (terminal or console) prompt\n",
    "  - `python hello.py`\n",
    "  - `python3 hello.py`"
   ]
  },
  {
   "cell_type": "markdown",
   "metadata": {
    "deletable": false,
    "editable": false,
    "run_control": {
     "frozen": true
    }
   },
   "source": [
    "## The Pythonic Method\n",
    "\n",
    "Throughout the semester you will be introduced to ways of programming and doing things with code that are fairly unique to *Python*. These ways of doing things are referred to as being ***Pythonic***. The development of *Python* as a language has been guided by a number of principles.\n",
    "\n",
    "Execute the following code cell to get a glimpse at these guiding principles."
   ]
  },
  {
   "cell_type": "markdown",
   "metadata": {
    "deletable": false,
    "editable": false,
    "run_control": {
     "frozen": true
    },
    "size": 2
   },
   "source": [
    "Execute the following code cell to get a glimpse at these guiding principles."
   ]
  },
  {
   "cell_type": "code",
   "execution_count": null,
   "metadata": {
    "jupyter": {},
    "size": 1
   },
   "outputs": [],
   "source": [
    "import this"
   ]
  },
  {
   "cell_type": "markdown",
   "metadata": {
    "deletable": false,
    "editable": false,
    "run_control": {
     "frozen": true
    }
   },
   "source": [
    "Execute the following cells for a little bit of *Python* fun."
   ]
  },
  {
   "cell_type": "code",
   "execution_count": null,
   "metadata": {
    "jupyter": {}
   },
   "outputs": [],
   "source": [
    "import __hello__"
   ]
  },
  {
   "cell_type": "code",
   "execution_count": null,
   "metadata": {
    "jupyter": {}
   },
   "outputs": [],
   "source": [
    "# may not work from a notebook\n",
    "import antigravity"
   ]
  },
  {
   "cell_type": "markdown",
   "metadata": {
    "deletable": false,
    "editable": false,
    "run_control": {
     "frozen": true
    }
   },
   "source": [
    "## Displaying Output Using `print`\n",
    "\n",
    "- Use the `print()` function to explicitly display results\n",
    "- In *Jupyter* or from a *Python* prompt some results may display without using `print()`\n",
    "- `print()` is the only way to display results from scripts\n",
    "- The `print()` function displays the results of anything included in the parentheses\n",
    "- Multiple items can be separated by commas \n",
    "  - *Python* adds spaces between items that are separated by commas \n",
    "- Multiple strings in a `print()` function can be separated by the `+` symbol\n",
    "  - The strings are \"added\" together (concatenated) before printing\n",
    "\n",
    "  ```python\n",
    "  print('Hello, World!')\n",
    "  print(\"Hello \" + \"again\")\n",
    "  print(\"Python is awesome\")\n",
    "  print('Lumberjacks', \"Parrots\", 42)\n",
    "  print(4 * 5)\n",
    "  print(2 * 'Hello')\n",
    "  ```"
   ]
  },
  {
   "cell_type": "markdown",
   "metadata": {
    "deletable": false,
    "editable": false,
    "run_control": {
     "frozen": true
    }
   },
   "source": [
    "## Basic Arithmetic\n",
    "\n",
    "*Python* uses the following basic arithmetic operators:\n",
    "\n",
    "- `+` Addition\n",
    "- `-` Subtraction\n",
    "- `*` Multiplication\n",
    "- `/` Division\n",
    "- `**` Exponentiation\n",
    "\n",
    "**PEMDAS** order of operations\n",
    "\n",
    "1. **P** = Parentheses `( )`\n",
    "\n",
    "2. **E** = Exponentiation (`4**2` is $4^2$)\n",
    "\n",
    "3. **MD** = multiplication and division from left to right (`3*2/3 = 2`)\n",
    "\n",
    "4. **AS** = addition and subtraction from left to right (`5 - 3 + 1 = 3`)"
   ]
  },
  {
   "cell_type": "markdown",
   "metadata": {
    "deletable": false,
    "editable": false,
    "run_control": {
     "frozen": true
    }
   },
   "source": [
    "## Comments\n",
    "\n",
    "- Use `#` in a *Python* code cell to indicate the start of a comment\n",
    "- Anything after `#` is ignored by *Python*\n",
    "- Can start a line with `#`\n",
    "- Comments can be placed to the right of *Python* commands\n",
    "- Use comments to describe \"why\" and not \"how\" something was done\n",
    "- A common practice for *Python* scripts is to enclose multiple lines at the top of a script with triple quotes to form a single large comment\n",
    "    ```python\n",
    "    \"\"\"\n",
    "    This program does such and such\n",
    "    It was written by Brian Brady\n",
    "    Last revision: 11/29/2021\n",
    "    \"\"\"\n",
    "    ```\n",
    "\n",
    "You can also add a comment or explanation anywhere in *Jupyter* notebooks by using a *Markdown* cell"
   ]
  },
  {
   "cell_type": "markdown",
   "metadata": {
    "deletable": false,
    "editable": false,
    "run_control": {
     "frozen": true
    }
   },
   "source": [
    "## Special Division Operators and Functions\n",
    "\n",
    "### Division Operation in Mathematics\n",
    "- Involves four different objects...\n",
    "  - Dividend\n",
    "  - Divisor\n",
    "  - Quotient\n",
    "  - Remainder\n",
    "- The dividend is divided up by the divisor\n",
    "  - $\\rm Dividend \\div Divisor$\n",
    "  - ${\\rm Dividend}/{\\rm Divisor}$\n",
    "- The quotient is the number of times the divisor completely goes into the dividend\n",
    "- The remainder is what is left (if anything)\n",
    "- For example, $7\\div 2$ results in a quotient of $3$ and remainder of $1$.\n",
    "\n",
    "### Division in *Python*\n",
    "- Normal division  `/`  always yields a floating point value\n",
    "- Integer division `//` returns the quotient as an integer\n",
    "  - Also referred to as floor division\n",
    "- Modulo division operator `%` yields just the remainder\n",
    "  - Also referred to as remainder division\n",
    "- The built-in function `divmod(x, y)` requires two arguments (the dividend and divisor) and returns the quotient and remainder as a pair of values\n",
    "\n",
    "The following code cell demonstrates the results of each of these operations on $7 \\div 2$\n",
    "\n",
    "  ```python\n",
    "  print('7/2 =', 7/2)\n",
    "  print('7//2 =', 7//2)\n",
    "  print('7%2 =', 7%2)\n",
    "  print('divmod(7, 2) =', divmod(7, 2))\n",
    "  ```\n"
   ]
  },
  {
   "cell_type": "markdown",
   "metadata": {
    "deletable": false,
    "editable": false,
    "run_control": {
     "frozen": true
    }
   },
   "source": [
    "## Elementary Math Functions and Constants\n",
    "\n",
    "- *Python* is a very extensible programming language\n",
    "- Modules (libraries) are available for nearly everything \n",
    "- Need to `import` modules whose commands you want to use \n",
    "- `import` the `math` module to use math functions beyond basic arithmetic\n",
    "- `dir(math)` or `print(dir(math))` to see available `math` commands\n"
   ]
  },
  {
   "cell_type": "markdown",
   "metadata": {},
   "source": [
    "## General Math Functions\n",
    " \n",
    "- `math.sqrt(x)` = $\\sqrt{x}$\n",
    "- `math.exp(x)` = $e^x$\n",
    "- `abs(x)` = $\\lvert x \\rvert$\n",
    "- `math.log(x)` = $\\log{x}$\n",
    "- `math.log10(x)`= $\\log_{10}{x}$\n",
    "- `math.factorial(x)` = $x!$"
   ]
  },
  {
   "cell_type": "markdown",
   "metadata": {
    "deletable": false,
    "editable": false,
    "run_control": {
     "frozen": true
    }
   },
   "source": [
    "You can import specific functions/commands from the `math` (or any other) module\n",
    "- Do not have to include `math.` when using those specific commands\n",
    "- Example below shows how to import three trigonometric functions and the constant $\\pi$\n",
    "- Once imported, use the commands by typing their name with any required arguments\n",
    "\n",
    "```python\n",
    "from math import cos, sin, tan, pi\n",
    "cos(pi/3)\n",
    "```\n",
    "\n",
    "You can also import all commands from a module by using the `*` wildcard (as shown below).\n",
    "\n",
    "```python\n",
    "from math import *\n",
    "```\n",
    "\n",
    "- This is not considered good form nor is it very Pythonic\n",
    "- It is frowned upon in most cases\n",
    "- Please do not use this method of importing modules unless specified by the instructor"
   ]
  },
  {
   "cell_type": "markdown",
   "metadata": {
    "deletable": false,
    "editable": false,
    "run_control": {
     "frozen": true
    }
   },
   "source": [
    "## Math Constants\n",
    "\n",
    "The following commands are used for the mathematical constants $\\pi$, $e$ (Euler's number), $\\infty$, and \"not a number\"\n",
    "\n",
    " - `math.pi` = $\\pi$\n",
    " - `math.e` = $e$\n",
    " - `math.inf` = $\\infty$\n",
    " - `math.nan` = 'Not a number'\n"
   ]
  },
  {
   "cell_type": "markdown",
   "metadata": {
    "deletable": false,
    "editable": false,
    "run_control": {
     "frozen": true
    }
   },
   "source": [
    "## Trigonometric Functions\n",
    "\n",
    "- The `math` module includes full support for trigonometric functions\n",
    "- Standard trig functions require angle units of radians, not degrees\n",
    "    ```python\n",
    "    math.sin()\n",
    "    math.cos()\n",
    "    math.tan()\n",
    "    \n",
    "    ```\n",
    "    \n",
    "- Inverse (arcus) trig functions return angles in radians, not degrees\n",
    "    ```python\n",
    "    math.asin()\n",
    "    math.acos()\n",
    "    math.atan()\n",
    "    math.atan2()\n",
    "    \n",
    "    ```\n",
    "    \n",
    "- You can convert angles from degrees to radians or radians to degrees\n",
    "  - `math.degrees` converts to degrees\n",
    "  - `math.degrees(math.pi/2)` converts $\\pi /2$ to degrees\n",
    "  - `math.radians` converts to radians\n",
    "  - `math.radians(30)` converts $30^{\\circ}$ to radians"
   ]
  },
  {
   "cell_type": "markdown",
   "metadata": {
    "deletable": false,
    "editable": false,
    "run_control": {
     "frozen": true
    }
   },
   "source": [
    "- Notice that there is a second inverse tangent function **`atan2()`** that accepts two arguments instead of one\n",
    "  - Returns a quadrant-specific angle based on an $x$ and a $y$ value\n",
    "  - Arguments are in $y,x$ order to match $y/x$, i.e. **`atan2(y, x)`** equals $\\tan^{-1}{\\left(y/x\\right)}$."
   ]
  },
  {
   "cell_type": "markdown",
   "metadata": {
    "deletable": false,
    "editable": false,
    "run_control": {
     "frozen": true
    }
   },
   "source": [
    "## Rounding Related Functions\n",
    "\n",
    "- `round()`\n",
    "  - Rounds values towards zero if the decimal part is less than 0.5 and away from zero otherwise\n",
    "  - Accepts an optional second argument to set the number of decimal places for rounding\n",
    "- `math.trunc()`\n",
    "  - Always drops off the decimal portion\n",
    "  - Leaves an integer value\n",
    "- `math.ceil()`\n",
    "  - Returns the next integer value towards positive infinity if the argument has a decimal part\n",
    "- `math.floor()`\n",
    "  - Returns the next integer value towards negative infinity if there is a decimal part"
   ]
  },
  {
   "cell_type": "markdown",
   "metadata": {
    "deletable": false,
    "editable": false,
    "run_control": {
     "frozen": true
    }
   },
   "source": [
    "## Using Names (Variables)\n",
    "\n",
    "- Can assign names (variables) to almost any value or object\n",
    "- Use the variables in place of the value or object\n",
    "- Case-sensitive: `a` and `A` are not the same\n",
    "- Variable names\n",
    "  - Must start with a letter or underscore\n",
    "  - Can also contain numbers and underscores\n",
    "  - No spaces and other special characters\n",
    "- Restricted *Python* names (keywords) cannot be used as variable names\n",
    "- Don't use built-in functions or commands as variable names\n",
    "  - For example, don't use `abs = 100` or `math.pi = 3`\n",
    "  - Will overwrite the functions `abs()` and `math.pi`\n",
    "- Using `del variable_name` will clear `variable_name`\n",
    "- Use descriptive variable names\n",
    "\n",
    "  ```python\n",
    "  answer_to_universe = 42\n",
    "  radius = 10\n",
    "  bad_guy = \"Darth Vader\"\n",
    "  total_time = 30\n",
    "  \n",
    "  ```\n",
    "\n",
    "- *Python* does not display any results when a value or calculation is assigned to a name\n",
    "- Use the **`print()`** function in order to display such results \n"
   ]
  },
  {
   "cell_type": "markdown",
   "metadata": {
    "deletable": false,
    "editable": false,
    "run_control": {
     "frozen": true
    }
   },
   "source": [
    "## Special Commands\n",
    "\n",
    "- Access last calculated result not assigned to a name using the underscore `_` character\n",
    "  - Not to be done in a script or a function\n",
    "  - Acts like the \"ans\" key on your calculator\n",
    "- *Jupyter* or *iPython* has some *magic* commands\n",
    "  - `who` returns a list of all current names and modules in memory\n",
    "  - `dir()` does the same as `who` but includes a lot of extraneous information\n",
    "  - `whos` is like `who` but it also includes types and value information"
   ]
  }
 ],
 "metadata": {
  "kernelspec": {
   "display_name": "Python 3",
   "language": "python",
   "name": "python3"
  },
  "language_info": {
   "codemirror_mode": {
    "name": "ipython",
    "version": 3
   },
   "file_extension": ".py",
   "mimetype": "text/x-python",
   "name": "python",
   "nbconvert_exporter": "python",
   "pygments_lexer": "ipython3",
   "version": "3.8.8"
  },
  "nteract": {
   "version": "0.25.1"
  },
  "varInspector": {
   "cols": {
    "lenName": 16,
    "lenType": 16,
    "lenVar": 40
   },
   "kernels_config": {
    "python": {
     "delete_cmd_postfix": "",
     "delete_cmd_prefix": "del ",
     "library": "var_list.py",
     "varRefreshCmd": "print(var_dic_list())"
    },
    "r": {
     "delete_cmd_postfix": ") ",
     "delete_cmd_prefix": "rm(",
     "library": "var_list.r",
     "varRefreshCmd": "cat(var_dic_list()) "
    }
   },
   "types_to_exclude": [
    "module",
    "function",
    "builtin_function_or_method",
    "instance",
    "_Feature"
   ],
   "window_display": false
  }
 },
 "nbformat": 4,
 "nbformat_minor": 4
}
