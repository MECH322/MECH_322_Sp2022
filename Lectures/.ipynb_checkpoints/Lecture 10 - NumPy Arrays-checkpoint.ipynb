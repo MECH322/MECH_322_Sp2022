{
 "cells": [
  {
   "cell_type": "markdown",
   "metadata": {},
   "source": [
    "# Lecture 10 - *NumPy* Arrays\n",
    "___"
   ]
  },
  {
   "cell_type": "markdown",
   "metadata": {
    "deletable": false,
    "editable": false,
    "run_control": {
     "frozen": true
    }
   },
   "source": [
    "## Purpose\n",
    "\n",
    "- Import the `numpy` module for array creation\n",
    "- Create one and two dimensional *NumPy* arrays\n",
    "- Access items from arrays"
   ]
  },
  {
   "cell_type": "markdown",
   "metadata": {
    "deletable": false,
    "editable": false,
    "run_control": {
     "frozen": true
    }
   },
   "source": [
    "## *NumPy* - Numeric Python Introduction\n",
    "\n",
    "- Previously used `for` loops or list comprehensions for calculations on sequences of numeric values\n",
    "- A more efficient approach is to use [*NumPy*](http://www.numpy.org) (*Numeric Python*)\n",
    "- *NumPy* website says that \"*NumPy is the fundamental package for scientific computing with Python.*\"\n",
    "- It does more than just provide for easy creation of and calculations with numeric arrays, it provides tools for...\n",
    "  - Linear algebra\n",
    "  - Numeric calculus\n",
    "  - Random numbers\n",
    "  - Much more\n",
    "- This document will focus primarily on...\n",
    "  - Creating numeric one and two-dimensional `numpy.ndarray` objects\n",
    "  - Accessing values in `numpy.ndarray` objects\n",
    "- `numpy.ndarray` is the *NumPy* array data type object"
   ]
  },
  {
   "cell_type": "markdown",
   "metadata": {
    "deletable": false,
    "editable": false,
    "run_control": {
     "frozen": true
    }
   },
   "source": [
    "## Creation of `numpy.ndarray` Objects\n",
    "\n",
    "- *NumPy* arrays (the `numpy.ndarray` data type) are powerful tools for working with sequences of numeric values\n",
    "- Great for large (very large) sequences\n",
    "- Unless a list is quite small, *NumPy* arrays are much more efficient and faster than lists\n",
    "- From this point on we will refer to *Numpy* arrays simply as arrays\n",
    "- Must first import the *NumPy* module to use arrays\n",
    "  - This module is not included with the standard *Python* installation\n",
    "  - Must download and install it for use with *Python*\n",
    "  - *Anaconda* distribution of *Python* includes *NumPy* plus a large number of other scientific/mathematical modules\n",
    "  - Import using `import numpy as np`\n",
    "  - Preceed *NumPy* commands with `np.`"
   ]
  },
  {
   "cell_type": "markdown",
   "metadata": {
    "deletable": false,
    "editable": false,
    "run_control": {
     "frozen": true
    }
   },
   "source": [
    "### Converting Lists, Tuples, or Ranges to Arrays\n",
    "\n",
    "- Can convert existing *Python* data types to arrays, including...\n",
    "  - Lists\n",
    "  - Tuples\n",
    "  - Ranges\n",
    "- Use the `np.array()` function with the list, tuple, or range variable as an argument"
   ]
  },
  {
   "cell_type": "markdown",
   "metadata": {
    "deletable": false,
    "editable": false,
    "run_control": {
     "frozen": true
    }
   },
   "source": [
    "### Arrays From Scratch Using `np.array()`\n",
    "\n",
    "- Can also create arrays from scratch using the `np.array()` function\n",
    "- The array argument needs to be a list or tuple containing numeric values\n",
    "- One special thing about *NumPy* arrays is that all of the items need to be of the same type\n",
    "  - This helps make them as efficient as they are\n",
    "  - If any item in the array is a float, all items in the finished array will also be floats\n",
    "  - Add a decimal after at least one number if using integers to convert all of the numbers to floats\n",
    "  - Cannot replace a single value in an array of integers with a float\n",
    "    - *NumPy* will convert the value to an integer instead, leading to unexpected results\n"
   ]
  },
  {
   "cell_type": "markdown",
   "metadata": {
    "deletable": false,
    "editable": false,
    "run_control": {
     "frozen": true
    }
   },
   "source": [
    "### Setting the Type for Array Values\n",
    "\n",
    "- *NumPy* allows the number type to be specified within the array definition\n",
    "- Add `float` or `int` as an argument after the list or tuple in `np.array()` \n",
    "- For example, using `np.array([1, 2, 3, 4], float)` will convert all of the values to floats\n",
    "- There are other specific precision integers and floats, but standard integers and floats will work fine here"
   ]
  },
  {
   "cell_type": "markdown",
   "metadata": {
    "deletable": false,
    "editable": false,
    "run_control": {
     "frozen": true
    }
   },
   "source": [
    "### Creating Arrays Using `np.arange()`\n",
    "\n",
    "- `np.arange()` can be used to create arrays using starting, ending, and step values\n",
    "- Like the built-in `range()` function, the constructed array will not include the ending value\n",
    "- If the step argument is omitted, then the step size will be 1\n",
    "- If only one argument is used the array will start at zero and have a step of 1\n",
    "- A negative step will allow you to create an array where the values decrease from start to the end\n",
    "- One important difference between `np.arange()` and `range()` is the ability to use floats"
   ]
  },
  {
   "cell_type": "markdown",
   "metadata": {},
   "source": [
    "## Using *NumPy* Math Functions\n",
    "\n",
    "- When creating and working with *NumPy* arrays use *NumPy* versions of math functions, *not* the `math` module\n",
    "- For example, use `np.pi`, `np.sin()`, `np.exp()`, `np.sqrt()`, etc\n",
    "- The primary reason for doing so is that the *NumPy* versions can work on all values in an array but `math` cannot\n"
   ]
  },
  {
   "cell_type": "markdown",
   "metadata": {
    "deletable": false,
    "editable": false,
    "run_control": {
     "frozen": true
    }
   },
   "source": [
    "## The `np.linspace()` Function\n",
    "\n",
    "- The `np.linspace()` function also creates arrays of evenly spaced values\n",
    "- The arguments passed to the function are `(start, stop, num)`\n",
    "  - `num` is the total number of values to create\n",
    "  - If `num` is omitted it will default to 50 values\n",
    "  - There are optional keywoard arguments\n",
    "    - `enpoint=` defaults to `True`, causing the array to include the `stop` value\n",
    "    - `dtype=` forces the array to use a specific type\n"
   ]
  },
  {
   "cell_type": "markdown",
   "metadata": {
    "deletable": false,
    "editable": false
   },
   "source": [
    "## Two-Dimensional Array Creation\n",
    "\n",
    "- Two-dimensional arrays are simply arrays of arrays\n",
    "- Only one `np.array()` function is required\n",
    "  - Place lists separated by commas between a set of square brackets\n",
    "  - Example, `np.array([[1, 2], [3, 4]])`\n",
    "  - Each list must be the same size to avoid problems\n",
    "- It is possible to create a 2D array that has only one row\n",
    "  - For a one-dimensional array use `np.array([1, 2, 3])`\n",
    "  - Use an additional set of square brackets to create a 2D array\n",
    "  - For example, `np.array([[1, 2, 3]])`"
   ]
  },
  {
   "cell_type": "markdown",
   "metadata": {
    "deletable": false,
    "editable": false,
    "run_control": {
     "frozen": true
    }
   },
   "source": [
    "## Some Array Methods\n",
    "\n",
    "- *Python* object types have associated methods\n",
    "- *NumPy* arrays also have associated methods\n",
    "- Some *NumPy* array methods\n",
    "  - `.ndim` (note the lack of parentheses) is used to find the number of dimensions of an array\n",
    "    - Given `x = np.array([[1, 2],[3, 4]])`\n",
    "    - `x.ndim` will return a value of `2` since `x` is a 2D array\n",
    "  - `.size` returns the total number of items in the array\n",
    "    - `x.size` will return a value of `4` for the previous array\n",
    "  - `.shape` returns the size of the array in each direction\n",
    "    - For 2D arrays `.shape` returns the tuple `(rows, columns)`\n",
    "    - Using `x.shape` results in `(2, 2)` since there are 2 rows and 2 columns in the array"
   ]
  },
  {
   "cell_type": "markdown",
   "metadata": {
    "deletable": false,
    "editable": false,
    "run_control": {
     "frozen": true
    }
   },
   "source": [
    "## Special Array Creation Functions\n",
    "\n",
    "The following *NumPy* functions can be used to create special types of arrays.\n",
    "- `np.zeros()` will create an array filled with $0$s only\n",
    "  - The argument must be a single value when creating a one-dimensional array\n",
    "  - It needs be a tuple containing a row and column pair for 2D arrays\n",
    "- `np.ones()` function does the same thing except that it creates an array filled with $1$s\n",
    "- `np.eye()` function creates an identity array\n",
    "  - Filled with zeros except on the diagonal from the top-left to the bottom-right\n",
    "  - These arrays must be square - meaning the same number of rows and columns\n",
    "  - `eye(3)` will create a $3\\times3$ identity array\n",
    "- `np.diag()` looks like an identity array except the diagonal is filled with the values from the argument...\n",
    "  - List\n",
    "  - Tuple\n",
    "  - Array\n"
   ]
  },
  {
   "cell_type": "markdown",
   "metadata": {
    "deletable": false,
    "editable": false,
    "run_control": {
     "frozen": true
    }
   },
   "source": [
    "## Math with *NumPy* Arrays and Scalars\n",
    "\n",
    "- Unlike built-in *Python* lists, *NumPy* arrays can be used directly to perform math operations\n",
    "- Specifically, you can add, subtract, multiply, or divide scalar values by/with arrays\n",
    "- Other operations are also possible, but these will be looked at in more detail at a later time"
   ]
  },
  {
   "cell_type": "markdown",
   "metadata": {
    "deletable": false,
    "editable": false,
    "run_control": {
     "frozen": true
    }
   },
   "source": [
    "## *NumPy* Array Functions and Methods\n",
    "\n",
    "### Size and Shape Reporting Functions\n",
    "\n",
    "- The `len()` function will return...\n",
    "  - The number of objects in a one-dimensional array\n",
    "  - The number of rows (lists) in a two-dimensional array\n",
    "- The `np.size()` function returns the total number of objects in one or two-dimensional arrays\n",
    "  - This function does the same thing as the `.size` method used previously\n",
    "  - Given `z = np.array([[1, 4], [5, 8]])`, `np.size(z)` will return 4\n",
    "- The function `np.shape()` returns a tuple with the number of rows and columns for an array\n",
    "  - If 1D, it will return a tuple with one item that represents the length of the array\n",
    "  - This function does the same thing as the `.shape` method used previously\n",
    "- `np.ndim()` does the same thing as the `.ndim` method; returning the number of dimensions\n"
   ]
  },
  {
   "cell_type": "markdown",
   "metadata": {
    "deletable": false,
    "editable": false,
    "run_control": {
     "frozen": true
    }
   },
   "source": [
    "### Changing an Array Shape\n",
    "\n",
    "- `np.reshape(array, (new_row, new_col))`\n",
    "  - Makes a copy of the array and changes the copy's shape to a new row and column size\n",
    "  - The arguments are...\n",
    "    - The array to be reshaped\n",
    "    - A tuple containing the new shape\n",
    "  - The new shape must be numerically compatible with the original shape (same total number of elements)\n",
    "  - The shape is changed by...\n",
    "    - Placing all of the existing rows into one single row in order starting with row zero\n",
    "    - This 1D array is reshaped by creating new rows\n",
    "    - Each new row with the number of elements given by the new column argument\n",
    "  - The `.reshape(new_row, new_col)` method does the same thing as this function\n",
    "  - A nice feature of `np.reshape()` (and `.reshape()` method) is auto-calculating\n",
    "    - If `-1` is used for either the `new_row` or `new_col` arguments\n",
    "    - The correct value for that direction will be based on the value of the other argument\n",
    "    - *NumPy* divides the total number of objects by the provided argument value to determine the one with `-1`\n",
    "    - If ther are 12 objects, `new_row` is `-1`, and `new_col` is 3, then there will be `4` rows\n",
    "  - The `.resize()` method does the same thing as `.reshape` except...\n",
    "    - It does not make a copy, it changes the original array\n",
    "    - It does not allow `-1` to be used as an argument\n",
    "- The shape of two-dimensional arrays can also be changed using the `np.transpose()` function\n",
    "  - The `.T` (transpose) method does the same thing\n",
    "  - Transposing an array changes the shape by...\n",
    "    - Changing the existing first row into the new first column\n",
    "    - Changing the existing first column into the new first row\n",
    "  - Transposing creates a copy instead of changing the original array\n"
   ]
  },
  {
   "cell_type": "markdown",
   "metadata": {
    "deletable": false,
    "editable": false,
    "run_control": {
     "frozen": true
    }
   },
   "source": [
    "## Array Addressing (Indexing)\n",
    "\n",
    "- Addressing individual items in *NumPy* arrays works the same way as *Python* lists\n",
    "- One-dimensional arrays\n",
    "  - Place a set of square brackets with the desired index position after an array or array name\n",
    "  - For example, `arr1[0]`\n",
    "- Two-dimensional arrays\n",
    "  - The index needs to include two values; row and column\n",
    "  - For example, `arr2[0, 2]` would access the item located row 0 at the index 2 position\n",
    "  - Can also use `arr[0][2]` to get the value at the 2nd index position of the the 0th row\n",
    "- Negative indices work for arrays as well\n"
   ]
  },
  {
   "cell_type": "markdown",
   "metadata": {
    "deletable": false,
    "editable": false,
    "run_control": {
     "frozen": true
    }
   },
   "source": [
    "## Array Slicing\n",
    "\n",
    "- Slicing 1D *NumPy* arrays is done the same way as for lists and strings\n",
    "- Slicing 2D arrays is similar to 1D arrays\n",
    "  - The colon is still used to separate starting, ending, and step indices for slicing\n",
    "  - Since there are two dimensions, this must to be done for the rows and the columns\n",
    "  - For example, `arr2[row_start:row_end, col_start:col_end]`\n",
    "  - The slice `arr2[0:2, 0:3]` would return the first two rows of the first three columns\n",
    "  - All objects in a row or column are included if there is only a colon in the row or column slice\n",
    "  - For example, `arr2[:, 1:3]` returns the objects from all rows with column indices of 1 and 2\n"
   ]
  },
  {
   "cell_type": "markdown",
   "metadata": {
    "deletable": false,
    "editable": false,
    "run_control": {
     "frozen": true
    }
   },
   "source": [
    "## Replacing Values of Objects in Arrays\n",
    "\n",
    "- *NumPy* arrays are mutable\n",
    "- Array indexing and slicing can be used to replace (change) objects in arrays...\n",
    "  - Individual values\n",
    "  - Groups of values\n",
    "- For example, `x[4] = 6.4` will replace the object located at the 4th index of array `x` to $6.4$\n",
    "- If the array has an integer data type, attempting to replace a value with a float will result in an integer\n"
   ]
  },
  {
   "cell_type": "markdown",
   "metadata": {
    "deletable": false,
    "editable": false,
    "run_control": {
     "frozen": true
    }
   },
   "source": [
    "## Adding Values to Arrays \n",
    "\n",
    "- The `np.append()` function can be used to extend the length of a 1D array by adding items to the end\n",
    "  - The arguments are the original array followed by the appended array or range\n",
    "  - It makes a copy of the original array\n",
    "  - Must assign the appended copy back to the original variable name if you want to \"change\" the original\n",
    "  - **FYI** Adding and removing values to/from NumPy arrays is not very computationally efficient\n",
    "  - It is generally better to redefine an array with the correct values than to change an array\n",
    "- Adding values to 2D arrays is a little more work\n",
    "  - The `np.append()` function accepts an optional argument `axis=`\n",
    "    - It is `None` by default, but can be set to `0` or `1` when working with 2D arrays\n",
    "    - When `axis=0` is used\n",
    "      - A row is added\n",
    "      - The list that is appended needs to be placed in double square brackets\n",
    "    - When `axis=1` is used, a column is added\n",
    "      - This time the items being added to each row need their own square brackets\n",
    "  - See the examples appending\n",
    "  - These actions are not performed often, but it is good to see how it could be done\n",
    "- The `np.insert()` function can be used to add elements at locations other than the end\n",
    "  - This function also works on a copy of the original array\n",
    "  - The arguments are...\n",
    "    - The array\n",
    "    - The index position before which insertion will happen\n",
    "    - The value or values to insert\n",
    "  - The index position can be given as a list of index positions\n",
    "    - Doing so requires a list with the same number of values as there are being inserted\n",
    "    - Each will be inserted before the index positions relative to the original array\n",
    "- Two or more 1D arrays can be joined together using the `np.hstack()` function\n",
    "  - This function takes a tuple of arrays, lists, and/or individual values as an argument\n",
    "  - It connects them together in an end-to-end fashion\n",
    "- Another clever way to perform tasks similar to `np.hstack()` is to use `np.r_[]`\n",
    "  - Can be used to join arrays, lists, tuples, ranges, and/or values by extending the row length\n",
    "  - Square brackets are used instead of standard parentheses\n",
    "  - There is also a `np.c_[]` command that concatentates by extending the column length"
   ]
  },
  {
   "cell_type": "markdown",
   "metadata": {
    "deletable": false,
    "editable": false,
    "run_control": {
     "frozen": true
    }
   },
   "source": [
    "**Wrap it up**\n",
    "\n",
    "Click on the **Save** button and then the **Close and halt** button when you are done before closing the tab."
   ]
  }
 ],
 "metadata": {
  "kernelspec": {
   "display_name": "Python 3",
   "language": "python",
   "name": "python3"
  },
  "language_info": {
   "codemirror_mode": {
    "name": "ipython",
    "version": 3
   },
   "file_extension": ".py",
   "mimetype": "text/x-python",
   "name": "python",
   "nbconvert_exporter": "python",
   "pygments_lexer": "ipython3",
   "version": "3.8.8"
  },
  "varInspector": {
   "cols": {
    "lenName": 16,
    "lenType": 16,
    "lenVar": 40
   },
   "kernels_config": {
    "python": {
     "delete_cmd_postfix": "",
     "delete_cmd_prefix": "del ",
     "library": "var_list.py",
     "varRefreshCmd": "print(var_dic_list())"
    },
    "r": {
     "delete_cmd_postfix": ") ",
     "delete_cmd_prefix": "rm(",
     "library": "var_list.r",
     "varRefreshCmd": "cat(var_dic_list()) "
    }
   },
   "types_to_exclude": [
    "module",
    "function",
    "builtin_function_or_method",
    "instance",
    "_Feature"
   ],
   "window_display": false
  }
 },
 "nbformat": 4,
 "nbformat_minor": 4
}
