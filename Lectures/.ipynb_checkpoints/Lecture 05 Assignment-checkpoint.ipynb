{
 "cells": [
  {
   "cell_type": "markdown",
   "metadata": {
    "deletable": false,
    "editable": false,
    "run_control": {
     "frozen": true
    }
   },
   "source": [
    "# Lecture 5 Assignment\n",
    "# Python Lists and Tuples\n",
    "___"
   ]
  },
  {
   "cell_type": "markdown",
   "metadata": {
    "deletable": false,
    "editable": false,
    "run_control": {
     "frozen": true
    }
   },
   "source": [
    "## Purpose\n",
    "\n",
    "- Create lists\n",
    "- Create tuples\n",
    "- Access individual objects in lists and tuples\n",
    "- List and tuple slicing\n",
    "- Learn about list methods\n",
    "- Use select list methods\n"
   ]
  },
  {
   "cell_type": "markdown",
   "metadata": {
    "deletable": false,
    "editable": false,
    "run_control": {
     "frozen": true
    }
   },
   "source": [
    "**Create a list**\n",
    "\n",
    "Try it for yourself in the following code cell. Create a list of 10 items that has a mix of object types; including integers, floats, and strings."
   ]
  },
  {
   "cell_type": "code",
   "execution_count": null,
   "metadata": {},
   "outputs": [],
   "source": []
  },
  {
   "cell_type": "markdown",
   "metadata": {
    "deletable": false,
    "editable": false,
    "run_control": {
     "frozen": true
    }
   },
   "source": [
    "**Create a tuple**\n",
    "\n",
    "Try it for yourself in the following code cell. Create a tuple of 5 items that has a mix of object types; including integers, floats, and strings."
   ]
  },
  {
   "cell_type": "code",
   "execution_count": null,
   "metadata": {},
   "outputs": [],
   "source": []
  },
  {
   "cell_type": "markdown",
   "metadata": {
    "deletable": false,
    "editable": false,
    "run_control": {
     "frozen": true
    }
   },
   "source": [
    "**Use `range()`**\n",
    "\n",
    "- Print `range(8)`\n",
    "- Print `range(8)` after converting it to a list"
   ]
  },
  {
   "cell_type": "code",
   "execution_count": null,
   "metadata": {},
   "outputs": [],
   "source": []
  },
  {
   "cell_type": "code",
   "execution_count": null,
   "metadata": {},
   "outputs": [],
   "source": []
  },
  {
   "cell_type": "markdown",
   "metadata": {
    "deletable": false,
    "editable": false,
    "run_control": {
     "frozen": true
    }
   },
   "source": [
    "**Using `range()` and `list()` together**\n",
    "\n",
    "In the provided code cells use `range()` together with `list()` to create the following lists\n",
    "\n",
    "1. All integers from $0$ to $6$, including $6$\n",
    "1. All integers from $10$ to $3$ inclusive, starting with $10$ (think of the step size)\n",
    "1. Every third integer from $1$ to $21$, including $21$"
   ]
  },
  {
   "cell_type": "code",
   "execution_count": null,
   "metadata": {},
   "outputs": [],
   "source": [
    "# all integers from 0 to 6 inclusive\n"
   ]
  },
  {
   "cell_type": "code",
   "execution_count": null,
   "metadata": {},
   "outputs": [],
   "source": [
    "# all integers from 10 to 3 inclusive, starting with 10\n"
   ]
  },
  {
   "cell_type": "code",
   "execution_count": null,
   "metadata": {},
   "outputs": [],
   "source": [
    "# every third integer from 1 to 21, including 21\n"
   ]
  },
  {
   "cell_type": "markdown",
   "metadata": {
    "deletable": false,
    "editable": false,
    "run_control": {
     "frozen": true
    }
   },
   "source": [
    "**Some list functions**\n",
    "\n",
    "- In the first code cell manually create a numeric list called `number_list` that contains a mix of integers and floats and has more than 10 values\n",
    "- In the remaining cells use functions to find...\n",
    "    - the number of values in the list\n",
    "    - the sum of all the items in the list\n",
    "    - the maximum value in the list\n",
    "    - the minimum value in the list"
   ]
  },
  {
   "cell_type": "code",
   "execution_count": null,
   "metadata": {},
   "outputs": [],
   "source": [
    "# your list\n"
   ]
  },
  {
   "cell_type": "code",
   "execution_count": null,
   "metadata": {},
   "outputs": [],
   "source": [
    "# number of values in number_list\n"
   ]
  },
  {
   "cell_type": "code",
   "execution_count": null,
   "metadata": {},
   "outputs": [],
   "source": [
    "# sum of the values in number_list\n"
   ]
  },
  {
   "cell_type": "code",
   "execution_count": null,
   "metadata": {},
   "outputs": [],
   "source": [
    "# maximum value in number_list\n"
   ]
  },
  {
   "cell_type": "code",
   "execution_count": null,
   "metadata": {},
   "outputs": [],
   "source": [
    "# minimum value in number_list\n"
   ]
  },
  {
   "cell_type": "markdown",
   "metadata": {
    "deletable": false,
    "editable": false,
    "run_control": {
     "frozen": true
    }
   },
   "source": [
    "**List Indexing Guide**\n",
    "\n",
    "```\n",
    "| 0 | 1 | 2 | 3 | 4 | 5 | 6 | <-- Indexing from the left; my_list[3] = 5\n",
    "|===|===|===|===|===|===|===|\n",
    "| 8 | 6 | 7 | 5 | 3 | 0 | 9 | <-- my_list\n",
    "|===|===|===|===|===|===|===|\n",
    "|-7 |-6 |-5 |-4 |-3 |-2 |-1 | <-- Indexing from the right; my_list[-3] = 3\n",
    "```"
   ]
  },
  {
   "cell_type": "markdown",
   "metadata": {
    "deletable": false,
    "editable": false,
    "run_control": {
     "frozen": true
    }
   },
   "source": [
    "**List Slicing Guide** \n",
    "\n",
    "```\n",
    " 0   1   2   3   4   5   6   7 <-- Slicing from the left; my_list[1:4] = [6, 7, 5]\n",
    " |===|===|===|===|===|===|===|\n",
    " | 8 | 6 | 7 | 5 | 3 | 0 | 9 | <-- my_list\n",
    " |===|===|===|===|===|===|===|\n",
    "-7  -6  -5  -4  -3  -2  -1   | <-- Slicing from the right with positive step; my_list[-5:-2] = [7, 5, 3]\n",
    " |   |   |   |   |   |   |   |\n",
    "-8  -7  -6  -5  -4  -3  -2  -1 <-- Slicing from the right with negative step; my_list[-3:-7:-1] = [3, 5, 7, 6]\n",
    "```"
   ]
  },
  {
   "cell_type": "markdown",
   "metadata": {
    "deletable": false,
    "editable": false,
    "run_control": {
     "frozen": true
    }
   },
   "source": [
    "**Use string indexing**\n",
    "\n",
    "Use string indexing to access each of the following items your `number_list`\n",
    "\n",
    "1. value in the 9th index position (the 10th value when counting starting with 1)\n",
    "1. Second to last value using negative indexing\n",
    "1. 3rd to 7th indexes\n",
    "1. Last 4 values\n",
    "1. Every other value\n",
    "1. All of the values without using any numbers in your slice"
   ]
  },
  {
   "cell_type": "code",
   "execution_count": null,
   "metadata": {},
   "outputs": [],
   "source": [
    "# 9th index (10th value)\n"
   ]
  },
  {
   "cell_type": "code",
   "execution_count": null,
   "metadata": {},
   "outputs": [],
   "source": [
    "# second to last value using negative indexing\n"
   ]
  },
  {
   "cell_type": "code",
   "execution_count": null,
   "metadata": {},
   "outputs": [],
   "source": [
    "# 3rd to 7th indexes\n"
   ]
  },
  {
   "cell_type": "code",
   "execution_count": null,
   "metadata": {},
   "outputs": [],
   "source": [
    "# last 4 values\n"
   ]
  },
  {
   "cell_type": "code",
   "execution_count": null,
   "metadata": {},
   "outputs": [],
   "source": [
    "# every other\n"
   ]
  },
  {
   "cell_type": "code",
   "execution_count": null,
   "metadata": {},
   "outputs": [],
   "source": [
    "# all values without any numbers in the slice\n"
   ]
  },
  {
   "cell_type": "markdown",
   "metadata": {
    "deletable": false,
    "editable": false,
    "run_control": {
     "frozen": true
    }
   },
   "source": [
    "**Modify a list**\n",
    "\n",
    "- Change the 7th index of your `number_list` to $42$\n",
    "- Replace the last $3$ values by slicing from the right with `[8, 6, 7]`"
   ]
  },
  {
   "cell_type": "code",
   "execution_count": null,
   "metadata": {},
   "outputs": [],
   "source": [
    "# 7th index value to 42\n"
   ]
  },
  {
   "cell_type": "code",
   "execution_count": null,
   "metadata": {},
   "outputs": [],
   "source": [
    "# last 3 values with [8, 6, 7] by slicing from the right\n"
   ]
  },
  {
   "cell_type": "markdown",
   "metadata": {
    "deletable": false,
    "editable": false,
    "run_control": {
     "frozen": true
    }
   },
   "source": [
    "**Print list methods**\n",
    "\n",
    "- Execute the expression `print(dir(list))` in the following cell."
   ]
  },
  {
   "cell_type": "code",
   "execution_count": null,
   "metadata": {},
   "outputs": [],
   "source": []
  },
  {
   "cell_type": "markdown",
   "metadata": {
    "deletable": false,
    "editable": false,
    "run_control": {
     "frozen": true
    }
   },
   "source": [
    "**Use methods for modifying lists**\n",
    "\n",
    "1. In the first provided code cell create your own list named `listy_list` that consists of at least 10 numeric objects. \n",
    "2. Use each of the following list modification methods (in the order given) on your list. After using each method, print the list (this code is already provided) in the same cell to see what it looks like after the modification.\n",
    "\n",
    "  - `.append()` with the value 1000\n",
    "  - `.extend()` with the list `[98, 99, 100]`\n",
    "  - `.insert()` 42 in the 5th index position\n",
    "  - `.pop()` the last value\n",
    "  - `.remove()` 1000 from the list\n",
    "  - `.clear()`"
   ]
  },
  {
   "cell_type": "code",
   "execution_count": null,
   "metadata": {},
   "outputs": [],
   "source": [
    "listy_list =[]"
   ]
  },
  {
   "cell_type": "code",
   "execution_count": null,
   "metadata": {},
   "outputs": [],
   "source": [
    "# append with the value 1000\n",
    "\n",
    "print(listy_list)"
   ]
  },
  {
   "cell_type": "code",
   "execution_count": null,
   "metadata": {},
   "outputs": [],
   "source": [
    "# extend with the list [98, 99, 100]\n",
    "\n",
    "print(listy_list)"
   ]
  },
  {
   "cell_type": "code",
   "execution_count": null,
   "metadata": {},
   "outputs": [],
   "source": [
    "# insert 42 in the 5th index position\n",
    "\n",
    "print(listy_list)"
   ]
  },
  {
   "cell_type": "code",
   "execution_count": null,
   "metadata": {},
   "outputs": [],
   "source": [
    "# pop the last value\n",
    "\n",
    "print(listy_list)"
   ]
  },
  {
   "cell_type": "code",
   "execution_count": null,
   "metadata": {},
   "outputs": [],
   "source": [
    "# remove 1000 from the list\n",
    "\n",
    "print(listy_list)"
   ]
  },
  {
   "cell_type": "code",
   "execution_count": null,
   "metadata": {},
   "outputs": [],
   "source": [
    "# clear\n",
    "\n",
    "print(listy_list)"
   ]
  },
  {
   "cell_type": "markdown",
   "metadata": {
    "deletable": false,
    "editable": false,
    "run_control": {
     "frozen": true
    }
   },
   "source": [
    "**Use list methods for searching, counting, and sorting**\n",
    "\n",
    "Using your `number_list` perform the following tasks and print the list (code provided) after each step\n",
    "\n",
    "1. Find the location of `42`\n",
    "1. Count the number of times `8` appears\n",
    "1. Check to see if `12` is in your list using the `in` statement\n",
    "1. Reverse the order of the list\n",
    "1. Sort the list in ascending order"
   ]
  },
  {
   "cell_type": "code",
   "execution_count": null,
   "metadata": {},
   "outputs": [],
   "source": [
    "# where is 42\n",
    "\n",
    "print(number_list)"
   ]
  },
  {
   "cell_type": "code",
   "execution_count": null,
   "metadata": {},
   "outputs": [],
   "source": [
    "# how many 8s\n",
    "\n",
    "print(number_list)"
   ]
  },
  {
   "cell_type": "code",
   "execution_count": null,
   "metadata": {},
   "outputs": [],
   "source": [
    "# is 12 in the list\n",
    "\n",
    "print(number_list)"
   ]
  },
  {
   "cell_type": "code",
   "execution_count": null,
   "metadata": {},
   "outputs": [],
   "source": [
    "# reverse the list order\n",
    "\n",
    "print(number_list)"
   ]
  },
  {
   "cell_type": "code",
   "execution_count": null,
   "metadata": {},
   "outputs": [],
   "source": [
    "# sort the list in ascending order\n",
    "\n",
    "print(number_list)"
   ]
  },
  {
   "cell_type": "code",
   "execution_count": null,
   "metadata": {},
   "outputs": [],
   "source": [
    "from tabulate import tabulate"
   ]
  },
  {
   "cell_type": "markdown",
   "metadata": {
    "deletable": false,
    "editable": false,
    "run_control": {
     "frozen": true
    }
   },
   "source": [
    "**Print some lists as a table**\n",
    "\n",
    "Create two lists named `list_a` and `list_b`. Use the `range()` function to create `list_a` with the values `0, 10, 20, 30, 40, 50, 60, 70, 80, 90, 100`. Fill `list_b` with ten random integers between 0 and 100 (refer to the following example).\n",
    "\n",
    "```python\n",
    "import random\n",
    "random.sample(range(101),10)\n",
    "```\n",
    "\n",
    "Zip together the two lists and create a fancy table with the headings `tens` and `random`. Center the numbers in the table."
   ]
  },
  {
   "cell_type": "code",
   "execution_count": null,
   "metadata": {},
   "outputs": [],
   "source": [
    "import random"
   ]
  },
  {
   "cell_type": "code",
   "execution_count": null,
   "metadata": {},
   "outputs": [],
   "source": [
    "# use range(), 0 to 100 (inclusive) in steps of 10\n",
    "list_a = "
   ]
  },
  {
   "cell_type": "code",
   "execution_count": null,
   "metadata": {},
   "outputs": [],
   "source": [
    "# use random.sample() like shown above\n",
    "list_b = "
   ]
  },
  {
   "cell_type": "code",
   "execution_count": null,
   "metadata": {},
   "outputs": [],
   "source": [
    "# zip together lists\n"
   ]
  },
  {
   "cell_type": "code",
   "execution_count": null,
   "metadata": {},
   "outputs": [],
   "source": [
    "# create a list of headers\n"
   ]
  },
  {
   "cell_type": "code",
   "execution_count": null,
   "metadata": {},
   "outputs": [],
   "source": [
    "# print the table\n"
   ]
  },
  {
   "cell_type": "markdown",
   "metadata": {
    "deletable": false,
    "editable": false,
    "run_control": {
     "frozen": true
    }
   },
   "source": [
    "**Using `.split()` and `.join()`**\n",
    "\n",
    "After completing each task, `print()` or display the result\n",
    " \n",
    "- Assign the string `My name is Brian` to a variable called `name` in the first cell below this one and execute the cell.\n",
    "- In the next cell, use the `.split()` method without any arguments on `name` and assign the result to `name_list`.\n",
    "- Then replace the last item in `name_list` with your first name.\n",
    "- Finally, use the `.join()` method as shown below to make the list a single string again and assign it back to `name`.\n",
    "\n",
    "```python\n",
    "    name = \" \".join(name_list)\n",
    "```"
   ]
  },
  {
   "cell_type": "code",
   "execution_count": null,
   "metadata": {},
   "outputs": [],
   "source": []
  },
  {
   "cell_type": "code",
   "execution_count": null,
   "metadata": {},
   "outputs": [],
   "source": []
  },
  {
   "cell_type": "code",
   "execution_count": null,
   "metadata": {},
   "outputs": [],
   "source": []
  },
  {
   "cell_type": "code",
   "execution_count": null,
   "metadata": {},
   "outputs": [],
   "source": []
  },
  {
   "cell_type": "markdown",
   "metadata": {
    "deletable": false,
    "editable": false
   },
   "source": [
    "**Wrap it up**\n",
    "\n",
    "Click on the **Save** button and then the **Close and halt** button when you are done before closing the tab."
   ]
  }
 ],
 "metadata": {
  "kernelspec": {
   "display_name": "Python 3",
   "language": "python",
   "name": "python3"
  },
  "language_info": {
   "codemirror_mode": {
    "name": "ipython",
    "version": 3
   },
   "file_extension": ".py",
   "mimetype": "text/x-python",
   "name": "python",
   "nbconvert_exporter": "python",
   "pygments_lexer": "ipython3",
   "version": "3.8.8"
  },
  "varInspector": {
   "cols": {
    "lenName": 16,
    "lenType": 16,
    "lenVar": 40
   },
   "kernels_config": {
    "python": {
     "delete_cmd_postfix": "",
     "delete_cmd_prefix": "del ",
     "library": "var_list.py",
     "varRefreshCmd": "print(var_dic_list())"
    },
    "r": {
     "delete_cmd_postfix": ") ",
     "delete_cmd_prefix": "rm(",
     "library": "var_list.r",
     "varRefreshCmd": "cat(var_dic_list()) "
    }
   },
   "types_to_exclude": [
    "module",
    "function",
    "builtin_function_or_method",
    "instance",
    "_Feature"
   ],
   "window_display": false
  }
 },
 "nbformat": 4,
 "nbformat_minor": 4
}
