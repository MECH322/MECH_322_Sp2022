{
 "cells": [
  {
   "cell_type": "markdown",
   "metadata": {
    "deletable": false,
    "editable": false,
    "run_control": {
     "frozen": true
    }
   },
   "source": [
    "# Lecture 12 - *NumPy* Matrix Operations\n",
    "___"
   ]
  },
  {
   "cell_type": "markdown",
   "metadata": {
    "deletable": false,
    "editable": false,
    "run_control": {
     "frozen": true
    }
   },
   "source": [
    "## Purpose:\n",
    "\n",
    "- A previous notebook introduced a number of mathematical operations for arrays (one and two-dimensional)\n",
    "- The focus was on operations performed with arrays and scalars and element-by-element operations\n",
    "- This notebook will concentrate on *NumPy* array and matrix operations\n",
    "  - Used to solve systems of simultaneous equations\n",
    "  - Other special array operations\n"
   ]
  },
  {
   "cell_type": "markdown",
   "metadata": {
    "deletable": false,
    "editable": false,
    "run_control": {
     "frozen": true
    }
   },
   "source": [
    "## Background:\n",
    "\n",
    "- The standard multiplication operator `*` performs element-by-element multiplication with *NumPy* arrays\n",
    "- Matrix multiplication requires a specific function and array sizing\n",
    "  - The *NumPy* function that we will initially use for this task is `np.dot()`\n",
    "  - Matrix multiplication requires the sizes of the arrays to match in a very specific way\n",
    "    - The number of columns in the first array must be equal to the number of rows in the second\n",
    "- The resulting array will have the same number of rows as the first array and the same number of columns as the second\n",
    "- For example, assume array `A` is $4\\times3$ in size and array `B` is $3\\times2$ array\n",
    "  - These arrays cannot be multiplied by using the element by element multiplication operations `A*B` or `B*A`\n",
    "  - They can me multiplied using matrix multiplication with the expression `np.dot(A, B)` but not with `np.dot(B, A)`\n",
    "  - The number of columns in `A` matches the number of rows in `B`\n",
    "  - But the number of columns in `B` does not match the number of rows in `A`\n",
    "  - The matrix multiplication `np.dot(A, B)` will yield a $4\\times2$ matrix\n",
    "  - This matrix multiplication is carried symbolically out in the example below"
   ]
  },
  {
   "cell_type": "markdown",
   "metadata": {
    "deletable": false,
    "editable": false
   },
   "source": [
    "$A_{(3\\times3)}=\n",
    "\\left[ \\begin{array}{ccc}\n",
    "A_{11} & A_{12} & A_{13}\\\\\n",
    "A_{21} & A_{22} & A_{23}\\\\\n",
    "A_{31} & A_{32} & A_{33}\\end{array} \\right]$\n",
    "\n",
    "$B_{(3\\times2)}=\n",
    "\\left[ \\begin{array}{ccc}\n",
    "B_{11} & B_{12}\\\\\n",
    "B_{21} & B_{22}\\\\\n",
    "B_{31} & B_{32}\\end{array} \\right]$\n",
    "\n",
    "$A_{(3\\times3)}\\times B_{(3\\times2)}=R_{(3\\times2)}=\n",
    "\\left[ \\begin{array}{cc}\n",
    "\\left( A_{11}B_{11} + A_{12}B_{21} + A_{13}B_{31} \\right) & \\left( A_{11}B_{12} + A_{12}B_{22} + A_{13}B_{32} \\right)\\\\\n",
    "\\left( A_{21}B_{11} + A_{22}B_{21} + A_{23}B_{31} \\right) & \\left( A_{21}B_{12} + A_{22}B_{22} + A_{23}B_{32} \\right)\\\\\n",
    "\\left( A_{31}B_{11} + A_{32}B_{21} + A_{33}B_{31} \\right) & \\left( A_{31}B_{12} + A_{32}B_{22} + A_{33}B_{32} \\right)\\end{array} \\right]$\n",
    "\n"
   ]
  },
  {
   "cell_type": "markdown",
   "metadata": {
    "deletable": false,
    "editable": false,
    "run_control": {
     "frozen": true
    }
   },
   "source": [
    "## Matrix Multiplication Using `np.dot()`\n",
    "\n",
    "- The `*` operator performs standard element-by-element multiplication\n",
    "- If both arrays are the same size, corresponding elements in the two arrays are simply multiplied together\n",
    "- This cannot be used to solve simultaneous equations...\n",
    "  - That requires use of matrix multiplication\n",
    "  - Which is implemented by the `np.dot()` function\n",
    "- Arrays need to be the same size to use `np.dot()`\n",
    "- Order matters when using `np.dot()`, i.e. `np.dot(a, b)` is different than `np.dot(b, a)`\n",
    "- Starting with *Python 3.5*, *NumPy* allows matrix multiplication using the `@` operator as well as the `np.dot()` function\n",
    "- For example, `A@B` is the same is `np.dot(A, B)`\n",
    "- `np.dot()` (or the `@` operator) can work with a pair of one-dimensional arrays of the same size"
   ]
  },
  {
   "cell_type": "markdown",
   "metadata": {
    "deletable": false,
    "editable": false,
    "run_control": {
     "frozen": true
    }
   },
   "source": [
    "## A Little Linear Algebra:\n",
    "\n",
    "- Systems of linear equations can be expressed in matrix form and solved using the *NumPy* and *SciPy* modules\n",
    "- Such equations are used in Statics for equilibrium problems\n",
    "- Given the following generic set of equations with unknowns $x_1$, $x_2$, and $x_3$ (could be any three variables, such as $F_{AB}$, $F_{AC}$, and $F_{BC}$)\n",
    "\n",
    "$A_{11}x_1 + A_{12}x_2 + A_{13}x_3 = B_1 \\\\\n",
    " A_{21}x_1 + A_{22}x_2 + A_{23}x_3 = B_2 \\\\\n",
    " A_{31}x_1 + A_{32}x_2 + A_{33}x_3 = B_3 $\n",
    "\n",
    "- These equations can be rewritten in the form $[A][x]=[B]$ as shown below:\n",
    "\n",
    "$\\left[ \\begin{array}{ccc}\n",
    "A_{11} & A_{12} & A_{13}\\\\\n",
    "A_{21} & A_{22} & A_{23}\\\\\n",
    "A_{31} & A_{32} & A_{33}\\end{array} \\right]\n",
    "\\left[ \\begin{array}{c}\n",
    "x_1\\\\\n",
    "x_2\\\\\n",
    "x_3\\end{array} \\right]=\n",
    "\\left[ \\begin{array}{c}\n",
    "B_1\\\\\n",
    "B_2\\\\\n",
    "B_3\\end{array} \\right]$\n",
    "\n",
    "- Solve for $[x]$ (the unknowns) by multiplying both sides of the equation by the inverse of $[A]$.\n",
    "- If this were a standard algebraic equation like $Ax=B$ instead of a matrix equation...\n",
    "  - We could multiply both sides by $A^{-1}$\n",
    "  - Or multiply by $1/A$\n",
    "  - Or divide by $A$\n",
    "  - Ending up with $x=A^{-1}B=B\\,/A$\n",
    "  - Below is the matrix form\n",
    "\n",
    "$[A]^{-1}[A][x]=[A]^{-1}[B]\\\\\n",
    "\\text{where }[A]^{-1}[A][x]=[I][x]=[x]\\\\\n",
    "\\therefore [x]=[A]^{-1}[B]$\n",
    "\n",
    "- Matrix $[A]$ is generally referred to as the coefficient or left-hand side matrix\n",
    "- $[B]$ is the right-hand side matrix\n",
    "- Solving requires multiplying the inverse of the coefficient matrix $[A]^{-1}$ by the right-hand side matrix $[B]$\n",
    "  - Must use matrix multiplication\n",
    "  - The order of this muliplication is important\n",
    "  - A solution can only be obtained if the coefficient matrix is invertible (i.e. no divide by zero)\n",
    "  - Only invertible if the determinant of the coefficient matrix is a non-zero value."
   ]
  },
  {
   "cell_type": "markdown",
   "metadata": {
    "deletable": false,
    "editable": false,
    "run_control": {
     "frozen": true
    }
   },
   "source": [
    "## Inverses, Identity Matrix, and Determinants\n",
    "\n",
    "- *NumPy* provides a group of functions in `numpy.linalg` (linear algebra) to make the matrix operations easier\n",
    "- Import this specific module and give it a shorthand alias in order to access its commands\n",
    "- Using the following will allow you to access commands in the module with syntax like `la.inv(F)`\n",
    "\n",
    "  `from numpy import linalg as la`\n",
    "  \n",
    "  <br/>  \n",
    "\n",
    "- Inside the `numpy.linalg` module there are commands for...\n",
    "  - Inverting arrays, `la.inv()`\n",
    "  - Finding determinants, `la.det()`\n",
    "    - Only square arrays can be inverted\n",
    "    - You can only find the determinant of a square array"
   ]
  },
  {
   "cell_type": "markdown",
   "metadata": {
    "deletable": false,
    "editable": false,
    "run_control": {
     "frozen": true
    }
   },
   "source": [
    "## Solving the Equations\n",
    "\n",
    "- We can solve for the unknown array $[x]$ by matrix muliplying the inverse of the coefficient array by the right hand side array\n",
    "- Generally the right hand side array needs to be vertical (i.e. $3\\times 1$) not horizontal (i.e. $1\\times 3$)\n",
    "- *NumPy* is usually smart enough to perform the required operations without caring about the orientation of the RHS array\n",
    "  - The results will be the same\n",
    "  - They will be presented in a different shaped array\n",
    "- Try using *NumPy* functions to solve the following\n"
   ]
  },
  {
   "cell_type": "markdown",
   "metadata": {
    "deletable": false,
    "editable": false,
    "run_control": {
     "frozen": true
    }
   },
   "source": [
    "- *NumPy* provides for a more efficient method within the linear algebra module to solve sets of equations\n",
    "- The magical function `la.solve()`\n",
    "- This function takes two arguments\n",
    "  - The first is the LHS array\n",
    "  - The second is the RHS array\n",
    "\n"
   ]
  },
  {
   "cell_type": "markdown",
   "metadata": {
    "deletable": false,
    "editable": false,
    "run_control": {
     "frozen": true
    }
   },
   "source": [
    "## Other Array Functions\n",
    "\n",
    "- The `np.dot()` function and the `@` operator both perform matrix multiplication on arrays\n",
    "- `np.dot` and `@` can also perform the **dot product** on a pair of vectors\n",
    "- *NumPy* also includes the `np.vdot()` function for the same purpose\n",
    "  - It handles complex numbers better\n",
    "- Another special array operation is the **cross product**\n",
    "  - *NumPy* uses `np.cross()` to take the cross product of two vectors (1D arrays)\n",
    "  - The order that the vectors are specified in `np.cross()` will change the results\n",
    "- Following are the mathematical definitions of the dot product and the cross product of two vectors\n",
    "- The vertical lines around the 2D array for the cross product represents the determinant of the array\n",
    "- The *dot product* results in a scalar value (a single number)\n",
    "- The *cross product* results in a vector (array)\n",
    "\n",
    "\n",
    "$\\begin{align*}\n",
    "   &\\textbf{u}=\\left[ \\begin{array}{ccc} u_x & u_y & u_z \\end{array}\\right] \\hspace{15mm}\n",
    "\\textbf{v}=\\left[ \\begin{array}{ccc} v_x & v_y & v_z \\end{array}\\right] \\\\[0.15cm]\n",
    "   &\\text{Dot Product: }\\textbf{u}\\cdot\\textbf{v}=u_xv_x + u_yv_y + u_zv_z \\\\[0.1cm]\\\\\n",
    "   &\\text{Cross Product: }\\textbf{u}\\times\\textbf{v}=\\left| \\begin{array}{ccc}\n",
    "\\textbf{i} & \\textbf{j} & \\textbf{k}\\\\\n",
    "u_x & u_y & u_z\\\\\n",
    "v_x & v_y & v_z \\end{array}\\right|\n",
    "=(u_yv_z-u_zv_y)\\textbf{i} - (u_xv_z-u_zv_x)\\textbf{j} + (u_xv_y-u_yv_x)\\textbf{k}\n",
    "\\end{align*}$\n",
    "\n",
    "\n"
   ]
  },
  {
   "cell_type": "markdown",
   "metadata": {
    "deletable": false,
    "editable": false,
    "run_control": {
     "frozen": true
    }
   },
   "source": [
    "**Wrap it up**\n",
    "\n",
    "Click on the **Save** button and then the **Close and halt** button when you are done before closing the tab."
   ]
  }
 ],
 "metadata": {
  "kernelspec": {
   "display_name": "Python 3",
   "language": "python",
   "name": "python3"
  },
  "language_info": {
   "codemirror_mode": {
    "name": "ipython",
    "version": 3
   },
   "file_extension": ".py",
   "mimetype": "text/x-python",
   "name": "python",
   "nbconvert_exporter": "python",
   "pygments_lexer": "ipython3",
   "version": "3.8.8"
  },
  "varInspector": {
   "cols": {
    "lenName": 16,
    "lenType": 16,
    "lenVar": 40
   },
   "kernels_config": {
    "python": {
     "delete_cmd_postfix": "",
     "delete_cmd_prefix": "del ",
     "library": "var_list.py",
     "varRefreshCmd": "print(var_dic_list())"
    },
    "r": {
     "delete_cmd_postfix": ") ",
     "delete_cmd_prefix": "rm(",
     "library": "var_list.r",
     "varRefreshCmd": "cat(var_dic_list()) "
    }
   },
   "types_to_exclude": [
    "module",
    "function",
    "builtin_function_or_method",
    "instance",
    "_Feature"
   ],
   "window_display": false
  }
 },
 "nbformat": 4,
 "nbformat_minor": 4
}
