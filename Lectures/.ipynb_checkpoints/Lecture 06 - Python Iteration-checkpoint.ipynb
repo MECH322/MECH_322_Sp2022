{
 "cells": [
  {
   "cell_type": "markdown",
   "metadata": {
    "deletable": false,
    "editable": false,
    "run_control": {
     "frozen": true
    }
   },
   "source": [
    "# Lecture 6 - Python Iteration\n",
    "___"
   ]
  },
  {
   "cell_type": "markdown",
   "metadata": {
    "deletable": false,
    "editable": false,
    "run_control": {
     "frozen": true
    }
   },
   "source": [
    "## Purpose\n",
    "\n",
    "- Create `for` loops for definite iteration\n",
    "- Create `while` loops for indefinite iteration\n",
    "- Create lists of values using **list comprehension**"
   ]
  },
  {
   "cell_type": "markdown",
   "metadata": {
    "deletable": false,
    "editable": false,
    "run_control": {
     "frozen": true
    }
   },
   "source": [
    "## Some Creative Commons Reference Sources for This Material\n",
    "\n",
    "- *Think Python 2nd Edition*, Allen Downey, chapter 7\n",
    "- *The Coder's Apprentice*, Pieter Spronck, chapter 7\n",
    "- *A Practical Introduction to Python Programming*, Brian Heinold, chapters 2 and 9\n",
    "- *Algorithmic Problem Solving with Python*, John Schneider, Shira Broschat, and Jess Dahmen, chapters 6 and 7"
   ]
  },
  {
   "cell_type": "markdown",
   "metadata": {
    "deletable": false,
    "editable": false,
    "run_control": {
     "frozen": true
    }
   },
   "source": [
    "## What is Iteration?\n",
    "\n",
    "- Iteration is the repetition of a segment of code a number of times\n",
    "- Definite iteration = the number of iterations is known ahead of time \n",
    "- Indefinite iteration = the number of iterations is not know ahead of time\n",
    "- Typically...\n",
    "  - Definite iteration will use `for` statements\n",
    "  - Indefinite iteration will use `while` statements\n",
    "- Each pass (or iteration) through the code is often called a **loop**\n",
    "- The act of iterating is called **looping**"
   ]
  },
  {
   "cell_type": "markdown",
   "metadata": {
    "deletable": false,
    "editable": false,
    "run_control": {
     "frozen": true
    }
   },
   "source": [
    "## Iterating with `for` Loops\n",
    "\n",
    "- A `for` loop is a group of commands that is repeated a predetermined number of times\n",
    "- Requires the use of a sequence or iterator\n",
    "  - Strings\n",
    "  - Lists\n",
    "  - Tuples\n",
    "  - Ranges\n",
    "  - Zip objects\n",
    "- The following example illustrates the general format of a `for` statement\n",
    "\n",
    "  ```python\n",
    "  for var_name in sequence:\n",
    "      # commands to perform each time through the loop\n",
    "      continue\n",
    "  ```\n",
    "\n",
    "</br>\n",
    "\n",
    "- The first line (the header)\n",
    "  - Must start with the `for` command\n",
    "  - Followed by one or more iteration variables\n",
    "  - The next object must be a sequence or iterator\n",
    "  - Line ends with a colon\n",
    "- The first line's indentation must match the indentation level of the expression before it\n",
    "- Remaining lines (the body)\n",
    "  - Code to be executed each time through the loop\n",
    "  - Must be indented 4 spaces relative to the first line\n",
    "  - Must contain at least one command\n",
    "  - The `continue` command is a good place holder when initially writing a loop\n",
    "- The first time through the loop...\n",
    "  - Iteration variable is assigned the value of the first item in the sequence or iterable\n",
    "  - Indented lines are then executed using this value\n",
    "- Repeated until the sequence or iterator is exhausted"
   ]
  },
  {
   "attachments": {},
   "cell_type": "markdown",
   "metadata": {},
   "source": [
    "![for_loop_diagram.png](for_loop_diagram.png)"
   ]
  },
  {
   "cell_type": "markdown",
   "metadata": {
    "deletable": false,
    "editable": false,
    "run_control": {
     "frozen": true
    }
   },
   "source": [
    "## Creating Lists Using `for` Loops\n",
    "\n",
    "- Fill lists with calculated values using the values in a list or iterator (i.e. a range)\n",
    "- For example, you might need two lists for making an $x,y$-plot (graph)\n",
    "  - One list for the independent variable $x$ \n",
    "  - Another for the dependent variable $y$\n",
    "  - Where $y$ is calculated using the values in $x$\n",
    "- The following example...\n",
    "  - Uses the iteration variable `x` for a range of values\n",
    "  - Calculate $x^2$ for each\n",
    "  - Appends the calculated value to an empty list named `y`\n",
    "  - Need to create the empty list before starting the `for` loop"
   ]
  },
  {
   "cell_type": "markdown",
   "metadata": {
    "deletable": false,
    "editable": false,
    "run_control": {
     "frozen": true
    }
   },
   "source": [
    "## Using Existing Lists in `for` Loops\n",
    "\n",
    "- You can use values from an existing list in a `for` loop\n",
    "- Just use the list name for the sequence in the `for` statement\n",
    "- Can use values from multiple lists in a loop if each are the same size\n",
    "- Three techniques for using values from multiple lists in a loop\n",
    "  1. Indexing each list\n",
    "    - Use a range in the `for` statement\n",
    "    - Range argument must match the number of items in each list\n",
    "    - Inside the loop use the iteration variable as an index when accesses values from lists\n",
    "    - For example, if iteration variable is `n`, use `list1[n]` and `list2[n]` in the loop\n",
    "  2. Using `enumerate()` and indexing together\n",
    "    - Use something like `for n, value in enumerate(my_list):`\n",
    "    - `n` is the index position and `value` is the value from `my_list`\n",
    "    - Use the the index variable to access values from other lists\n",
    "  3. Using `zip()`\n",
    "    - A more *Pythonic* approach\n",
    "    - Zip multiple lists in the `for` statement\n",
    "    - For example, `for x, y, z in zip(list_x, list_y, list_z):`\n",
    "    - Use the iteration variables directly without needing to use indexing in the loop\n",
    "  4. Use a list comprehension (covered later)"
   ]
  },
  {
   "cell_type": "markdown",
   "metadata": {
    "deletable": false,
    "editable": false,
    "run_control": {
     "frozen": true
    }
   },
   "source": [
    "## Nested `for` Loops\n",
    "\n",
    "- Loops placed inside of other loops is referred to as nesting\n",
    "- The outer loop is started using its first iteration value\n",
    "- Then the inner loop iterated completely though its sequence or iterable with the outer loop's variable\n",
    "- When the inner loop finishes, the outer loop's iteration variable is assigned the next value\n",
    "- The inner loop again runs completely\n",
    "- The process continues until the outer loop's sequence or iterable is exhausted\n",
    "- All inner loop code must be indented relative to the outer loop by 4 spaces\n",
    "- Nesting can be any practical depth\n"
   ]
  },
  {
   "cell_type": "markdown",
   "metadata": {
    "deletable": false,
    "editable": false,
    "run_control": {
     "frozen": true
    }
   },
   "source": [
    "## Iterating Over Strings\n",
    "\n",
    "- Strings are sequences of characters that can to be used at iteration sequences\n",
    "- Easy to iterate through a string one character at a time\n"
   ]
  },
  {
   "cell_type": "code",
   "execution_count": null,
   "metadata": {},
   "outputs": [],
   "source": [
    "name = \"Brian\"\n",
    "for letter in name:\n",
    "    print(letter.upper())"
   ]
  },
  {
   "cell_type": "markdown",
   "metadata": {
    "deletable": false,
    "editable": false
   },
   "source": [
    "[Python Tutor visualization of the above code](http://pythontutor.com/live.html#code=name%20%3D%20%22Brian%22%0Afor%20letter%20in%20name%3A%0A%20%20%20%20print%28letter.upper%28%29%29&cumulative=false&curInstr=0&heapPrimitives=nevernest&mode=display&origin=opt-live.js&py=3&rawInputLstJSON=%5B%5D&textReferences=false)"
   ]
  },
  {
   "cell_type": "markdown",
   "metadata": {
    "deletable": false,
    "editable": false,
    "run_control": {
     "frozen": true
    }
   },
   "source": [
    "## List Comprehension; A Very *Pythonic* Technique\n",
    "\n",
    "- *Python* includes a technique referred to as **list comprehension**\n",
    "- Considered to be a *Pythonic* technique\n",
    "- Combines list creation, an expression, and a `for` statement into one command\n",
    "- Must be placed in square brackets (not parentheses)\n",
    "- Can include an optional `if` statement\n",
    "- The iteration variable is local to the list comprehension\n",
    "- This is a good method to calculate values for plotting (in another lecture)\n",
    "- `y = [10*x for x in range(1, 6)]` yields the list `[10, 20, 30, 40. 50]`\n",
    "- List comprehensions can be nested\n",
    "- Below is the construction of a list comprehension with an `if` statement\n",
    "\n",
    "    ```python\n",
    "    var = [<expression using var> for <var> in <sequence> if <conditional statement using var>]\n",
    "    ```\n",
    "\n"
   ]
  },
  {
   "cell_type": "markdown",
   "metadata": {
    "deletable": false,
    "editable": false,
    "run_control": {
     "frozen": true
    }
   },
   "source": [
    "## Getting Ready for `while` Loops: Incrementing Variables\n",
    "\n",
    "- `for` loops do not require incrementing (or decrementing) the iteration variable\n",
    "- `while` loops almost always require incrementing (or decrementing) a variable\n",
    "- Incrementing means changing the value of a variable and assigning the new value to the original name\n",
    "- A common method is `x = x + 1`\n",
    "  - Mathematically this makes no sense, but programatically it does\n",
    "  - The equal sign is not equality, it is an assignment operator\n",
    "  - The expression states $1$ is added to the current value of `x` assigned back to `x`\n",
    "  - The right side of the equal sign is completely evaluated before the assignment takes place\n",
    "- Variables can also be \"incremented\" by using...\n",
    "  - Subtraction (also known as decrementing)\n",
    "  - Multiplication\n",
    "  - Division\n",
    "  - Exponentiation\n",
    "- A more *Pythonic* way to increment is to use one of the shortcuts below\n",
    "\n",
    "| Traditional <br>Expression | Shortcut <br>Expression | Starting `x` | Ending `x`|\n",
    "|:-----------:|:--------:|:---:|:---:|\n",
    "| `x = x + 1`  |  `x += 1`|3|4|\n",
    "| `x = x - 1`  |  `x -= 1`|4|3|\n",
    "| `x = x * 2`  |  `x *= 2`|3|6|\n",
    "| `x = x / 2`  |  `x /= 2`|6|3|\n",
    "| `x = x**2`  |  `x **= 2`|3|9|\n"
   ]
  },
  {
   "cell_type": "markdown",
   "metadata": {
    "deletable": false,
    "editable": false,
    "run_control": {
     "frozen": true
    }
   },
   "source": [
    "## `while` Loops\n",
    "\n",
    "- First line (header)\n",
    "  - Starts with `while`\n",
    "  - Requires a conditional statement after `while`\n",
    "  - End with a colon\n",
    "- Other lines (body)\n",
    "  - Indented by 4 spaces relative to the first line\n",
    "  - Runs body code as long as the conditional statement is `True`\n",
    "- Will keep looping until... \n",
    "  - The conditional statement becomes `False`\n",
    "  - A `break` command is executed\n",
    "- A variable in usually incremented inside the loop eventually causing the conditional to be `False`\n",
    "- Incrementing is usually done in the last line of the body\n",
    "- The variable used in the conditional needs to be set to a value before the loop starts\n"
   ]
  },
  {
   "cell_type": "markdown",
   "metadata": {
    "deletable": false,
    "editable": false
   },
   "source": [
    "\n",
    "![while%20loop%20diagram.png](while%20loop%20diagram.png)\n"
   ]
  },
  {
   "cell_type": "markdown",
   "metadata": {
    "deletable": false,
    "editable": false,
    "run_control": {
     "frozen": true
    }
   },
   "source": [
    "## The `break` Command\n",
    "\n",
    "- Using `while True:` may eliminate the need for incrementing a variable\n",
    "- Since `True` is *always* `True`, you need another way to exit the loop\n",
    "- Can add a `break` command along with an `if` statement in the loop to force an exit\n",
    "- If the `break` condition is not met, the loop will continue running"
   ]
  },
  {
   "cell_type": "markdown",
   "metadata": {
    "deletable": false,
    "editable": false,
    "run_control": {
     "frozen": true
    }
   },
   "source": [
    "## Infinite Loops\n",
    "\n",
    "- Infinite loops have a bad reputation because it is assumed the program is running out of control\n",
    "- However, sometimes we want a loop to run \"infinitely\" (or until a physical reset)\n",
    "- This will be the case later in the semester when we write scripts for microprocessors\n",
    "- We will want most of the commands in scripts to run until the unit is restarted\n",
    "- The following code example would do just that (don't execute unless you want to restart this notebook)\n",
    "\n",
    "    ```python\n",
    "    # This is an infinite loop\n",
    "    print(\"It keeps going...\")\n",
    "    while True:\n",
    "        print(\"and going...\")\n",
    "    ```\n",
    "\n",
    "Always make sure you have a way to exit a `while` loop before you execute code containing one unless you know you want to run indefinitely."
   ]
  },
  {
   "cell_type": "markdown",
   "metadata": {
    "deletable": false,
    "editable": false,
    "run_control": {
     "frozen": true
    }
   },
   "source": [
    "**Wrap it up**\n",
    "\n",
    "Click on the **Save** button and then the **Close and halt** button when you are done before closing your tab."
   ]
  }
 ],
 "metadata": {
  "kernelspec": {
   "display_name": "Python 3",
   "language": "python",
   "name": "python3"
  },
  "language_info": {
   "codemirror_mode": {
    "name": "ipython",
    "version": 3
   },
   "file_extension": ".py",
   "mimetype": "text/x-python",
   "name": "python",
   "nbconvert_exporter": "python",
   "pygments_lexer": "ipython3",
   "version": "3.8.8"
  },
  "nteract": {
   "version": "0.25.1"
  },
  "varInspector": {
   "cols": {
    "lenName": 16,
    "lenType": 16,
    "lenVar": 40
   },
   "kernels_config": {
    "python": {
     "delete_cmd_postfix": "",
     "delete_cmd_prefix": "del ",
     "library": "var_list.py",
     "varRefreshCmd": "print(var_dic_list())"
    },
    "r": {
     "delete_cmd_postfix": ") ",
     "delete_cmd_prefix": "rm(",
     "library": "var_list.r",
     "varRefreshCmd": "cat(var_dic_list()) "
    }
   },
   "types_to_exclude": [
    "module",
    "function",
    "builtin_function_or_method",
    "instance",
    "_Feature"
   ],
   "window_display": false
  }
 },
 "nbformat": 4,
 "nbformat_minor": 4
}
