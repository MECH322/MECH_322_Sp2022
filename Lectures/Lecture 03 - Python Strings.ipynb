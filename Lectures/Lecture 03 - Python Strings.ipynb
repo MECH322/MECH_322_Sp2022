{
 "cells": [
  {
   "cell_type": "markdown",
   "metadata": {
    "collapsed": false,
    "deletable": false,
    "editable": false,
    "run_control": {
     "frozen": true
    }
   },
   "source": [
    "# Lecture 3 - Python Strings"
   ]
  },
  {
   "cell_type": "markdown",
   "metadata": {
    "collapsed": false,
    "deletable": false,
    "editable": false,
    "run_control": {
     "frozen": true
    }
   },
   "source": [
    "## Purpose\n",
    "\n",
    "- Create strings\n",
    "- Access individual characters in strings\n",
    "- Access portions of strings, AKA string slicing\n",
    "- Learn about string methods\n",
    "- Use select string modification methods\n",
    "- Use select string methods for counting, finding, and replacing parts of strings"
   ]
  },
  {
   "cell_type": "markdown",
   "metadata": {
    "collapsed": false,
    "deletable": false,
    "editable": false,
    "run_control": {
     "frozen": true
    }
   },
   "source": [
    "## Some Creative Commons Reference Sources for This Material\n",
    "\n",
    "- *Think Python 2nd Edition*, Allen Downey, chapter 8\n",
    "- *The Coder's Apprentice*, Pieter Spronck, chapter 10\n",
    "- *A Practical Introduction to Python Programming*, Brian Heinold, chapter 6\n",
    "- *Algorithmic Problem Solving with Python*, John Schneider, Shira Broschat, and Jess Dahmen, chapter 9"
   ]
  },
  {
   "cell_type": "markdown",
   "metadata": {
    "collapsed": false,
    "deletable": false,
    "editable": false,
    "run_control": {
     "frozen": true
    }
   },
   "source": [
    "## Creating Strings\n",
    "\n",
    "- Objects that contain alphabetic text characters are called **strings**\n",
    "- Strings can be as short as single character\n",
    "- Strings do not have to contain just letters \n",
    "- They can contain nearly any character (including Unicode characters like emoticons)\n",
    "- Strings are defined by surrounding the text with a set of single or double quotes\n",
    "- For example, `'parrot'` and `\"Lumberjack\"`\n",
    "- Including apostrophes and/or a set of quotes within strings\n",
    "  - Use an *escape sequence*\n",
    "    - `\\'` to include an apostrophe in a single quoted string, i.e. `'isn\\'t'`\n",
    "    - `\\\"` to include double quotes in a double quoted string, i.e. `\"\\\"hello\\\"\"`\n",
    "    - `\\\\` to include an actual back slash character\n",
    "  - Use double quotes for strings with apostrophes in them, i.e. `\"can't\"`\n",
    "  - Use single quotes for strings with double quotes in them, i.e. `'She said \"hello.\"'`\n",
    "  - Enclose the string between three sets of single or double quotes, i.e. `\"\"\"\"It's only a flesh wound,\" he declared\"\"\"`\n",
    "  - Three sets of single or double quotes can also be used to wrap multi-line quotes\n",
    "\n",
    "    ```python\n",
    "    \"\"\"Hello there. This assignment\n",
    "    is all about strings.\"\"\"\n",
    "    ```\n",
    "\n",
    "## String Length\n",
    "- The `len()` function returns the number of characters in a string\n",
    "- `len(\"Python\")` will tell you that the string is 6 characters long"
   ]
  },
  {
   "cell_type": "markdown",
   "metadata": {
    "collapsed": false,
    "deletable": false,
    "editable": false,
    "run_control": {
     "frozen": true
    }
   },
   "source": [
    "## Accessing Individual String Characters\n",
    "\n",
    "- Strings are lists of characters grouped together but treated as one object\n",
    "- Access specific characters in strings based on their position in the string\n",
    "- All counting in *Python* starts with zero, not one\n",
    "- `\"H\"` in `\"Hello\"` is in the zeroth position (also called the zeroth index)\n",
    "- Access the zeroth character using `\"Hello\"[0]`\n",
    "- Access the first `l` using `\"Hello\"[2]`\n",
    "- This process is referred to as **string indexing**\n",
    "- The last item in `my_string` can be accessed using `my_string[len(my_string)-1]`\n",
    "- You can also index strings from the right end instead of the left\n",
    "- First character from the left is accessed with the index `[0]`\n",
    "- The last character can be indexed directly using `[-1]`\n",
    "- The negative sign says to count from the right end of the string\n",
    "- Indexing from the right starts with `-1` not `-0`, because...\n",
    "  - `-0` is the same as `0` mathematically \n",
    "  - Using `-0` could cause confusion\n",
    "\n",
    "\n",
    "  ```\n",
    "  | 0 | 1 | 2 | 3 | 4 | <-- Indexing from the left\n",
    "  |   |   |   |   |   |\n",
    "  | H | e | l | l | o | <-- String characters \"Hello\"\n",
    "  |   |   |   |   |   |\n",
    "  |-5 |-4 |-3 |-2 |-1 | <-- Indexing from the right\n",
    "  ```"
   ]
  },
  {
   "cell_type": "markdown",
   "metadata": {
    "collapsed": false,
    "deletable": false,
    "editable": false,
    "run_control": {
     "frozen": true
    }
   },
   "source": [
    "## Accessing Portions of Strings, AKA Slicing\n",
    "\n",
    "- Can access part of a string (a sub-string) in addition to single characters\n",
    "- Called **slicing**\n",
    "- Place square brackets after a string or variable with start, stop, and step values separated by colons\n",
    "- Slice includes the character at the start index\n",
    "- Slice ends one character before the end argument\n",
    "- All three of the slice arguments are optional\n",
    "  - If no step argument, it is assumed to be `1`\n",
    "  - If no start argument, it is assume to be...\n",
    "    - `0` for positive steps\n",
    "    - Last character for negative steps\n",
    "  - If no end argument, the last character included is assumed to be...\n",
    "    - Last character of the string for positive steps \n",
    "    - First character for negative steps\n",
    "- The diagram below describes how slice numbering works\n",
    "- Slices happen between characters\n",
    "- Examples\n",
    "  - `my_string[0:3]` and `my_string[:3]` and `my_string[0:3:1]` are the same\n",
    "  - `my_string[0:]` and `my_string[0::1]` and `my_string[:]`\n",
    "  - `Hello[0:3]` would slice out `\"Hel\"` \n",
    "  - `Hello[2:]` would slice out `\"llo\"`\n",
    "  - A slice argument of `[:]` will return a copy of the entire string\n",
    "\n",
    "  ```\n",
    "  0   1   2   3   4   5 <-- Slicing from the left; my_string[1:4] => 'ell'\n",
    "  |   |   |   |   |   |\n",
    "  | H | e | l | l | o | <-- String characters \"Hello\"\n",
    "  |   |   |   |   |   |\n",
    "  -5  -4  -3  -2  -1   | <-- Slicing from the right with a positive step; my_string[-4:-1] => 'ell'\n",
    "  |   |   |   |   |   |\n",
    "  -6  -5  -4  -3  -2  -1 <-- Slicing from the right with a negative step; my_string[-1:-5:-1] => 'olle'\n",
    "  ```"
   ]
  },
  {
   "cell_type": "markdown",
   "metadata": {
    "collapsed": false,
    "deletable": false,
    "editable": false,
    "run_control": {
     "frozen": true
    }
   },
   "source": [
    "## String Methods\n",
    "\n",
    "- *Python* has a number of **methods** that can act on or with strings. \n",
    "- Use `x.my_method()` for a method called `my_method()` working with `x`\n",
    "- Execute the following code cell to see a list of string methods, functions, and operations\n",
    "- The methods are the items without leading and trailing underscores\n",
    "- Can also use `print(dir(str))` to list the methods"
   ]
  },
  {
   "cell_type": "code",
   "execution_count": null,
   "metadata": {
    "collapsed": false,
    "deletable": false,
    "editable": false
   },
   "outputs": [],
   "source": [
    "my_string = \"Hello, World!\"\n",
    "print(dir(my_string))"
   ]
  },
  {
   "cell_type": "code",
   "execution_count": null,
   "metadata": {
    "collapsed": false,
    "deletable": false,
    "editable": false
   },
   "outputs": [],
   "source": [
    "print(dir(str))"
   ]
  },
  {
   "cell_type": "markdown",
   "metadata": {
    "collapsed": false
   },
   "source": [
    "Even better, use the following for a cleaner looking list of methods. This technique uses list comprehension that we have not covered yet, so don't worry about how the command is constructed."
   ]
  },
  {
   "cell_type": "code",
   "execution_count": null,
   "metadata": {
    "collapsed": false,
    "deletable": false
   },
   "outputs": [],
   "source": [
    "print([x for x in dir(str) if \"_\" not in x])"
   ]
  },
  {
   "cell_type": "markdown",
   "metadata": {
    "collapsed": false,
    "deletable": false,
    "editable": false,
    "run_control": {
     "frozen": true
    }
   },
   "source": [
    "Don't worry, we won't dig into all of these methods, just some of them. Specifically, we'll investigate methods related to modifiying strings and methods used for counting, searching, and replacing parts of strings."
   ]
  },
  {
   "cell_type": "markdown",
   "metadata": {
    "collapsed": false,
    "deletable": false,
    "editable": false,
    "run_control": {
     "frozen": true
    }
   },
   "source": [
    "### Methods for Modifying Strings\n",
    "\n",
    "#### Immutability of Strings\n",
    "- *Python* strings are **immutable**\n",
    "- Cannot be changed (mutated or modified) after they are created\n",
    "- To \"modify\" a string, you need to create a copy that has your desired changes\n",
    "- This is what happens with the methods that \"modify\" strings\n",
    "- Original string is unchanged and a new string is created with the modifications\n",
    "- \"Replace\" the original by assigning the new string to the original variable name\n",
    "\n",
    "#### List of String Modifying Methods\n",
    "- First five of the six methods are associated with changing the case\n",
    "- Their names essentially describe what they do\n",
    "  - `.lower()`\n",
    "  - `.upper()`\n",
    "  - `.title()`\n",
    "  - `.swapcase()`\n",
    "  - `.capitalize()`\n",
    "- Only one method accepts an argument\n",
    "  - `.center(x)`\n",
    "  - Argument is the length of the new string in which the original string will be centered\n",
    "- Get help on any string method using `help(str.method_name)`, i.e. `help(str.center)`\n",
    "\n",
    "\n"
   ]
  },
  {
   "cell_type": "markdown",
   "metadata": {
    "collapsed": false,
    "deletable": false,
    "editable": false,
    "run_control": {
     "frozen": true
    }
   },
   "source": [
    "### Methods for Counting, Searching, and Replacing\n",
    "\n",
    "- `.count()`\n",
    "  - Count the number of times that a specific character or sub-string appears in a larger string\n",
    "  - Requires at least one argument, the sub-string that you want counted (with enclosing quotes)\n",
    "  - Can also include two optional arguments\n",
    "    - Where to start the count \n",
    "    - Where to end the count\n",
    "  - Examples\n",
    "    - `my_string.count(\"a\")` returns the number of times `\"a\"` occurs in `my_string`\n",
    "    - `my_string.count(\"a\", 2, 7)` counts starting at index 2 and ends just before index 7\n",
    "    - `my_string.count(\"a\", 4)` counts from the 4th index to the end\n",
    "    - You cannot just specify an ending index\n",
    "- `.find()` \n",
    "  - Look for a search string within a target string; `target_string.find(search_string)`\n",
    "  - If found, it returns the index from the target matching the search string's starting position\n",
    "  - If not found, it returns a `-1` \n",
    "  - If the search string occurs more than once, only the position of the first occurrence will be returned\n",
    "  - Accepts optional starting and ending arguments\n",
    "  - Examples\n",
    "    - `my_string.find(\"the\")` returns the index of the first occurrence of `\"the\"`\n",
    "- `.replace()` \n",
    "  - Replace all occurrences of a search string with a new string within a target string\n",
    "  - Two required and one optional argument\n",
    "    - Search string \n",
    "    - New string\n",
    "    - Optional argument is the number of occurrences to replace\n",
    "    - Examples\n",
    "      - `my_string.replace('I', 'you', 2)` replaces the first 2 occurrences of `'I'` with `'you'`\n",
    "- The original string is not changed using any of these methods\n",
    "  - For example, use `my_string = my_string.replace('I', 'you', 2)` to replace the original string"
   ]
  },
  {
   "cell_type": "markdown",
   "metadata": {
    "collapsed": false,
    "deletable": false,
    "editable": false,
    "run_control": {
     "frozen": true
    }
   },
   "source": [
    "### The `is` String Methods\n",
    "\n",
    "- These methods ask a question of the string or portion of a string on which they act\n",
    "- For instance, `my_string.isalpha()`\n",
    "  - Asks if the entire string is composed of alphabetic characters only\n",
    "  - If it does, then the method returns `True`\n",
    "  - If not, the method returns `False`\n",
    "- Portions of strings can be used by slicing them.\n",
    "  - `my_string[:3].islower()` asks if the first three characters are all lower case\n",
    "- Partial list of the `is` string methods.\n",
    "  - `.islower()` checks if all characters are lowercase\n",
    "  - `.isupper()` checks if all characters are uppercase\n",
    "  - `.isspace()` checks if all characters are spaces\n",
    "  - `.istitle()` checks if each word starts with an uppercase letter and the rest are lowercase\n",
    "  - `.isalpha()` checks if all characters are alphabetic\n",
    "  - `.isalnum()` checks if all characters are either alphabetic or numeric\n",
    "  - `.isnumeric()` checks if all characters are numeric (0-9)"
   ]
  }
 ],
 "metadata": {
  "kernelspec": {
   "display_name": "Python 3 (Anaconda 2020)",
   "env": {
    "ADDR2LINE": "/ext/anaconda2020.02/bin/x86_64-conda_cos6-linux-gnu-addr2line",
    "ANACONDA2019": "$EXT/anaconda-2019.03",
    "ANACONDA2020": "/ext/anaconda2020.02",
    "ANACONDA3": "$EXT/anaconda3",
    "ANACONDA5": "$EXT/anaconda5",
    "AR": "/ext/anaconda2020.02/bin/x86_64-conda_cos6-linux-gnu-ar",
    "AS": "/ext/anaconda2020.02/bin/x86_64-conda_cos6-linux-gnu-as",
    "CC": "/ext/anaconda2020.02/bin/x86_64-conda_cos6-linux-gnu-cc",
    "CFLAGS": "-march=nocona -mtune=haswell -ftree-vectorize -fPIC -fstack-protector-strong -fno-plt -O2 -ffunction-sections -pipe -isystem /ext/anaconda2020.02/include",
    "CMAKE_PREFIX_PATH": "/ext/anaconda2020.02:/ext/anaconda2020.02/x86_64-conda_cos6-linux-gnu/sysroot/usr",
    "CONDA_BACKUP_HOST": "x86_64-conda_cos6-linux-gnu",
    "CONDA_BUILD_SYSROOT": "/ext/anaconda2020.02/x86_64-conda_cos6-linux-gnu/sysroot",
    "CONDA_DEFAULT_ENV": "base",
    "CONDA_EXE": "/ext/anaconda2020.02/bin/conda",
    "CONDA_MKL_INTERFACE_LAYER_BACKUP": "",
    "CONDA_PREFIX": "/ext/anaconda2020.02",
    "CONDA_PROMPT_MODIFIER": "(base) ",
    "CONDA_PYTHON_EXE": "/ext/anaconda2020.02/bin/python",
    "CONDA_SHLVL": "1",
    "CPP": "/ext/anaconda2020.02/bin/x86_64-conda_cos6-linux-gnu-cpp",
    "CPPFLAGS": "-DNDEBUG -D_FORTIFY_SOURCE=2 -O2 -isystem /ext/anaconda2020.02/include",
    "CXX": "/ext/anaconda2020.02/bin/x86_64-conda_cos6-linux-gnu-c++",
    "CXXFILT": "/ext/anaconda2020.02/bin/x86_64-conda_cos6-linux-gnu-c++filt",
    "CXXFLAGS": "-fvisibility-inlines-hidden -std=c++17 -fmessage-length=0 -march=nocona -mtune=haswell -ftree-vectorize -fPIC -fstack-protector-strong -fno-plt -O2 -ffunction-sections -pipe -isystem /ext/anaconda2020.02/include",
    "DEBUG_CFLAGS": "-march=nocona -mtune=haswell -ftree-vectorize -fPIC -fstack-protector-all -fno-plt -Og -g -Wall -Wextra -fvar-tracking-assignments -ffunction-sections -pipe -isystem /ext/anaconda2020.02/include",
    "DEBUG_CPPFLAGS": "-D_DEBUG -D_FORTIFY_SOURCE=2 -Og -isystem /ext/anaconda2020.02/include",
    "DEBUG_CXXFLAGS": "-fvisibility-inlines-hidden -std=c++17 -fmessage-length=0 -march=nocona -mtune=haswell -ftree-vectorize -fPIC -fstack-protector-all -fno-plt -Og -g -Wall -Wextra -fvar-tracking-assignments -ffunction-sections -pipe -isystem /ext/anaconda2020.02/include",
    "DEBUG_FFLAGS": "-fopenmp -march=nocona -mtune=haswell -ftree-vectorize -fPIC -fstack-protector-strong -fno-plt -O2 -ffunction-sections -pipe -isystem /ext/anaconda2020.02/include -fopenmp -march=nocona -mtune=haswell -ftree-vectorize -fPIC -fstack-protector-all -fno-plt -Og -g -Wall -Wextra -fcheck=all -fbacktrace -fimplicit-none -fvar-tracking-assignments -ffunction-sections -pipe",
    "DEBUG_FORTRANFLAGS": "-fopenmp -march=nocona -mtune=haswell -ftree-vectorize -fPIC -fstack-protector-strong -fno-plt -O2 -ffunction-sections -pipe -isystem /ext/anaconda2020.02/include -fopenmp -march=nocona -mtune=haswell -ftree-vectorize -fPIC -fstack-protector-all -fno-plt -Og -g -Wall -Wextra -fcheck=all -fbacktrace -fimplicit-none -fvar-tracking-assignments -ffunction-sections -pipe",
    "ELFEDIT": "/ext/anaconda2020.02/bin/x86_64-conda_cos6-linux-gnu-elfedit",
    "F77": "/ext/anaconda2020.02/bin/x86_64-conda_cos6-linux-gnu-gfortran",
    "F90": "/ext/anaconda2020.02/bin/x86_64-conda_cos6-linux-gnu-gfortran",
    "F95": "/ext/anaconda2020.02/bin/x86_64-conda_cos6-linux-gnu-f95",
    "FC": "/ext/anaconda2020.02/bin/x86_64-conda_cos6-linux-gnu-gfortran",
    "FFLAGS": "-fopenmp -march=nocona -mtune=haswell -ftree-vectorize -fPIC -fstack-protector-strong -fno-plt -O2 -ffunction-sections -pipe -isystem /ext/anaconda2020.02/include",
    "FORTRANFLAGS": "-fopenmp -march=nocona -mtune=haswell -ftree-vectorize -fPIC -fstack-protector-strong -fno-plt -O2 -ffunction-sections -pipe -isystem /ext/anaconda2020.02/include",
    "GCC": "/ext/anaconda2020.02/bin/x86_64-conda_cos6-linux-gnu-gcc",
    "GCC_AR": "/ext/anaconda2020.02/bin/x86_64-conda_cos6-linux-gnu-gcc-ar",
    "GCC_NM": "/ext/anaconda2020.02/bin/x86_64-conda_cos6-linux-gnu-gcc-nm",
    "GCC_RANLIB": "/ext/anaconda2020.02/bin/x86_64-conda_cos6-linux-gnu-gcc-ranlib",
    "GDAL_DATA": "/ext/anaconda2020.02/share/gdal",
    "GFORTRAN": "/ext/anaconda2020.02/bin/x86_64-conda_cos6-linux-gnu-gfortran",
    "GPROF": "/ext/anaconda2020.02/bin/x86_64-conda_cos6-linux-gnu-gprof",
    "GXX": "/ext/anaconda2020.02/bin/x86_64-conda_cos6-linux-gnu-g++",
    "JAVA_HOME": "/ext/anaconda2020.02",
    "JAVA_HOME_CONDA_BACKUP": "",
    "JAVA_LD_LIBRARY_PATH": "/ext/anaconda2020.02/lib/server",
    "LD": "/ext/anaconda2020.02/bin/x86_64-conda_cos6-linux-gnu-ld",
    "LDFLAGS": "-Wl,-O2 -Wl,--sort-common -Wl,--as-needed -Wl,-z,relro -Wl,-z,now -Wl,--disable-new-dtags -Wl,--gc-sections -Wl,-rpath,/ext/anaconda2020.02/lib -Wl,-rpath-link,/ext/anaconda2020.02/lib -L/ext/anaconda2020.02/lib",
    "LD_GOLD": "/ext/anaconda2020.02/bin/x86_64-conda_cos6-linux-gnu-ld.gold",
    "LD_LIBRARY_PATH": "/ext/anaconda2020.02/lib",
    "MKL_INTERFACE_LAYER": "LP64,GNU",
    "MKL_THREADING_LAYER": "GNU",
    "NM": "/ext/anaconda2020.02/bin/x86_64-conda_cos6-linux-gnu-nm",
    "OBJCOPY": "/ext/anaconda2020.02/bin/x86_64-conda_cos6-linux-gnu-objcopy",
    "OBJDUMP": "/ext/anaconda2020.02/bin/x86_64-conda_cos6-linux-gnu-objdump",
    "OLDPWD": "/ext/anaconda2020.02",
    "PATH": "/ext/anaconda2020.02/bin:/ext/anaconda2020.02/bin:/ext/anaconda2020.02/condabin:/cocalc/bin:/cocalc/src/smc-project/bin:/home/salvus/bin:/home/salvus/.local/bin:/usr/lib/xpra:/ext/bin:/opt/ghc/bin:/usr/local/sbin:/usr/local/bin:/usr/sbin:/usr/bin:/sbin:/bin:/snap/bin:/usr/lib/postgresql/10/bin:/ext/data/homer/bin:/ext/data/weblogo",
    "PROJ_LIB": "/ext/anaconda2020.02/share/proj",
    "RANLIB": "/ext/anaconda2020.02/bin/x86_64-conda_cos6-linux-gnu-ranlib",
    "READELF": "/ext/anaconda2020.02/bin/x86_64-conda_cos6-linux-gnu-readelf",
    "RSTUDIO_WHICH_R": "/ext/anaconda2020.02/bin/R",
    "SIZE": "/ext/anaconda2020.02/bin/x86_64-conda_cos6-linux-gnu-size",
    "STRINGS": "/ext/anaconda2020.02/bin/x86_64-conda_cos6-linux-gnu-strings",
    "STRIP": "/ext/anaconda2020.02/bin/x86_64-conda_cos6-linux-gnu-strip",
    "_CE_CONDA": "",
    "_CE_M": "",
    "_CONDA_PYTHON_SYSCONFIGDATA_NAME": "_sysconfigdata_x86_64_conda_cos6_linux_gnu"
   },
   "language": "python",
   "metadata": {
    "cocalc": {
     "description": "Python/R distribution for data science",
     "priority": 5,
     "url": "https://www.anaconda.com/distribution/"
    }
   },
   "name": "anaconda2020",
   "resource_dir": "/ext/jupyter/kernels/anaconda2020"
  },
  "language_info": {
   "codemirror_mode": {
    "name": "ipython",
    "version": 3
   },
   "file_extension": ".py",
   "mimetype": "text/x-python",
   "name": "python",
   "nbconvert_exporter": "python",
   "pygments_lexer": "ipython3",
   "version": "3.7.8"
  },
  "varInspector": {
   "cols": {
    "lenName": 16,
    "lenType": 16,
    "lenVar": 40
   },
   "kernels_config": {
    "python": {
     "delete_cmd_postfix": "",
     "delete_cmd_prefix": "del ",
     "library": "var_list.py",
     "varRefreshCmd": "print(var_dic_list())"
    },
    "r": {
     "delete_cmd_postfix": ") ",
     "delete_cmd_prefix": "rm(",
     "library": "var_list.r",
     "varRefreshCmd": "cat(var_dic_list()) "
    }
   },
   "types_to_exclude": [
    "module",
    "function",
    "builtin_function_or_method",
    "instance",
    "_Feature"
   ],
   "window_display": false
  }
 },
 "nbformat": 4,
 "nbformat_minor": 4
}
