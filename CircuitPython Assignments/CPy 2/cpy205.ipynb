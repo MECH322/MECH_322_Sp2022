{
 "cells": [
  {
   "cell_type": "markdown",
   "metadata": {},
   "source": [
    "# CPy 2.05 - CPB and OLED Display Hello World"
   ]
  },
  {
   "cell_type": "markdown",
   "metadata": {},
   "source": [
    "## Instructions\n",
    "\n",
    "Connect an I2C OLED display (in the kit) to the CPB per the supplied diagram using the provided Stemma QT/banana clip cable.\n",
    "\n",
    "- Red: 3.3V\n",
    "- Black: GND\n",
    "- Blue: SDA\n",
    "- Yellow: SCL\n",
    "\n",
    "Use commands from the **`displayio`** and related modules (see the CPy lecture) to display text messages on the OLED display. The provided code will set up the display. Make sure you use the 3.3V connector not Vout to power the display.\n",
    "\n",
    "Alter the provided code per the comments to display the strings **`\"Hello,`** and your first or last name with an exclamation point (i.e. I might use **`Mr. Brady!`**) left aligned at the left edge the top and middle lines of the display for 2 seconds. Then display the same two words right aligned at the right edge of the same two lines for 2 seconds. Finally, center the two words on their lines and delay for 1 second.\n",
    "\n",
    "Create the variable **`start_time`** and assign the integer value of the processor's clock time to it just before starting the main **`while True:`** loop (look into the **`time`** module commands to know how to get the processor's clock time). Within the loop, calculate **`elapsed_time`** by subtracting **`start_time`** from the processor's clock time and converting it to an integer. If **`int(elapsed_time) % 5 == 0`** display **`elapsed_time`** with **`sec`** centered (use the string **`.center()`** method) on the bottom row of the display with **`:03d`** formatting. *CircuitPython* supports both *f-strings* and the **`.format()`** string method.\n",
    "\n",
    "- Write **`code.py`** using **Mu** or another text editor\n",
    "- Test the script on the **CPB** board\n",
    "- Demonstrate successful execution of the script to the instructor, either...\n",
    "  - In class\n",
    "  - By submitting a video to the **CPy 2.05 Demo** assignment in Canvas\n",
    "- Submit the **`code.py`** file by uploading it to the **CPy 2.05 Code** assignment in Canvas"
   ]
  },
  {
   "cell_type": "code",
   "execution_count": null,
   "metadata": {},
   "outputs": [],
   "source": [
    "# CPB and OLED Display Hello World\n",
    "# verified for CPB v6 on CPB\n",
    "\n",
    "import board\n",
    "import time\n",
    "import displayio\n",
    "import terminalio\n",
    "import adafruit_displayio_ssd1306\n",
    "from adafruit_display_text import label\n",
    "\n",
    "# modify this if you have a different sized oled\n",
    "disp_w = 128\n",
    "disp_h = 32\n",
    "i2c_addr = 0x3c\n",
    "\n",
    "displayio.release_displays()\n",
    "\n",
    "# configure display hardware\n",
    "display_bus = displayio.I2CDisplay(board.I2C(), device_address=i2c_addr)\n",
    "display = adafruit_displayio_ssd1306.SSD1306(display_bus,\n",
    "                                             width=disp_w,\n",
    "                                             height=disp_h)\n",
    "\n",
    "# configure text display\n",
    "font = terminalio.FONT\n",
    "text_line = [\n",
    "    label.Label(font=font, text=' ' * 21, color=(255, 255, 255), x=2, y=3),\n",
    "    label.Label(font=font, text=' ' * 21, color=(255, 255, 255), x=2, y=13),\n",
    "    label.Label(font=font, text=' ' * 21, color=(255, 255, 255), x=2, y=25)\n",
    "]\n",
    "\n",
    "text_display = displayio.Group(x=0, y=0)\n",
    "\n",
    "# show the 'text_display' group\n",
    "display.show(text_display)\n",
    "\n",
    "# set a 3x line message (diagrammed below)\n",
    "# replace \"World!\" with your name like \"Mr. Brady!\"\n",
    "\"\"\"\n",
    "                       1 1 1 1 1 1 1 1 1 1 2\n",
    "   0 1 2 3 4 5 6 7 8 9 0 1 2 3 4 5 6 7 8 9 0\n",
    "  +-+-+-+-+-+-+-+-+-+-+-+-+-+-+-+-+-+-+-+-+-+\n",
    "0 |H|e|l|l|o|,| | | | | | | | | | | | | | | |\n",
    "  +-+-+-+-+-+-+-+-+-+-+-+-+-+-+-+-+-+-+-+-+-+\n",
    "1 |W|o|r|l|d|!| | | | | | | | | | | | | | | |\n",
    "  +-+-+-+-+-+-+-+-+-+-+-+-+-+-+-+-+-+-+-+-+-+\n",
    "2 | | | | | | | | | | | | | | | | | | | | | |\n",
    "  +-+-+-+-+-+-+-+-+-+-+-+-+-+-+-+-+-+-+-+-+-+\n",
    "\"\"\"\n",
    "line = [\"Hello,\", \"World!\", \"\"]\n",
    "\n",
    "# the following loop will append the 3 text_line values\n",
    "# to the text_display group and display them for the first time\n",
    "for i in range(3):\n",
    "    text_line[i].text = line[i]\n",
    "    text_display.append(text_line[i])\n",
    "\n",
    "# display the text from the first two lines 2 more times\n",
    "# as described in the instructions\n",
    "\n",
    "# set `start_time` to an integer value of the clock time\n",
    "\n",
    "\n",
    "while True:\n",
    "    # calculate integer value of `elapsed_time`\n",
    "    # if int(elapsed_time)%5 == 0 then display the\n",
    "    # `elapsed_time` on the bottom line with :03d formatting\n",
    "\n",
    "    pass  # delete this line when your code is added"
   ]
  },
  {
   "cell_type": "markdown",
   "metadata": {},
   "source": [
    "**Wrap it up**\n",
    "\n",
    "Complete the finishing tasks stated in the instructions.\n"
   ]
  }
 ],
 "metadata": {
  "kernelspec": {
   "display_name": "Python 3",
   "language": "python",
   "name": "python3"
  },
  "language_info": {
   "codemirror_mode": {
    "name": "ipython",
    "version": 3
   },
   "file_extension": ".py",
   "mimetype": "text/x-python",
   "name": "python",
   "nbconvert_exporter": "python",
   "pygments_lexer": "ipython3",
   "version": "3.7.5"
  },
  "varInspector": {
   "cols": {
    "lenName": 16,
    "lenType": 16,
    "lenVar": 40
   },
   "kernels_config": {
    "python": {
     "delete_cmd_postfix": "",
     "delete_cmd_prefix": "del ",
     "library": "var_list.py",
     "varRefreshCmd": "print(var_dic_list())"
    },
    "r": {
     "delete_cmd_postfix": ") ",
     "delete_cmd_prefix": "rm(",
     "library": "var_list.r",
     "varRefreshCmd": "cat(var_dic_list()) "
    }
   },
   "types_to_exclude": [
    "module",
    "function",
    "builtin_function_or_method",
    "instance",
    "_Feature"
   ],
   "window_display": false
  }
 },
 "nbformat": 4,
 "nbformat_minor": 4
}
