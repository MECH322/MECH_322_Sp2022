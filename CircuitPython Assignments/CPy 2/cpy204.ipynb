{
 "cells": [
  {
   "cell_type": "markdown",
   "metadata": {},
   "source": [
    "# CPy 2.04 - Motor Control with Buttons"
   ]
  },
  {
   "cell_type": "markdown",
   "metadata": {},
   "source": [
    "## Instructions\n",
    "\n",
    "Connect a motor to the CPB per the supplied diagram. Use commands from the **`pwmio`** and **`adafruit_circuitplayground`** modules to control the speed of the motor from the REPL, built-in buttons, and built-in slide switch. Make sure you use the Vout not a 3.3V connector to provide power to the motor.\n",
    "\n",
    "Create a motor object using the **`motor = pwmio.PWMOut(board.D10, frequency=1600)`** function call. Recall that connector A3 is also D10. To control the motor speed you need to set its duty cycle to an integer value between 0 (off) and 65535 (full speed) like so; **`motor.duty_cycle = 32000`**. You can check the current duty cycle using **`motor.duty_cycle`**.\n",
    "\n",
    "In your main loop continuously watch the status of the slide switch. If the slide switch is in the left position, use an **`input()`** function to request a motor speed between 0 and 100. If a value less than 0 is input, use 0 to set the speed. If a value greater than 100 is input, use 100. Then set the motor duty cycle between 0 and 65535 based upon the input value (you will need to scale the input value to do so).\n",
    "\n",
    "If slide switch is in the right position, use the built-in buttons A and B to decrease or increase (respectively) the motor speed in 10% increments between 0 and 100%. Add a 0.25 second delay after setting the duty cycle to allow for the button to be released. Your code should not allow the speed to be set below 0 or above 100% (a duty cycle of 65535).\n",
    "\n",
    "Each time the motor speed is changed (regardless of the method used), print both the speed as a percentage and the duty cycle to the REPL using string formatting. Your output should look something like this; **`Motor speed = XX% (duty cycle = XXXXX)`**. The motor speed percentage and duty cycle should both be displayed to the nearest integer.\n",
    "\n",
    "- Write **`code.py`** using **Mu** or another text editor\n",
    "- Test the script on the **CPB** board\n",
    "- Demonstrate successful execution of the script to the instructor, either...\n",
    "  - In class\n",
    "  - By submitting a video to the **CPy 2.04 Demo** assignment in Canvas\n",
    "- Submit the **`code.py`** file by uploading it to the **CPy 2.04 Code** assignment in Canvas"
   ]
  },
  {
   "attachments": {},
   "cell_type": "markdown",
   "metadata": {},
   "source": [
    "![CPB%20with%20Motor.png](CPB%20with%20Motor.png)"
   ]
  },
  {
   "cell_type": "code",
   "execution_count": 0,
   "metadata": {},
   "outputs": [],
   "source": [
    "# Motor Control with Buttons\n",
    "\n",
    "#import the modules you need\n",
    "\n",
    "# create a motor object, adjust board.D10 and frequency if needed\n",
    "motor = pwmio.PWMOut(board.D10, frequency=1600)\n",
    "motor.duty_cycle = 0\n",
    "\n",
    "while True:\n",
    "    # check if the slide switch is left\n",
    "        # if so, ask user to enter speed from 0 to 100\n",
    "        # if < 0, set to 0\n",
    "        # if > 100, set to 100\n",
    "        # scale input value from 0-100 to 0-65535 and set duty_cycle\n",
    "        # print 0-100% and duty cycle\n",
    "\n",
    "    # check if the slide switch is right\n",
    "        # check if only button A is pressed\n",
    "            # if so, reduce speed by 10% of 65535\n",
    "            # don't set lower than 0\n",
    "        # check if only button B is pressed\n",
    "            # if so, increase speed by 10% of 65535\n",
    "            # don't set higher than 65535\n",
    "        # print 0-100% and duty cycle\n",
    "        # delay 0.25 seconds\n",
    "    pass  # remove this line when you write your code"
   ]
  },
  {
   "cell_type": "markdown",
   "metadata": {},
   "source": [
    "**Wrap it up**\n",
    "\n",
    "Complete the finishing tasks stated in the instructions.\n"
   ]
  }
 ],
 "metadata": {
  "kernelspec": {
   "display_name": "Python 3",
   "language": "python",
   "name": "python3"
  },
  "language_info": {
   "codemirror_mode": {
    "name": "ipython",
    "version": 3
   },
   "file_extension": ".py",
   "mimetype": "text/x-python",
   "name": "python",
   "nbconvert_exporter": "python",
   "pygments_lexer": "ipython3",
   "version": "3.7.5"
  },
  "varInspector": {
   "cols": {
    "lenName": 16,
    "lenType": 16,
    "lenVar": 40
   },
   "kernels_config": {
    "python": {
     "delete_cmd_postfix": "",
     "delete_cmd_prefix": "del ",
     "library": "var_list.py",
     "varRefreshCmd": "print(var_dic_list())"
    },
    "r": {
     "delete_cmd_postfix": ") ",
     "delete_cmd_prefix": "rm(",
     "library": "var_list.r",
     "varRefreshCmd": "cat(var_dic_list()) "
    }
   },
   "types_to_exclude": [
    "module",
    "function",
    "builtin_function_or_method",
    "instance",
    "_Feature"
   ],
   "window_display": false
  }
 },
 "nbformat": 4,
 "nbformat_minor": 4
}
