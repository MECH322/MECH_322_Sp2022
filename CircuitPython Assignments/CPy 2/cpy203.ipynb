{
 "cells": [
  {
   "cell_type": "markdown",
   "metadata": {
    "collapsed": false,
    "deletable": true,
    "editable": true,
    "run_control": {
     "frozen": true
    }
   },
   "source": [
    "# CPy 2.03 - NeoPixel Night Light"
   ]
  },
  {
   "cell_type": "markdown",
   "metadata": {
    "collapsed": false,
    "deletable": true,
    "editable": true,
    "run_control": {
     "frozen": true
    }
   },
   "source": [
    "## Instructions\n",
    "\n",
    "Use commands from the **`adafruit_circuitplayground`** module to turn your CPB board into a night light using the built-in NeoPixels, slide switch, push buttons, and capacitive touch pads.\n",
    "\n",
    "When the slide switch is in the left position the CPB will simply act like a flashlight with the brightness intensity set to 50%. In this mode all of the NeoPixels should be set to white **`(255, 255, 255)`**.\n",
    "\n",
    "When the slide switch is in the right position the CPB will act like a night light of sorts. The brightness of the NeoPixels should be reduced to 20% in this mode. Buttons A and B and the capacitive touch pads perform the following tasks in this mode:\n",
    "\n",
    "- Button A pressed: immediately turn **off** all of the NeoPixels\n",
    "\n",
    "- Button B pressed: immediately turn **on** all of the NeoPixels (20% brightness)\n",
    "\n",
    "- Capacitive touch pads A4, A5, A6, or TX touched: turn off the 10 NeoPixels one at a time with a 0.25 second delay between turning off NeoPixel. Use a **`for`** loop to accomplish this task.\n",
    "\n",
    "- Capacitive touch pads A1, A2, or A3 touched: lower the brightness of the 10 NeoPixels by 1% every 0.25 seconds until they are completely off. Use a **`for`** loop to accomplish this task.\n",
    "\n",
    "The provided code uses a variable to keep track of when the lights are on or off (**`lights_on`**). It is initially set to **`False`** and the NeoPixels are turned off. Any time the lights are turned off, this variable should be set to **`False`**. Any time the lights are turned on, it should be reset back to **`True`**. Only monitor for button A being pressed and the capacitive touch pads being touched if the lights are on. Only check for button B being pressed when the lights are off.\n",
    "\n",
    "- Write **`code.py`** using **Mu** or another text editor\n",
    "- Test the script on the **CPB** board\n",
    "- Demonstrate successful execution of the script to the instructor, either...\n",
    "  - In class\n",
    "  - By submitting a video to the **CPy 2.03 Demo** assignment in Canvas\n",
    "- Submit the **`code.py`** file by uploading it to the **CPy 2.03 Code** assignment in Canvas"
   ]
  },
  {
   "cell_type": "code",
   "execution_count": 0,
   "metadata": {
    "collapsed": false
   },
   "outputs": [
   ],
   "source": [
    "# NeoPixel Night light\n",
    "\n",
    "# import the modules you need\n",
    "\n",
    "# initially set the NeoPixel brightness to 0.2\n",
    "# create variables `ON` and `OFF` and turn all NeoPixels OFF\n",
    "# set tracking variable `light_on` to `False`\n",
    "\n",
    "cp.pixels.brightness = 0.2\n",
    "ON = (255, 255, 255)\n",
    "OFF = (0, 0, 0)\n",
    "cp.pixels.fill(OFF)\n",
    "light_on = False\n",
    "\n",
    "while True:\n",
    "    if cp.switch:\n",
    "        # turn on all NeoPixels to 0.5 brightness and set `light_on` variable\n",
    "        pass  # remove this when you add your code\n",
    "    else:\n",
    "        if light_on:  # lights are on, `light_on = True`\n",
    "            cp.pixels.brightness = 0.2\n",
    "            cp.pixels.fill(ON)\n",
    "\n",
    "            # add code to turn off lights per requirements\n",
    "            # and set `light_on` to correct value\n",
    "\n",
    "        else:  # lights are off, `light_on = False`\n",
    "\n",
    "            # add code to turn on lights if B is pressed\n",
    "            # and set `light_on` to correct value\n",
    "            pass  # remove this when you add your code"
   ]
  },
  {
   "cell_type": "markdown",
   "metadata": {
    "collapsed": false
   },
   "source": [
    "**Wrap it up**\n",
    "\n",
    "Complete the finishing tasks stated in the instructions.\n"
   ]
  }
 ],
 "metadata": {
  "kernelspec": {
   "display_name": "Python 3 (system-wide)",
   "language": "python",
   "metadata": {
    "cocalc": {
     "description": "Python 3 programming language",
     "priority": 100,
     "url": "https://www.python.org/"
    }
   },
   "name": "python3",
   "resource_dir": "/ext/jupyter/kernels/python3"
  },
  "language_info": {
   "codemirror_mode": {
    "name": "ipython",
    "version": 3
   },
   "file_extension": ".py",
   "mimetype": "text/x-python",
   "name": "python",
   "nbconvert_exporter": "python",
   "pygments_lexer": "ipython3",
   "version": "3.7.5"
  },
  "varInspector": {
   "cols": {
    "lenName": 16,
    "lenType": 16,
    "lenVar": 40
   },
   "kernels_config": {
    "python": {
     "delete_cmd_postfix": "",
     "delete_cmd_prefix": "del ",
     "library": "var_list.py",
     "varRefreshCmd": "print(var_dic_list())"
    },
    "r": {
     "delete_cmd_postfix": ") ",
     "delete_cmd_prefix": "rm(",
     "library": "var_list.r",
     "varRefreshCmd": "cat(var_dic_list()) "
    }
   },
   "types_to_exclude": [
    "module",
    "function",
    "builtin_function_or_method",
    "instance",
    "_Feature"
   ],
   "window_display": false
  }
 },
 "nbformat": 4,
 "nbformat_minor": 4
}