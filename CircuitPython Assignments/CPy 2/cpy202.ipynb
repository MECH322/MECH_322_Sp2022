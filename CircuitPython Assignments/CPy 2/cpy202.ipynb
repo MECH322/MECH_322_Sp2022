{
 "cells": [
  {
   "cell_type": "markdown",
   "metadata": {},
   "source": [
    "# CPy 2.02 - NeoPixels Turn Signals and Flasher"
   ]
  },
  {
   "cell_type": "markdown",
   "metadata": {},
   "source": [
    "## Instructions\n",
    "\n",
    "Use commands from the **`adafruit_circuitplayground`** module to simulate turn signal lights and flashers on the CPB board using the built-in NeoPixels, slide switch, and push buttons. The slide switch will be used to change modes; left is turn signal mode and right is flasher mode.\n",
    "\n",
    "When the switch is in turn signal mode...\n",
    "- Pushing and holding the A button (and not button B) will...\n",
    "  - Blink the left half of the NeoPixels red (0 thru 4)\n",
    "  - On for 0.5 second and off for 0.5 second\n",
    "- Pushing and holding the button B (and not button A)\n",
    "  - Blink the right half of the NeoPixels red (5 thru 10)\n",
    "  - On for 0.5 second and off for 0.5 second\n",
    "- When neither button is pressed or both buttons are pressed at the same time\n",
    "  - All of the NeoPixels should be set to off\n",
    "\n",
    "\n",
    "When the slide switch is in flasher mode...\n",
    "  - All of the NeoPixels should be flashed red\n",
    "  - On for 0.5 second and off for 0.5 second\n",
    "  - Pressing either or both buttons should have no effect"
   ]
  },
  {
   "cell_type": "markdown",
   "metadata": {},
   "source": [
    "- Write **`code.py`** using **Mu** or another text editor\n",
    "- Test the script on the **CPB** board\n",
    "- Demonstrate successful execution of the script to the instructor, either...\n",
    "  - In class\n",
    "  - By submitting a video to the **CPy 2.02 Demo** assignment in Canvas\n",
    "- Submit the **`code.py`** file by uploading it to the **CPy 2.02 Code** assignment in Canvas"
   ]
  },
  {
   "cell_type": "markdown",
   "metadata": {},
   "source": [
    "**Wrap it up**\n",
    "\n",
    "Complete the finishing tasks stated in the instructions.\n"
   ]
  }
 ],
 "metadata": {
  "kernelspec": {
   "display_name": "Python 3",
   "language": "python",
   "name": "python3"
  },
  "language_info": {
   "codemirror_mode": {
    "name": "ipython",
    "version": 3
   },
   "file_extension": ".py",
   "mimetype": "text/x-python",
   "name": "python",
   "nbconvert_exporter": "python",
   "pygments_lexer": "ipython3",
   "version": "3.7.5"
  },
  "varInspector": {
   "cols": {
    "lenName": 16,
    "lenType": 16,
    "lenVar": 40
   },
   "kernels_config": {
    "python": {
     "delete_cmd_postfix": "",
     "delete_cmd_prefix": "del ",
     "library": "var_list.py",
     "varRefreshCmd": "print(var_dic_list())"
    },
    "r": {
     "delete_cmd_postfix": ") ",
     "delete_cmd_prefix": "rm(",
     "library": "var_list.r",
     "varRefreshCmd": "cat(var_dic_list()) "
    }
   },
   "types_to_exclude": [
    "module",
    "function",
    "builtin_function_or_method",
    "instance",
    "_Feature"
   ],
   "window_display": false
  }
 },
 "nbformat": 4,
 "nbformat_minor": 4
}
