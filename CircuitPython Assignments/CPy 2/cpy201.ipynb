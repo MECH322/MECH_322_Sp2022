{
 "cells": [
  {
   "cell_type": "markdown",
   "metadata": {},
   "source": [
    "# CPy 2.01 - Accelerometer Tilt Indicator"
   ]
  },
  {
   "cell_type": "markdown",
   "metadata": {},
   "source": [
    "## Instructions\n",
    "\n",
    "Use commands from the **`adafruit_circuitplayground`** module to create a tilt indicator using the built-in accelerometers. When running, all of the NeoPixels should be illuminated green at 25% brightness if the CPB board is sitting flat on a table such that the buttons and sensors point upward (the positive $z$-axis of the accelerometer will point upward). If the board's orientation changes such that it is tilted greater than 30 degrees from horizontal (the accelerometer's $z$-axis will be greater than 30 degrees from the vertical) the NeoPixels will change to red and a 440 Hz tone will be played from the internal speaker. When the amount of tilt falls back below 30 degrees, the tone will stop and the NeoPixels will change back to green.\n",
    "\n",
    "You may wish to make a free-body diagram to figure out the required math. Use only the $z$-axis value from the accelerometer.\n",
    "\n",
    "- Write **`code.py`** using **Mu** or another text editor\n",
    "- Test the script on the **CPB** board\n",
    "- Demonstrate successful execution of the script to the instructor, either...\n",
    "  - In class\n",
    "  - By submitting a video to the **CPy 2.01 Demo** assignment in Canvas\n",
    "- Submit the **`code.py`** file by uploading it to the **CPy 2.01 Code** assignment in Canvas"
   ]
  },
  {
   "cell_type": "markdown",
   "metadata": {},
   "source": [
    "**Wrap it up**\n",
    "\n",
    "Complete the finishing tasks stated in the instructions.\n"
   ]
  }
 ],
 "metadata": {
  "kernelspec": {
   "display_name": "Python 3",
   "language": "python",
   "name": "python3"
  },
  "language_info": {
   "codemirror_mode": {
    "name": "ipython",
    "version": 3
   },
   "file_extension": ".py",
   "mimetype": "text/x-python",
   "name": "python",
   "nbconvert_exporter": "python",
   "pygments_lexer": "ipython3",
   "version": "3.7.5"
  },
  "varInspector": {
   "cols": {
    "lenName": 16,
    "lenType": 16,
    "lenVar": 40
   },
   "kernels_config": {
    "python": {
     "delete_cmd_postfix": "",
     "delete_cmd_prefix": "del ",
     "library": "var_list.py",
     "varRefreshCmd": "print(var_dic_list())"
    },
    "r": {
     "delete_cmd_postfix": ") ",
     "delete_cmd_prefix": "rm(",
     "library": "var_list.r",
     "varRefreshCmd": "cat(var_dic_list()) "
    }
   },
   "types_to_exclude": [
    "module",
    "function",
    "builtin_function_or_method",
    "instance",
    "_Feature"
   ],
   "window_display": false
  }
 },
 "nbformat": 4,
 "nbformat_minor": 4
}
