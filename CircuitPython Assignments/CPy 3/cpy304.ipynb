{
 "cells": [
  {
   "cell_type": "markdown",
   "metadata": {},
   "source": [
    "# CPy 3.04 - Motor Control with Potentiometer"
   ]
  },
  {
   "cell_type": "markdown",
   "metadata": {},
   "source": [
    "## Instructions\n",
    "\n",
    "Connect a motor and potentimeter to the CPB per the supplied diagram. Use commands from the **`pwmio`**, **`analogio`**, and **`adafruit_circuitplayground`** modules to control the speed of the motor using the an external potentiometer and the built-in buttons. Make sure you use the Vout not a 3.3V connector to provide power to the motor.\n",
    "\n",
    "Reference your code from CPy 2.04 for creating a motor object named **`my_motor`**. In your main loop continuously read the state of the two built-in push buttons A and B. If either, but not both, of the buttons are pressed, then set the motor's duty cycle to match the input from the external potentiometer. While the motor is running, scale the motor's duty cycle value from 0-65535 to a 0-10 value and illuminate the number of NeoPixels that match this value. Use green for the NeoPixel color and 0.2 for the brightness.\n",
    "\n",
    "When neither or both buttons are pressed, stop the motor and turn off all of the NeoPixels.\n",
    "\n",
    "Also, if the built-in slide switch is left (on), allow motor operations to work as described. But if the slide switch is right (off), the motor should not be able to do anything regardless of what buttons are pressed. Blink the built-in red LED for 0.5 seconds off and 0.5 seconds on if the slide switch is set to the right (off). As soon as the slide switch is moved to the left (on) the red LED should stop blinking.\n",
    "\n",
    "- Write **`code.py`** using **Mu** or another text editor\n",
    "- Test the script on the **CPB** board\n",
    "- Demonstrate successful execution of the script to the instructor, either...\n",
    "  - In class\n",
    "  - By submitting a video to the **CPy 3.04 Demo** assignment in Canvas\n",
    "- Submit the **`code.py`** file by uploading it to the **CPy 3.04 Code** assignment in Canvas"
   ]
  },
  {
   "attachments": {},
   "cell_type": "markdown",
   "metadata": {},
   "source": [
    "![CPB%20with%20Motor%20and%20Pot.png](CPB%20with%20Motor%20and%20Pot.png)"
   ]
  },
  {
   "cell_type": "markdown",
   "metadata": {},
   "source": [
    "**Wrap it up**\n",
    "\n",
    "Complete the finishing tasks stated in the instructions.\n"
   ]
  }
 ],
 "metadata": {
  "kernelspec": {
   "display_name": "Python 3",
   "language": "python",
   "name": "python3"
  },
  "language_info": {
   "codemirror_mode": {
    "name": "ipython",
    "version": 3
   },
   "file_extension": ".py",
   "mimetype": "text/x-python",
   "name": "python",
   "nbconvert_exporter": "python",
   "pygments_lexer": "ipython3",
   "version": "3.7.5"
  },
  "varInspector": {
   "cols": {
    "lenName": 16,
    "lenType": 16,
    "lenVar": 40
   },
   "kernels_config": {
    "python": {
     "delete_cmd_postfix": "",
     "delete_cmd_prefix": "del ",
     "library": "var_list.py",
     "varRefreshCmd": "print(var_dic_list())"
    },
    "r": {
     "delete_cmd_postfix": ") ",
     "delete_cmd_prefix": "rm(",
     "library": "var_list.r",
     "varRefreshCmd": "cat(var_dic_list()) "
    }
   },
   "types_to_exclude": [
    "module",
    "function",
    "builtin_function_or_method",
    "instance",
    "_Feature"
   ],
   "window_display": false
  }
 },
 "nbformat": 4,
 "nbformat_minor": 4
}
