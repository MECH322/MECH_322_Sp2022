{
 "cells": [
  {
   "cell_type": "markdown",
   "metadata": {},
   "source": [
    "# CPy 3.01 - Push Button Control of Servo"
   ]
  },
  {
   "cell_type": "markdown",
   "metadata": {},
   "source": [
    "## Instructions\n",
    "\n",
    "Control the position of a simple \"toy\" servo using the built-in CPB buttons. You will need to use the **`pwmio`**, **`adafruit_motor`**, and **`adafruit_circuitplayground`** module in this script. Each time the script starts (before your main loop) set an angle tracking variable to the 90 degrees and use it to set the servo angle position. Print the value of the angle tracking variable and the actual servo angle position to the REPL. Use a statement like **`Servo angle set to XX.XXX. Actual angle is XX.XXX`**. Assuming the angle tracking variable is **`angle`** (and has been assigned **`90`**) and your servo object is named **`my_servo`**, use **`my_servo.angle = angle`** to set the angle to 90 degrees. You can read the current angle using **`my_servo.angle`**.\n",
    "\n",
    "In you main loop continuously check the values of the two built-in buttons (A and B). If just button A is pressed, decrease the servo angle by 5 degrees. If just button B is pressed increase the servo angle by 5 degrees. If both A and B are pressed simultaneously, reset the angle back to 90 degrees. Our little servo motors have 180 degrees (or less) of total travel, so when A or B are pressed, check the current angle before changing the angle to see if the servo should still be able to move. If the angle is already less than 5 degrees, then set it to 0 if A is pressed. If the angle is already greater than 175, then set it to 180 if B is pressed. Throughout the script, keep track of the angle setting using your tracking variable.\n",
    "\n",
    "After setting an angle print the angle setting and the actual servo angle value to the REPL; i.e. **`Servo angle set to XX.XXX. Actual angle is XX.XXX`**. Also, after setting an angle use the **`time.sleep()`** function to delay for 0.2 seconds in order to give the user time to take their finger off the button.\n",
    "\n",
    "Use the provided diagram to wire the servo to the CPB.\n",
    "\n",
    "- Write **`code.py`** using **Mu** or another text editor\n",
    "- Test the script on the **CPB** board\n",
    "- Demonstrate successful execution of the script to the instructor, either...\n",
    "  - In class\n",
    "  - By submitting a video to the **CPy 3.01 Demo** assignment in Canvas\n",
    "- Submit the **`code.py`** file by uploading it to the **CPy 3.01 Code** assignment in Canvas"
   ]
  },
  {
   "attachments": {},
   "cell_type": "markdown",
   "metadata": {},
   "source": [
    "![CPB%20with%20Servo.png](CPB%20with%20Servo.png)"
   ]
  },
  {
   "cell_type": "code",
   "execution_count": 0,
   "metadata": {},
   "outputs": [],
   "source": [
    "# Push Button Control of Servo for CPB\n",
    "\n",
    "import time\n",
    "import board\n",
    "# import other required modules\n",
    "# be sure to import `servo` from `adafruit_motor`\n",
    "\n",
    "# create a PWMOut object on any of the following D pins\n",
    "# AUDIO = D12\n",
    "# A1 = D6\n",
    "# A2 = D9\n",
    "# A3 = D10\n",
    "# A4 = D3\n",
    "# A5 = D2\n",
    "# A6 = D0\n",
    "# TX = D1\n",
    "pwm = pwmio.PWMOut(board.D9, frequency=50)\n",
    "\n",
    "# Create a servo object, my_servo, using the `pwm` object.\n",
    "# Adjust the values of `min_pulse` and `max_pulse` if needed.\n",
    "# They may need adjustment if the servo does not move 180 deg.\n",
    "my_servo = servo.Servo(pwm, min_pulse=750, max_pulse=2250)\n",
    "\n",
    "# set the angle tracking variable to 90 and use the variable to\n",
    "# set the servo angle and print the required statement\n",
    "\n",
    "while True:\n",
    "    # Use `if` statements to test the button values\n",
    "    # to set and print the servo angle\n",
    "    pass  # delete this line when you write your code"
   ]
  },
  {
   "cell_type": "markdown",
   "metadata": {},
   "source": [
    "**Wrap it up**\n",
    "\n",
    "Complete the finishing tasks stated in the instructions.\n"
   ]
  }
 ],
 "metadata": {
  "kernelspec": {
   "display_name": "Python 3",
   "language": "python",
   "name": "python3"
  },
  "language_info": {
   "codemirror_mode": {
    "name": "ipython",
    "version": 3
   },
   "file_extension": ".py",
   "mimetype": "text/x-python",
   "name": "python",
   "nbconvert_exporter": "python",
   "pygments_lexer": "ipython3",
   "version": "3.7.5"
  },
  "varInspector": {
   "cols": {
    "lenName": 16,
    "lenType": 16,
    "lenVar": 40
   },
   "kernels_config": {
    "python": {
     "delete_cmd_postfix": "",
     "delete_cmd_prefix": "del ",
     "library": "var_list.py",
     "varRefreshCmd": "print(var_dic_list())"
    },
    "r": {
     "delete_cmd_postfix": ") ",
     "delete_cmd_prefix": "rm(",
     "library": "var_list.r",
     "varRefreshCmd": "cat(var_dic_list()) "
    }
   },
   "types_to_exclude": [
    "module",
    "function",
    "builtin_function_or_method",
    "instance",
    "_Feature"
   ],
   "window_display": false
  }
 },
 "nbformat": 4,
 "nbformat_minor": 4
}
