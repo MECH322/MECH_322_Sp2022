{
 "cells": [
  {
   "cell_type": "markdown",
   "metadata": {},
   "source": [
    "# CPy 3.05 - CPB and Display with Buttons"
   ]
  },
  {
   "cell_type": "markdown",
   "metadata": {},
   "source": [
    "## Instructions\n",
    "\n",
    "Connect an LCD to the CPB per the supplied diagram. Use commands from the **`displayio`** (and its related modules) and **`adafrtuit_circuitPlayground`** modules to display text messages on the monochrome OLED display and light NeoPixels based upon input from the built-in buttons and slider switch. Reference the code from CPy 2.05 to set up the LCD object.\n",
    "\n",
    "Before your main loop, create and set the following state tracking variables to the values shown:\n",
    "\n",
    "- **`ready = False`**\n",
    "- **`running = False`**\n",
    "\n",
    "Use code from **CPy 2.05** to set up the display for 3 lines of text with 21 characters per line. The first (top) line will always either read **`SYSTEM ON`** or **`SYSTEM OFF`**. The second (middle) line will display a message of what to do next (i.e. press one of the buttons or slide the switch). The third (bottom) line will display status information based on the current mode.\n",
    "\n",
    "The slide switch should select between two states; to the left is \"SYSTEM OFF\" and to the right is \"SYSTEM ON\". Update the state centered on the top line of the display whenever the slide switch changes position.\n",
    "\n",
    "When in the \"SYSTEM OFF\" state, the second line should display the message **`Slide switch for ON`** (centered). The bottom line should always be empty when in the \"SYSTEM OFF\" state. When in the \"SYSTEM OFF\" state set all of the NeoPixels to red with a 0.05 brightness. Nothing should happen if either or both push buttons are pressed while in this state. Both **`ready`** and **`running`** should be set to **`False`** as well.\n",
    "\n",
    "If switched to the \"SYSTEM ON\" state when **`ready`** is **`False`** and **`running`** is False, display the text **`Press \"A\" to WARM UP`** centered on the middle line of the display and set the NeoPixels to 0.2 brightness (still red). In this state your script should monitor the state of push buttons A and B. If button A is pressed and **`ready`** is **`False`**, the NeoPixels should turn from red to blue one at a time starting with 0 and ending with 9 at a rate of one light per 0.5 second. Centered on the bottom line of the display should be the message **`WARMING UP`** as soon as button A is pressed and the middle line should be blank. The middle line should change to **`Press \"B\" to RUN`** after the last NeoPixel has turned blue and the bottom line should change to **`WARM UP COMPLETE`**. Change **`ready`** to **`True`** at this point. If button A were pushed again at this time nothing should happen.\n",
    "\n",
    "If button B is pressed when **`ready`** is **`False`**, nothing should happen. If B is pressed when **`ready`** is **`True`** and **`running`** is **`False`**, set all of the NeoPixels to green and display the message **`RUNNING: XXX seconds`** on the bottom line of the display. The text **`XXX`** in the message is the the elapsed time in integer seconds since button B was pressed diplayed using **`03d`** text formatting. Do not use **`time.sleep()`** to keep track of the elapsed time, use **`time.monotonic()`** and variables instead. Change **`running`** to **`True`** at this point as well. The middle line text should be updated to display the message **`Slide switch for OFF`**. If either button A or B is pushed at this time nothing should happen. The only ways to reset once \"RUNNING\" are with the slide switch or resetting the CPB board. Make sure that sliding the switch to the left resets to \"SYSTEM OFF\" mode.\n",
    "\n",
    "- Write **`code.py`** using **Mu** or another text editor\n",
    "- Test the script on the **CPB** board\n",
    "- Demonstrate successful execution of the script to the instructor, either...\n",
    "  - In class\n",
    "  - By submitting a video to the **CPy 3.05 Demo** assignment in Canvas\n",
    "- Submit the **`code.py`** file by uploading it to the **CPy 3.05 Code** assignment in Canvas"
   ]
  },
  {
   "cell_type": "code",
   "execution_count": null,
   "metadata": {},
   "outputs": [],
   "source": [
    "# CPB and Display with Buttons\n",
    "\n",
    "import board\n",
    "import time\n",
    "import displayio\n",
    "import terminalio\n",
    "import adafruit_displayio_ssd1306\n",
    "from adafruit_display_text import label\n",
    "from adafruit_circuitplayground import cp\n",
    "\n",
    "# modify this if you have a different sized oled\n",
    "disp_w = 128\n",
    "disp_h = 32\n",
    "i2c_addr = 0x3c\n",
    "\n",
    "displayio.release_displays()\n",
    "\n",
    "# configure display hardware\n",
    "display_bus = displayio.I2CDisplay(board.I2C(), device_address=i2c_addr)\n",
    "display = adafruit_displayio_ssd1306.SSD1306(display_bus,\n",
    "                                             width=disp_w,\n",
    "                                             height=disp_h)\n",
    "\n",
    "# configure text display\n",
    "font = terminalio.FONT\n",
    "text_line = [\n",
    "    label.Label(font=font, text=' ' * 21, color=(255, 255, 255), x=2, y=3),\n",
    "    label.Label(font=font, text=' ' * 21, color=(255, 255, 255), x=2, y=13),\n",
    "    label.Label(font=font, text=' ' * 21, color=(255, 255, 255), x=2, y=25)\n",
    "]\n",
    "\n",
    "text_display = displayio.Group(x=0, y=0)\n",
    "\n",
    "# show the 'text_display' group\n",
    "display.show(text_display)\n",
    "\n",
    "# set a 3x line message (diagrammed below)\n",
    "\"\"\"\n",
    "                       1 1 1 1 1 1 1 1 1 1 2\n",
    "   0 1 2 3 4 5 6 7 8 9 0 1 2 3 4 5 6 7 8 9 0\n",
    "  +-+-+-+-+-+-+-+-+-+-+-+-+-+-+-+-+-+-+-+-+-+\n",
    "0 | | | | | |S|Y|S|T|E|M| |O|F|F| | | | | | |\n",
    "  +-+-+-+-+-+-+-+-+-+-+-+-+-+-+-+-+-+-+-+-+-+\n",
    "1 | |S|l|i|d|e| |s|w|i|t|c|h| |f|o|r| |O|N| |\n",
    "  +-+-+-+-+-+-+-+-+-+-+-+-+-+-+-+-+-+-+-+-+-+\n",
    "2 | | | | | | | | | | | | | | | | | | | | | |\n",
    "  +-+-+-+-+-+-+-+-+-+-+-+-+-+-+-+-+-+-+-+-+-+\n",
    "\"\"\"\n",
    "current_state = \"SYSTEM OFF\".center(21)\n",
    "action_info = \"Slide switch for ON\".center(21)\n",
    "status_info = \" \"\n",
    "\n",
    "# will append the 3 'text_line' values to the\n",
    "# 'text_display' group and display them for the first time\n",
    "text_line[0].text = current_state\n",
    "text_display.append(text_line[0])\n",
    "\n",
    "text_line[1].text = action_info\n",
    "text_display.append(text_line[1])\n",
    "\n",
    "text_line[2].text = status_info\n",
    "text_display.append(text_line[2])\n",
    "\n",
    "# assign tracking variables\n",
    "\n",
    "# set up colors and initial state of NeoPixels\n",
    "\n",
    "# set `start_time` to the clock time\n",
    "\n",
    "while True:\n",
    "\n",
    "    if cp.switch:  # switch is slid left\n",
    "        pass  # delete this line when your code is written\n",
    "    else:  # switch is slid right\n",
    "        if not ready and not running:\n",
    "            pass  # delete this line when your code is written\n",
    "        if cp.button_a and not cp.button_b and not ready:\n",
    "            pass  # delete this line when your code is written\n",
    "        if cp.button_b and not cp.button_a and ready and not running:\n",
    "            pass  # delete this line when your code is written\n",
    "        if running:\n",
    "            pass  # delete this line when your code is written"
   ]
  },
  {
   "cell_type": "markdown",
   "metadata": {},
   "source": [
    "**Wrap it up**\n",
    "\n",
    "Complete the finishing tasks stated in the instructions.\n"
   ]
  }
 ],
 "metadata": {
  "kernelspec": {
   "display_name": "Python 3",
   "language": "python",
   "name": "python3"
  },
  "language_info": {
   "codemirror_mode": {
    "name": "ipython",
    "version": 3
   },
   "file_extension": ".py",
   "mimetype": "text/x-python",
   "name": "python",
   "nbconvert_exporter": "python",
   "pygments_lexer": "ipython3",
   "version": "3.7.5"
  },
  "varInspector": {
   "cols": {
    "lenName": 16,
    "lenType": 16,
    "lenVar": 40
   },
   "kernels_config": {
    "python": {
     "delete_cmd_postfix": "",
     "delete_cmd_prefix": "del ",
     "library": "var_list.py",
     "varRefreshCmd": "print(var_dic_list())"
    },
    "r": {
     "delete_cmd_postfix": ") ",
     "delete_cmd_prefix": "rm(",
     "library": "var_list.r",
     "varRefreshCmd": "cat(var_dic_list()) "
    }
   },
   "types_to_exclude": [
    "module",
    "function",
    "builtin_function_or_method",
    "instance",
    "_Feature"
   ],
   "window_display": false
  }
 },
 "nbformat": 4,
 "nbformat_minor": 4
}
