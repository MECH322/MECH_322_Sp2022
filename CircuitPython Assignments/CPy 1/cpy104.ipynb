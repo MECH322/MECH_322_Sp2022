{
 "cells": [
  {
   "cell_type": "markdown",
   "metadata": {},
   "source": [
    "# CPy 1.04 - Dual Temp Sensors with REPL"
   ]
  },
  {
   "cell_type": "markdown",
   "metadata": {},
   "source": [
    "## Instructions\n",
    "\n",
    "Use commands from the **`adafruit_circuitplayground`** and **`analogio`** modules to display values from the built-in CPB temperature sensor and an external temperature sensor on the REPL. Use the included diagram to connect an external temperature sensor to the CPB. You will need to define the external temperature sensor using the **`analogio`** module. Within your main loop you will need to read the analog value of the external temperature sensor and scale the value to get an actual temperature. To convert the value to voltage multiply the sensor value by 3.3 and divide by 65535. The following formula is used to convert the voltage to $^\\circ C$.\n",
    "\n",
    "$\\qquad\\displaystyle ^\\circ C = (V  - 0.5)\\cdot 100$\n",
    "\n",
    "Use $^\\circ F =\\, ^\\circ C\\frac{9}{5} + 32$ to convert to Fahrenheit.\n",
    "\n",
    "The **`adafruit_circuitplayground`** module includes a command to directly read the temperature of the built-in sensor in Celsius. \n",
    "\n",
    "In your main loop read both temperatures every 2 seconds and print a statement like the following to the REPL using a  string formatting.\n",
    "\n",
    "```\n",
    "Built-in Temp: XX.X C (XX.X F)    External Temp: XX.X C (XX.X F)\n",
    "    The built-in sensor is <hotter than>/<cooler than>/<the same as> the external sensor\n",
    "```\n",
    "\n",
    "Round the temperature results to one decimal place before comparing if hotter, cooler, or the same and printing the above statement. The second line of the statement should only show one of the three options. The **`XX.X`** values should be the calculated temperatures. Include a blank line after the results display for each 2 second reading.\n",
    "\n",
    "- Write **`code.py`** using **Mu** or another text editor\n",
    "- Test the script on the **CPB** board\n",
    "- Demonstrate successful execution of the script to the instructor, either...\n",
    "  - In class\n",
    "  - By submitting a video to the **CPy 1.04 Demo** assignment in Canvas\n",
    "- Submit the **`code.py`** file by uploading it to the **CPy 1.04 Code** assignment in Canvas"
   ]
  },
  {
   "attachments": {},
   "cell_type": "markdown",
   "metadata": {},
   "source": [
    "![CPB%20with%20Temp%20Sensor.png](CPB%20with%20Temp%20Sensor.png)"
   ]
  },
  {
   "cell_type": "markdown",
   "metadata": {},
   "source": [
    "**Wrap it up**\n",
    "\n",
    "Complete the finishing tasks stated in the instructions.\n"
   ]
  }
 ],
 "metadata": {
  "kernelspec": {
   "display_name": "Python 3",
   "language": "python",
   "name": "python3"
  },
  "language_info": {
   "codemirror_mode": {
    "name": "ipython",
    "version": 3
   },
   "file_extension": ".py",
   "mimetype": "text/x-python",
   "name": "python",
   "nbconvert_exporter": "python",
   "pygments_lexer": "ipython3",
   "version": "3.7.5"
  },
  "varInspector": {
   "cols": {
    "lenName": 16,
    "lenType": 16,
    "lenVar": 40
   },
   "kernels_config": {
    "python": {
     "delete_cmd_postfix": "",
     "delete_cmd_prefix": "del ",
     "library": "var_list.py",
     "varRefreshCmd": "print(var_dic_list())"
    },
    "r": {
     "delete_cmd_postfix": ") ",
     "delete_cmd_prefix": "rm(",
     "library": "var_list.r",
     "varRefreshCmd": "cat(var_dic_list()) "
    }
   },
   "types_to_exclude": [
    "module",
    "function",
    "builtin_function_or_method",
    "instance",
    "_Feature"
   ],
   "window_display": false
  }
 },
 "nbformat": 4,
 "nbformat_minor": 4
}
