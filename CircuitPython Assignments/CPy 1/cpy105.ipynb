{
 "cells": [
  {
   "cell_type": "markdown",
   "metadata": {},
   "source": [
    "# CPy 1.05 - Potentiometer Controlled NeoPixels"
   ]
  },
  {
   "cell_type": "markdown",
   "metadata": {},
   "source": [
    "## Instructions\n",
    "\n",
    "Connect a potentiometer to the CPB per the supplied diagram. Use commands from **`analogio`** and **`adafruit_circuitplayground`** modules to control the brightness of all 10 NeoPixels. In your main loop read the value of the potentiometer and use the value to set the brightness of the NeoPixels. You will need to scale the potentiometer value from 0-65535 to 0-1 since the maximum brightness of the NeoPixels is 1. Use the color of your choice, but make all NeoPixels the same color. Add a delay of 0.2 seconds after reading the potentiometer and setting the brightness.\n",
    "\n",
    "- Write **`code.py`** using **Mu** or another text editor\n",
    "- Test the script on the **CPB** board\n",
    "- Demonstrate successful execution of the script to the instructor, either...\n",
    "  - In class\n",
    "  - By submitting a video to the **CPy 1.05 Demo** assignment in Canvas\n",
    "- Submit the **`code.py`** file by uploading it to the **CPy 1.05 Code** assignment in Canvas"
   ]
  },
  {
   "cell_type": "markdown",
   "metadata": {},
   "source": [
    "![CPB%20with%20Potentiometer.png](CPB%20with%20Potentiometer.png)"
   ]
  },
  {
   "cell_type": "markdown",
   "metadata": {},
   "source": [
    "**Wrap it up**\n",
    "\n",
    "Complete the finishing tasks stated in the instructions.\n"
   ]
  }
 ],
 "metadata": {
  "kernelspec": {
   "display_name": "Python 3",
   "language": "python",
   "name": "python3"
  },
  "language_info": {
   "codemirror_mode": {
    "name": "ipython",
    "version": 3
   },
   "file_extension": ".py",
   "mimetype": "text/x-python",
   "name": "python",
   "nbconvert_exporter": "python",
   "pygments_lexer": "ipython3",
   "version": "3.7.5"
  },
  "varInspector": {
   "cols": {
    "lenName": 16,
    "lenType": 16,
    "lenVar": 40
   },
   "kernels_config": {
    "python": {
     "delete_cmd_postfix": "",
     "delete_cmd_prefix": "del ",
     "library": "var_list.py",
     "varRefreshCmd": "print(var_dic_list())"
    },
    "r": {
     "delete_cmd_postfix": ") ",
     "delete_cmd_prefix": "rm(",
     "library": "var_list.r",
     "varRefreshCmd": "cat(var_dic_list()) "
    }
   },
   "types_to_exclude": [
    "module",
    "function",
    "builtin_function_or_method",
    "instance",
    "_Feature"
   ],
   "window_display": false
  }
 },
 "nbformat": 4,
 "nbformat_minor": 4
}
