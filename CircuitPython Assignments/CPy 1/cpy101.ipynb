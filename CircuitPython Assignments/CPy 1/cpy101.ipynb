{
 "cells": [
  {
   "cell_type": "markdown",
   "metadata": {
    "collapsed": false,
    "deletable": false,
    "editable": true,
    "run_control": {
     "frozen": true
    }
   },
   "source": [
    "# CPy 1.01 - Push Buttons and LED"
   ]
  },
  {
   "cell_type": "markdown",
   "metadata": {
    "collapsed": false,
    "deletable": false,
    "editable": true,
    "run_control": {
     "frozen": true
    }
   },
   "source": [
    "## Instructions\n",
    "\n",
    "Use commands from the **`digitalio`** module to control the lighting of the built-in red LED with the two built-in push buttons. Inside the main loop continually test the value of the push buttons to determine whether to turn on the LED.\n",
    "\n",
    "**Do not use** the **`adafruit_circuitplayground`** module for this script.\n",
    "\n",
    "Turn on the LED only if both buttons are pressed at the same time. Otherwise the LED should be turned off. You will need to use a logical comparison operator with an `if-else` statement block for this one.\n",
    "\n",
    "- Write **`code.py`** using **Mu** or another text editor\n",
    "- Test the script on the **CPB** board\n",
    "- Demonstrate successful execution of the script to the instructor, either...\n",
    "  - In class\n",
    "  - By submitting a video to the **CPy 1.01 Demo** assignment in Canvas\n",
    "- Submit the **`code.py`** file by uploading it to the **CPy 1.01 Code** assignment in Canvas"
   ]
  },
  {
   "cell_type": "code",
   "execution_count": 0,
   "metadata": {
    "collapsed": false
   },
   "outputs": [
   ],
   "source": [
    "\"\"\"\n",
    "CPy 1.01\n",
    "Push Buttons and LED\n",
    "code.py\n",
    "\"\"\"\n",
    "\n",
    "# import the required modules here\n",
    "\n",
    "# define the two push buttons as digital inputs\n",
    "# and name them button_1 and button_2\n",
    "# make sure you set the pull to DOWN for both\n",
    "\n",
    "\n",
    "# define the LED as a digital output and name it red_LED\n",
    "\n",
    "while True:\n",
    "    # test for button pressing here using an `if-else` statement group\n",
    "    # turn on the LED if both are pressed, otherwise turn it off\n",
    "\n"
   ]
  },
  {
   "cell_type": "markdown",
   "metadata": {
    "collapsed": false
   },
   "source": [
    "**Wrap it up**\n",
    "\n",
    "Complete the finishing tasks stated in the instructions.\n"
   ]
  }
 ],
 "metadata": {
  "kernelspec": {
   "display_name": "Python 3 (system-wide)",
   "language": "python",
   "metadata": {
    "cocalc": {
     "description": "Python 3 programming language",
     "priority": 100,
     "url": "https://www.python.org/"
    }
   },
   "name": "python3",
   "resource_dir": "/ext/jupyter/kernels/python3"
  },
  "language_info": {
   "codemirror_mode": {
    "name": "ipython",
    "version": 3
   },
   "file_extension": ".py",
   "mimetype": "text/x-python",
   "name": "python",
   "nbconvert_exporter": "python",
   "pygments_lexer": "ipython3",
   "version": "3.7.5"
  },
  "varInspector": {
   "cols": {
    "lenName": 16,
    "lenType": 16,
    "lenVar": 40
   },
   "kernels_config": {
    "python": {
     "delete_cmd_postfix": "",
     "delete_cmd_prefix": "del ",
     "library": "var_list.py",
     "varRefreshCmd": "print(var_dic_list())"
    },
    "r": {
     "delete_cmd_postfix": ") ",
     "delete_cmd_prefix": "rm(",
     "library": "var_list.r",
     "varRefreshCmd": "cat(var_dic_list()) "
    }
   },
   "types_to_exclude": [
    "module",
    "function",
    "builtin_function_or_method",
    "instance",
    "_Feature"
   ],
   "window_display": false
  }
 },
 "nbformat": 4,
 "nbformat_minor": 4
}