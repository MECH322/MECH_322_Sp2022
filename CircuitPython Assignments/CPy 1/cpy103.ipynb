{
 "cells": [
  {
   "cell_type": "markdown",
   "metadata": {},
   "source": [
    "# CPy 1.03 - Light Sensor NeoPixels"
   ]
  },
  {
   "cell_type": "markdown",
   "metadata": {},
   "source": [
    "## Instructions\n",
    "\n",
    "Use commands from the **`adafruit_circuitplayground`** module to control the lighting of all 10 NeoPixels based upon an external light sensor reading. You need to read the external light sensor using the **`analogio`** module.  When the light level is low, the NeoPixel brightness should be set to 0.5 (half brightness). When the light level is highest, the NeoPixel brightness should be set to 0 (off).\n",
    "\n",
    "An autotuning function has been created that should be called everytime the light sensor level is read. The arguments for the **`autotune()`** function are the current **`light_level`** value, **`low`**, and **`high`**. The function returns the desired brightness and new **`low`** and **`high`** values. Assign the variables **`bright, low, high`** to the function call. This will adjust the high and low light levels based on the brightest and darkest light levels that have been seen.\n",
    "\n",
    "Use **`cp.pixels.auto_write = True`** so you do not have to explicitly control the showing of changes with **`cp.pixels.show()`**. Use a NeoPixel color of white, **`(255, 255, 255)`**. Use **`bright`** to set the NeoPixel brightness. Place a slight delay of 0.1 seconds after the brightness setting and before the next light level reading.\n",
    "\n",
    "See the attached diagram for wiring the external light sensor.\n",
    "\n",
    "\n",
    "- Write **`code.py`** using **Mu** or another text editor\n",
    "- Test the script on the **CPB** board\n",
    "- Demonstrate successful execution of the script to the instructor, either...\n",
    "  - In class\n",
    "  - By submitting a video to the **CPy 1.03 Demo** assignment in Canvas\n",
    "- Submit the **`code.py`** file by uploading it to the **CPy 1.03 Code** assignment in Canvas"
   ]
  },
  {
   "attachments": {},
   "cell_type": "markdown",
   "metadata": {},
   "source": [
    "![CPB%20with%20Light%20Sensor.png](CPB%20with%20Light%20Sensor.png)"
   ]
  },
  {
   "cell_type": "code",
   "execution_count": 0,
   "metadata": {},
   "outputs": [],
   "source": [
    "\"\"\"\n",
    "CPy 1.03\n",
    "Light Sensor NeoPixels\n",
    "code.py\n",
    "\"\"\"\n",
    "\n",
    "# import the necessary modules\n",
    "\n",
    "# set up the analog in light sensor and the NeoPixels here\n",
    "\n",
    "# the following two lines are used to initially set low and high\n",
    "# to their opposites. tuning will then correct for lowest and\n",
    "# highest actual light levels\n",
    "low = 65535\n",
    "high = 0\n",
    "\n",
    "def autoTune(light_level, low, high):\n",
    "    if (light_level < low):\n",
    "        low = light_level\n",
    "    if (light_level > high):\n",
    "        high = light_level\n",
    "    bright = simpleio.map_range(light_level, low, high, 0.2, 0)\n",
    "    return bright, low, high\n",
    "\n",
    "while True:\n",
    "    # place your code here for reading the level, tuning it,\n",
    "    # and setting the NeoPixel brightness\n",
    "    pass  # delete this line when you write your code"
   ]
  },
  {
   "cell_type": "markdown",
   "metadata": {},
   "source": [
    "**Wrap it up**\n",
    "\n",
    "Complete the finishing tasks stated in the instructions.\n"
   ]
  }
 ],
 "metadata": {
  "kernelspec": {
   "display_name": "Python 3",
   "language": "python",
   "name": "python3"
  },
  "language_info": {
   "codemirror_mode": {
    "name": "ipython",
    "version": 3
   },
   "file_extension": ".py",
   "mimetype": "text/x-python",
   "name": "python",
   "nbconvert_exporter": "python",
   "pygments_lexer": "ipython3",
   "version": "3.7.5"
  },
  "varInspector": {
   "cols": {
    "lenName": 16,
    "lenType": 16,
    "lenVar": 40
   },
   "kernels_config": {
    "python": {
     "delete_cmd_postfix": "",
     "delete_cmd_prefix": "del ",
     "library": "var_list.py",
     "varRefreshCmd": "print(var_dic_list())"
    },
    "r": {
     "delete_cmd_postfix": ") ",
     "delete_cmd_prefix": "rm(",
     "library": "var_list.r",
     "varRefreshCmd": "cat(var_dic_list()) "
    }
   },
   "types_to_exclude": [
    "module",
    "function",
    "builtin_function_or_method",
    "instance",
    "_Feature"
   ],
   "window_display": false
  }
 },
 "nbformat": 4,
 "nbformat_minor": 4
}
