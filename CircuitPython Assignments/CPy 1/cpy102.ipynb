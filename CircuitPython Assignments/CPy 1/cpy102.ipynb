{
 "cells": [
  {
   "cell_type": "markdown",
   "metadata": {
    "collapsed": false,
    "deletable": false,
    "editable": true,
    "run_control": {
     "frozen": true
    }
   },
   "source": [
    "# CPy 1.02 - NeoPixel Patterns"
   ]
  },
  {
   "cell_type": "markdown",
   "metadata": {
    "collapsed": false,
    "deletable": false,
    "editable": true,
    "run_control": {
     "frozen": true
    }
   },
   "source": [
    "## Instructions\n",
    "\n",
    "Use commands from the **`adafruit_circuitplayground`** modules to control the lighting of all 10 NeoPixels. Define each of the following functions before starting your main loop. Inside the main loop call each of the functions in order with **`on_time`** and **`off_time`** values of 0.5 and 0.25 for each. Use **`cp.pixels.auto_write = False`** so you have to explicitly control the showing of changes with **`cp.pixels.show()`**. Use any color of your choosing for the NeoPixels and use the same color for all functions.\n",
    "\n",
    "**Functions**\n",
    "- **`one_at_a_time(on_time, off_time)`**\n",
    "  - Turn on one NeoPixel at a time starting with 0 and ending with 9\n",
    "  - After turning on a NeoPixel, keep it on for the **`on_time`**\n",
    "  - Then turn it back off for the **`off_time`**\n",
    "  - Use a **`for`** loop\n",
    "\n",
    "\n",
    "- **`one_after_another(on_time, off_time)`**\n",
    "  - Turn on one NeoPixel at a time starting with 0 and ending with 9 until all 10 are on\n",
    "  - Wait for the **`on_time`** before turning on the next NeoPixel\n",
    "  - Once all NeoPixels are on, turn them off one at a time starting with 9 and ending with 0\n",
    "  - Delay by the **`off_time`** between turning off the NeoPixels\n",
    "  - Use separate **`for`** loops for turning on and turning off\n",
    "\n",
    "\n",
    "- **`ping_pong(on_time, off_time)`**\n",
    "  - Similar to **`one_at_a_time(delay)`**\n",
    "  - Except after turning on/off NeoPixels from 0 to 9, turn them on/off from 8 to 0\n",
    "    - 0, 1, 2, 3, 4, 5, 6, 7, 8, 9, 8, 7, 6, 5, 4, 3, 2, 1, 0\n",
    "  - There should only ever be one NeoPixel on at a time\n",
    "  - Use two separate **`for`** loops\n",
    "    - One when counting up\n",
    "    - Another when counting down\n",
    "\n",
    "\n",
    "- **`marquee(on_time, off_time)`**\n",
    "  - Start by turning on NeoPixels 0 and 5 for the **`on_time`**\n",
    "  - Then turn off 0 and 5 for the **`off_time`**\n",
    "  - Then turn on and off 1 and 6 in the same way\n",
    "  - Continue incrementing until the pair 4 and 9 have been turned on and off\n",
    "  - Use a single **`for`** loop and indexing to accomplish this task\n",
    "\n",
    "\n",
    "- **`random_lights(on_time, off_time)`**\n",
    "  - This function has been defined already\n",
    "  - It will randomly turn on and off 10 NeoPixels\n",
    "  - Keeping them on for the **`on_time`** and off for the **`off_time`**\n"
   ]
  },
  {
   "cell_type": "markdown",
   "metadata": {
    "collapsed": false
   },
   "source": [
    "- Write **`code.py`** using **Mu** or another text editor\n",
    "- Test the script on the **CPB** board\n",
    "- Demonstrate successful execution of the script to the instructor, either...\n",
    "  - In class\n",
    "  - By submitting a video to the **CPy 1.02 Demo** assignment in Canvas\n",
    "- Submit the **`code.py`** file by uploading it to the **CPy 1.02 Code** assignment in Canvas"
   ]
  },
  {
   "cell_type": "code",
   "execution_count": 0,
   "metadata": {
    "collapsed": false
   },
   "outputs": [
   ],
   "source": [
    "\"\"\"\n",
    "CPy 1.02\n",
    "NeoPixel Patterns\n",
    "code.py\n",
    "\"\"\"\n",
    "\n",
    "import time\n",
    "import random\n",
    "from adafruit_circuitplayground import cp\n",
    "\n",
    "COLOR = (0, 255, 0)  # Change this to any color you wish\n",
    "OFF = (0, 0, 0)\n",
    "\n",
    "cp.pixels.auto_write = False\n",
    "cp.pixels.brightness = 0.25\n",
    "\n",
    "# complete each of the function definitions and delete `pass`\n",
    "def one_at_a_time(on_time, off_time):\n",
    "    pass\n",
    "\n",
    "def one_after_another(on_time, off_time):\n",
    "    pass\n",
    "\n",
    "def ping_pong(on_time, off_time):\n",
    "    pass\n",
    "\n",
    "def marquee(on_time, off_time):\n",
    "    pass\n",
    "\n",
    "def random_lights(on_time, off_time):\n",
    "    for i in range(10):\n",
    "        cp.pixels[random.choice(range(10))] = COLOR\n",
    "        cp.pixels.show()\n",
    "        time.sleep(on_time)\n",
    "        cp.pixels.fill(OFF)\n",
    "        cp.pixels.show()\n",
    "        time.sleep(off_time)\n",
    "\n",
    "while True:\n",
    "    #one_at_a_time(0.5, 0.25)\n",
    "    #one_after_another(0.5, 0.25)\n",
    "    #ping_pong(0.5, 0.25)\n",
    "    #marquee(0.5, 0.25)\n",
    "    random_lights(0.5, 0.25)\n"
   ]
  },
  {
   "cell_type": "markdown",
   "metadata": {
    "collapsed": false
   },
   "source": [
    "**Wrap it up**\n",
    "\n",
    "Complete the finishing tasks stated in the instructions.\n"
   ]
  }
 ],
 "metadata": {
  "kernelspec": {
   "display_name": "Python 3 (system-wide)",
   "language": "python",
   "metadata": {
    "cocalc": {
     "description": "Python 3 programming language",
     "priority": 100,
     "url": "https://www.python.org/"
    }
   },
   "name": "python3",
   "resource_dir": "/ext/jupyter/kernels/python3"
  },
  "language_info": {
   "codemirror_mode": {
    "name": "ipython",
    "version": 3
   },
   "file_extension": ".py",
   "mimetype": "text/x-python",
   "name": "python",
   "nbconvert_exporter": "python",
   "pygments_lexer": "ipython3",
   "version": "3.8.5"
  },
  "varInspector": {
   "cols": {
    "lenName": 16,
    "lenType": 16,
    "lenVar": 40
   },
   "kernels_config": {
    "python": {
     "delete_cmd_postfix": "",
     "delete_cmd_prefix": "del ",
     "library": "var_list.py",
     "varRefreshCmd": "print(var_dic_list())"
    },
    "r": {
     "delete_cmd_postfix": ") ",
     "delete_cmd_prefix": "rm(",
     "library": "var_list.r",
     "varRefreshCmd": "cat(var_dic_list()) "
    }
   },
   "types_to_exclude": [
    "module",
    "function",
    "builtin_function_or_method",
    "instance",
    "_Feature"
   ],
   "window_display": false
  }
 },
 "nbformat": 4,
 "nbformat_minor": 4
}